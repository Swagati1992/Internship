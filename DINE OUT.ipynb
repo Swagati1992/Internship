{
 "cells": [
  {
   "cell_type": "code",
   "execution_count": 34,
   "id": "3adec23a",
   "metadata": {},
   "outputs": [],
   "source": [
    "import pandas as pd\n",
    "import bs4\n",
    "import requests\n",
    "from bs4 import BeautifulSoup\n",
    "import warnings\n",
    "warnings.filterwarnings(\"ignore\")"
   ]
  },
  {
   "cell_type": "code",
   "execution_count": 35,
   "id": "e8c1f9ff",
   "metadata": {},
   "outputs": [],
   "source": [
    "url=\"https://www.dineout.co.in/delhi-restaurants/buffet-special\""
   ]
  },
  {
   "cell_type": "code",
   "execution_count": 36,
   "id": "31f10fe9",
   "metadata": {},
   "outputs": [
    {
     "data": {
      "text/plain": [
       "200"
      ]
     },
     "execution_count": 36,
     "metadata": {},
     "output_type": "execute_result"
    }
   ],
   "source": [
    "page=requests.get(url)\n",
    "page.status_code"
   ]
  },
  {
   "cell_type": "code",
   "execution_count": null,
   "id": "86e6c009",
   "metadata": {},
   "outputs": [],
   "source": [
    "soup=BeautifulSoup(page.content, \"html.parser\")\n",
    "print(soup.prettify())"
   ]
  },
  {
   "cell_type": "code",
   "execution_count": null,
   "id": "50889b65",
   "metadata": {},
   "outputs": [],
   "source": [
    "scraped_names=soup.find_all(\"div\",class_=\"restnt-info cursor\")\n",
    "scraped_names"
   ]
  },
  {
   "cell_type": "code",
   "execution_count": null,
   "id": "4233d9b8",
   "metadata": {},
   "outputs": [],
   "source": [
    "names=[]\n",
    "for i in scraped_names:\n",
    "    names.append(i.get_text().replace(\"\\n\",\" \").strip(\" \"))\n",
    "print(names)"
   ]
  },
  {
   "cell_type": "code",
   "execution_count": null,
   "id": "1bdbf2b0",
   "metadata": {},
   "outputs": [],
   "source": [
    "scraped_location=soup.find_all(\"div\",class_=\"restnt-loc ellipsis\")\n",
    "scraped_location"
   ]
  },
  {
   "cell_type": "code",
   "execution_count": null,
   "id": "243ccf38",
   "metadata": {},
   "outputs": [],
   "source": [
    "location=[]\n",
    "for i in scraped_location:\n",
    "    location.append(i.get_text().replace(\"\\n\",\" \").strip(\" \"))\n",
    "print(location)"
   ]
  },
  {
   "cell_type": "code",
   "execution_count": null,
   "id": "ecbfe12a",
   "metadata": {},
   "outputs": [],
   "source": [
    "scraped_cuisine=soup.find_all(\"span\",class_=\"double-line-ellipsis\")\n",
    "scraped_cuisine"
   ]
  },
  {
   "cell_type": "code",
   "execution_count": null,
   "id": "33f2d7cc",
   "metadata": {},
   "outputs": [],
   "source": [
    "cuisine=[]\n",
    "for i in scraped_cuisine:\n",
    "    cuisine.append(i.get_text().replace(\"\\n\",\" \").strip(\" \"))\n",
    "print(cuisine)"
   ]
  },
  {
   "cell_type": "code",
   "execution_count": null,
   "id": "ae5bdefe",
   "metadata": {},
   "outputs": [],
   "source": [
    "scraped_image=soup.find_all(class_=\"no-img\")\n",
    "scraped_image"
   ]
  },
  {
   "cell_type": "code",
   "execution_count": 55,
   "id": "8b24deba",
   "metadata": {},
   "outputs": [],
   "source": [
    "image=[]\n",
    "for i in scraped_image:\n",
    "    image.append(i.attrs['data-src'])"
   ]
  },
  {
   "cell_type": "code",
   "execution_count": 31,
   "id": "daa5f97c",
   "metadata": {},
   "outputs": [
    {
     "name": "stdout",
     "output_type": "stream",
     "text": [
      "['4.1', '3.9', '4.3', '3.9', '4', '3.9', '3.6', '3.8', '4.3']\n"
     ]
    }
   ],
   "source": [
    "scraped_ratings=soup.find_all(\"div\",class_=\"restnt-rating rating-4\")\n",
    "rating=[]\n",
    "for i in scraped_ratings:\n",
    "    rating.append(i.get_text().replace(\"\\n\",\" \").strip(\" \"))\n",
    "print(rating)"
   ]
  },
  {
   "cell_type": "code",
   "execution_count": 56,
   "id": "16c0bc46",
   "metadata": {},
   "outputs": [],
   "source": [
    "df=pd.DataFrame()\n",
    "df[\"Name\"]=names\n",
    "df[\"Location\"]=location\n",
    "df[\"Cuisine\"]=cuisine\n",
    "df[\"Image\"]=image\n",
    "df[\"Rating\"]=rating"
   ]
  },
  {
   "cell_type": "code",
   "execution_count": 57,
   "id": "e8992434",
   "metadata": {},
   "outputs": [
    {
     "data": {
      "text/html": [
       "<div>\n",
       "<style scoped>\n",
       "    .dataframe tbody tr th:only-of-type {\n",
       "        vertical-align: middle;\n",
       "    }\n",
       "\n",
       "    .dataframe tbody tr th {\n",
       "        vertical-align: top;\n",
       "    }\n",
       "\n",
       "    .dataframe thead th {\n",
       "        text-align: right;\n",
       "    }\n",
       "</style>\n",
       "<table border=\"1\" class=\"dataframe\">\n",
       "  <thead>\n",
       "    <tr style=\"text-align: right;\">\n",
       "      <th></th>\n",
       "      <th>Name</th>\n",
       "      <th>Location</th>\n",
       "      <th>Cuisine</th>\n",
       "      <th>Image</th>\n",
       "      <th>Rating</th>\n",
       "    </tr>\n",
       "  </thead>\n",
       "  <tbody>\n",
       "    <tr>\n",
       "      <th>0</th>\n",
       "      <td>Castle BarbequeConnaught Place, Central Delhi</td>\n",
       "      <td>Connaught Place, Central Delhi</td>\n",
       "      <td>₹ 2,000 for 2 (approx) | Chinese, North Indian</td>\n",
       "      <td>https://im1.dineout.co.in/images/uploads/resta...</td>\n",
       "      <td>4.1</td>\n",
       "    </tr>\n",
       "    <tr>\n",
       "      <th>1</th>\n",
       "      <td>Jungle Jamboree3CS Mall,Lajpat Nagar - 3, Sout...</td>\n",
       "      <td>3CS Mall,Lajpat Nagar - 3, South Delhi</td>\n",
       "      <td>₹ 1,680 for 2 (approx) | North Indian, Asian, ...</td>\n",
       "      <td>https://im1.dineout.co.in/images/uploads/resta...</td>\n",
       "      <td>3.9</td>\n",
       "    </tr>\n",
       "    <tr>\n",
       "      <th>2</th>\n",
       "      <td>Cafe KnoshThe Leela Ambience Convention Hotel,...</td>\n",
       "      <td>The Leela Ambience Convention Hotel,Shahdara, ...</td>\n",
       "      <td>₹ 3,000 for 2 (approx) | Italian, Continental</td>\n",
       "      <td>https://im1.dineout.co.in/images/uploads/resta...</td>\n",
       "      <td>4.3</td>\n",
       "    </tr>\n",
       "    <tr>\n",
       "      <th>3</th>\n",
       "      <td>Castle BarbequePacific Mall,Tagore Garden, Wes...</td>\n",
       "      <td>Pacific Mall,Tagore Garden, West Delhi</td>\n",
       "      <td>₹ 2,000 for 2 (approx) | Chinese, North Indian</td>\n",
       "      <td>https://im1.dineout.co.in/images/uploads/resta...</td>\n",
       "      <td>3.9</td>\n",
       "    </tr>\n",
       "    <tr>\n",
       "      <th>4</th>\n",
       "      <td>The Barbeque CompanyGardens Galleria,Sector 38...</td>\n",
       "      <td>Gardens Galleria,Sector 38A, Noida</td>\n",
       "      <td>₹ 1,700 for 2 (approx) | North Indian, Chinese</td>\n",
       "      <td>https://im1.dineout.co.in/images/uploads/resta...</td>\n",
       "      <td>4</td>\n",
       "    </tr>\n",
       "  </tbody>\n",
       "</table>\n",
       "</div>"
      ],
      "text/plain": [
       "                                                Name  \\\n",
       "0      Castle BarbequeConnaught Place, Central Delhi   \n",
       "1  Jungle Jamboree3CS Mall,Lajpat Nagar - 3, Sout...   \n",
       "2  Cafe KnoshThe Leela Ambience Convention Hotel,...   \n",
       "3  Castle BarbequePacific Mall,Tagore Garden, Wes...   \n",
       "4  The Barbeque CompanyGardens Galleria,Sector 38...   \n",
       "\n",
       "                                            Location  \\\n",
       "0                     Connaught Place, Central Delhi   \n",
       "1             3CS Mall,Lajpat Nagar - 3, South Delhi   \n",
       "2  The Leela Ambience Convention Hotel,Shahdara, ...   \n",
       "3             Pacific Mall,Tagore Garden, West Delhi   \n",
       "4                 Gardens Galleria,Sector 38A, Noida   \n",
       "\n",
       "                                             Cuisine  \\\n",
       "0     ₹ 2,000 for 2 (approx) | Chinese, North Indian   \n",
       "1  ₹ 1,680 for 2 (approx) | North Indian, Asian, ...   \n",
       "2      ₹ 3,000 for 2 (approx) | Italian, Continental   \n",
       "3     ₹ 2,000 for 2 (approx) | Chinese, North Indian   \n",
       "4     ₹ 1,700 for 2 (approx) | North Indian, Chinese   \n",
       "\n",
       "                                               Image Rating  \n",
       "0  https://im1.dineout.co.in/images/uploads/resta...    4.1  \n",
       "1  https://im1.dineout.co.in/images/uploads/resta...    3.9  \n",
       "2  https://im1.dineout.co.in/images/uploads/resta...    4.3  \n",
       "3  https://im1.dineout.co.in/images/uploads/resta...    3.9  \n",
       "4  https://im1.dineout.co.in/images/uploads/resta...      4  "
      ]
     },
     "execution_count": 57,
     "metadata": {},
     "output_type": "execute_result"
    }
   ],
   "source": [
    "df.head()"
   ]
  },
  {
   "cell_type": "code",
   "execution_count": null,
   "id": "5bb905b5",
   "metadata": {},
   "outputs": [],
   "source": []
  }
 ],
 "metadata": {
  "kernelspec": {
   "display_name": "Python 3 (ipykernel)",
   "language": "python",
   "name": "python3"
  },
  "language_info": {
   "codemirror_mode": {
    "name": "ipython",
    "version": 3
   },
   "file_extension": ".py",
   "mimetype": "text/x-python",
   "name": "python",
   "nbconvert_exporter": "python",
   "pygments_lexer": "ipython3",
   "version": "3.9.13"
  }
 },
 "nbformat": 4,
 "nbformat_minor": 5
}
