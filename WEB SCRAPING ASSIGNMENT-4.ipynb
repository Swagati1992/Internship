{
 "cells": [
  {
   "cell_type": "code",
   "execution_count": 1,
   "id": "e254b355",
   "metadata": {},
   "outputs": [],
   "source": [
    "import pandas as pd\n",
    "import time\n",
    "import selenium\n",
    "from selenium import webdriver\n",
    "from selenium.webdriver.common.by import By\n",
    "import bs4\n",
    "from bs4 import BeautifulSoup\n",
    "import requests\n",
    "import warnings\n",
    "warnings.filterwarnings(\"ignore\")"
   ]
  },
  {
   "cell_type": "code",
   "execution_count": 2,
   "id": "69747a5a",
   "metadata": {},
   "outputs": [],
   "source": [
    "from selenium.common.exceptions import NoSuchElementException, TimeoutException"
   ]
  },
  {
   "cell_type": "markdown",
   "id": "739faa34",
   "metadata": {},
   "source": [
    "# Scrape the details of most viewed videos on YouTube from Wikipedia"
   ]
  },
  {
   "cell_type": "code",
   "execution_count": 52,
   "id": "ad937802",
   "metadata": {},
   "outputs": [],
   "source": [
    "driver=webdriver.Chrome(r\"chromedriver.exe\")"
   ]
  },
  {
   "cell_type": "code",
   "execution_count": 53,
   "id": "7532e492",
   "metadata": {},
   "outputs": [],
   "source": [
    "url=\"https://en.wikipedia.org/wiki/List_of_most-viewed_YouTube_videos\""
   ]
  },
  {
   "cell_type": "code",
   "execution_count": 54,
   "id": "8114833c",
   "metadata": {},
   "outputs": [],
   "source": [
    "driver.get(url)"
   ]
  },
  {
   "cell_type": "code",
   "execution_count": 55,
   "id": "4ec306c5",
   "metadata": {},
   "outputs": [],
   "source": [
    "driver.maximize_window()"
   ]
  },
  {
   "cell_type": "code",
   "execution_count": 56,
   "id": "87f99096",
   "metadata": {},
   "outputs": [
    {
     "name": "stdout",
     "output_type": "stream",
     "text": [
      "['1.', '2.', '3.', '4.', '5.', '6.', '7.', '8.', '9.', '10.', '11.', '12.', '13.', '14.', '15.', '16.', '17.', '18.', '19.', '20.', '21.', '22.', '23.', '24.', '25.', '26.', '27.', '28.', '29.', '30.']\n"
     ]
    }
   ],
   "source": [
    "rank=[]\n",
    "try:\n",
    "    for _ in range(10):\n",
    "        driver.execute_script(\"window.scrollBy(0,1000)\")\n",
    "    tags=driver.find_elements(By.XPATH,\"//td[1][@align='center']\")\n",
    "    for i in tags:\n",
    "        rank.append(i.text.replace(\"\\n\",\" \").strip(\" \"))\n",
    "except Exception:\n",
    "    rank.append(\"--\")\n",
    "print(rank)"
   ]
  },
  {
   "cell_type": "code",
   "execution_count": 57,
   "id": "702223d8",
   "metadata": {},
   "outputs": [
    {
     "name": "stdout",
     "output_type": "stream",
     "text": [
      "['\"Baby Shark Dance\"[4]', '\"Despacito\"[7]', '\"Johny Johny Yes Papa\"[14]', '\"Bath Song\"[15]', '\"Shape of You\"[16]', '\"See You Again\"[18]', '\"Phonics Song with Two Words\"[23]', '\"Wheels on the Bus\"[24]', '\"Uptown Funk\"[25]', '\"Learning Colors – Colorful Eggs on a Farm\"[26]', '\"Gangnam Style\"[27]', '\"Masha and the Bear – Recipe for Disaster\"[32]', '\"Dame Tu Cosita\"[33]', '\"Sugar\"[34]', '\"Axel F\"[35]', '\"Roar\"[36]', '\"Counting Stars\"[37]', '\"Sorry\"[38]', '\"Thinking Out Loud\"[39]', '\"Baa Baa Black Sheep\"[40]', '\"Waka Waka (This Time for Africa)\"[41]', '\"Dark Horse\"[42]', '\"Faded\"[43]', '\"Let Her Go\"[44]', '\"Girls Like You\"[45]', '\"Perfect\"[46]', '\"Bailando\"[47]', '\"Lean On\"[48]', '\"Lakdi Ki Kathi\"[49]', '\"Humpty the train on a fruits ride\"[50]']\n"
     ]
    }
   ],
   "source": [
    "name=[]\n",
    "try:\n",
    "    for _ in range(10):\n",
    "        driver.execute_script(\"window.scrollBy(0,1000)\")\n",
    "    tags=driver.find_elements(By.XPATH,\"//table[@class='wikitable sortable jquery-tablesorter'][1]/tbody/tr/td[2]\")\n",
    "    for i in tags:\n",
    "        name.append(i.text.replace(\"\\n\",\" \").strip(\" \"))\n",
    "except NoSuchElementException:\n",
    "    name.append(\"--\")\n",
    "print(name)"
   ]
  },
  {
   "cell_type": "code",
   "execution_count": 58,
   "id": "6e8ffb48",
   "metadata": {},
   "outputs": [
    {
     "name": "stdout",
     "output_type": "stream",
     "text": [
      "[\"Pinkfong Baby Shark - Kids' Songs & Stories\", 'Luis Fonsi', 'LooLoo Kids', 'Cocomelon – Nursery Rhymes', 'Ed Sheeran', 'Wiz Khalifa', 'ChuChu TV', 'Cocomelon – Nursery Rhymes', 'Mark Ronson', 'Miroshka TV', 'Psy', 'Get Movies', 'El Chombo', 'Maroon 5', 'Crazy Frog', 'Katy Perry', 'OneRepublic', 'Justin Bieber', 'Ed Sheeran', 'Cocomelon – Nursery Rhymes', 'Shakira', 'Katy Perry', 'Alan Walker', 'Passenger', 'Maroon 5', 'Ed Sheeran', 'Enrique Iglesias', 'Major Lazer', 'Jingle Toons', 'Kiddiestv Hindi – Nursery Rhymes & Kids Songs']\n"
     ]
    }
   ],
   "source": [
    "artist=[]\n",
    "try:\n",
    "    for _ in range(10):\n",
    "        driver.execute_script(\"window.scrollBy(0,500)\")\n",
    "    tags=driver.find_elements(By.XPATH,\"//table[@class='wikitable sortable jquery-tablesorter'][1]/tbody/tr/td[3]\")\n",
    "    for i in tags:\n",
    "        artist.append(i.text.replace(\"\\n\",\" \").strip(\" \"))\n",
    "except Exception:\n",
    "    artist.append(\"-\")\n",
    "print(artist)"
   ]
  },
  {
   "cell_type": "code",
   "execution_count": 59,
   "id": "5f4bb539",
   "metadata": {},
   "outputs": [
    {
     "name": "stdout",
     "output_type": "stream",
     "text": [
      "['June 17, 2016', 'January 12, 2017', 'October 8, 2016', 'May 2, 2018', 'January 30, 2017', 'April 6, 2015', 'March 6, 2014', 'May 24, 2018', 'November 19, 2014', 'February 27, 2018', 'July 15, 2012', 'January 31, 2012', 'April 5, 2018', 'January 14, 2015', 'June 16, 2009', 'September 5, 2013', 'May 31, 2013', 'October 22, 2015', 'October 7, 2014', 'June 25, 2018', 'June 4, 2010', 'February 20, 2014', 'December 3, 2015', 'July 25, 2012', 'May 31, 2018', 'November 9, 2017', 'April 11, 2014', 'March 22, 2015', 'June 14, 2018', 'January 26, 2018']\n"
     ]
    }
   ],
   "source": [
    "date=[]\n",
    "try:\n",
    "    tags=driver.find_elements(By.XPATH,\"//table[@class='wikitable sortable jquery-tablesorter'][1]/tbody/tr/td[5]\")\n",
    "    for i in tags:\n",
    "        date.append(i.text.replace(\"\\n\",\" \").strip(\" \"))\n",
    "except Exception:\n",
    "    date.append(\"-\")\n",
    "print(date)"
   ]
  },
  {
   "cell_type": "code",
   "execution_count": 61,
   "id": "91a5c2e5",
   "metadata": {},
   "outputs": [
    {
     "name": "stdout",
     "output_type": "stream",
     "text": [
      "['12.37', '8.09', '6.63', '6.03', '5.92', '5.79', '5.17', '4.95', '4.84', '4.83', '4.70', '4.53', '4.24', '3.82', '3.76', '3.73', '3.73', '3.63', '3.55', '3.51', '3.48', '3.45', '3.41', '3.38', '3.37', '3.37', '3.34', '3.33', '3.32', '3.31']\n"
     ]
    }
   ],
   "source": [
    "views=[]\n",
    "try:\n",
    "    tags=driver.find_elements(By.XPATH,\"//table[@class='wikitable sortable jquery-tablesorter'][1]/tbody/tr/td[4]\")\n",
    "    for i in tags:\n",
    "        views.append(i.text.replace(\"\\n\",\" \").strip(\" \"))\n",
    "except NoSuchElementException:\n",
    "    views.append(\"NA\")\n",
    "print(views)"
   ]
  },
  {
   "cell_type": "code",
   "execution_count": 62,
   "id": "e074e629",
   "metadata": {},
   "outputs": [
    {
     "name": "stdout",
     "output_type": "stream",
     "text": [
      "30 30 30 30 30\n"
     ]
    }
   ],
   "source": [
    "print(len(rank), len(name), len(artist), len(date), len(views))"
   ]
  },
  {
   "cell_type": "code",
   "execution_count": 63,
   "id": "d40ced8d",
   "metadata": {},
   "outputs": [
    {
     "data": {
      "text/html": [
       "<div>\n",
       "<style scoped>\n",
       "    .dataframe tbody tr th:only-of-type {\n",
       "        vertical-align: middle;\n",
       "    }\n",
       "\n",
       "    .dataframe tbody tr th {\n",
       "        vertical-align: top;\n",
       "    }\n",
       "\n",
       "    .dataframe thead th {\n",
       "        text-align: right;\n",
       "    }\n",
       "</style>\n",
       "<table border=\"1\" class=\"dataframe\">\n",
       "  <thead>\n",
       "    <tr style=\"text-align: right;\">\n",
       "      <th></th>\n",
       "      <th>Rank</th>\n",
       "      <th>Name</th>\n",
       "      <th>Artist</th>\n",
       "      <th>Uploaded_on</th>\n",
       "      <th>Views</th>\n",
       "    </tr>\n",
       "  </thead>\n",
       "  <tbody>\n",
       "    <tr>\n",
       "      <th>0</th>\n",
       "      <td>1.</td>\n",
       "      <td>\"Baby Shark Dance\"[4]</td>\n",
       "      <td>Pinkfong Baby Shark - Kids' Songs &amp; Stories</td>\n",
       "      <td>June 17, 2016</td>\n",
       "      <td>12.37</td>\n",
       "    </tr>\n",
       "    <tr>\n",
       "      <th>1</th>\n",
       "      <td>2.</td>\n",
       "      <td>\"Despacito\"[7]</td>\n",
       "      <td>Luis Fonsi</td>\n",
       "      <td>January 12, 2017</td>\n",
       "      <td>8.09</td>\n",
       "    </tr>\n",
       "    <tr>\n",
       "      <th>2</th>\n",
       "      <td>3.</td>\n",
       "      <td>\"Johny Johny Yes Papa\"[14]</td>\n",
       "      <td>LooLoo Kids</td>\n",
       "      <td>October 8, 2016</td>\n",
       "      <td>6.63</td>\n",
       "    </tr>\n",
       "    <tr>\n",
       "      <th>3</th>\n",
       "      <td>4.</td>\n",
       "      <td>\"Bath Song\"[15]</td>\n",
       "      <td>Cocomelon – Nursery Rhymes</td>\n",
       "      <td>May 2, 2018</td>\n",
       "      <td>6.03</td>\n",
       "    </tr>\n",
       "    <tr>\n",
       "      <th>4</th>\n",
       "      <td>5.</td>\n",
       "      <td>\"Shape of You\"[16]</td>\n",
       "      <td>Ed Sheeran</td>\n",
       "      <td>January 30, 2017</td>\n",
       "      <td>5.92</td>\n",
       "    </tr>\n",
       "    <tr>\n",
       "      <th>5</th>\n",
       "      <td>6.</td>\n",
       "      <td>\"See You Again\"[18]</td>\n",
       "      <td>Wiz Khalifa</td>\n",
       "      <td>April 6, 2015</td>\n",
       "      <td>5.79</td>\n",
       "    </tr>\n",
       "    <tr>\n",
       "      <th>6</th>\n",
       "      <td>7.</td>\n",
       "      <td>\"Phonics Song with Two Words\"[23]</td>\n",
       "      <td>ChuChu TV</td>\n",
       "      <td>March 6, 2014</td>\n",
       "      <td>5.17</td>\n",
       "    </tr>\n",
       "    <tr>\n",
       "      <th>7</th>\n",
       "      <td>8.</td>\n",
       "      <td>\"Wheels on the Bus\"[24]</td>\n",
       "      <td>Cocomelon – Nursery Rhymes</td>\n",
       "      <td>May 24, 2018</td>\n",
       "      <td>4.95</td>\n",
       "    </tr>\n",
       "    <tr>\n",
       "      <th>8</th>\n",
       "      <td>9.</td>\n",
       "      <td>\"Uptown Funk\"[25]</td>\n",
       "      <td>Mark Ronson</td>\n",
       "      <td>November 19, 2014</td>\n",
       "      <td>4.84</td>\n",
       "    </tr>\n",
       "    <tr>\n",
       "      <th>9</th>\n",
       "      <td>10.</td>\n",
       "      <td>\"Learning Colors – Colorful Eggs on a Farm\"[26]</td>\n",
       "      <td>Miroshka TV</td>\n",
       "      <td>February 27, 2018</td>\n",
       "      <td>4.83</td>\n",
       "    </tr>\n",
       "    <tr>\n",
       "      <th>10</th>\n",
       "      <td>11.</td>\n",
       "      <td>\"Gangnam Style\"[27]</td>\n",
       "      <td>Psy</td>\n",
       "      <td>July 15, 2012</td>\n",
       "      <td>4.70</td>\n",
       "    </tr>\n",
       "    <tr>\n",
       "      <th>11</th>\n",
       "      <td>12.</td>\n",
       "      <td>\"Masha and the Bear – Recipe for Disaster\"[32]</td>\n",
       "      <td>Get Movies</td>\n",
       "      <td>January 31, 2012</td>\n",
       "      <td>4.53</td>\n",
       "    </tr>\n",
       "    <tr>\n",
       "      <th>12</th>\n",
       "      <td>13.</td>\n",
       "      <td>\"Dame Tu Cosita\"[33]</td>\n",
       "      <td>El Chombo</td>\n",
       "      <td>April 5, 2018</td>\n",
       "      <td>4.24</td>\n",
       "    </tr>\n",
       "    <tr>\n",
       "      <th>13</th>\n",
       "      <td>14.</td>\n",
       "      <td>\"Sugar\"[34]</td>\n",
       "      <td>Maroon 5</td>\n",
       "      <td>January 14, 2015</td>\n",
       "      <td>3.82</td>\n",
       "    </tr>\n",
       "    <tr>\n",
       "      <th>14</th>\n",
       "      <td>15.</td>\n",
       "      <td>\"Axel F\"[35]</td>\n",
       "      <td>Crazy Frog</td>\n",
       "      <td>June 16, 2009</td>\n",
       "      <td>3.76</td>\n",
       "    </tr>\n",
       "    <tr>\n",
       "      <th>15</th>\n",
       "      <td>16.</td>\n",
       "      <td>\"Roar\"[36]</td>\n",
       "      <td>Katy Perry</td>\n",
       "      <td>September 5, 2013</td>\n",
       "      <td>3.73</td>\n",
       "    </tr>\n",
       "    <tr>\n",
       "      <th>16</th>\n",
       "      <td>17.</td>\n",
       "      <td>\"Counting Stars\"[37]</td>\n",
       "      <td>OneRepublic</td>\n",
       "      <td>May 31, 2013</td>\n",
       "      <td>3.73</td>\n",
       "    </tr>\n",
       "    <tr>\n",
       "      <th>17</th>\n",
       "      <td>18.</td>\n",
       "      <td>\"Sorry\"[38]</td>\n",
       "      <td>Justin Bieber</td>\n",
       "      <td>October 22, 2015</td>\n",
       "      <td>3.63</td>\n",
       "    </tr>\n",
       "    <tr>\n",
       "      <th>18</th>\n",
       "      <td>19.</td>\n",
       "      <td>\"Thinking Out Loud\"[39]</td>\n",
       "      <td>Ed Sheeran</td>\n",
       "      <td>October 7, 2014</td>\n",
       "      <td>3.55</td>\n",
       "    </tr>\n",
       "    <tr>\n",
       "      <th>19</th>\n",
       "      <td>20.</td>\n",
       "      <td>\"Baa Baa Black Sheep\"[40]</td>\n",
       "      <td>Cocomelon – Nursery Rhymes</td>\n",
       "      <td>June 25, 2018</td>\n",
       "      <td>3.51</td>\n",
       "    </tr>\n",
       "    <tr>\n",
       "      <th>20</th>\n",
       "      <td>21.</td>\n",
       "      <td>\"Waka Waka (This Time for Africa)\"[41]</td>\n",
       "      <td>Shakira</td>\n",
       "      <td>June 4, 2010</td>\n",
       "      <td>3.48</td>\n",
       "    </tr>\n",
       "    <tr>\n",
       "      <th>21</th>\n",
       "      <td>22.</td>\n",
       "      <td>\"Dark Horse\"[42]</td>\n",
       "      <td>Katy Perry</td>\n",
       "      <td>February 20, 2014</td>\n",
       "      <td>3.45</td>\n",
       "    </tr>\n",
       "    <tr>\n",
       "      <th>22</th>\n",
       "      <td>23.</td>\n",
       "      <td>\"Faded\"[43]</td>\n",
       "      <td>Alan Walker</td>\n",
       "      <td>December 3, 2015</td>\n",
       "      <td>3.41</td>\n",
       "    </tr>\n",
       "    <tr>\n",
       "      <th>23</th>\n",
       "      <td>24.</td>\n",
       "      <td>\"Let Her Go\"[44]</td>\n",
       "      <td>Passenger</td>\n",
       "      <td>July 25, 2012</td>\n",
       "      <td>3.38</td>\n",
       "    </tr>\n",
       "    <tr>\n",
       "      <th>24</th>\n",
       "      <td>25.</td>\n",
       "      <td>\"Girls Like You\"[45]</td>\n",
       "      <td>Maroon 5</td>\n",
       "      <td>May 31, 2018</td>\n",
       "      <td>3.37</td>\n",
       "    </tr>\n",
       "    <tr>\n",
       "      <th>25</th>\n",
       "      <td>26.</td>\n",
       "      <td>\"Perfect\"[46]</td>\n",
       "      <td>Ed Sheeran</td>\n",
       "      <td>November 9, 2017</td>\n",
       "      <td>3.37</td>\n",
       "    </tr>\n",
       "    <tr>\n",
       "      <th>26</th>\n",
       "      <td>27.</td>\n",
       "      <td>\"Bailando\"[47]</td>\n",
       "      <td>Enrique Iglesias</td>\n",
       "      <td>April 11, 2014</td>\n",
       "      <td>3.34</td>\n",
       "    </tr>\n",
       "    <tr>\n",
       "      <th>27</th>\n",
       "      <td>28.</td>\n",
       "      <td>\"Lean On\"[48]</td>\n",
       "      <td>Major Lazer</td>\n",
       "      <td>March 22, 2015</td>\n",
       "      <td>3.33</td>\n",
       "    </tr>\n",
       "    <tr>\n",
       "      <th>28</th>\n",
       "      <td>29.</td>\n",
       "      <td>\"Lakdi Ki Kathi\"[49]</td>\n",
       "      <td>Jingle Toons</td>\n",
       "      <td>June 14, 2018</td>\n",
       "      <td>3.32</td>\n",
       "    </tr>\n",
       "    <tr>\n",
       "      <th>29</th>\n",
       "      <td>30.</td>\n",
       "      <td>\"Humpty the train on a fruits ride\"[50]</td>\n",
       "      <td>Kiddiestv Hindi – Nursery Rhymes &amp; Kids Songs</td>\n",
       "      <td>January 26, 2018</td>\n",
       "      <td>3.31</td>\n",
       "    </tr>\n",
       "  </tbody>\n",
       "</table>\n",
       "</div>"
      ],
      "text/plain": [
       "   Rank                                             Name  \\\n",
       "0    1.                            \"Baby Shark Dance\"[4]   \n",
       "1    2.                                   \"Despacito\"[7]   \n",
       "2    3.                       \"Johny Johny Yes Papa\"[14]   \n",
       "3    4.                                  \"Bath Song\"[15]   \n",
       "4    5.                               \"Shape of You\"[16]   \n",
       "5    6.                              \"See You Again\"[18]   \n",
       "6    7.                \"Phonics Song with Two Words\"[23]   \n",
       "7    8.                          \"Wheels on the Bus\"[24]   \n",
       "8    9.                                \"Uptown Funk\"[25]   \n",
       "9   10.  \"Learning Colors – Colorful Eggs on a Farm\"[26]   \n",
       "10  11.                              \"Gangnam Style\"[27]   \n",
       "11  12.   \"Masha and the Bear – Recipe for Disaster\"[32]   \n",
       "12  13.                             \"Dame Tu Cosita\"[33]   \n",
       "13  14.                                      \"Sugar\"[34]   \n",
       "14  15.                                     \"Axel F\"[35]   \n",
       "15  16.                                       \"Roar\"[36]   \n",
       "16  17.                             \"Counting Stars\"[37]   \n",
       "17  18.                                      \"Sorry\"[38]   \n",
       "18  19.                          \"Thinking Out Loud\"[39]   \n",
       "19  20.                        \"Baa Baa Black Sheep\"[40]   \n",
       "20  21.           \"Waka Waka (This Time for Africa)\"[41]   \n",
       "21  22.                                 \"Dark Horse\"[42]   \n",
       "22  23.                                      \"Faded\"[43]   \n",
       "23  24.                                 \"Let Her Go\"[44]   \n",
       "24  25.                             \"Girls Like You\"[45]   \n",
       "25  26.                                    \"Perfect\"[46]   \n",
       "26  27.                                   \"Bailando\"[47]   \n",
       "27  28.                                    \"Lean On\"[48]   \n",
       "28  29.                             \"Lakdi Ki Kathi\"[49]   \n",
       "29  30.          \"Humpty the train on a fruits ride\"[50]   \n",
       "\n",
       "                                           Artist        Uploaded_on  Views  \n",
       "0     Pinkfong Baby Shark - Kids' Songs & Stories      June 17, 2016  12.37  \n",
       "1                                      Luis Fonsi   January 12, 2017   8.09  \n",
       "2                                     LooLoo Kids    October 8, 2016   6.63  \n",
       "3                      Cocomelon – Nursery Rhymes        May 2, 2018   6.03  \n",
       "4                                      Ed Sheeran   January 30, 2017   5.92  \n",
       "5                                     Wiz Khalifa      April 6, 2015   5.79  \n",
       "6                                       ChuChu TV      March 6, 2014   5.17  \n",
       "7                      Cocomelon – Nursery Rhymes       May 24, 2018   4.95  \n",
       "8                                     Mark Ronson  November 19, 2014   4.84  \n",
       "9                                     Miroshka TV  February 27, 2018   4.83  \n",
       "10                                            Psy      July 15, 2012   4.70  \n",
       "11                                     Get Movies   January 31, 2012   4.53  \n",
       "12                                      El Chombo      April 5, 2018   4.24  \n",
       "13                                       Maroon 5   January 14, 2015   3.82  \n",
       "14                                     Crazy Frog      June 16, 2009   3.76  \n",
       "15                                     Katy Perry  September 5, 2013   3.73  \n",
       "16                                    OneRepublic       May 31, 2013   3.73  \n",
       "17                                  Justin Bieber   October 22, 2015   3.63  \n",
       "18                                     Ed Sheeran    October 7, 2014   3.55  \n",
       "19                     Cocomelon – Nursery Rhymes      June 25, 2018   3.51  \n",
       "20                                        Shakira       June 4, 2010   3.48  \n",
       "21                                     Katy Perry  February 20, 2014   3.45  \n",
       "22                                    Alan Walker   December 3, 2015   3.41  \n",
       "23                                      Passenger      July 25, 2012   3.38  \n",
       "24                                       Maroon 5       May 31, 2018   3.37  \n",
       "25                                     Ed Sheeran   November 9, 2017   3.37  \n",
       "26                               Enrique Iglesias     April 11, 2014   3.34  \n",
       "27                                    Major Lazer     March 22, 2015   3.33  \n",
       "28                                   Jingle Toons      June 14, 2018   3.32  \n",
       "29  Kiddiestv Hindi – Nursery Rhymes & Kids Songs   January 26, 2018   3.31  "
      ]
     },
     "execution_count": 63,
     "metadata": {},
     "output_type": "execute_result"
    }
   ],
   "source": [
    "df=pd.DataFrame()\n",
    "df[\"Rank\"]=rank\n",
    "df['Name']=name\n",
    "df['Artist']=artist\n",
    "df['Uploaded_on']=date\n",
    "df['Views']=views\n",
    "df"
   ]
  },
  {
   "cell_type": "code",
   "execution_count": 64,
   "id": "c23fb97d",
   "metadata": {},
   "outputs": [],
   "source": [
    "driver.close()"
   ]
  },
  {
   "cell_type": "markdown",
   "id": "88d4c4c3",
   "metadata": {},
   "source": [
    "# Scrape the details team India’s international fixtures from bcci.tv"
   ]
  },
  {
   "cell_type": "code",
   "execution_count": 19,
   "id": "6104d85d",
   "metadata": {},
   "outputs": [],
   "source": [
    "driver=webdriver.Chrome(r\"chromedriver.exe\")"
   ]
  },
  {
   "cell_type": "code",
   "execution_count": 4,
   "id": "5b461569",
   "metadata": {},
   "outputs": [],
   "source": [
    "driver.get(\"https://www.bcci.tv/\")"
   ]
  },
  {
   "cell_type": "code",
   "execution_count": 5,
   "id": "946f2682",
   "metadata": {},
   "outputs": [],
   "source": [
    "driver.maximize_window()"
   ]
  },
  {
   "cell_type": "code",
   "execution_count": 6,
   "id": "a760e4c7",
   "metadata": {},
   "outputs": [],
   "source": [
    "international=driver.find_element(By.XPATH,\"/html/body/div[14]/div/div[1]/div[2]/ul[1]/li[2]/a\")\n",
    "international.click()"
   ]
  },
  {
   "cell_type": "code",
   "execution_count": 18,
   "id": "91a940b6",
   "metadata": {},
   "outputs": [
    {
     "name": "stdout",
     "output_type": "stream",
     "text": [
      "['AUSTRALIA TOUR OF INDIA TEST SERIES 2022-2', 'AUSTRALIA TOUR OF INDIA ODI SERIES 2022-2', 'AUSTRALIA TOUR OF INDIA ODI SERIES 2022-2', 'AUSTRALIA TOUR OF INDIA ODI SERIES 2022-2']\n"
     ]
    }
   ],
   "source": [
    "titles=[]\n",
    "tag=driver.find_elements(By.XPATH,\"//span[@class='ng-binding']\")\n",
    "for i in tag:\n",
    "    titles.append(i.text.strip(\"(113.1ov)\"))\n",
    "titles.pop(1)     #To remove unnecessary data\n",
    "titles.pop(1)\n",
    "print(titles)"
   ]
  },
  {
   "cell_type": "code",
   "execution_count": 8,
   "id": "7398cdd8",
   "metadata": {},
   "outputs": [
    {
     "name": "stdout",
     "output_type": "stream",
     "text": [
      "['9 MAR 2023', '17 MAR 2023', '19 MAR 2023', '22 MAR 2023']\n"
     ]
    }
   ],
   "source": [
    "Date=[]\n",
    "tag=driver.find_elements(By.XPATH,\"//div[@class='match-card-left match-schedule']\")\n",
    "for i in tag:\n",
    "    Date.append(i.text)\n",
    "print(Date)"
   ]
  },
  {
   "cell_type": "code",
   "execution_count": 9,
   "id": "9ccda721",
   "metadata": {},
   "outputs": [
    {
     "name": "stdout",
     "output_type": "stream",
     "text": [
      "['Narendra Modi Stadium,', 'Wankhede Stadium,', 'Dr YS Rajasekhara Reddy ACA-VDCA Cricket Stadium,', 'MA Chidambaram Stadium,']\n"
     ]
    }
   ],
   "source": [
    "Place=[]\n",
    "tag=driver.find_elements(By.XPATH,\"//span[@class='ng-binding ng-scope']\")\n",
    "for i in tag:\n",
    "    Place.append(i.text)\n",
    "print(Place)"
   ]
  },
  {
   "cell_type": "code",
   "execution_count": 21,
   "id": "b84ac9cf",
   "metadata": {},
   "outputs": [
    {
     "name": "stdout",
     "output_type": "stream",
     "text": [
      "['LIVE', '1:30 PM IST', '1:30 PM IST', '1:30 PM IST']\n"
     ]
    }
   ],
   "source": [
    "Time=[]\n",
    "try:\n",
    "    tag=driver.find_elements(By.XPATH,\"//h5[@class='text-right ng-binding']\")\n",
    "    for i in tag:\n",
    "        Time.append(i.text)\n",
    "except NoSuchElementException:\n",
    "    Time.append(\"-\")\n",
    "Time.insert(0,\"LIVE\")    #As live matche's XPATH keeps updating so unable to scrape\n",
    "print(Time)"
   ]
  },
  {
   "cell_type": "code",
   "execution_count": 10,
   "id": "b8ef6517",
   "metadata": {},
   "outputs": [
    {
     "name": "stdout",
     "output_type": "stream",
     "text": [
      "['4th Test -', '1st ODI -', '2nd ODI -', '3rd ODI -']\n"
     ]
    }
   ],
   "source": [
    "Match_title=[]\n",
    "tag=driver.find_elements(By.XPATH,\"//span[@class='matchOrderText ng-binding ng-scope']\")\n",
    "for i in tag:\n",
    "    Match_title.append(i.text)\n",
    "print(Match_title)"
   ]
  },
  {
   "cell_type": "code",
   "execution_count": 23,
   "id": "afc41938",
   "metadata": {},
   "outputs": [
    {
     "data": {
      "text/html": [
       "<div>\n",
       "<style scoped>\n",
       "    .dataframe tbody tr th:only-of-type {\n",
       "        vertical-align: middle;\n",
       "    }\n",
       "\n",
       "    .dataframe tbody tr th {\n",
       "        vertical-align: top;\n",
       "    }\n",
       "\n",
       "    .dataframe thead th {\n",
       "        text-align: right;\n",
       "    }\n",
       "</style>\n",
       "<table border=\"1\" class=\"dataframe\">\n",
       "  <thead>\n",
       "    <tr style=\"text-align: right;\">\n",
       "      <th></th>\n",
       "      <th>Match_Title</th>\n",
       "      <th>Title</th>\n",
       "      <th>Date</th>\n",
       "      <th>Place</th>\n",
       "      <th>Time</th>\n",
       "    </tr>\n",
       "  </thead>\n",
       "  <tbody>\n",
       "    <tr>\n",
       "      <th>0</th>\n",
       "      <td>4th Test -</td>\n",
       "      <td>AUSTRALIA TOUR OF INDIA TEST SERIES 2022-2</td>\n",
       "      <td>9 MAR 2023</td>\n",
       "      <td>Narendra Modi Stadium,</td>\n",
       "      <td>LIVE</td>\n",
       "    </tr>\n",
       "    <tr>\n",
       "      <th>1</th>\n",
       "      <td>1st ODI -</td>\n",
       "      <td>AUSTRALIA TOUR OF INDIA ODI SERIES 2022-2</td>\n",
       "      <td>17 MAR 2023</td>\n",
       "      <td>Wankhede Stadium,</td>\n",
       "      <td>1:30 PM IST</td>\n",
       "    </tr>\n",
       "    <tr>\n",
       "      <th>2</th>\n",
       "      <td>2nd ODI -</td>\n",
       "      <td>AUSTRALIA TOUR OF INDIA ODI SERIES 2022-2</td>\n",
       "      <td>19 MAR 2023</td>\n",
       "      <td>Dr YS Rajasekhara Reddy ACA-VDCA Cricket Stadium,</td>\n",
       "      <td>1:30 PM IST</td>\n",
       "    </tr>\n",
       "    <tr>\n",
       "      <th>3</th>\n",
       "      <td>3rd ODI -</td>\n",
       "      <td>AUSTRALIA TOUR OF INDIA ODI SERIES 2022-2</td>\n",
       "      <td>22 MAR 2023</td>\n",
       "      <td>MA Chidambaram Stadium,</td>\n",
       "      <td>1:30 PM IST</td>\n",
       "    </tr>\n",
       "  </tbody>\n",
       "</table>\n",
       "</div>"
      ],
      "text/plain": [
       "  Match_Title                                       Title         Date  \\\n",
       "0  4th Test -  AUSTRALIA TOUR OF INDIA TEST SERIES 2022-2   9 MAR 2023   \n",
       "1   1st ODI -   AUSTRALIA TOUR OF INDIA ODI SERIES 2022-2  17 MAR 2023   \n",
       "2   2nd ODI -   AUSTRALIA TOUR OF INDIA ODI SERIES 2022-2  19 MAR 2023   \n",
       "3   3rd ODI -   AUSTRALIA TOUR OF INDIA ODI SERIES 2022-2  22 MAR 2023   \n",
       "\n",
       "                                               Place         Time  \n",
       "0                             Narendra Modi Stadium,         LIVE  \n",
       "1                                  Wankhede Stadium,  1:30 PM IST  \n",
       "2  Dr YS Rajasekhara Reddy ACA-VDCA Cricket Stadium,  1:30 PM IST  \n",
       "3                            MA Chidambaram Stadium,  1:30 PM IST  "
      ]
     },
     "execution_count": 23,
     "metadata": {},
     "output_type": "execute_result"
    }
   ],
   "source": [
    "df=pd.DataFrame({\"Match_Title\":Match_title,\"Title\":titles,\"Date\":Date,\"Place\":Place,\"Time\":Time})\n",
    "df    "
   ]
  },
  {
   "cell_type": "code",
   "execution_count": 20,
   "id": "bb538bf7",
   "metadata": {},
   "outputs": [],
   "source": [
    "driver.close()"
   ]
  },
  {
   "cell_type": "markdown",
   "id": "92191ca0",
   "metadata": {},
   "source": [
    "# Scrape the details of State-wise GDP ofIndia fromstatisticstime.com"
   ]
  },
  {
   "cell_type": "code",
   "execution_count": 187,
   "id": "fb0df7a8",
   "metadata": {},
   "outputs": [],
   "source": [
    "driver=webdriver.Chrome(r\"chromedriver.exe\")"
   ]
  },
  {
   "cell_type": "code",
   "execution_count": 188,
   "id": "cf4b76e2",
   "metadata": {},
   "outputs": [],
   "source": [
    "driver.get(\"http://statisticstimes.com/\")"
   ]
  },
  {
   "cell_type": "code",
   "execution_count": 189,
   "id": "2c92d435",
   "metadata": {},
   "outputs": [],
   "source": [
    "driver.maximize_window()"
   ]
  },
  {
   "cell_type": "code",
   "execution_count": 190,
   "id": "cca1b7bd",
   "metadata": {},
   "outputs": [],
   "source": [
    "dropdown=driver.find_element(By.XPATH,\"/html/body/div[2]/div[1]/div[2]/div[2]\")\n",
    "dropdown.click()"
   ]
  },
  {
   "cell_type": "code",
   "execution_count": 191,
   "id": "31be6e17",
   "metadata": {},
   "outputs": [],
   "source": [
    "select_ind=driver.find_element(By.XPATH,\"/html/body/div[2]/div[1]/div[2]/div[2]/div/a[3]\")\n",
    "select_ind.click()"
   ]
  },
  {
   "cell_type": "code",
   "execution_count": 193,
   "id": "61c868f5",
   "metadata": {},
   "outputs": [],
   "source": [
    "select_GDP=driver.find_element(By.XPATH,\"/html/body/div[2]/div[2]/div[2]/ul/li[1]/a\")\n",
    "select_GDP.click()"
   ]
  },
  {
   "cell_type": "code",
   "execution_count": 194,
   "id": "b97edbd1",
   "metadata": {},
   "outputs": [
    {
     "name": "stdout",
     "output_type": "stream",
     "text": [
      "['1', '2', '3', '4', '5', '6', '7', '8', '9', '10', '11', '12', '13', '14', '15', '16', '17', '18', '19', '20', '21', '22', '23', '24', '25', '26', '27', '28', '29', '30', '31', '32', '33', '', '1', '2', '3', '4', '5', '6', '7', '8', '9', '10', '11', '12', '13', '14', '15', '16', '17', '18', '19', '20', '21', '22', '23', '24', '25', '26', '27', '28', '29', '30', '31', '32', '33', '']\n"
     ]
    }
   ],
   "source": [
    "Rank=[]\n",
    "try:\n",
    "    tags=driver.find_elements(By.XPATH,\"//td[@class='data1']\")\n",
    "    for i in tags:\n",
    "        Rank.append(i.text)\n",
    "except NoSuchElementException:\n",
    "    Rank.append(\"-\")\n",
    "print(Rank)"
   ]
  },
  {
   "cell_type": "code",
   "execution_count": 195,
   "id": "3bc4353b",
   "metadata": {},
   "outputs": [
    {
     "name": "stdout",
     "output_type": "stream",
     "text": [
      "['Maharashtra', 'Tamil Nadu', 'Uttar Pradesh', 'Gujarat', 'Karnataka', 'West Bengal', 'Rajasthan', 'Andhra Pradesh', 'Telangana', 'Madhya Pradesh', 'Kerala', 'Delhi', 'Haryana', 'Bihar', 'Punjab', 'Odisha', 'Assam', 'Chhattisgarh', 'Jharkhand', 'Uttarakhand', 'Jammu & Kashmir', 'Himachal Pradesh', 'Goa', 'Tripura', 'Chandigarh', 'Puducherry', 'Meghalaya', 'Sikkim', 'Manipur', 'Nagaland', 'Arunachal Pradesh', 'Mizoram', 'Andaman & Nicobar Islands', 'India', 'Maharashtra', 'Tamil Nadu', 'Uttar Pradesh', 'Karnataka', 'Gujarat', 'West Bengal', 'Rajasthan', 'Telangana', 'Andhra Pradesh', 'Madhya Pradesh', 'Kerala', 'Delhi', 'Haryana', 'Bihar', 'Punjab', 'Odisha', 'Assam', 'Jharkhand', 'Chhattisgarh', 'Uttarakhand', 'Himachal Pradesh', 'Jammu & Kashmir', 'Goa', 'Tripura', 'Chandigarh', 'Puducherry', 'Meghalaya', 'Manipur', 'Sikkim', 'Nagaland', 'Arunachal Pradesh', 'Mizoram', 'Andaman & Nicobar Islands', 'India']\n"
     ]
    }
   ],
   "source": [
    "States=[]\n",
    "try:\n",
    "    tags=driver.find_elements(By.XPATH,\"//td[@class='name']\")\n",
    "    for i in tags:\n",
    "        States.append(i.text)\n",
    "except NoSuchElementException:\n",
    "    States.append(\"-\")\n",
    "print(States)"
   ]
  },
  {
   "cell_type": "code",
   "execution_count": 206,
   "id": "29507323",
   "metadata": {},
   "outputs": [
    {
     "name": "stdout",
     "output_type": "stream",
     "text": [
      "['2,632,792', '1,630,208', '1,584,764', '1,502,899', '1,493,127', '1,089,898', '942,586', '862,957', '861,031', '809,592', '781,653', '774,870', '734,163', '530,363', '526,376', '487,805', '315,881', '304,063', '297,204', '245,895', '155,956', '153,845', '73,170', '49,845', '42,114', '34,433', '33,481', '28,723', '27,870', '27,283', '24,603', '22,287', '-', '2,332,992', '1,465,361', '1,404,761', '1,351,553', '1,322,936', '995,502', '845,247', '782,370', '776,140', '737,156', '707,542', '704,529', '666,075', '486,776', '472,506', '428,031', '282,782', '271,990', '266,537', '221,871', '133,303', '129,877', '66,060', '44,835', '37,571', '31,415', '29,544', '25,323', '25,141', '24,534', '22,488', '20,947', '-', '--', '--']\n"
     ]
    }
   ],
   "source": [
    "GSDP1=[]\n",
    "try:\n",
    "    tags=driver.find_elements(By.XPATH,\"//td[@class='data sorting_1']\")\n",
    "    for i in tags:\n",
    "        GSDP1.append(i.text)\n",
    "    else:\n",
    "        GSDP1.append(\"--\")\n",
    "        GSDP1.append(\"--\")\n",
    "except:\n",
    "    GSDP1.append(\"-\")\n",
    "print(GSDP1)"
   ]
  },
  {
   "cell_type": "code",
   "execution_count": 197,
   "id": "98f862ba",
   "metadata": {},
   "outputs": [
    {
     "name": "stdout",
     "output_type": "stream",
     "text": [
      "['-', '1,845,853', '1,687,818', '-', '1,631,977', '1,253,832', '1,020,989', '972,782', '969,604', '906,672', '-', '856,112', '831,610', '611,804', '574,760', '521,275', '-', '329,180', '328,598', '-', '-', '165,472', '80,449', '55,984', '-', '38,253', '36,572', '32,496', '31,790', '-', '-', '26,503', '-', '20,351,013', '-', '1,659,210', '1,495,758', '1,476,983', '-', '1,150,711', '916,014', '881,873', '875,429', '827,019', '-', '779,647', '755,790', '562,710', '517,521', '457,757', '-', '301,242', '288,041', '-', '143,063', '-', '72,181', '50,227', '-', '34,823', '32,833', '29,148', '28,391', '-', '-', '24,424', '-', '17,994,301']\n"
     ]
    }
   ],
   "source": [
    "GSDP2=[]\n",
    "try:\n",
    "    tags=driver.find_elements(By.XPATH,\"//td[3][@class='data']\")\n",
    "    for i in tags:\n",
    "        GSDP2.append(i.text)\n",
    "except NoSuchElementException:\n",
    "    GSDP2.append(\"-\")\n",
    "print(GSDP2)"
   ]
  },
  {
   "cell_type": "code",
   "execution_count": 198,
   "id": "819b6741",
   "metadata": {},
   "outputs": [
    {
     "name": "stdout",
     "output_type": "stream",
     "text": [
      "['13.94%', '8.63%', '8.39%', '7.96%', '7.91%', '5.77%', '4.99%', '4.57%', '4.56%', '4.29%', '4.14%', '4.10%', '3.89%', '2.81%', '2.79%', '2.58%', '1.67%', '1.61%', '1.57%', '1.30%', '0.83%', '0.81%', '0.39%', '0.26%', '0.22%', '0.18%', '0.18%', '0.15%', '0.15%', '0.14%', '0.13%', '0.12%', '-', '', '13.97%', '8.77%', '8.41%', '8.09%', '7.92%', '5.96%', '5.06%', '4.68%', '4.65%', '4.41%', '4.24%', '4.22%', '3.99%', '2.91%', '2.83%', '2.56%', '1.69%', '1.63%', '1.60%', '1.33%', '0.80%', '0.78%', '0.40%', '0.27%', '0.22%', '0.19%', '0.18%', '0.15%', '0.15%', '0.15%', '0.13%', '0.13%', '-', '']\n"
     ]
    }
   ],
   "source": [
    "share=[]\n",
    "try:\n",
    "    tags=driver.find_elements(By.XPATH,\"//td[5][@class='data']\")\n",
    "    for i in tags:\n",
    "        share.append(i.text.replace(\"\\n\",\" \").strip(\" \"))\n",
    "except Exception:\n",
    "    share.append(\"--\")\n",
    "print(share)"
   ]
  },
  {
   "cell_type": "code",
   "execution_count": 199,
   "id": "bf73f5dd",
   "metadata": {},
   "outputs": [
    {
     "name": "stdout",
     "output_type": "stream",
     "text": [
      "['399.921', '247.629', '240.726', '228.290', '226.806', '165.556', '143.179', '131.083', '130.791', '122.977', '118.733', '117.703', '111.519', '80.562', '79.957', '74.098', '47.982', '46.187', '45.145', '37.351', '23.690', '23.369', '11.115', '7.571', '6.397', '5.230', '5.086', '4.363', '4.233', '4.144', '3.737', '3.385', '-', '2,869', '-', '1,167,776', '1,015,735', '1,035,131', '-', '713,376', '630,693', '594,806', '595,605', '496,798', '-', '568,265', '514,983', '377,276', '374,015', '344,437', '-', '218,232', '210,837', '-', '107,171', '-', '56,810', '35,980', '-', '22,291', '23,564', '18,549', '17,060', '-', '-', '17,797', '-', '12,681,246']\n"
     ]
    }
   ],
   "source": [
    "GDP_billion=[]\n",
    "try:\n",
    "    tags=driver.find_elements(By.XPATH,\"//td[6][@class='data']\")\n",
    "    for i in tags:\n",
    "        GDP_billion.append(i.text.replace(\"\\n\",\" \").strip(\" \"))\n",
    "except Exception:\n",
    "    GDP_billion.append(\"-\")\n",
    "print(GDP_billion)"
   ]
  },
  {
   "cell_type": "code",
   "execution_count": 207,
   "id": "b3de1eb7",
   "metadata": {},
   "outputs": [
    {
     "name": "stdout",
     "output_type": "stream",
     "text": [
      "68 68 68 68 68 68\n"
     ]
    }
   ],
   "source": [
    "print(len(Rank),len(States),len(GSDP1),len(GSDP2),len(share),len(GDP_billion))"
   ]
  },
  {
   "cell_type": "code",
   "execution_count": 208,
   "id": "c69bfbc7",
   "metadata": {},
   "outputs": [
    {
     "data": {
      "text/html": [
       "<div>\n",
       "<style scoped>\n",
       "    .dataframe tbody tr th:only-of-type {\n",
       "        vertical-align: middle;\n",
       "    }\n",
       "\n",
       "    .dataframe tbody tr th {\n",
       "        vertical-align: top;\n",
       "    }\n",
       "\n",
       "    .dataframe thead th {\n",
       "        text-align: right;\n",
       "    }\n",
       "</style>\n",
       "<table border=\"1\" class=\"dataframe\">\n",
       "  <thead>\n",
       "    <tr style=\"text-align: right;\">\n",
       "      <th></th>\n",
       "      <th>Rank</th>\n",
       "      <th>State</th>\n",
       "      <th>GSDP(18-19)-at current prices</th>\n",
       "      <th>GSDP(19-20)-at current prices</th>\n",
       "      <th>Share(18-19)</th>\n",
       "      <th>GDP($billion)</th>\n",
       "    </tr>\n",
       "  </thead>\n",
       "  <tbody>\n",
       "    <tr>\n",
       "      <th>0</th>\n",
       "      <td>1</td>\n",
       "      <td>Maharashtra</td>\n",
       "      <td>2,632,792</td>\n",
       "      <td>-</td>\n",
       "      <td>13.94%</td>\n",
       "      <td>399.921</td>\n",
       "    </tr>\n",
       "    <tr>\n",
       "      <th>1</th>\n",
       "      <td>2</td>\n",
       "      <td>Tamil Nadu</td>\n",
       "      <td>1,630,208</td>\n",
       "      <td>1,845,853</td>\n",
       "      <td>8.63%</td>\n",
       "      <td>247.629</td>\n",
       "    </tr>\n",
       "    <tr>\n",
       "      <th>2</th>\n",
       "      <td>3</td>\n",
       "      <td>Uttar Pradesh</td>\n",
       "      <td>1,584,764</td>\n",
       "      <td>1,687,818</td>\n",
       "      <td>8.39%</td>\n",
       "      <td>240.726</td>\n",
       "    </tr>\n",
       "    <tr>\n",
       "      <th>3</th>\n",
       "      <td>4</td>\n",
       "      <td>Gujarat</td>\n",
       "      <td>1,502,899</td>\n",
       "      <td>-</td>\n",
       "      <td>7.96%</td>\n",
       "      <td>228.290</td>\n",
       "    </tr>\n",
       "    <tr>\n",
       "      <th>4</th>\n",
       "      <td>5</td>\n",
       "      <td>Karnataka</td>\n",
       "      <td>1,493,127</td>\n",
       "      <td>1,631,977</td>\n",
       "      <td>7.91%</td>\n",
       "      <td>226.806</td>\n",
       "    </tr>\n",
       "    <tr>\n",
       "      <th>...</th>\n",
       "      <td>...</td>\n",
       "      <td>...</td>\n",
       "      <td>...</td>\n",
       "      <td>...</td>\n",
       "      <td>...</td>\n",
       "      <td>...</td>\n",
       "    </tr>\n",
       "    <tr>\n",
       "      <th>63</th>\n",
       "      <td>30</td>\n",
       "      <td>Nagaland</td>\n",
       "      <td>22,488</td>\n",
       "      <td>-</td>\n",
       "      <td>0.15%</td>\n",
       "      <td>-</td>\n",
       "    </tr>\n",
       "    <tr>\n",
       "      <th>64</th>\n",
       "      <td>31</td>\n",
       "      <td>Arunachal Pradesh</td>\n",
       "      <td>20,947</td>\n",
       "      <td>-</td>\n",
       "      <td>0.13%</td>\n",
       "      <td>-</td>\n",
       "    </tr>\n",
       "    <tr>\n",
       "      <th>65</th>\n",
       "      <td>32</td>\n",
       "      <td>Mizoram</td>\n",
       "      <td>-</td>\n",
       "      <td>24,424</td>\n",
       "      <td>0.13%</td>\n",
       "      <td>17,797</td>\n",
       "    </tr>\n",
       "    <tr>\n",
       "      <th>66</th>\n",
       "      <td>33</td>\n",
       "      <td>Andaman &amp; Nicobar Islands</td>\n",
       "      <td>--</td>\n",
       "      <td>-</td>\n",
       "      <td>-</td>\n",
       "      <td>-</td>\n",
       "    </tr>\n",
       "    <tr>\n",
       "      <th>67</th>\n",
       "      <td></td>\n",
       "      <td>India</td>\n",
       "      <td>--</td>\n",
       "      <td>17,994,301</td>\n",
       "      <td></td>\n",
       "      <td>12,681,246</td>\n",
       "    </tr>\n",
       "  </tbody>\n",
       "</table>\n",
       "<p>68 rows × 6 columns</p>\n",
       "</div>"
      ],
      "text/plain": [
       "   Rank                      State GSDP(18-19)-at current prices  \\\n",
       "0     1                Maharashtra                     2,632,792   \n",
       "1     2                 Tamil Nadu                     1,630,208   \n",
       "2     3              Uttar Pradesh                     1,584,764   \n",
       "3     4                    Gujarat                     1,502,899   \n",
       "4     5                  Karnataka                     1,493,127   \n",
       "..  ...                        ...                           ...   \n",
       "63   30                   Nagaland                        22,488   \n",
       "64   31          Arunachal Pradesh                        20,947   \n",
       "65   32                    Mizoram                             -   \n",
       "66   33  Andaman & Nicobar Islands                            --   \n",
       "67                           India                            --   \n",
       "\n",
       "   GSDP(19-20)-at current prices Share(18-19) GDP($billion)  \n",
       "0                              -       13.94%       399.921  \n",
       "1                      1,845,853        8.63%       247.629  \n",
       "2                      1,687,818        8.39%       240.726  \n",
       "3                              -        7.96%       228.290  \n",
       "4                      1,631,977        7.91%       226.806  \n",
       "..                           ...          ...           ...  \n",
       "63                             -        0.15%             -  \n",
       "64                             -        0.13%             -  \n",
       "65                        24,424        0.13%        17,797  \n",
       "66                             -            -             -  \n",
       "67                    17,994,301                 12,681,246  \n",
       "\n",
       "[68 rows x 6 columns]"
      ]
     },
     "execution_count": 208,
     "metadata": {},
     "output_type": "execute_result"
    }
   ],
   "source": [
    "df=pd.DataFrame({\"Rank\":Rank,\"State\":States,\"GSDP(18-19)-at current prices\":GSDP1,\"GSDP(19-20)-at current prices\":GSDP2,\"Share(18-19)\":share,\"GDP($billion)\":GDP_billion})\n",
    "df"
   ]
  },
  {
   "cell_type": "code",
   "execution_count": 209,
   "id": "0ddcc9b1",
   "metadata": {},
   "outputs": [],
   "source": [
    "driver.close()"
   ]
  },
  {
   "cell_type": "markdown",
   "id": "fd4b7115",
   "metadata": {},
   "source": [
    "# Scrape the details of trending repositories on Github.com"
   ]
  },
  {
   "cell_type": "code",
   "execution_count": 3,
   "id": "7d6686d4",
   "metadata": {},
   "outputs": [],
   "source": [
    "driver=webdriver.Chrome(r\"chromedriver.exe\")"
   ]
  },
  {
   "cell_type": "code",
   "execution_count": 4,
   "id": "12a447d0",
   "metadata": {},
   "outputs": [],
   "source": [
    "driver.get(\"https://www.github.com/\")"
   ]
  },
  {
   "cell_type": "code",
   "execution_count": 5,
   "id": "49938988",
   "metadata": {},
   "outputs": [],
   "source": [
    "driver.maximize_window()"
   ]
  },
  {
   "cell_type": "code",
   "execution_count": 8,
   "id": "516170bc",
   "metadata": {},
   "outputs": [],
   "source": [
    "Explore=driver.find_element(By.XPATH,\"/html/body/div[1]/div[1]/header/div[3]/nav/a[5]\")\n",
    "Explore.click()"
   ]
  },
  {
   "cell_type": "code",
   "execution_count": 9,
   "id": "3143b117",
   "metadata": {},
   "outputs": [],
   "source": [
    "Trending=driver.find_element(By.XPATH,\"/html/body/div[1]/div[6]/main/div[1]/nav/div/a[3]\")\n",
    "Trending.click()"
   ]
  },
  {
   "cell_type": "code",
   "execution_count": 13,
   "id": "ad23145b",
   "metadata": {},
   "outputs": [
    {
     "name": "stdout",
     "output_type": "stream",
     "text": [
      "['davinci1010 ', 'TheLastBen ', 'sindresorhus ', 'anc95 ', 'Postcatlab ', 'oobabooga ', 'RadekVyM ', 'shawwn ', 'yetone ', 'nodejs ', 'mli ', 'dpayne ', 'openxla ', 'iptv-org ', 'qwopqwop200 ', 'pydantic ', 'OWASP ', 'yuezk ', 'jasontaylordev ', 'keijiro ', 'webpack ', 'eugeneyan ', 'chibat ', 'guillaumekln ', 'yuvalsuede ']\n"
     ]
    }
   ],
   "source": [
    "titles=[]\n",
    "try:\n",
    "    tags=driver.find_elements(By.XPATH,\"//a//span[@class='text-normal']\")\n",
    "    for i in tags:\n",
    "        titles.append(i.text.replace(\"\\n\",\" \").strip(\"/\"))\n",
    "except Exception:\n",
    "    titles.append(\"-\")\n",
    "print(titles)"
   ]
  },
  {
   "cell_type": "code",
   "execution_count": 16,
   "id": "28357d39",
   "metadata": {},
   "outputs": [
    {
     "name": "stdout",
     "output_type": "stream",
     "text": [
      "['拼多多apk内嵌提权代码，及动态下发dex分析', 'fast-stable-diffusion + DreamBooth', '😎 Awesome lists about all kinds of interesting topics', '❤️\\u200d🔥 A GPT powered chrome extension improving your writing and reading. ｜ 基于 GPT 的浏览器插件，用于协助编辑和阅读', 'Postcat 是一个可扩展的 API 工具平台。集合基础的 API 管理和测试功能，并且可以通过插件简化你的 API 开发工作，让你可以更快更好地创建 API。An extensible API tool.', 'A gradio web UI for running Large Language Models like GPT-J 6B, OPT, GALACTICA, LLaMA, and Pygmalion.', '.NET MAUI clone of the Wonderous app - a visual showcase of eight wonders of the world.', \"High-speed download of LLaMA, Facebook's 65B parameter GPT model\", '基于 ChatGPT API 的划词翻译浏览器插件和跨平台桌面端应用 - Browser extension and cross-platform desktop application for translation based on ChatGPT API.', 'The Node.js website.', '深度学习经典、新论文逐段精读', 'A machine learning compiler for GPUs, CPUs, and ML accelerators', 'Collection of publicly available IPTV channels from all over the world', '4 bits quantization of LLaMa using GPTQ', 'Data validation using Python type hints', 'OWASP API Security Project', 'A mirror of ChatGPT based on the gpt-3.5-turbo model.', 'Clean Architecture Solution Template for .NET 7', 'ChatGPT-powered shader generator for Unity', 'A bundler for javascript and friends. Packs many modules into a few bundled assets. Code Splitting allows for loading parts of the application on demand. Through \"loaders\", modules can be CommonJs, AMD, ES6 modules, CSS, Images, JSON, Coffeescript, LESS, ... and your custom stuff.', '📚 Papers & tech blogs by companies sharing their work on data science & machine learning in production.', 'Chrome Extension TypeScript Starter', 'Faster Whisper transcription with CTranslate2', 'N', 'A']\n"
     ]
    }
   ],
   "source": [
    "Description=[]\n",
    "try:\n",
    "    tags=driver.find_elements(By.XPATH,\"//p[@class='col-9 color-fg-muted my-1 pr-4']\")\n",
    "    for i in tags:\n",
    "        Description.append(i.text.replace(\"\\n\",\" \").strip(\" \"))\n",
    "    else:\n",
    "        Description.extend(\"NA\")      #To insert values in the missing fields\n",
    "except Exception:\n",
    "    Description.append(\"--\")\n",
    "print(Description)"
   ]
  },
  {
   "cell_type": "code",
   "execution_count": 25,
   "id": "83720b4d",
   "metadata": {},
   "outputs": [
    {
     "name": "stdout",
     "output_type": "stream",
     "text": [
      "['Python', 'TypeScript', 'JavaScript', 'Python', 'C#', 'Shell', 'TypeScript', 'JavaScript', 'Lua', 'C++', 'JavaScript', 'Python', 'Python', 'HTML', 'C#', 'C#', 'JavaScript', 'TypeScript', 'Python', 'TypeScript', '-', '-', '-', '-', '-']\n"
     ]
    }
   ],
   "source": [
    "language=[]\n",
    "try:\n",
    "    tag=driver.find_elements(By.XPATH,\"//span[@class='d-inline-block ml-0 mr-3']\")\n",
    "    for i in tag:\n",
    "        language.append(i.text.replace(\"\\n\",\" \").strip(\" \"))\n",
    "    else:\n",
    "        language.extend(\"-----\")                  #To fill the missing values\n",
    "except NoSuchElementException:\n",
    "    language.append(\"-\")\n",
    "print(language)"
   ]
  },
  {
   "cell_type": "code",
   "execution_count": 27,
   "id": "b09b07f1",
   "metadata": {},
   "outputs": [
    {
     "name": "stdout",
     "output_type": "stream",
     "text": [
      "['1,318', '710', '25,121', '36', '249', '146', '26', '247', '312', '5,860', '1,465', '9', '43', '25', '23', '1,181', '297', '96', '2,542', '97', '8,674', '3,296', '283', '24', '47']\n"
     ]
    }
   ],
   "source": [
    "contributors=[]\n",
    "try:\n",
    "    tags=driver.find_elements(By.XPATH,\"//a[2][@class='Link--muted d-inline-block mr-3']\")\n",
    "    for i in tags:\n",
    "        contributors.append(i.text.replace(\"\\n\",\" \").strip(\" \"))\n",
    "except NoSuchElementException:\n",
    "    contibutors.append(\"--\")\n",
    "print(contributors)"
   ]
  },
  {
   "cell_type": "code",
   "execution_count": 28,
   "id": "c7efb2bf",
   "metadata": {},
   "outputs": [
    {
     "name": "stdout",
     "output_type": "stream",
     "text": [
      "25 25 25 25\n"
     ]
    }
   ],
   "source": [
    "print(len(titles),len(Description),len(language),len(contributors))"
   ]
  },
  {
   "cell_type": "code",
   "execution_count": 30,
   "id": "d683ecbc",
   "metadata": {},
   "outputs": [
    {
     "data": {
      "text/html": [
       "<div>\n",
       "<style scoped>\n",
       "    .dataframe tbody tr th:only-of-type {\n",
       "        vertical-align: middle;\n",
       "    }\n",
       "\n",
       "    .dataframe tbody tr th {\n",
       "        vertical-align: top;\n",
       "    }\n",
       "\n",
       "    .dataframe thead th {\n",
       "        text-align: right;\n",
       "    }\n",
       "</style>\n",
       "<table border=\"1\" class=\"dataframe\">\n",
       "  <thead>\n",
       "    <tr style=\"text-align: right;\">\n",
       "      <th></th>\n",
       "      <th>Title</th>\n",
       "      <th>Description</th>\n",
       "      <th>Contributors_Count</th>\n",
       "      <th>Language</th>\n",
       "    </tr>\n",
       "  </thead>\n",
       "  <tbody>\n",
       "    <tr>\n",
       "      <th>0</th>\n",
       "      <td>davinci1010</td>\n",
       "      <td>拼多多apk内嵌提权代码，及动态下发dex分析</td>\n",
       "      <td>1,318</td>\n",
       "      <td>Python</td>\n",
       "    </tr>\n",
       "    <tr>\n",
       "      <th>1</th>\n",
       "      <td>TheLastBen</td>\n",
       "      <td>fast-stable-diffusion + DreamBooth</td>\n",
       "      <td>710</td>\n",
       "      <td>TypeScript</td>\n",
       "    </tr>\n",
       "    <tr>\n",
       "      <th>2</th>\n",
       "      <td>sindresorhus</td>\n",
       "      <td>😎 Awesome lists about all kinds of interesting...</td>\n",
       "      <td>25,121</td>\n",
       "      <td>JavaScript</td>\n",
       "    </tr>\n",
       "    <tr>\n",
       "      <th>3</th>\n",
       "      <td>anc95</td>\n",
       "      <td>❤️‍🔥 A GPT powered chrome extension improving ...</td>\n",
       "      <td>36</td>\n",
       "      <td>Python</td>\n",
       "    </tr>\n",
       "    <tr>\n",
       "      <th>4</th>\n",
       "      <td>Postcatlab</td>\n",
       "      <td>Postcat 是一个可扩展的 API 工具平台。集合基础的 API 管理和测试功能，并且可...</td>\n",
       "      <td>249</td>\n",
       "      <td>C#</td>\n",
       "    </tr>\n",
       "  </tbody>\n",
       "</table>\n",
       "</div>"
      ],
      "text/plain": [
       "           Title                                        Description  \\\n",
       "0   davinci1010                             拼多多apk内嵌提权代码，及动态下发dex分析   \n",
       "1    TheLastBen                  fast-stable-diffusion + DreamBooth   \n",
       "2  sindresorhus   😎 Awesome lists about all kinds of interesting...   \n",
       "3         anc95   ❤️‍🔥 A GPT powered chrome extension improving ...   \n",
       "4    Postcatlab   Postcat 是一个可扩展的 API 工具平台。集合基础的 API 管理和测试功能，并且可...   \n",
       "\n",
       "  Contributors_Count    Language  \n",
       "0              1,318      Python  \n",
       "1                710  TypeScript  \n",
       "2             25,121  JavaScript  \n",
       "3                 36      Python  \n",
       "4                249          C#  "
      ]
     },
     "execution_count": 30,
     "metadata": {},
     "output_type": "execute_result"
    }
   ],
   "source": [
    "df=pd.DataFrame({\"Title\":titles,\"Description\":Description,\"Contributors_Count\":contributors,\"Language\":language})\n",
    "df.head()"
   ]
  },
  {
   "cell_type": "code",
   "execution_count": 31,
   "id": "da76f73f",
   "metadata": {},
   "outputs": [],
   "source": [
    "driver.close()"
   ]
  },
  {
   "cell_type": "markdown",
   "id": "7128217e",
   "metadata": {},
   "source": [
    "# Scrape the details of top 100 songs on billiboard.com"
   ]
  },
  {
   "cell_type": "code",
   "execution_count": 24,
   "id": "22ab0eda",
   "metadata": {},
   "outputs": [],
   "source": [
    "driver=webdriver.Chrome(r\"chromedriver.exe\")"
   ]
  },
  {
   "cell_type": "code",
   "execution_count": 25,
   "id": "94d9e0c2",
   "metadata": {},
   "outputs": [],
   "source": [
    "driver.get(\"https://www.billboard.com/\")"
   ]
  },
  {
   "cell_type": "code",
   "execution_count": 26,
   "id": "81b74fa0",
   "metadata": {},
   "outputs": [],
   "source": [
    "driver.maximize_window()"
   ]
  },
  {
   "cell_type": "code",
   "execution_count": 28,
   "id": "404cf965",
   "metadata": {},
   "outputs": [],
   "source": [
    "dropdown=driver.find_element(By.XPATH,\"/html/body/div[3]/header/div/div[4]/div/div[1]/div[1]/button\")\n",
    "dropdown.click()"
   ]
  },
  {
   "cell_type": "code",
   "execution_count": 29,
   "id": "4ee7823a",
   "metadata": {},
   "outputs": [],
   "source": [
    "charts=driver.find_element(By.XPATH,\"/html/body/div[3]/div[9]/div/div/div/ul/li[1]/h3/a\")\n",
    "charts.click()"
   ]
  },
  {
   "cell_type": "code",
   "execution_count": 30,
   "id": "0af918b6",
   "metadata": {},
   "outputs": [],
   "source": [
    "hot100=driver.find_element(By.XPATH,\"/html/body/div[3]/main/div[2]/div[1]/div[1]/div/div/div[1]/div[1]/div[2]/span/a\")\n",
    "hot100.click()"
   ]
  },
  {
   "cell_type": "code",
   "execution_count": 31,
   "id": "9c548a04",
   "metadata": {},
   "outputs": [
    {
     "name": "stdout",
     "output_type": "stream",
     "text": [
      "['1', '2', '3', '4', '5', '6', '7', '8', '9', '10', '11', '12', '13', '14', '15', '16', '17', '18', '19', '20', '21', '22', '23', '24', '25', '26', '27', '28', '29', '30', '31', '32', '33', '34', '35', '36', '37', '38', '39', '40', '41', '42', '43', '44', '45', '46', '47', '48', '49', '50', '51', '52', '53', '54', '55', '56', '57', '58', '59', '60', '61', '62', '63', '64', '65', '66', '67', '68', '69', '70', '71', '72', '73', '74', '75', '76', '77', '78', '79', '80', '81', '82', '83', '84', '85', '86', '87', '88', '89', '90', '91', '92', '93', '94', '95', '96', '97', '98', '99', '100']\n"
     ]
    }
   ],
   "source": [
    "rank=[]\n",
    "try:\n",
    "    tags=driver.find_elements(By.XPATH,\"//span[@class='c-label  a-font-primary-bold-l u-font-size-32@tablet u-letter-spacing-0080@tablet']\")\n",
    "    for i in tags:\n",
    "        rank.append(i.text.replace(\"\\n\",\" \").strip(\" \"))\n",
    "except NoSuchElementException:\n",
    "    rank.append(\"--\")\n",
    "print(rank)        "
   ]
  },
  {
   "cell_type": "code",
   "execution_count": 34,
   "id": "a30efbdf",
   "metadata": {},
   "outputs": [
    {
     "name": "stdout",
     "output_type": "stream",
     "text": [
      "['Die For You', 'Flowers', 'Kill Bill', \"Boy's A Liar, Pt. 2\", 'Last Night', \"Creepin'\", 'TQG', 'Unholy', 'Anti-Hero', 'Cuff It', \"I'm Good (Blue)\", 'Just Wanna Rock', 'Thought You Should Know', 'As It Was', 'Calm Down', 'Players', 'Rock And A Hard Place', 'Under The Influence', 'Thank God', 'Rich Flex', 'You Proof', 'Escapism', 'Lavender Haze', 'Going, Going, Gone', 'Painting Pictures', 'Something In The Orange', 'Until I Found You', 'Sure Thing', 'Heart Like A Truck', 'Superhero (Heroes & Villains)', 'Golden Hour', 'Snooze', 'Shirt', 'Made You Look', 'Bad Habit', 'The Kind Of Love We Make', 'I Like You (A Happier Song)', 'Wait For U', 'Love You Anyway', 'Wait In The Truck', 'Bebe Dame', 'Bzrp Music Sessions, Vol. 53', 'Nobody Gets Me', 'Favorite Song', 'She Had Me At Heads Carolina', 'Bloody Mary', 'Spin Bout U', 'X Si Volvemos', 'Unstoppable', 'About Damn Time', 'One Thing At A Time', 'Dawns', 'Special', \"What He Didn't Do\", 'Handle On You', 'Watch This (ARIZONATEARS Pluggnb Remix)', 'Que Vuelvas', 'Wild As Her', 'Love Again', 'Ceilings', 'Freestyle', 'Heaven', 'Low', 'I Wrote The Book', 'Lift Me Up', 'Kant Nobody', 'Next Thing You Know', 'Mientras Me Curo del Cora', 'In Ha Mood', 'Tennessee Orange', 'Gucci Los Panos', 'Private Landing', 'Tus Gafitas', 'Gatubela', 'Nonsense', 'Forever', 'No More Talk', \"You Didn't\", 'Split', 'AMG', '10:35', 'Cairo', 'Shmunk', 'Hope', \"That's What Tequila Does\", 'Pero Tu', 'Trance', 'Dirt', 'Joe', 'Gold', 'PRC', 'Human', 'Everything I Love', 'Here With Me', 'Ojos Ferrari', 'Besties', 'Yandel 150', 'Manana Sera Bonito', 'The Color Violet', 'Die 4 Me']\n"
     ]
    }
   ],
   "source": [
    "Song=[]\n",
    "try:\n",
    "    tags=driver.find_elements(By.XPATH,\"//li[@class='lrv-u-width-100p']//h3\")\n",
    "    for i in tags:\n",
    "        Song.append(i.text.replace(\"\\n\",\" \").strip(\" \"))\n",
    "except Exception:\n",
    "    Song.append(\"--\")\n",
    "print(Song)"
   ]
  },
  {
   "cell_type": "code",
   "execution_count": 44,
   "id": "6ac60438",
   "metadata": {},
   "outputs": [
    {
     "name": "stdout",
     "output_type": "stream",
     "text": [
      "['The Weeknd & Ariana Grande', 'Miley Cyrus', 'SZA', 'PinkPantheress & Ice Spice', 'Morgan Wallen', 'Metro Boomin, The Weeknd & 21 Savage', 'Karol G x Shakira', 'Sam Smith & Kim Petras', 'Taylor Swift', 'Beyonce', 'David Guetta & Bebe Rexha', 'Lil Uzi Vert', 'Morgan Wallen', 'Harry Styles', 'Rema & Selena Gomez', 'Coi Leray', 'Bailey Zimmerman', 'Chris Brown', 'Kane Brown With Katelyn Brown', 'Drake & 21 Savage', 'Morgan Wallen', 'RAYE Featuring 070 Shake', 'Taylor Swift', 'Luke Combs', 'Superstar Pride', 'Zach Bryan', 'Stephen Sanchez', 'Miguel', 'Lainey Wilson', 'Metro Boomin, Future & Chris Brown', 'JVKE', 'SZA', 'SZA', 'Meghan Trainor', 'Steve Lacy', 'Luke Combs', 'Post Malone Featuring Doja Cat', 'Future Featuring Drake & Tems', 'Luke Combs', 'HARDY Featuring Lainey Wilson', 'Fuerza Regida X Grupo Frontera', 'Bizarrap & Shakira', 'SZA', 'Toosii', 'Cole Swindell', 'Lady Gaga', 'Drake & 21 Savage', 'Karol G x Romeo Santos', 'Sia', 'Lizzo', 'Morgan Wallen', 'Zach Bryan Featuring Maggie Rogers', 'Lizzo Featuring SZA', 'Carly Pearce', 'Parker McCollum', 'Lil Uzi Vert', 'Carin Leon X Grupo Frontera', 'Corey Kent', 'The Kid LAROI', 'Lizzy McAlpine', 'Lil Baby', 'Niall Horan', 'SZA', 'Morgan Wallen', 'Rihanna', 'Lil Wayne Featuring DMX', 'Jordan Davis', 'Karol G', 'Ice Spice', 'Megan Moroney', 'Karol G', 'Don Toliver Featuring Justin Bieber & Future', 'Karol G', 'Karol G x Maldy', 'Sabrina Carpenter', 'Lil Baby Featuring Fridayy', 'Yeat', 'Brett Young', 'Yeat', 'Gabito Ballesteros, Peso Pluma & Natanael Cano', 'Tiesto Featuring Tate McRae', 'Karol G & Ovy On The Drums', 'Yeat Featuring YoungBoy Never Broke Again', 'NF', 'Jason Aldean', 'Karol G & Quevedo', 'Metro Boomin, Travis Scott & Young Thug', 'Key Glock', 'Luke Combs', 'Dierks Bentley', 'Peso Pluma X Natanael Cano', 'Cody Johnson', 'Morgan Wallen', 'd4vd', 'Karol G, Justin Quiles & Angel Dior', 'Karol G', 'Yandel & Feid', 'Karol G & Carla Morrison', 'Tory Lanez', 'Halsey']\n"
     ]
    }
   ],
   "source": [
    "Artist=[]\n",
    "try:\n",
    "    tags=driver.find_elements(By.XPATH,\"//li[@class='lrv-u-width-100p']//ul//li[1]//span\")\n",
    "    for i in tags:\n",
    "        Artist.append(i.text.replace(\"\\n\",\" \").strip(\" \"))\n",
    "except Exception:\n",
    "    Artist.append(\"--\")\n",
    "print(Artist)        "
   ]
  },
  {
   "cell_type": "code",
   "execution_count": 58,
   "id": "7f886526",
   "metadata": {},
   "outputs": [
    {
     "name": "stdout",
     "output_type": "stream",
     "text": [
      "['6', '1', '2', '3', '5', '4', '-', '7', '8', '9', '10', '11', '15', '12', '19', '17', '16', '18', '13', '14', '20', '23', '22', '24', '34', '26', '31', '28', '29', '25', '27', '33', '32', '21', '30', '36', '37', '35', '38', '41', '39', '40', '48', '51', '42', '47', '57', '91', '50', '45', '60', '43', '55', '53', '58', '62', '56', '59', '54', '75', '64', '63', '65', '61', '52', '-', '67', '-', '68', '66', '-', '-', '-', '-', '72', '81', '-', '71', '-', '70', '73', '-', '-', '49', '77', '-', '76', '-', '-', '99', '79', '85', '80', '78', '-', '-', '90', '-', '84', '-']\n"
     ]
    }
   ],
   "source": [
    "Last_week=[]\n",
    "try:\n",
    "    tags=driver.find_elements(By.XPATH,\"//li[@class='lrv-u-width-100p']/ul/li[4]/span\")\n",
    "    for i in tags:\n",
    "        Last_week.append(i.text.replace(\"\\n\",\" \").strip(\" \"))\n",
    "except Exception:\n",
    "    Last_week.append(\"--\")\n",
    "print(Last_week)"
   ]
  },
  {
   "cell_type": "code",
   "execution_count": 60,
   "id": "0d54772c",
   "metadata": {},
   "outputs": [
    {
     "name": "stdout",
     "output_type": "stream",
     "text": [
      "['1', '1', '2', '3', '3', '3', '7', '1', '1', '6', '4', '10', '12', '1', '15', '16', '16', '12', '13', '2', '5', '22', '2', '23', '25', '10', '23', '28', '29', '8', '10', '29', '11', '11', '1', '8', '3', '1', '15', '23', '25', '9', '10', '44', '16', '46', '5', '48', '28', '1', '37', '42', '52', '53', '55', '56', '50', '58', '40', '60', '59', '62', '17', '38', '2', '66', '67', '68', '68', '53', '71', '72', '73', '37', '56', '8', '77', '63', '79', '66', '69', '82', '83', '49', '77', '86', '42', '88', '89', '90', '73', '84', '51', '60', '95', '96', '90', '98', '63', '100']\n"
     ]
    }
   ],
   "source": [
    "peak_rank=[]\n",
    "try:\n",
    "    tags=driver.find_elements(By.XPATH,\"//li[@class='lrv-u-width-100p']/ul/li[5]/span\")\n",
    "    for i in tags:\n",
    "        peak_rank.append(i.text.replace(\"\\n\",\" \").strip(\" \"))\n",
    "except Exception:\n",
    "    peak_rank.append(\"--\")\n",
    "print(peak_rank)"
   ]
  },
  {
   "cell_type": "code",
   "execution_count": 61,
   "id": "1b15b6cc",
   "metadata": {},
   "outputs": [
    {
     "name": "stdout",
     "output_type": "stream",
     "text": [
      "['31', '7', '12', '4', '5', '13', '1', '23', '19', '29', '27', '20', '29', '48', '26', '9', '38', '25', '25', '17', '42', '13', '19', '16', '3', '45', '35', '31', '16', '13', '27', '12', '18', '19', '35', '32', '36', '41', '3', '26', '10', '7', '12', '2', '36', '9', '17', '4', '29', '42', '13', '5', '3', '11', '9', '2', '10', '21', '5', '2', '22', '2', '12', '5', '18', '1', '6', '1', '4', '12', '1', '1', '1', '11', '7', '8', '1', '8', '1', '6', '6', '1', '1', '2', '8', '1', '4', '1', '1', '2', '4', '7', '5', '9', '1', '1', '4', '1', '9', '1']\n"
     ]
    }
   ],
   "source": [
    "weeks_onboard=[]\n",
    "try:\n",
    "    tags=driver.find_elements(By.XPATH,\"//li[@class='lrv-u-width-100p']/ul/li[6]/span\")\n",
    "    for i in tags:\n",
    "        weeks_onboard.append(i.text.replace(\"\\n\",\" \").strip(\" \"))\n",
    "except Exception:\n",
    "    weeks_onboard.append(\"--\")\n",
    "print(weeks_onboard)"
   ]
  },
  {
   "cell_type": "code",
   "execution_count": 65,
   "id": "fa2a161d",
   "metadata": {},
   "outputs": [
    {
     "data": {
      "text/html": [
       "<div>\n",
       "<style scoped>\n",
       "    .dataframe tbody tr th:only-of-type {\n",
       "        vertical-align: middle;\n",
       "    }\n",
       "\n",
       "    .dataframe tbody tr th {\n",
       "        vertical-align: top;\n",
       "    }\n",
       "\n",
       "    .dataframe thead th {\n",
       "        text-align: right;\n",
       "    }\n",
       "</style>\n",
       "<table border=\"1\" class=\"dataframe\">\n",
       "  <thead>\n",
       "    <tr style=\"text-align: right;\">\n",
       "      <th></th>\n",
       "      <th>Rank</th>\n",
       "      <th>Song</th>\n",
       "      <th>Artist</th>\n",
       "      <th>Last_week_rank</th>\n",
       "      <th>Peak_rank</th>\n",
       "      <th>Weeks On Board</th>\n",
       "    </tr>\n",
       "  </thead>\n",
       "  <tbody>\n",
       "    <tr>\n",
       "      <th>0</th>\n",
       "      <td>1</td>\n",
       "      <td>Die For You</td>\n",
       "      <td>The Weeknd &amp; Ariana Grande</td>\n",
       "      <td>6</td>\n",
       "      <td>1</td>\n",
       "      <td>31</td>\n",
       "    </tr>\n",
       "    <tr>\n",
       "      <th>1</th>\n",
       "      <td>2</td>\n",
       "      <td>Flowers</td>\n",
       "      <td>Miley Cyrus</td>\n",
       "      <td>1</td>\n",
       "      <td>1</td>\n",
       "      <td>7</td>\n",
       "    </tr>\n",
       "    <tr>\n",
       "      <th>2</th>\n",
       "      <td>3</td>\n",
       "      <td>Kill Bill</td>\n",
       "      <td>SZA</td>\n",
       "      <td>2</td>\n",
       "      <td>2</td>\n",
       "      <td>12</td>\n",
       "    </tr>\n",
       "    <tr>\n",
       "      <th>3</th>\n",
       "      <td>4</td>\n",
       "      <td>Boy's A Liar, Pt. 2</td>\n",
       "      <td>PinkPantheress &amp; Ice Spice</td>\n",
       "      <td>3</td>\n",
       "      <td>3</td>\n",
       "      <td>4</td>\n",
       "    </tr>\n",
       "    <tr>\n",
       "      <th>4</th>\n",
       "      <td>5</td>\n",
       "      <td>Last Night</td>\n",
       "      <td>Morgan Wallen</td>\n",
       "      <td>5</td>\n",
       "      <td>3</td>\n",
       "      <td>5</td>\n",
       "    </tr>\n",
       "    <tr>\n",
       "      <th>...</th>\n",
       "      <td>...</td>\n",
       "      <td>...</td>\n",
       "      <td>...</td>\n",
       "      <td>...</td>\n",
       "      <td>...</td>\n",
       "      <td>...</td>\n",
       "    </tr>\n",
       "    <tr>\n",
       "      <th>95</th>\n",
       "      <td>96</td>\n",
       "      <td>Besties</td>\n",
       "      <td>Karol G</td>\n",
       "      <td>-</td>\n",
       "      <td>96</td>\n",
       "      <td>1</td>\n",
       "    </tr>\n",
       "    <tr>\n",
       "      <th>96</th>\n",
       "      <td>97</td>\n",
       "      <td>Yandel 150</td>\n",
       "      <td>Yandel &amp; Feid</td>\n",
       "      <td>90</td>\n",
       "      <td>90</td>\n",
       "      <td>4</td>\n",
       "    </tr>\n",
       "    <tr>\n",
       "      <th>97</th>\n",
       "      <td>98</td>\n",
       "      <td>Manana Sera Bonito</td>\n",
       "      <td>Karol G &amp; Carla Morrison</td>\n",
       "      <td>-</td>\n",
       "      <td>98</td>\n",
       "      <td>1</td>\n",
       "    </tr>\n",
       "    <tr>\n",
       "      <th>98</th>\n",
       "      <td>99</td>\n",
       "      <td>The Color Violet</td>\n",
       "      <td>Tory Lanez</td>\n",
       "      <td>84</td>\n",
       "      <td>63</td>\n",
       "      <td>9</td>\n",
       "    </tr>\n",
       "    <tr>\n",
       "      <th>99</th>\n",
       "      <td>100</td>\n",
       "      <td>Die 4 Me</td>\n",
       "      <td>Halsey</td>\n",
       "      <td>-</td>\n",
       "      <td>100</td>\n",
       "      <td>1</td>\n",
       "    </tr>\n",
       "  </tbody>\n",
       "</table>\n",
       "<p>100 rows × 6 columns</p>\n",
       "</div>"
      ],
      "text/plain": [
       "   Rank                 Song                      Artist Last_week_rank  \\\n",
       "0     1          Die For You  The Weeknd & Ariana Grande              6   \n",
       "1     2              Flowers                 Miley Cyrus              1   \n",
       "2     3            Kill Bill                         SZA              2   \n",
       "3     4  Boy's A Liar, Pt. 2  PinkPantheress & Ice Spice              3   \n",
       "4     5           Last Night               Morgan Wallen              5   \n",
       "..  ...                  ...                         ...            ...   \n",
       "95   96              Besties                     Karol G              -   \n",
       "96   97           Yandel 150               Yandel & Feid             90   \n",
       "97   98   Manana Sera Bonito    Karol G & Carla Morrison              -   \n",
       "98   99     The Color Violet                  Tory Lanez             84   \n",
       "99  100             Die 4 Me                      Halsey              -   \n",
       "\n",
       "   Peak_rank Weeks On Board  \n",
       "0          1             31  \n",
       "1          1              7  \n",
       "2          2             12  \n",
       "3          3              4  \n",
       "4          3              5  \n",
       "..       ...            ...  \n",
       "95        96              1  \n",
       "96        90              4  \n",
       "97        98              1  \n",
       "98        63              9  \n",
       "99       100              1  \n",
       "\n",
       "[100 rows x 6 columns]"
      ]
     },
     "execution_count": 65,
     "metadata": {},
     "output_type": "execute_result"
    }
   ],
   "source": [
    "df=pd.DataFrame({\"Rank\":rank,\"Song\":Song,\"Artist\":Artist,\"Last_week_rank\":Last_week,\"Peak_rank\":peak_rank,\"Weeks On Board\":weeks_onboard})\n",
    "df"
   ]
  },
  {
   "cell_type": "code",
   "execution_count": 66,
   "id": "81c620f1",
   "metadata": {},
   "outputs": [],
   "source": [
    "driver.close()"
   ]
  },
  {
   "cell_type": "markdown",
   "id": "215fa224",
   "metadata": {},
   "source": [
    "# Scrape the details of Highest selling novels"
   ]
  },
  {
   "cell_type": "code",
   "execution_count": 152,
   "id": "90bfb1cc",
   "metadata": {},
   "outputs": [],
   "source": [
    "driver=webdriver.Chrome(r\"chromedriver.exe\")"
   ]
  },
  {
   "cell_type": "code",
   "execution_count": 153,
   "id": "97744b43",
   "metadata": {},
   "outputs": [],
   "source": [
    "driver.get(\"https://www.theguardian.com/news/datablog/2012/aug/09/best-selling-books-all-time-fifty-shades-grey-compare\")"
   ]
  },
  {
   "cell_type": "code",
   "execution_count": 154,
   "id": "85efe1ce",
   "metadata": {},
   "outputs": [],
   "source": [
    "driver.maximize_window()"
   ]
  },
  {
   "cell_type": "code",
   "execution_count": 156,
   "id": "d57afadc",
   "metadata": {},
   "outputs": [
    {
     "name": "stdout",
     "output_type": "stream",
     "text": [
      "['Da Vinci Code,The', 'Harry Potter and the Deathly Hallows', \"Harry Potter and the Philosopher's Stone\", 'Harry Potter and the Order of the Phoenix', 'Fifty Shades of Grey', 'Harry Potter and the Goblet of Fire', 'Harry Potter and the Chamber of Secrets', 'Harry Potter and the Prisoner of Azkaban', 'Angels and Demons', \"Harry Potter and the Half-blood Prince:Children's Edition\", 'Fifty Shades Darker', 'Twilight', 'Girl with the Dragon Tattoo,The:Millennium Trilogy', 'Fifty Shades Freed', 'Lost Symbol,The', 'New Moon', 'Deception Point', 'Eclipse', 'Lovely Bones,The', 'Curious Incident of the Dog in the Night-time,The', 'Digital Fortress', 'Short History of Nearly Everything,A', 'Girl Who Played with Fire,The:Millennium Trilogy', 'Breaking Dawn', 'Very Hungry Caterpillar,The:The Very Hungry Caterpillar', 'Gruffalo,The', \"Jamie's 30-Minute Meals\", 'Kite Runner,The', 'One Day', 'Thousand Splendid Suns,A', \"Girl Who Kicked the Hornets' Nest,The:Millennium Trilogy\", \"Time Traveler's Wife,The\", 'Atonement', \"Bridget Jones's Diary:A Novel\", 'World According to Clarkson,The', \"Captain Corelli's Mandolin\", 'Sound of Laughter,The', 'Life of Pi', 'Billy Connolly', 'Child Called It,A', \"Gruffalo's Child,The\", \"Angela's Ashes:A Memoir of a Childhood\", 'Birdsong', 'Northern Lights:His Dark Materials S.', 'Labyrinth', 'Harry Potter and the Half-blood Prince', 'Help,The', 'Man and Boy', 'Memoirs of a Geisha', \"No.1 Ladies' Detective Agency,The:No.1 Ladies' Detective Agency S.\", 'Island,The', 'PS, I Love You', 'You are What You Eat:The Plan That Will Change Your Life', 'Shadow of the Wind,The', 'Tales of Beedle the Bard,The', 'Broker,The', \"Dr. Atkins' New Diet Revolution:The No-hunger, Luxurious Weight Loss P\", 'Subtle Knife,The:His Dark Materials S.', 'Eats, Shoots and Leaves:The Zero Tolerance Approach to Punctuation', \"Delia's How to Cook:(Bk.1)\", 'Chocolat', 'Boy in the Striped Pyjamas,The', \"My Sister's Keeper\", 'Amber Spyglass,The:His Dark Materials S.', 'To Kill a Mockingbird', 'Men are from Mars, Women are from Venus:A Practical Guide for Improvin', 'Dear Fatty', 'Short History of Tractors in Ukrainian,A', 'Hannibal', 'Lord of the Rings,The', 'Stupid White Men:...and Other Sorry Excuses for the State of the Natio', 'Interpretation of Murder,The', 'Sharon Osbourne Extreme:My Autobiography', 'Alchemist,The:A Fable About Following Your Dream', \"At My Mother's Knee ...:and Other Low Joints\", 'Notes from a Small Island', 'Return of the Naked Chef,The', 'Bridget Jones: The Edge of Reason', \"Jamie's Italy\", 'I Can Make You Thin', 'Down Under', 'Summons,The', 'Small Island', 'Nigella Express', 'Brick Lane', \"Memory Keeper's Daughter,The\", 'Room on the Broom', 'About a Boy', 'My Booky Wook', 'God Delusion,The', '\"Beano\" Annual,The', 'White Teeth', 'House at Riverton,The', 'Book Thief,The', 'Nights of Rain and Stars', 'Ghost,The', 'Happy Days with the Naked Chef', 'Hunger Games,The:Hunger Games Trilogy', \"Lost Boy,The:A Foster Child's Search for the Love of a Family\", \"Jamie's Ministry of Food:Anyone Can Learn to Cook in 24 Hours\"]\n"
     ]
    }
   ],
   "source": [
    "title=[]\n",
    "try:\n",
    "    tags=driver.find_elements(By.XPATH,\"//td[2][@class='left']\")\n",
    "    for i in tags:\n",
    "        title.append(i.text.replace(\"\\n\",\" \").strip(\" \"))\n",
    "except Exception:\n",
    "    title.append(\"--\")\n",
    "print(title)"
   ]
  },
  {
   "cell_type": "code",
   "execution_count": 157,
   "id": "26712760",
   "metadata": {},
   "outputs": [
    {
     "name": "stdout",
     "output_type": "stream",
     "text": [
      "['Brown, Dan', 'Rowling, J.K.', 'Rowling, J.K.', 'Rowling, J.K.', 'James, E. L.', 'Rowling, J.K.', 'Rowling, J.K.', 'Rowling, J.K.', 'Brown, Dan', 'Rowling, J.K.', 'James, E. L.', 'Meyer, Stephenie', 'Larsson, Stieg', 'James, E. L.', 'Brown, Dan', 'Meyer, Stephenie', 'Brown, Dan', 'Meyer, Stephenie', 'Sebold, Alice', 'Haddon, Mark', 'Brown, Dan', 'Bryson, Bill', 'Larsson, Stieg', 'Meyer, Stephenie', 'Carle, Eric', 'Donaldson, Julia', 'Oliver, Jamie', 'Hosseini, Khaled', 'Nicholls, David', 'Hosseini, Khaled', 'Larsson, Stieg', 'Niffenegger, Audrey', 'McEwan, Ian', 'Fielding, Helen', 'Clarkson, Jeremy', 'Bernieres, Louis de', 'Kay, Peter', 'Martel, Yann', 'Stephenson, Pamela', 'Pelzer, Dave', 'Donaldson, Julia', 'McCourt, Frank', 'Faulks, Sebastian', 'Pullman, Philip', 'Mosse, Kate', 'Rowling, J.K.', 'Stockett, Kathryn', 'Parsons, Tony', 'Golden, Arthur', 'McCall Smith, Alexander', 'Hislop, Victoria', 'Ahern, Cecelia', 'McKeith, Gillian', 'Zafon, Carlos Ruiz', 'Rowling, J.K.', 'Grisham, John', 'Atkins, Robert C.', 'Pullman, Philip', 'Truss, Lynne', 'Smith, Delia', 'Harris, Joanne', 'Boyne, John', 'Picoult, Jodi', 'Pullman, Philip', 'Lee, Harper', 'Gray, John', 'French, Dawn', 'Lewycka, Marina', 'Harris, Thomas', 'Tolkien, J. R. R.', 'Moore, Michael', 'Rubenfeld, Jed', 'Osbourne, Sharon', 'Coelho, Paulo', \"O'Grady, Paul\", 'Bryson, Bill', 'Oliver, Jamie', 'Fielding, Helen', 'Oliver, Jamie', 'McKenna, Paul', 'Bryson, Bill', 'Grisham, John', 'Levy, Andrea', 'Lawson, Nigella', 'Ali, Monica', 'Edwards, Kim', 'Donaldson, Julia', 'Hornby, Nick', 'Brand, Russell', 'Dawkins, Richard', '0', 'Smith, Zadie', 'Morton, Kate', 'Zusak, Markus', 'Binchy, Maeve', 'Harris, Robert', 'Oliver, Jamie', 'Collins, Suzanne', 'Pelzer, Dave', 'Oliver, Jamie']\n"
     ]
    }
   ],
   "source": [
    "author=[]\n",
    "try:\n",
    "    tags=driver.find_elements(By.XPATH,\"//td[3][@class='left']\")\n",
    "    for i in tags:\n",
    "        author.append(i.text.replace(\"\\n\",\" \").strip(\" \"))\n",
    "except Exception:\n",
    "    author.append(\"--\")\n",
    "print(author)"
   ]
  },
  {
   "cell_type": "code",
   "execution_count": 158,
   "id": "95c9daa0",
   "metadata": {},
   "outputs": [
    {
     "name": "stdout",
     "output_type": "stream",
     "text": [
      "['5,094,805', '4,475,152', '4,200,654', '4,179,479', '3,758,936', '3,583,215', '3,484,047', '3,377,906', '3,193,946', '2,950,264', '2,479,784', '2,315,405', '2,233,570', '2,193,928', '2,183,031', '2,152,737', '2,062,145', '2,052,876', '2,005,598', '1,979,552', '1,928,900', '1,852,919', '1,814,784', '1,787,118', '1,783,535', '1,781,269', '1,743,266', '1,629,119', '1,616,068', '1,583,992', '1,555,135', '1,546,886', '1,539,428', '1,508,205', '1,489,403', '1,352,318', '1,310,207', '1,310,176', '1,231,957', '1,217,712', '1,208,711', '1,204,058', '1,184,967', '1,181,503', '1,181,093', '1,153,181', '1,132,336', '1,130,802', '1,126,337', '1,115,549', '1,108,328', '1,107,379', '1,104,403', '1,092,349', '1,090,847', '1,087,262', '1,054,196', '1,037,160', '1,023,688', '1,015,956', '1,009,873', '1,004,414', '1,003,780', '1,002,314', '998,213', '992,846', '986,753', '986,115', '970,509', '967,466', '963,353', '962,515', '959,496', '956,114', '945,640', '931,312', '925,425', '924,695', '906,968', '905,086', '890,847', '869,671', '869,659', '862,602', '856,540', '845,858', '842,535', '828,215', '820,563', '816,907', '816,585', '815,586', '814,370', '809,641', '808,900', '807,311', '794,201', '792,187', '791,507', '791,095']\n"
     ]
    }
   ],
   "source": [
    "sold=[]\n",
    "try:\n",
    "    tags=driver.find_elements(By.XPATH,\"//td[4][@class='left']\")\n",
    "    for i in tags:\n",
    "        sold.append(i.text.replace(\"\\n\",\" \").strip(\" \"))\n",
    "except Exception:\n",
    "    sold.append(\"--\")\n",
    "print(sold)"
   ]
  },
  {
   "cell_type": "code",
   "execution_count": 159,
   "id": "a3adff7d",
   "metadata": {},
   "outputs": [
    {
     "name": "stdout",
     "output_type": "stream",
     "text": [
      "['Transworld', 'Bloomsbury', 'Bloomsbury', 'Bloomsbury', 'Random House', 'Bloomsbury', 'Bloomsbury', 'Bloomsbury', 'Transworld', 'Bloomsbury', 'Random House', 'Little, Brown Book', 'Quercus', 'Random House', 'Transworld', 'Little, Brown Book', 'Transworld', 'Little, Brown Book', 'Pan Macmillan', 'Random House', 'Transworld', 'Transworld', 'Quercus', 'Little, Brown Book', 'Penguin', 'Pan Macmillan', 'Penguin', 'Bloomsbury', 'Hodder & Stoughton', 'Bloomsbury', 'Quercus', 'Random House', 'Random House', 'Pan Macmillan', 'Penguin', 'Random House', 'Random House', 'Canongate', 'HarperCollins', 'Orion', 'Pan Macmillan', 'HarperCollins', 'Random House', 'Scholastic Ltd.', 'Orion', 'Bloomsbury', 'Penguin', 'HarperCollins', 'Random House', 'Little, Brown Book', 'Headline', 'HarperCollins', 'Penguin', 'Orion', 'Bloomsbury', 'Random House', 'Random House', 'Scholastic Ltd.', 'Profile Books Group', 'Random House', 'Transworld', 'Random House Childrens Books G', 'Hodder & Stoughton', 'Scholastic Ltd.', 'Random House', 'HarperCollins', 'Random House', 'Penguin', 'Random House', 'HarperCollins', 'Penguin', 'Headline', 'Little, Brown Book', 'HarperCollins', 'Transworld', 'Transworld', 'Penguin', 'Pan Macmillan', 'Penguin', 'Transworld', 'Transworld', 'Random House', 'Headline', 'Random House', 'Transworld', 'Penguin', 'Pan Macmillan', 'Penguin', 'Hodder & Stoughton', 'Transworld', 'D.C. Thomson', 'Penguin', 'Pan Macmillan', 'Transworld', 'Orion', 'Random House', 'Penguin', 'Scholastic Ltd.', 'Orion', 'Penguin']\n"
     ]
    }
   ],
   "source": [
    "publisher=[]\n",
    "try:\n",
    "    tag=driver.find_elements(By.XPATH,\"//td[5][@class='left']\")\n",
    "    for i in tag:\n",
    "        publisher.append(i.text.replace(\"\\n\",\" \").strip(\" \"))\n",
    "except NoSuchElementException:\n",
    "    publisher.append(\"--\")\n",
    "print(publisher)"
   ]
  },
  {
   "cell_type": "code",
   "execution_count": 161,
   "id": "ff58a82b",
   "metadata": {},
   "outputs": [
    {
     "name": "stdout",
     "output_type": "stream",
     "text": [
      "['Crime, Thriller & Adventure', \"Children's Fiction\", \"Children's Fiction\", \"Children's Fiction\", 'Romance & Sagas', \"Children's Fiction\", \"Children's Fiction\", \"Children's Fiction\", 'Crime, Thriller & Adventure', \"Children's Fiction\", 'Romance & Sagas', 'Young Adult Fiction', 'Crime, Thriller & Adventure', 'Romance & Sagas', 'Crime, Thriller & Adventure', 'Young Adult Fiction', 'Crime, Thriller & Adventure', 'Young Adult Fiction', 'General & Literary Fiction', 'General & Literary Fiction', 'Crime, Thriller & Adventure', 'Popular Science', 'Crime, Thriller & Adventure', 'Young Adult Fiction', 'Picture Books', 'Picture Books', 'Food & Drink: General', 'General & Literary Fiction', 'General & Literary Fiction', 'General & Literary Fiction', 'Crime, Thriller & Adventure', 'General & Literary Fiction', 'General & Literary Fiction', 'General & Literary Fiction', 'Humour: Collections & General', 'General & Literary Fiction', 'Autobiography: General', 'General & Literary Fiction', 'Biography: The Arts', 'Autobiography: General', 'Picture Books', 'Autobiography: General', 'General & Literary Fiction', 'Young Adult Fiction', 'General & Literary Fiction', 'Science Fiction & Fantasy', 'General & Literary Fiction', 'General & Literary Fiction', 'General & Literary Fiction', 'Crime, Thriller & Adventure', 'General & Literary Fiction', 'General & Literary Fiction', 'Fitness & Diet', 'General & Literary Fiction', \"Children's Fiction\", 'Crime, Thriller & Adventure', 'Fitness & Diet', 'Young Adult Fiction', 'Usage & Writing Guides', 'Food & Drink: General', 'General & Literary Fiction', 'Young Adult Fiction', 'General & Literary Fiction', 'Young Adult Fiction', 'General & Literary Fiction', 'Popular Culture & Media: General Interest', 'Autobiography: The Arts', 'General & Literary Fiction', 'Crime, Thriller & Adventure', 'Science Fiction & Fantasy', 'Current Affairs & Issues', 'Crime, Thriller & Adventure', 'Autobiography: The Arts', 'General & Literary Fiction', 'Autobiography: The Arts', 'Travel Writing', 'Food & Drink: General', 'General & Literary Fiction', 'National & Regional Cuisine', 'Fitness & Diet', 'Travel Writing', 'Crime, Thriller & Adventure', 'General & Literary Fiction', 'Food & Drink: General', 'General & Literary Fiction', 'General & Literary Fiction', 'Picture Books', 'General & Literary Fiction', 'Autobiography: The Arts', 'Popular Science', \"Children's Annuals\", 'General & Literary Fiction', 'General & Literary Fiction', 'General & Literary Fiction', 'General & Literary Fiction', 'General & Literary Fiction', 'Food & Drink: General', 'Young Adult Fiction', 'Biography: General', 'Food & Drink: General']\n"
     ]
    }
   ],
   "source": [
    "genre=[]\n",
    "try:\n",
    "    tag=driver.find_elements(By.XPATH,\"//td[@class='last left']\")\n",
    "    for i in tag:\n",
    "        genre.append(i.text.replace(\"\\n\",\" \").strip(\" \"))\n",
    "except NoSuchElementException:\n",
    "    genre.append(\"-\")\n",
    "print(genre)"
   ]
  },
  {
   "cell_type": "code",
   "execution_count": 162,
   "id": "46dbe3a6",
   "metadata": {},
   "outputs": [
    {
     "data": {
      "text/html": [
       "<div>\n",
       "<style scoped>\n",
       "    .dataframe tbody tr th:only-of-type {\n",
       "        vertical-align: middle;\n",
       "    }\n",
       "\n",
       "    .dataframe tbody tr th {\n",
       "        vertical-align: top;\n",
       "    }\n",
       "\n",
       "    .dataframe thead th {\n",
       "        text-align: right;\n",
       "    }\n",
       "</style>\n",
       "<table border=\"1\" class=\"dataframe\">\n",
       "  <thead>\n",
       "    <tr style=\"text-align: right;\">\n",
       "      <th></th>\n",
       "      <th>Book_Name</th>\n",
       "      <th>Author</th>\n",
       "      <th>Volumes_sold</th>\n",
       "      <th>Publisher</th>\n",
       "      <th>Genre</th>\n",
       "    </tr>\n",
       "  </thead>\n",
       "  <tbody>\n",
       "    <tr>\n",
       "      <th>0</th>\n",
       "      <td>Da Vinci Code,The</td>\n",
       "      <td>Brown, Dan</td>\n",
       "      <td>5,094,805</td>\n",
       "      <td>Transworld</td>\n",
       "      <td>Crime, Thriller &amp; Adventure</td>\n",
       "    </tr>\n",
       "    <tr>\n",
       "      <th>1</th>\n",
       "      <td>Harry Potter and the Deathly Hallows</td>\n",
       "      <td>Rowling, J.K.</td>\n",
       "      <td>4,475,152</td>\n",
       "      <td>Bloomsbury</td>\n",
       "      <td>Children's Fiction</td>\n",
       "    </tr>\n",
       "    <tr>\n",
       "      <th>2</th>\n",
       "      <td>Harry Potter and the Philosopher's Stone</td>\n",
       "      <td>Rowling, J.K.</td>\n",
       "      <td>4,200,654</td>\n",
       "      <td>Bloomsbury</td>\n",
       "      <td>Children's Fiction</td>\n",
       "    </tr>\n",
       "    <tr>\n",
       "      <th>3</th>\n",
       "      <td>Harry Potter and the Order of the Phoenix</td>\n",
       "      <td>Rowling, J.K.</td>\n",
       "      <td>4,179,479</td>\n",
       "      <td>Bloomsbury</td>\n",
       "      <td>Children's Fiction</td>\n",
       "    </tr>\n",
       "    <tr>\n",
       "      <th>4</th>\n",
       "      <td>Fifty Shades of Grey</td>\n",
       "      <td>James, E. L.</td>\n",
       "      <td>3,758,936</td>\n",
       "      <td>Random House</td>\n",
       "      <td>Romance &amp; Sagas</td>\n",
       "    </tr>\n",
       "    <tr>\n",
       "      <th>...</th>\n",
       "      <td>...</td>\n",
       "      <td>...</td>\n",
       "      <td>...</td>\n",
       "      <td>...</td>\n",
       "      <td>...</td>\n",
       "    </tr>\n",
       "    <tr>\n",
       "      <th>95</th>\n",
       "      <td>Ghost,The</td>\n",
       "      <td>Harris, Robert</td>\n",
       "      <td>807,311</td>\n",
       "      <td>Random House</td>\n",
       "      <td>General &amp; Literary Fiction</td>\n",
       "    </tr>\n",
       "    <tr>\n",
       "      <th>96</th>\n",
       "      <td>Happy Days with the Naked Chef</td>\n",
       "      <td>Oliver, Jamie</td>\n",
       "      <td>794,201</td>\n",
       "      <td>Penguin</td>\n",
       "      <td>Food &amp; Drink: General</td>\n",
       "    </tr>\n",
       "    <tr>\n",
       "      <th>97</th>\n",
       "      <td>Hunger Games,The:Hunger Games Trilogy</td>\n",
       "      <td>Collins, Suzanne</td>\n",
       "      <td>792,187</td>\n",
       "      <td>Scholastic Ltd.</td>\n",
       "      <td>Young Adult Fiction</td>\n",
       "    </tr>\n",
       "    <tr>\n",
       "      <th>98</th>\n",
       "      <td>Lost Boy,The:A Foster Child's Search for the L...</td>\n",
       "      <td>Pelzer, Dave</td>\n",
       "      <td>791,507</td>\n",
       "      <td>Orion</td>\n",
       "      <td>Biography: General</td>\n",
       "    </tr>\n",
       "    <tr>\n",
       "      <th>99</th>\n",
       "      <td>Jamie's Ministry of Food:Anyone Can Learn to C...</td>\n",
       "      <td>Oliver, Jamie</td>\n",
       "      <td>791,095</td>\n",
       "      <td>Penguin</td>\n",
       "      <td>Food &amp; Drink: General</td>\n",
       "    </tr>\n",
       "  </tbody>\n",
       "</table>\n",
       "<p>100 rows × 5 columns</p>\n",
       "</div>"
      ],
      "text/plain": [
       "                                            Book_Name            Author  \\\n",
       "0                                   Da Vinci Code,The        Brown, Dan   \n",
       "1                Harry Potter and the Deathly Hallows     Rowling, J.K.   \n",
       "2            Harry Potter and the Philosopher's Stone     Rowling, J.K.   \n",
       "3           Harry Potter and the Order of the Phoenix     Rowling, J.K.   \n",
       "4                                Fifty Shades of Grey      James, E. L.   \n",
       "..                                                ...               ...   \n",
       "95                                          Ghost,The    Harris, Robert   \n",
       "96                     Happy Days with the Naked Chef     Oliver, Jamie   \n",
       "97              Hunger Games,The:Hunger Games Trilogy  Collins, Suzanne   \n",
       "98  Lost Boy,The:A Foster Child's Search for the L...      Pelzer, Dave   \n",
       "99  Jamie's Ministry of Food:Anyone Can Learn to C...     Oliver, Jamie   \n",
       "\n",
       "   Volumes_sold        Publisher                        Genre  \n",
       "0     5,094,805       Transworld  Crime, Thriller & Adventure  \n",
       "1     4,475,152       Bloomsbury           Children's Fiction  \n",
       "2     4,200,654       Bloomsbury           Children's Fiction  \n",
       "3     4,179,479       Bloomsbury           Children's Fiction  \n",
       "4     3,758,936     Random House              Romance & Sagas  \n",
       "..          ...              ...                          ...  \n",
       "95      807,311     Random House   General & Literary Fiction  \n",
       "96      794,201          Penguin        Food & Drink: General  \n",
       "97      792,187  Scholastic Ltd.          Young Adult Fiction  \n",
       "98      791,507            Orion           Biography: General  \n",
       "99      791,095          Penguin        Food & Drink: General  \n",
       "\n",
       "[100 rows x 5 columns]"
      ]
     },
     "execution_count": 162,
     "metadata": {},
     "output_type": "execute_result"
    }
   ],
   "source": [
    "df=pd.DataFrame({\"Book_Name\":title,\"Author\":author,\"Volumes_sold\":sold,\"Publisher\":publisher,\"Genre\":genre})\n",
    "df"
   ]
  },
  {
   "cell_type": "code",
   "execution_count": 163,
   "id": "505fb366",
   "metadata": {},
   "outputs": [],
   "source": [
    "driver.close()"
   ]
  },
  {
   "cell_type": "markdown",
   "id": "8a789823",
   "metadata": {},
   "source": [
    "# Scrape the details most watched tv series of all time from imdb.com"
   ]
  },
  {
   "cell_type": "code",
   "execution_count": 95,
   "id": "cb34ecd9",
   "metadata": {},
   "outputs": [],
   "source": [
    "driver=webdriver.Chrome(r\"chromedriver.exe\")"
   ]
  },
  {
   "cell_type": "code",
   "execution_count": 96,
   "id": "7250144f",
   "metadata": {},
   "outputs": [],
   "source": [
    "driver.get(\"https://www.imdb.com/list/ls095964455/\")"
   ]
  },
  {
   "cell_type": "code",
   "execution_count": 97,
   "id": "971627f1",
   "metadata": {},
   "outputs": [],
   "source": [
    "driver.maximize_window() "
   ]
  },
  {
   "cell_type": "code",
   "execution_count": 138,
   "id": "8e21687c",
   "metadata": {},
   "outputs": [
    {
     "name": "stdout",
     "output_type": "stream",
     "text": [
      "['Game of Thrones', 'Stranger Things', 'The Walking Dead', '13 Reasons Why', 'The 100', 'Orange Is the New Black', 'Riverdale', \"Grey's Anatomy\", 'The Flash', 'Arrow', 'Money Heist', 'The Big Bang Theory', 'Black Mirror', 'Sherlock', 'Vikings', 'Pretty Little Liars', 'The Vampire Diaries', 'American Horror Story', 'Breaking Bad', 'Lucifer', 'Supernatural', 'Prison Break', 'How to Get Away with Murder', 'Teen Wolf', 'The Simpsons', 'Once Upon a Time', 'Narcos', 'Daredevil', 'Friends', 'How I Met Your Mother', 'Suits', 'Mr. Robot', 'The Originals', 'Supergirl', 'Gossip Girl', 'Sense8', 'Gotham', 'Westworld', 'Jessica Jones', 'Modern Family', 'Rick and Morty', 'Shadowhunters', 'The End of the F***ing World', 'House of Cards', 'Dark', 'Elite', 'Sex Education', 'Shameless', 'New Girl', 'Agents of S.H.I.E.L.D.', 'You', 'Dexter', 'Fear the Walking Dead', 'Family Guy', 'The Blacklist', 'Lost', 'Peaky Blinders', 'House', 'Quantico', 'Orphan Black', 'Homeland', 'Blindspot', \"DC's Legends of Tomorrow\", \"The Handmaid's Tale\", 'Chilling Adventures of Sabrina', 'The Good Doctor', 'Jane the Virgin', 'Glee', 'South Park', 'Brooklyn Nine-Nine', 'Under the Dome', 'The Umbrella Academy', 'True Detective', 'The OA', 'Desperate Housewives', 'Better Call Saul', 'Bates Motel', 'The Punisher', 'Atypical', 'Dynasty', 'This Is Us', 'The Good Place', 'Iron Fist', 'The Rain', 'Mindhunter', 'Revenge', 'Luke Cage', 'Scandal', 'The Defenders', 'Big Little Lies', 'Insatiable', 'The Mentalist', 'The Crown', 'Chernobyl', 'iZombie', 'Reign', 'A Series of Unfortunate Events', 'Criminal Minds', 'Scream: The TV Series', 'The Haunting of Hill House']\n"
     ]
    }
   ],
   "source": [
    "name=[]\n",
    "try:\n",
    "    tags=driver.find_elements(By.XPATH,\"//h3[@class='lister-item-header']/a\")\n",
    "    for i in tags:\n",
    "        name.append(i.text.replace(\"\\n\",\" \").strip(\" \"))\n",
    "except Exception:\n",
    "    name.append(\"--\")\n",
    "print(name)"
   ]
  },
  {
   "cell_type": "code",
   "execution_count": 107,
   "id": "7f72e53d",
   "metadata": {},
   "outputs": [
    {
     "name": "stdout",
     "output_type": "stream",
     "text": [
      "['2011–2019', '2016–2024', '2010–2022', '2017–2020', '2014–2020', '2013–2019', '2017– ', '2005– ', '2014–2023', '2012–2020', '2017–2021', '2007–2019', '2011–2019', '2010–2017', '2013–2020', '2010–2017', '2009–2017', '2011– ', '2008–2013', '2016–2021', '2005–2020', '2005– ', '2014–2020', '2011–2017', '1989– ', '2011–2018', '2015–2017', '2015–2018', '1994–2004', '2005–2014', '2011–2019', '2015–2019', '2013–2018', '2015–2021', '2007–2012', '2015–2018', '2014–2019', '2016–2022', '2015–2019', '2009–2020', '2013– ', '2016–2019', '2017–2019', '2013–2018', '2017–2020', '2018– ', '2019– ', '2011–2021', '2011–2018', '2013–2020', '2018– ', '2006–2013', '2015–2023', '1999– ', '2013–2023', '2004–2010', '2013–2022', '2004–2012', '2015–2018', '2013–2017', '2011–2020', '2015–2020', '2016–2022', '2017– ', '2018–2020', '2017– ', '2014–2019', '2009–2015', '1997– ', '2013–2021', '2013–2015', '2019–2023', '2014–2019', '2016–2019', '2004–2012', '2015–2022', '2013–2017', '2017–2019', '2017–2021', '2017–2022', '2016–2022', '2016–2020', '2017–2018', '2018–2020', '2017–2019', '2011–2015', '2016–2018', '2012–2018', '2017', '2017–2019', '2018–2019', '2008–2015', '2016–2023', '2019', '2015–2019', '2013–2017', '2017–2019', '2005– ', '2015–2019', '2018']\n"
     ]
    }
   ],
   "source": [
    "year=[]\n",
    "try:\n",
    "    tags=driver.find_elements(By.XPATH,\"//span[@class='lister-item-year text-muted unbold']\")\n",
    "    for i in tags:\n",
    "        year.append(i.text.replace(\"\\n\",\" \").strip(\"()\"))\n",
    "except Exception:\n",
    "    year.append(\"--\")\n",
    "print(year)"
   ]
  },
  {
   "cell_type": "code",
   "execution_count": 115,
   "id": "09c31291",
   "metadata": {},
   "outputs": [
    {
     "name": "stdout",
     "output_type": "stream",
     "text": [
      "['Action, Adventure, Drama', 'Drama, Fantasy, Horror', 'Drama, Horror, Thriller', 'Drama, Mystery, Thriller', 'Drama, Mystery, Sci-Fi', 'Comedy, Crime, Drama', 'Crime, Drama, Mystery', 'Drama, Romance', 'Action, Adventure, Drama', 'Action, Adventure, Crime', 'Action, Crime, Drama', 'Comedy, Romance', 'Drama, Mystery, Sci-Fi', 'Crime, Drama, Mystery', 'Action, Adventure, Drama', 'Drama, Mystery, Romance', 'Drama, Fantasy, Horror', 'Drama, Horror, Sci-Fi', 'Crime, Drama, Thriller', 'Crime, Drama, Fantasy', 'Drama, Fantasy, Horror', 'Action, Crime, Drama', 'Crime, Drama, Mystery', 'Action, Drama, Fantasy', 'Animation, Comedy', 'Adventure, Fantasy, Romance', 'Biography, Crime, Drama', 'Action, Crime, Drama', 'Comedy, Romance', 'Comedy, Romance', 'Comedy, Drama', 'Crime, Drama, Thriller', 'Drama, Fantasy, Horror', 'Action, Adventure, Drama', 'Drama, Romance', 'Drama, Mystery, Sci-Fi', 'Action, Crime, Drama', 'Drama, Mystery, Sci-Fi', 'Action, Crime, Drama', 'Comedy, Drama, Romance', 'Animation, Adventure, Comedy', 'Action, Drama, Fantasy', 'Adventure, Comedy, Crime', 'Drama', 'Crime, Drama, Mystery', 'Crime, Drama, Thriller', 'Comedy, Drama', 'Comedy, Drama', 'Comedy, Romance', 'Action, Adventure, Drama', 'Crime, Drama, Romance', 'Crime, Drama, Mystery', 'Drama, Horror, Sci-Fi', 'Animation, Comedy', 'Crime, Drama, Mystery', 'Adventure, Drama, Fantasy', 'Crime, Drama', 'Drama, Mystery', 'Crime, Drama, Mystery', 'Drama, Sci-Fi, Thriller', 'Crime, Drama, Mystery', 'Action, Crime, Drama', 'Action, Adventure, Drama', 'Drama, Sci-Fi, Thriller', 'Drama, Fantasy, Horror', 'Drama', 'Comedy', 'Comedy, Drama, Music', 'Animation, Comedy', 'Comedy, Crime', 'Drama, Mystery, Sci-Fi', 'Action, Adventure, Comedy', 'Crime, Drama, Mystery', 'Drama, Fantasy, Mystery', 'Comedy, Drama, Mystery', 'Crime, Drama', 'Drama, Horror, Mystery', 'Action, Crime, Drama', 'Comedy, Drama', 'Drama', 'Comedy, Drama, Romance', 'Comedy, Drama, Fantasy', 'Action, Adventure, Crime', 'Drama, Sci-Fi, Thriller', 'Crime, Drama, Mystery', 'Drama, Mystery, Thriller', 'Action, Crime, Drama', 'Drama, Thriller', 'Action, Adventure, Crime', 'Crime, Drama, Mystery', 'Comedy, Drama, Thriller', 'Crime, Drama, Mystery', 'Biography, Drama, History', 'Drama, History, Thriller', 'Comedy, Crime, Drama', 'Drama', 'Adventure, Comedy, Drama', 'Crime, Drama, Mystery', 'Comedy, Crime, Drama', 'Drama, Horror, Mystery']\n"
     ]
    }
   ],
   "source": [
    "genre=[]\n",
    "try:\n",
    "    tags=driver.find_elements(By.XPATH,\"//span[@class='genre']\")\n",
    "    for i in tags:\n",
    "        genre.append(i.text.replace(\"\\n\",\" \").strip(\" \"))\n",
    "except Exception:\n",
    "    genre.append(\"--\")\n",
    "print(genre)"
   ]
  },
  {
   "cell_type": "code",
   "execution_count": 116,
   "id": "3a0bedb3",
   "metadata": {},
   "outputs": [
    {
     "name": "stdout",
     "output_type": "stream",
     "text": [
      "['57 min', '51 min', '44 min', '60 min', '43 min', '59 min', '45 min', '41 min', '43 min', '42 min', '70 min', '22 min', '60 min', '88 min', '44 min', '44 min', '43 min', '60 min', '49 min', '42 min', '44 min', '44 min', '43 min', '41 min', '22 min', '60 min', '49 min', '54 min', '22 min', '22 min', '44 min', '49 min', '45 min', '43 min', '42 min', '60 min', '42 min', '62 min', '56 min', '22 min', '23 min', '42 min', '25 min', '51 min', '60 min', '60 min', '45 min', '46 min', '22 min', '45 min', '45 min', '53 min', '44 min', '22 min', '43 min', '44 min', '60 min', '44 min', '42 min', '44 min', '55 min', '42 min', '42 min', '60 min', '60 min', '41 min', '60 min', '44 min', '22 min', '22 min', '43 min', '60 min', '55 min', '60 min', '45 min', '46 min', '45 min', '53 min', '30 min', '42 min', '45 min', '22 min', '55 min', '45 min', '60 min', '44 min', '55 min', '43 min', '50 min', '60 min', '45 min', '43 min', '58 min', '330 min', '42 min', '42 min', '50 min', '42 min', '45 min', '572 min']\n"
     ]
    }
   ],
   "source": [
    "time=[]\n",
    "try:\n",
    "    tags=driver.find_elements(By.XPATH,\"//span[@class='runtime']\")\n",
    "    for i in tags:\n",
    "        time.append(i.text.replace(\"\\n\",\" \").strip(\" \"))\n",
    "except Exception:\n",
    "    time.append(\"--\")\n",
    "print(time)"
   ]
  },
  {
   "cell_type": "code",
   "execution_count": 119,
   "id": "34bdabd8",
   "metadata": {},
   "outputs": [
    {
     "name": "stdout",
     "output_type": "stream",
     "text": [
      "['9.2', '8.7', '8.1', '7.5', '7.6', '8.1', '6.6', '7.6', '7.5', '7.5', '8.2', '8.2', '8.8', '9.1', '8.5', '7.4', '7.7', '8', '9.5', '8.1', '8.4', '8.3', '8.1', '7.7', '8.7', '7.7', '8.8', '8.6', '8.9', '8.3', '8.5', '8.5', '8.3', '6.2', '7.5', '8.2', '7.8', '8.5', '7.9', '8.5', '9.1', '6.5', '8', '8.7', '8.7', '7.3', '8.3', '8.6', '7.8', '7.5', '7.7', '8.7', '6.8', '8.2', '8', '8.3', '8.8', '8.7', '6.7', '8.3', '8.3', '7.3', '6.8', '8.4', '7.4', '8.1', '7.9', '6.8', '8.7', '8.4', '6.5', '7.9', '8.9', '7.8', '7.6', '8.9', '8.1', '8.5', '8.2', '7.3', '8.7', '8.2', '6.4', '6.3', '8.6', '7.8', '7.3', '7.7', '7.2', '8.5', '6.5', '8.1', '8.6', '9.4', '7.8', '7.4', '7.8', '8.1', '7.1', '8.6']\n"
     ]
    }
   ],
   "source": [
    "rating=[]\n",
    "try:\n",
    "    tags=driver.find_elements(By.XPATH,\"//div[@class='ipl-rating-star small']\")\n",
    "    for i in tags:\n",
    "        rating.append(i.text.replace(\"\\n\",\" \").strip(\" \"))\n",
    "except Exception:\n",
    "    rating.append(\"--\")\n",
    "print(rating)"
   ]
  },
  {
   "cell_type": "code",
   "execution_count": 121,
   "id": "227a0a7e",
   "metadata": {},
   "outputs": [
    {
     "name": "stdout",
     "output_type": "stream",
     "text": [
      "['2,135,223', '1,220,695', '1,013,523', '298,623', '257,525', '306,936', '147,082', '316,347', '351,502', '435,209', '488,291', '820,793', '560,921', '940,248', '544,316', '170,454', '327,718', '324,426', '1,937,223', '331,419', '453,294', '545,278', '155,413', '153,753', '413,422', '227,774', '432,581', '448,012', '1,013,279', '693,952', '418,946', '394,140', '139,078', '125,646', '178,797', '156,688', '233,122', '511,811', '217,586', '441,151', '540,992', '65,585', '198,182', '510,371', '401,572', '82,557', '292,416', '249,113', '230,081', '219,343', '262,462', '733,264', '132,943', '346,652', '255,332', '561,642', '568,208', '472,961', '61,737', '112,546', '346,482', '75,456', '106,471', '244,101', '98,730', '98,611', '52,886', '150,528', '378,393', '325,975', '108,025', '254,432', '583,970', '107,115', '131,523', '554,680', '110,321', '242,944', '93,060', '23,401', '147,598', '167,081', '133,614', '38,529', '298,768', '121,452', '133,672', '75,447', '110,312', '205,674', '29,944', '188,683', '226,849', '779,613', '69,980', '50,966', '62,941', '204,540', '42,285', '252,992']\n"
     ]
    }
   ],
   "source": [
    "votes=[]\n",
    "try:\n",
    "    tags=driver.find_elements(By.XPATH,\"//span[@name='nv']\")\n",
    "    for i in tags:\n",
    "        votes.append(i.text.replace(\"\\n\",\" \").strip(\" \"))\n",
    "except NoSuchElementException:\n",
    "    votes.append(\"--\")\n",
    "print(votes)"
   ]
  },
  {
   "cell_type": "code",
   "execution_count": 139,
   "id": "dc79ed99",
   "metadata": {},
   "outputs": [
    {
     "data": {
      "text/html": [
       "<div>\n",
       "<style scoped>\n",
       "    .dataframe tbody tr th:only-of-type {\n",
       "        vertical-align: middle;\n",
       "    }\n",
       "\n",
       "    .dataframe tbody tr th {\n",
       "        vertical-align: top;\n",
       "    }\n",
       "\n",
       "    .dataframe thead th {\n",
       "        text-align: right;\n",
       "    }\n",
       "</style>\n",
       "<table border=\"1\" class=\"dataframe\">\n",
       "  <thead>\n",
       "    <tr style=\"text-align: right;\">\n",
       "      <th></th>\n",
       "      <th>Movie Name</th>\n",
       "      <th>Year Span</th>\n",
       "      <th>Genre</th>\n",
       "      <th>Runtime</th>\n",
       "      <th>Ratings</th>\n",
       "      <th>Votes</th>\n",
       "    </tr>\n",
       "  </thead>\n",
       "  <tbody>\n",
       "    <tr>\n",
       "      <th>0</th>\n",
       "      <td>Game of Thrones</td>\n",
       "      <td>2011–2019</td>\n",
       "      <td>Action, Adventure, Drama</td>\n",
       "      <td>57 min</td>\n",
       "      <td>9.2</td>\n",
       "      <td>2,135,223</td>\n",
       "    </tr>\n",
       "    <tr>\n",
       "      <th>1</th>\n",
       "      <td>Stranger Things</td>\n",
       "      <td>2016–2024</td>\n",
       "      <td>Drama, Fantasy, Horror</td>\n",
       "      <td>51 min</td>\n",
       "      <td>8.7</td>\n",
       "      <td>1,220,695</td>\n",
       "    </tr>\n",
       "    <tr>\n",
       "      <th>2</th>\n",
       "      <td>The Walking Dead</td>\n",
       "      <td>2010–2022</td>\n",
       "      <td>Drama, Horror, Thriller</td>\n",
       "      <td>44 min</td>\n",
       "      <td>8.1</td>\n",
       "      <td>1,013,523</td>\n",
       "    </tr>\n",
       "    <tr>\n",
       "      <th>3</th>\n",
       "      <td>13 Reasons Why</td>\n",
       "      <td>2017–2020</td>\n",
       "      <td>Drama, Mystery, Thriller</td>\n",
       "      <td>60 min</td>\n",
       "      <td>7.5</td>\n",
       "      <td>298,623</td>\n",
       "    </tr>\n",
       "    <tr>\n",
       "      <th>4</th>\n",
       "      <td>The 100</td>\n",
       "      <td>2014–2020</td>\n",
       "      <td>Drama, Mystery, Sci-Fi</td>\n",
       "      <td>43 min</td>\n",
       "      <td>7.6</td>\n",
       "      <td>257,525</td>\n",
       "    </tr>\n",
       "    <tr>\n",
       "      <th>...</th>\n",
       "      <td>...</td>\n",
       "      <td>...</td>\n",
       "      <td>...</td>\n",
       "      <td>...</td>\n",
       "      <td>...</td>\n",
       "      <td>...</td>\n",
       "    </tr>\n",
       "    <tr>\n",
       "      <th>95</th>\n",
       "      <td>Reign</td>\n",
       "      <td>2013–2017</td>\n",
       "      <td>Drama</td>\n",
       "      <td>42 min</td>\n",
       "      <td>7.4</td>\n",
       "      <td>50,966</td>\n",
       "    </tr>\n",
       "    <tr>\n",
       "      <th>96</th>\n",
       "      <td>A Series of Unfortunate Events</td>\n",
       "      <td>2017–2019</td>\n",
       "      <td>Adventure, Comedy, Drama</td>\n",
       "      <td>50 min</td>\n",
       "      <td>7.8</td>\n",
       "      <td>62,941</td>\n",
       "    </tr>\n",
       "    <tr>\n",
       "      <th>97</th>\n",
       "      <td>Criminal Minds</td>\n",
       "      <td>2005–</td>\n",
       "      <td>Crime, Drama, Mystery</td>\n",
       "      <td>42 min</td>\n",
       "      <td>8.1</td>\n",
       "      <td>204,540</td>\n",
       "    </tr>\n",
       "    <tr>\n",
       "      <th>98</th>\n",
       "      <td>Scream: The TV Series</td>\n",
       "      <td>2015–2019</td>\n",
       "      <td>Comedy, Crime, Drama</td>\n",
       "      <td>45 min</td>\n",
       "      <td>7.1</td>\n",
       "      <td>42,285</td>\n",
       "    </tr>\n",
       "    <tr>\n",
       "      <th>99</th>\n",
       "      <td>The Haunting of Hill House</td>\n",
       "      <td>2018</td>\n",
       "      <td>Drama, Horror, Mystery</td>\n",
       "      <td>572 min</td>\n",
       "      <td>8.6</td>\n",
       "      <td>252,992</td>\n",
       "    </tr>\n",
       "  </tbody>\n",
       "</table>\n",
       "<p>100 rows × 6 columns</p>\n",
       "</div>"
      ],
      "text/plain": [
       "                        Movie Name  Year Span                     Genre  \\\n",
       "0                  Game of Thrones  2011–2019  Action, Adventure, Drama   \n",
       "1                  Stranger Things  2016–2024    Drama, Fantasy, Horror   \n",
       "2                 The Walking Dead  2010–2022   Drama, Horror, Thriller   \n",
       "3                   13 Reasons Why  2017–2020  Drama, Mystery, Thriller   \n",
       "4                          The 100  2014–2020    Drama, Mystery, Sci-Fi   \n",
       "..                             ...        ...                       ...   \n",
       "95                           Reign  2013–2017                     Drama   \n",
       "96  A Series of Unfortunate Events  2017–2019  Adventure, Comedy, Drama   \n",
       "97                  Criminal Minds     2005–      Crime, Drama, Mystery   \n",
       "98           Scream: The TV Series  2015–2019      Comedy, Crime, Drama   \n",
       "99      The Haunting of Hill House       2018    Drama, Horror, Mystery   \n",
       "\n",
       "    Runtime Ratings      Votes  \n",
       "0    57 min     9.2  2,135,223  \n",
       "1    51 min     8.7  1,220,695  \n",
       "2    44 min     8.1  1,013,523  \n",
       "3    60 min     7.5    298,623  \n",
       "4    43 min     7.6    257,525  \n",
       "..      ...     ...        ...  \n",
       "95   42 min     7.4     50,966  \n",
       "96   50 min     7.8     62,941  \n",
       "97   42 min     8.1    204,540  \n",
       "98   45 min     7.1     42,285  \n",
       "99  572 min     8.6    252,992  \n",
       "\n",
       "[100 rows x 6 columns]"
      ]
     },
     "execution_count": 139,
     "metadata": {},
     "output_type": "execute_result"
    }
   ],
   "source": [
    "df=pd.DataFrame({\"Movie Name\":name,\"Year Span\":year,\"Genre\":genre,\"Runtime\":time,\"Ratings\":rating,\"Votes\":votes})\n",
    "df"
   ]
  },
  {
   "cell_type": "code",
   "execution_count": 140,
   "id": "44835918",
   "metadata": {},
   "outputs": [],
   "source": [
    "driver.close()"
   ]
  },
  {
   "cell_type": "markdown",
   "id": "4cceaef9",
   "metadata": {},
   "source": [
    "# Details of Datasets from UCI machine learning repositories"
   ]
  },
  {
   "cell_type": "code",
   "execution_count": 3,
   "id": "13a423eb",
   "metadata": {},
   "outputs": [],
   "source": [
    "driver=webdriver.Chrome(r\"chromedriver.exe\")"
   ]
  },
  {
   "cell_type": "code",
   "execution_count": 4,
   "id": "4358ef88",
   "metadata": {},
   "outputs": [],
   "source": [
    "driver.get(\"https://archive.ics.uci.edu/\")"
   ]
  },
  {
   "cell_type": "code",
   "execution_count": 5,
   "id": "35484a9a",
   "metadata": {},
   "outputs": [],
   "source": [
    "driver.maximize_window()"
   ]
  },
  {
   "cell_type": "code",
   "execution_count": 7,
   "id": "7939b4c9",
   "metadata": {},
   "outputs": [],
   "source": [
    "all_sets=driver.find_element(By.XPATH,\"/html/body/table[1]/tbody/tr/td[2]/span[2]/a/font/b\")\n",
    "all_sets.click()"
   ]
  },
  {
   "cell_type": "code",
   "execution_count": 8,
   "id": "f4f0f7f1",
   "metadata": {},
   "outputs": [
    {
     "name": "stdout",
     "output_type": "stream",
     "text": [
      "['Multivariate ', 'Multivariate ', 'Multivariate ', ' ', 'Multivariate ', 'Multivariate ', 'Multivariate ', 'Multivariate ', 'Multivariate ', 'Multivariate ', 'Univariate, Text ', 'Multivariate ', 'Multivariate ', 'Multivariate ', 'Multivariate ', 'Multivariate ', 'Multivariate ', 'Multivariate ', 'Multivariate ', 'Multivariate ', 'Multivariate, Data-Generator ', 'Multivariate ', 'Multivariate ', 'Domain-Theory ', 'Univariate, Time-Series ', 'Multivariate, Spatial ', 'Multivariate ', 'Multivariate, Domain-Theory ', 'Multivariate ', 'Multivariate ', 'Multivariate ', 'Multivariate ', 'Multivariate ', 'Multivariate, Time-Series ', 'Data-Generator ', ' ', ' ', 'Multivariate ', 'Multivariate ', 'Multivariate ', ' ', 'Multivariate ', 'Multivariate ', 'Multivariate ', 'Multivariate ', 'Multivariate ', 'Multivariate ', 'Multivariate, Time-Series ', 'Multivariate ', 'Multivariate ', 'Multivariate ', 'Multivariate ', 'Multivariate ', 'Relational ', 'Multivariate ', 'Multivariate, Data-Generator ', 'Multivariate ', 'Multivariate ', 'Multivariate ', 'Domain-Theory ', 'Multivariate ', 'Multivariate ', 'Multivariate ', 'Multivariate ', 'Domain-Theory ', 'Sequential, Domain-Theory ', 'Sequential ', 'Sequential, Domain-Theory ', 'Multivariate ', 'Domain-Theory ', 'Multivariate ', 'Multivariate ', 'Multivariate ', 'Multivariate ', 'Multivariate ', 'Domain-Theory ', 'Multivariate ', 'Multivariate ', 'Multivariate ', 'Multivariate ', 'Multivariate ', 'Domain-Theory ', 'Domain-Theory ', 'Multivariate, Data-Generator ', 'Multivariate ', 'Multivariate ', 'Multivariate ', 'Multivariate ', 'Multivariate ', 'Multivariate ', 'Multivariate ', 'Multivariate ', 'Multivariate ', 'Multivariate ', 'Multivariate ', ' ', 'Domain-Theory ', 'Multivariate ', 'Multivariate ', 'Multivariate, Domain-Theory ', 'Multivariate ', 'Multivariate ', 'Multivariate ', 'Multivariate ', 'Multivariate, Data-Generator ', 'Multivariate, Data-Generator ', 'Multivariate ', 'Multivariate ', 'Multivariate ', ' ', 'Text ', 'Multivariate, Time-Series ', 'Multivariate, Time-Series ', 'Multivariate ', 'Multivariate ', 'Multivariate ', 'Multivariate ', 'Relational ', 'Multivariate, Time-Series ', 'Spatio-temporal ', 'Transactional, Sequential ', 'Image ', 'Multivariate ', 'Multivariate ', 'Multivariate ', 'Multivariate, Time-Series ', 'Multivariate ', 'Multivariate ', 'Relational ', 'Multivariate, Relational ', 'Sequential ', 'Text ', 'Multivariate, Time-Series ', 'Univariate, Time-Series ', 'Text ', 'Multivariate, Time-Series ', 'Time-Series ', 'Multivariate, Text ', 'Text, Sequential ', 'Image ', 'Multivariate ', 'Multivariate ', 'Multivariate ', 'Multivariate ', 'Multivariate ', 'Multivariate ', 'Multivariate ', 'Multivariate ', 'Multivariate ', ' ', 'Domain-Theory ', ' ', 'Multivariate ', 'Multivariate, Time-Series ', 'Multivariate, Time-Series ', 'Multivariate ', 'Multivariate ', 'Multivariate, Sequential ', 'Multivariate ', 'Multivariate ', 'Text ', 'Text ', 'Multivariate ', 'Sequential ', 'Multivariate ', 'Multivariate ', 'Multivariate ', 'Multivariate ', 'Multivariate ', 'Multivariate, Sequential, Time-Series ', 'Multivariate ', 'Multivariate ', 'Time-Series ', 'Multivariate ', 'Multivariate, Sequential ', 'Multivariate ', 'Multivariate ', 'Multivariate ', 'Multivariate, Sequential ', 'Multivariate ', 'Multivariate ', 'Multivariate ', 'Multivariate ', 'Multivariate, Time-Series ', 'Multivariate ', 'Multivariate ', 'Multivariate ', 'Text ', 'Multivariate ', 'Multivariate ', 'Multivariate, Sequential ', 'Multivariate, Time-Series ', 'Univariate, Sequential, Time-Series ', 'Multivariate ', 'Multivariate ', 'Multivariate ', 'Multivariate ', 'Multivariate, Time-Series ', 'Text ', 'Domain-Theory ', 'Multivariate, Sequential ', 'Multivariate ', 'Multivariate ', 'Multivariate ', 'Multivariate ', 'Time-Series ', 'Time-Series ', 'Multivariate, Text, Domain-Theory ', 'Time-Series, Domain-Theory ', 'Multivariate, Text, Domain-Theory ', 'Text ', 'Text ', 'Multivariate, Univariate, Text ', 'Multivariate, Univariate, Text ', 'Multivariate ', 'Text ', 'Multivariate ', 'Multivariate ', 'Multivariate, Time-Series ', 'Univariate ', 'Multivariate, Text, Domain-Theory ', 'Univariate ', 'Univariate ', 'Multivariate, Time-Series ', 'Multivariate ', 'Multivariate, Text ', 'Multivariate, Time-Series ', 'Multivariate ', 'Multivariate, Univariate, Text ', 'Sequential ', 'Text ', 'Multivariate, Time-Series ', ' ', 'Multivariate ', 'Multivariate ', 'Multivariate ', 'Multivariate, Time-Series ', 'Sequential, Text ', 'Multivariate, Univariate, Time-Series ', 'Time-Series, Multivariate ', 'Multivariate ', 'Sequential ', 'Multivariate, Time-Series ', 'Multivariate ', 'Multivariate ', 'Multivariate ', 'Multivariate ', 'Multivariate, Time-Series ', 'Multivariate ', 'Multivariate ', 'Multivariate, Sequential, Text ', 'Multivariate ', 'Multivariate ', 'Multivariate, Sequential, Time-Series ', 'Multivariate ', 'Multivariate ', 'Multivariate ', 'Domain-Theory ', 'Multivariate, Text ', 'Multivariate, Time-Series ', 'Multivariate, Sequential, Time-Series ', 'Multivariate ', 'Multivariate ', 'Multivariate, Sequential, Time-Series, Text ', 'Univariate ', 'Multivariate, Sequential, Time-Series ', 'Multivariate ', 'Multivariate, Time-Series ', ' ', ' ', 'Multivariate ', 'Multivariate ', 'Multivariate, Time-Series ', 'Multivariate ', 'Univariate, Sequential, Time-Series ', 'Univariate, Sequential, Time-Series ', 'Multivariate ', 'Text ', 'Multivariate ', 'Multivariate ', 'Multivariate ', 'Text ', 'Multivariate ', 'Multivariate ', 'Multivariate ', 'Sequential ', 'Multivariate ', 'Multivariate ', 'Multivariate ', 'Multivariate, Sequential, Time-Series ', 'Univariate, Domain-Theory ', 'Multivariate ', 'Multivariate, Time-Series ', ' ', 'Multivariate ', 'Multivariate, Time-Series ', 'Multivariate, Time-Series ', 'Multivariate ', 'Text ', 'Time-Series ', 'Time-Series ', 'Multivariate ', 'Multivariate ', 'Multivariate ', 'Multivariate, Sequential ', 'Multivariate ', 'Multivariate, Time-Series ', 'Multivariate ', 'Time-Series ', 'Multivariate, Time-Series ', 'Multivariate, Univariate, Sequential, Text ', 'Multivariate ', 'Multivariate ', 'Multivariate ', ' ', 'Multivariate, Time-Series ', 'Multivariate ', 'Multivariate ', 'Text ', 'Multivariate ', 'Multivariate ', 'Multivariate ', 'Multivariate ', 'Multivariate ', 'Sequential, Time-Series ', 'Multivariate ', 'Multivariate, Sequential, Time-Series, Domain-Theory ', 'Multivariate ', 'Multivariate, Time-Series ', 'Multivariate ', 'Multivariate, Sequential, Time-Series ', 'Multivariate, Time-Series ', 'Multivariate, Sequential, Time-Series ', 'Multivariate ', 'Multivariate, Sequential, Time-Series ', 'Multivariate, Sequential, Time-Series ', 'Multivariate ', 'Multivariate ', 'Multivariate, Sequential, Time-Series ', 'Multivariate ', 'Multivariate ', 'Multivariate ', 'Multivariate, Time-Series ', 'Multivariate ', 'Multivariate ', 'Multivariate, Time-Series ', 'Multivariate, Time-Series, Domain-Theory ', 'Multivariate, Time-Series ', 'Multivariate ', 'Time-Series ', 'Multivariate ', 'Multivariate, Sequential, Time-Series ', 'Multivariate ', 'Multivariate ', 'Multivariate ', 'Text ', 'Multivariate ', 'Multivariate ', 'Multivariate, Time-Series ', 'Text ', 'Multivariate, Text ', 'Multivariate, Sequential, Time-Series ', 'Multivariate ', 'Multivariate ', 'Text ', 'Multivariate, Time-Series ', 'Multivariate, Sequential ', 'Multivariate ', 'Multivariate ', 'Multivariate ', 'Multivariate, Time-Series ', 'Multivariate, Time-Series ', 'Multivariate, Time-Series ', ' ', 'Multivariate ', 'Multivariate ', 'Multivariate ', 'Sequential, Time-Series ', 'Multivariate, Time-Series ', 'Multivariate ', 'Multivariate, Time-Series ', ' ', 'Text ', 'Multivariate ', 'Multivariate ', 'Multivariate ', 'Multivariate, Sequential, Time-Series ', ' ', 'Text ', 'Multivariate ', 'Multivariate ', 'Text ', 'Multivariate ', 'Time-Series ', 'Text ', ' ', ' ', 'Multivariate, Time-Series ', 'Multivariate ', 'Sequential, Text ', 'Multivariate, Text ', 'Multivariate ', 'Text ', 'Multivariate ', 'Multivariate ', 'Multivariate ', 'Multivariate ', 'Multivariate ', 'Multivariate ', 'Text ', ' ', 'Sequential ', 'Univariate ', 'Univariate ', 'Multivariate ', 'Multivariate ', 'Multivariate, Time-Series, Text ', 'Multivariate ', 'Multivariate ', 'Multivariate, Sequential, Time-Series ', 'Univariate, Domain-Theory ', 'Multivariate ', 'Text ', 'Sequential ', 'Multivariate ', 'Multivariate ', 'Multivariate, Sequential ', 'Multivariate, Time-Series ', 'Multivariate ', 'Multivariate, Time-Series ', 'Univariate ', 'Multivariate ', 'Multivariate, Text ', 'Multivariate ', 'Multivariate, Time-Series ', 'Multivariate ', 'Text ', 'Time-Series ', 'Multivariate, Text ', 'Multivariate, Time-Series ', 'Text ', 'Multivariate ', 'Multivariate ', 'Multivariate, Text ', 'Multivariate, Text ', 'Multivariate ', 'Multivariate ', 'Multivariate, Time-Series ', 'Multivariate, Sequential, Time-Series ', 'Multivariate ', 'Multivariate ', 'Univariate ', 'Multivariate ', 'Multivariate ', 'Univariate ', 'Time-Series ', 'Time-Series ', 'Multivariate ', 'Multivariate, Text ', 'Multivariate ', 'Multivariate ', ' ', 'Multivariate ', 'Time-Series ', 'Multivariate, Univariate, Sequential, Time-Series ', 'Multivariate, Time-Series ', 'Multivariate, Text ', 'Multivariate, Text ', 'Multivariate ', 'Multivariate, Time-Series ', 'Multivariate ', 'Multivariate ', 'Multivariate, Sequential, Time-Series ', 'Multivariate ', 'Multivariate ', 'Multivariate, Time-Series ', 'Multivariate ', 'Multivariate, Univariate ', 'Multivariate, Sequential ', 'Text ', 'Time-Series ', 'Multivariate, Time-Series ', 'Multivariate, Sequential, Time-Series, Text ', 'Multivariate ', 'Multivariate ', 'Multivariate ', 'Multivariate, Sequential, Time-Series ', 'Multivariate, Time-Series ', 'Multivariate ', 'Multivariate ', 'Multivariate ', 'Multivariate ', 'Multivariate, Text ', 'Multivariate, Time-Series, Text ', 'Multivariate ', 'Multivariate, Time-Series ', 'Multivariate, Sequential, Time-Series ', 'Multivariate ', 'Multivariate ', 'Multivariate ', 'Multivariate ', 'Time-Series ', 'Multivariate ', 'Multivariate ', 'Multivariate ', 'Multivariate, Time-Series ', 'Multivariate, Time-Series ', 'Multivariate ', 'Multivariate ', 'Multivariate ', 'Text ', 'Multivariate ', 'Multivariate ', 'Multivariate, Time-Series, Text ', 'Multivariate ', 'Multivariate, Text ', 'Multivariate, Sequential, Time-Series ', 'Multivariate, Univariate ', 'Multivariate ', 'Multivariate, Univariate ', 'Multivariate, Time-Series ', 'Multivariate ', 'Multivariate ', ' ', 'Multivariate ', 'Multivariate ', 'Multivariate ', 'Multivariate ', 'Multivariate, Time-Series ', 'Multivariate, Time-Series ', 'Univariate ', 'Multivariate ', 'Multivariate ', 'Multivariate, Sequential ', 'Sequential, Time-Series ', 'Multivariate ', 'Multivariate ', 'Multivariate ', 'Multivariate ', 'Multivariate, Time-Series ', 'Multivariate ', 'Multivariate ', 'Multivariate ', 'Multivariate ', 'Multivariate ', 'Multivariate ', 'Multivariate ', 'Multivariate ', 'Multivariate ', 'Multivariate ', 'Text ', 'Multivariate ', 'Multivariate ', 'Multivariate ', ' ', 'Text ', 'Text ', 'Multivariate ', 'Time-Series ', 'Multivariate ', 'Time-Series ', 'Multivariate, Time-Series ', 'Multivariate ', 'Multivariate ', 'Text ', 'Multivariate ', 'Sequential, Time-Series ', 'Time-Series ', 'Multivariate ', 'Sequential ', 'Multivariate ', 'Text ', 'Multivariate ', 'Multivariate ', 'Multivariate ', 'Multivariate ', 'Multivariate ', 'Multivariate, Time-Series ', 'Multivariate ', 'Multivariate ', 'Multivariate, Text ', 'Multivariate, Time-Series ', 'Multivariate ', 'Multivariate ', 'Multivariate ', 'Time-Series ', 'Time-Series ', 'Multivariate ', 'Multivariate ', 'Sequential ', ' ', 'Multivariate ', 'Multivariate ', 'Time-Series ', 'Text ', 'Univariate ', 'Multivariate, Time-Series ', 'Multivariate ', 'Multivariate ', 'Multivariate ', 'Multivariate ', 'Text ', 'Multivariate ', 'Multivariate ', 'Multivariate ', 'Multivariate ', 'Multivariate ', 'Multivariate, Time-Series ', 'Multivariate ', 'Multivariate ', 'Multivariate ', 'Text ', 'Multivariate ', 'Univariate, Sequential, Time-Series ', 'Multivariate ', 'Multivariate ', 'Multivariate ', 'Multivariate ', 'Multivariate ', ' ', 'Multivariate, Time-Series ', 'Univariate ']\n"
     ]
    }
   ],
   "source": [
    "data_type=[]\n",
    "try:\n",
    "    info=driver.find_elements(By.XPATH,\"/html/body/table[2]/tbody/tr/td[2]/table[2]/tbody/tr/td[2]\")\n",
    "    for i in info[1:]:\n",
    "        data_type.append(i.text)\n",
    "except NoSuchElementException:\n",
    "    data_type.append(\"NA\")\n",
    "print(data_type)"
   ]
  },
  {
   "cell_type": "code",
   "execution_count": 9,
   "id": "cf3110ef",
   "metadata": {},
   "outputs": [
    {
     "name": "stdout",
     "output_type": "stream",
     "text": [
      "['Abalone', 'Adult', 'Annealing', 'Anonymous Microsoft Web Data', 'Arrhythmia', 'Artificial Characters', 'Audiology (Original)', 'Audiology (Standardized)', 'Auto MPG', 'Automobile', 'Badges', 'Balance Scale', 'Balloons', 'Breast Cancer', 'Breast Cancer Wisconsin (Original)', 'Breast Cancer Wisconsin (Prognostic)', 'Breast Cancer Wisconsin (Diagnostic)', 'Pittsburgh Bridges', 'Car Evaluation', 'Census Income', 'Chess (King-Rook vs. King-Knight)', 'Chess (King-Rook vs. King-Pawn)', 'Chess (King-Rook vs. King)', 'Chess (Domain Theories)', 'Bach Chorales', 'Connect-4', 'Credit Approval', 'Japanese Credit Screening', 'Computer Hardware', 'Contraceptive Method Choice', 'Covertype', 'Cylinder Bands', 'Dermatology', 'Diabetes', 'DGP2 - The Second Data Generation Program', 'Document Understanding', 'EBL Domain Theories', 'Echocardiogram', 'Ecoli', 'Flags', 'Function Finding', 'Glass Identification', \"Haberman's Survival\", 'Hayes-Roth', 'Heart Disease', 'Hepatitis', 'Horse Colic', 'ICU', 'Image Segmentation', 'Internet Advertisements', 'Ionosphere', 'Iris', 'ISOLET', 'Kinship', 'Labor Relations', 'LED Display Domain', 'Lenses', 'Letter Recognition', 'Liver Disorders', 'Logic Theorist', 'Lung Cancer', 'Lymphography', 'Mechanical Analysis', 'Meta-data', 'Mobile Robots', 'Molecular Biology (Promoter Gene Sequences)', 'Molecular Biology (Protein Secondary Structure)', 'Molecular Biology (Splice-junction Gene Sequences)', \"MONK's Problems\", 'Moral Reasoner', 'Multiple Features', 'Mushroom', 'Musk (Version 1)', 'Musk (Version 2)', 'Nursery', 'Othello Domain Theory', 'Page Blocks Classification', 'Optical Recognition of Handwritten Digits', 'Pen-Based Recognition of Handwritten Digits', 'Post-Operative Patient', 'Primary Tumor', 'Prodigy', 'Qualitative Structure Activity Relationships', 'Quadruped Mammals', 'Servo', 'Shuttle Landing Control', 'Solar Flare', 'Soybean (Large)', 'Soybean (Small)', 'Challenger USA Space Shuttle O-Ring', 'Low Resolution Spectrometer', 'Spambase', 'SPECT Heart', 'SPECTF Heart', 'Sponge', 'Statlog Project', 'Student Loan Relational', 'Teaching Assistant Evaluation', 'Tic-Tac-Toe Endgame', 'Thyroid Disease', 'Trains', 'University', 'Congressional Voting Records', 'Water Treatment Plant', 'Waveform Database Generator (Version 1)', 'Waveform Database Generator (Version 2)', 'Wine', 'Yeast', 'Zoo', 'Undocumented', 'Twenty Newsgroups', 'Australian Sign Language signs', 'Australian Sign Language signs (High Quality)', 'US Census Data (1990)', 'Census-Income (KDD)', 'Coil 1999 Competition Data', 'Corel Image Features', 'E. Coli Genes', 'EEG Database', 'El Nino', 'Entree Chicago Recommendation Data', 'CMU Face Images', 'Insurance Company Benchmark (COIL 2000)', 'Internet Usage Data', 'IPUMS Census Database', 'Japanese Vowels', 'KDD Cup 1998 Data', 'KDD Cup 1999 Data', 'M. Tuberculosis Genes', 'Movie', 'MSNBC.com Anonymous Web Data', 'NSF Research Award Abstracts 1990-2003', 'Pioneer-1 Mobile Robot Data', 'Pseudo Periodic Synthetic Time Series', 'Reuters-21578 Text Categorization Collection', 'Robot Execution Failures', 'Synthetic Control Chart Time Series', 'Syskill and Webert Web Page Ratings', 'UNIX User Data', 'Volcanoes on Venus - JARtool experiment', 'Statlog (Australian Credit Approval)', 'Statlog (German Credit Data)', 'Statlog (Heart)', 'Statlog (Landsat Satellite)', 'Statlog (Image Segmentation)', 'Statlog (Shuttle)', 'Statlog (Vehicle Silhouettes)', 'Connectionist Bench (Nettalk Corpus)', 'Connectionist Bench (Sonar, Mines vs. Rocks)', 'Connectionist Bench (Vowel Recognition - Deterding Data)', 'Economic Sanctions', 'Protein Data', 'Cloud', 'CalIt2 Building People Counts', 'Dodgers Loop Sensor', 'Poker Hand', 'MAGIC Gamma Telescope', 'UJI Pen Characters', 'Mammographic Mass', 'Forest Fires', 'Reuters Transcribed Subset', 'Bag of Words', 'Concrete Compressive Strength', 'Hill-Valley', 'Arcene', 'Dexter', 'Dorothea', 'Gisette', 'Madelon', 'Ozone Level Detection', 'Abscisic Acid Signaling Network', 'Parkinsons', 'Character Trajectories', 'Blood Transfusion Service Center', 'UJI Pen Characters (Version 2)', 'Semeion Handwritten Digit', 'SECOM', 'Plants', 'Libras Movement', 'Concrete Slump Test', 'Communities and Crime', 'Acute Inflammations', 'Wine Quality', 'URL Reputation', 'p53 Mutants', 'Parkinsons Telemonitoring', 'Demospongiae', 'Opinosis Opinion ⁄ Review', 'Breast Tissue', 'Cardiotocography', 'Wall-Following Robot Navigation Data', 'Spoken Arabic Digit', 'Localization Data for Person Activity', 'AutoUniv', 'Steel Plates Faults', 'MiniBooNE particle identification', 'YearPredictionMSD', 'PEMS-SF', 'OpinRank Review Dataset', 'Relative location of CT slices on axial axis', 'Online Handwritten Assamese Characters Dataset', 'PubChem Bioassay Data', 'Record Linkage Comparison Patterns', 'Communities and Crime Unnormalized', 'Vertebral Column', 'EMG Physical Action Data Set', 'Vicon Physical Action Data Set', 'Amazon Commerce reviews set', 'Amazon Access Samples', 'Reuter_50_50', 'Farm Ads', 'DBWorld e-mails', 'KEGG Metabolic Relation Network (Directed)', 'KEGG Metabolic Reaction Network (Undirected)', 'Bank Marketing', 'YouTube Comedy Slam Preference Data', 'Gas Sensor Array Drift Dataset', 'ILPD (Indian Liver Patient Dataset)', 'OPPORTUNITY Activity Recognition', 'Nomao', 'SMS Spam Collection', 'Skin Segmentation', 'Planning Relax', 'PAMAP2 Physical Activity Monitoring', 'Restaurant & consumer data', 'CNAE-9', 'Individual household electric power consumption', 'seeds', 'Northix', 'QtyT40I10D100K', 'Legal Case Reports', 'Human Activity Recognition Using Smartphones', 'One-hundred plant species leaves data set', 'Energy efficiency', 'Yacht Hydrodynamics', 'Fertility', 'Daphnet Freezing of Gait', '3D Road Network (North Jutland, Denmark)', 'ISTANBUL STOCK EXCHANGE', 'Buzz in social media', 'First-order theorem proving', 'Wearable Computing: Classification of Body Postures and Movements (PUC-Rio)', 'Gas sensor arrays in open sampling settings', 'Climate Model Simulation Crashes', 'MicroMass', 'QSAR biodegradation', 'BLOGGER', 'Daily and Sports Activities', 'User Knowledge Modeling', 'Reuters RCV1 RCV2 Multilingual, Multiview Text Categorization Test collection', 'NYSK', 'Turkiye Student Evaluation', \"ser Knowledge Modeling Data (Students' Knowledge Levels on DC Electrical Machines)\", 'EEG Eye State', 'Physicochemical Properties of Protein Tertiary Structure', 'seismic-bumps', 'banknote authentication', 'USPTO Algorithm Challenge, run by NASA-Harvard Tournament Lab and TopCoder Problem: Pat', 'YouTube Multiview Video Games Dataset', 'Gas Sensor Array Drift Dataset at Different Concentrations', 'Activities of Daily Living (ADLs) Recognition Using Binary Sensors', 'SkillCraft1 Master Table Dataset', 'Weight Lifting Exercises monitored with Inertial Measurement Units', 'SML2010', 'Bike Sharing Dataset', 'Predict keywords activities in a online social media', 'Thoracic Surgery Data', 'EMG dataset in Lower Limb', 'SUSY', 'HIGGS', 'Qualitative_Bankruptcy', 'LSVT Voice Rehabilitation', 'Dataset for ADL Recognition with Wrist-worn Accelerometer', 'Wilt', 'User Identification From Walking Activity', 'Activity Recognition from Single Chest-Mounted Accelerometer', 'Leaf', 'Dresses_Attribute_Sales', 'Tamilnadu Electricity Board Hourly Readings', 'Airfoil Self-Noise', 'Wholesale customers', 'Twitter Data set for Arabic Sentiment Analysis', 'Combined Cycle Power Plant', 'Urban Land Cover', 'Diabetes 130-US hospitals for years 1999-2008', 'Bach Choral Harmony', 'StoneFlakes', 'Tennis Major Tournament Match Statistics', 'Parkinson Speech Dataset with Multiple Types of Sound Recordings', 'Gesture Phase Segmentation', 'Perfume Data', 'BlogFeedback', 'REALDISP Activity Recognition Dataset', 'Newspaper and magazine images segmentation dataset', 'AAAI 2014 Accepted Papers', 'Gas sensor array under flow modulation', 'Gas sensor array exposed to turbulent gas mixtures', 'UJIIndoorLoc', 'Sentence Classification', 'Dow Jones Index', 'sEMG for Basic Hand movements', 'AAAI 2013 Accepted Papers', 'Geographical Original of Music', 'Condition Based Maintenance of Naval Propulsion Plants', 'Grammatical Facial Expressions', 'NoisyOffice', 'MHEALTH Dataset', 'Student Performance', 'ElectricityLoadDiagrams20112014', 'Gas sensor array under dynamic gas mixtures', 'microblogPCU', 'Firm-Teacher_Clave-Direction_Classification', 'Dataset for Sensorless Drive Diagnosis', 'TV News Channel Commercial Detection Dataset', 'Phishing Websites', 'Greenhouse Gas Observing Network', 'Diabetic Retinopathy Debrecen Data Set', 'HIV-1 protease cleavage', 'Sentiment Labelled Sentences', 'Online News Popularity', 'Forest type mapping', 'wiki4HE', 'Online Video Characteristics and Transcoding Time Dataset', 'Chronic_Kidney_Disease', 'Machine Learning based ZZAlpha Ltd. Stock Recommendations 2012-2014', 'Folio', 'Taxi Service Trajectory - Prediction Challenge, ECML PKDD 2015', 'Cuff-Less Blood Pressure Estimation', 'Smartphone-Based Recognition of Human Activities and Postural Transitions', 'Mice Protein Expression', 'UJIIndoorLoc-Mag', 'Heterogeneity Activity Recognition', 'Educational Process Mining (EPM): A Learning Analytics Data Set', 'HEPMASS', 'Indoor User Movement Prediction from RSS data', 'Open University Learning Analytics dataset', 'default of credit card clients', 'Mesothelioma’s disease data set', 'Online Retail', 'SIFT10M', 'GPS Trajectories', 'Detect Malacious Executable(AntiVirus)', 'Occupancy Detection', 'Improved Spiral Test Using Digitized Graphics Tablet for Monitoring Parkinson’s Disease', 'News Aggregator', 'Air Quality', 'Twin gas sensor arrays', 'Gas sensors for home activity monitoring', 'Facebook Comment Volume Dataset', 'Smartphone Dataset for Human Activity Recognition (HAR) in Ambient Assisted Living (AAL)', 'Polish companies bankruptcy data', 'Activity Recognition system based on Multisensor data fusion (AReM)', 'Dota2 Games Results', 'Facebook metrics', 'UbiqLog (smartphone lifelogging)', 'NIPS Conference Papers 1987-2015', 'HTRU2', 'Drug consumption (quantified)', 'Appliances energy prediction', 'Miskolc IIS Hybrid IPS', 'KDC-4007 dataset Collection', 'Geo-Magnetic field and WLAN dataset for indoor localisation from wristband and smartphone', 'DrivFace', 'Website Phishing', 'YouTube Spam Collection', 'Beijing PM2.5 Data', 'Cargo 2000 Freight Tracking and Tracing', 'Cervical cancer (Risk Factors)', 'Quality Assessment of Digital Colposcopies', 'KASANDR', 'FMA: A Dataset For Music Analysis', 'Air quality', 'Epileptic Seizure Recognition', 'Devanagari Handwritten Character Dataset', 'Stock portfolio performance', 'MoCap Hand Postures', 'Early biomarkers of Parkinson�s disease based on natural connected speech', 'Data for Software Engineering Teamwork Assessment in Education Setting', 'PM2.5 Data of Five Chinese Cities', 'Parkinson Disease Spiral Drawings Using Digitized Graphics Tablet', 'Sales_Transactions_Dataset_Weekly', 'Las Vegas Strip', 'Eco-hotel', 'MEU-Mobile KSD', 'Crowdsourced Mapping', 'gene expression cancer RNA-Seq', 'Hybrid Indoor Positioning Dataset from WiFi RSSI, Bluetooth and magnetometer', 'chestnut – LARVIC', 'Burst Header Packet (BHP) flooding attack on Optical Burst Switching (OBS) Network', 'Motion Capture Hand Postures', 'Anuran Calls (MFCCs)', 'TTC-3600: Benchmark dataset for Turkish text categorization', 'Gastrointestinal Lesions in Regular Colonoscopy', 'Daily Demand Forecasting Orders', 'Paper Reviews', 'extention of Z-Alizadeh sani dataset', 'Z-Alizadeh Sani', 'Dynamic Features of VirusShare Executables', 'IDA2016Challenge', 'DSRC Vehicle Communications', 'Mturk User-Perceived Clusters over Images', 'Character Font Images', 'DeliciousMIL: A Data Set for Multi-Label Multi-Instance Learning with Instance Labels', 'Autistic Spectrum Disorder Screening Data for Children', 'Autistic Spectrum Disorder Screening Data for Adolescent', 'APS Failure at Scania Trucks', 'Wireless Indoor Localization', 'HCC Survival', 'CSM (Conventional and Social Media Movies) Dataset 2014 and 2015', 'University of Tehran Question Dataset 2016 (UTQD.2016)', 'Autism Screening Adult', 'Activity recognition with healthy older people using a batteryless wearable sensor', 'Immunotherapy Dataset', 'Cryotherapy Dataset', 'OCT data & Color Fundus Images of Left & Right Eyes', 'Discrete Tone Image Dataset', 'News Popularity in Multiple Social Media Platforms', 'Ultrasonic flowmeter diagnostics', 'ICMLA 2014 Accepted Papers Data Set', 'BLE RSSI Dataset for Indoor localization and Navigation', 'Container Crane Controller Data Set', 'Residential Building Data Set', 'Health News in Twitter', 'chipseq', 'SGEMM GPU kernel performance', 'Repeat Consumption Matrices', 'detection_of_IoT_botnet_attacks_N_BaIoT', 'Absenteeism at work', 'SCADI', 'Condition monitoring of hydraulic systems', 'Carbon Nanotubes', 'Optical Interconnection Network', 'Sports articles for objectivity analysis', 'Breast Cancer Coimbra', 'GNFUV Unmanned Surface Vehicles Sensor Data', 'Dishonest Internet users Dataset', 'Victorian Era Authorship Attribution', 'Simulated Falls and Daily Living Activities Data Set', 'Multimodal Damage Identification for Humanitarian Computing', 'EEG Steady-State Visual Evoked Potential Signals', 'Roman Urdu Data Set', 'Avila', 'PANDOR', 'Drug Review Dataset (Druglib.com)', 'Drug Review Dataset (Drugs.com)', 'Physical Unclonable Functions', 'Superconductivty Data', 'WESAD (Wearable Stress and Affect Detection)', 'GNFUV Unmanned Surface Vehicles Sensor Data Set 2', 'Student Academics Performance', 'Online Shoppers Purchasing Intention Dataset', 'PMU-UD', \"Parkinson's Disease Classification\", 'Electrical Grid Stability Simulated Data', 'Caesarian Section Classification Dataset', 'BAUM-1', 'BAUM-2', 'Audit Data', 'BuddyMove Data Set', 'Real estate valuation data set', 'Early biomarkers of Parkinson’s disease based on natural connected speech Data Set', 'Somerville Happiness Survey', '2.4 GHZ Indoor Channel Measurements', 'EMG data for gestures', 'Parking Birmingham', 'Behavior of the urban traffic of the city of Sao Paulo in Brazil', 'Travel Reviews', 'Tarvel Review Ratings', 'Rice Leaf Diseases', 'Gas sensor array temperature modulation', 'Facebook Live Sellers in Thailand', 'Parkinson Dataset with replicated acoustic features', 'Metro Interstate Traffic Volume', 'Query Analytics Workloads Dataset', 'Wave Energy Converters', 'PPG-DaLiA', 'Alcohol QCM Sensor Dataset', 'Divorce Predictors data set', 'Incident management process enriched event log', 'Opinion Corpus for Lebanese Arabic Reviews (OCLAR)', 'MEx', 'Beijing Multi-Site Air-Quality Data', 'Online Retail II', 'Hepatitis C Virus (HCV) for Egyptian patients', 'QSAR fish toxicity', 'QSAR aquatic toxicity', 'Human Activity Recognition from Continuous Ambient Sensor Data', 'WISDM Smartphone and Smartwatch Activity and Biometrics Dataset', 'QSAR oral toxicity', 'QSAR androgen receptor', 'QSAR Bioconcentration classes dataset', 'QSAR fish bioconcentration factor (BCF)', 'A study of Asian Religious and Biblical Texts', 'Real-time Election Results: Portugal 2019', 'Bias correction of numerical prediction model temperature forecast', 'Bar Crawl: Detecting Heavy Drinking', 'Kitsune Network Attack Dataset', 'Shoulder Implant X-Ray Manufacturer Classification', 'Speaker Accent Recognition', 'Heart failure clinical records', 'Deepfakes: Medical Image Tamper Detection', 'selfBACK', 'South German Credit', 'Exasens', 'Swarm Behaviour', 'Crop mapping using fused optical-radar data set', 'BitcoinHeistRansomwareAddressDataset', 'Facebook Large Page-Page Network', 'Amphibians', 'Early stage diabetes risk prediction dataset.', 'Turkish Spam V01', 'Stock keeping units', 'Demand Forecasting for a store', 'Detect Malware Types', 'Wave Energy Converters', 'Youtube cookery channels viewers comments in Hinglish', 'Pedestrian in Traffic Dataset', 'Cervical Cancer Behavior Risk', 'Sattriya_Dance_Single_Hand_Gestures Dataset', 'Divorce Predictors data set', '3W dataset', 'Malware static and dynamic features VxHeaven and Virus Total', 'Internet Firewall Data', 'User Profiling and Abusive Language Detection Dataset', 'Estimation of obesity levels based on eating habits and physical condition', 'Rice (Cammeo and Osmancik)', 'Vehicle routing and scheduling problems', 'Algerian Forest Fires Dataset', 'Breath Metabolomics', 'Horton General Hospital', 'UrbanGB, urban road accidents coordinates labelled by the urban center', 'Gas Turbine CO and NOx Emission Data Set', 'Activity recognition using wearable physiological measurements', 'clickstream data for online shopping', 'CNNpred: CNN-based stock market prediction using a diverse set of variables', 'Apartment for rent classified', ': Simulated Data set of Iraqi tourism places', 'Nasarian CAD Dataset', 'Monolithic Columns in Troad and Mysia Region', 'Bar Crawl: Detecting Heavy Drinking', 'Seoul Bike Sharing Demand', 'Person Classification Gait Data', 'Shill Bidding Dataset', 'Iranian Churn Dataset', 'Unmanned Aerial Vehicle (UAV) Intrusion Detection', 'Bone marrow transplant: children', 'Exasens', 'COVID-19 Surveillance', 'Refractive errors', 'Shoulder Implant X-Ray Manufacturer Classification', 'CLINC150', 'HCV data', 'Taiwanese Bankruptcy Prediction', 'South German Credit (UPDATE)', 'IIWA14-R820-Gazebo-Dataset-10Trajectories', 'Guitar Chords finger positions', 'Russian Corpus of Biographical Texts', 'Codon usage', 'Intelligent Media Accelerometer and Gyroscope (IM-AccGyro) Dataset', 'Myocardial infarction complications', 'Hungarian Chickenpox Cases', 'Simulated data for survival modelling', 'Student Performance on an entrance examination', 'Chemical Composition of Ceramic Samples', 'Labeled Text Forum Threads Dataset', 'Stock keeping units', 'BLE RSSI dataset for Indoor localization', 'Basketball dataset', 'GitHub MUSAE', 'Anticancer peptides', 'Monolithic Columns in Troad and Mysia Region', 'Gender by Name', 'Iranian Churn Dataset', 'Unmanned Aerial Vehicle (UAV) Intrusion Detection', 'Shoulder Implant Manufacture Classification', 'LastFM Asia Social Network', 'Wheat kernels', 'Productivity Prediction of Garment Employees', 'Multi-view Brain Networks', 'LastFM Asia Social Network', 'Wisesight Sentiment Corpus', 'AI4I 2020 Predictive Maintenance Dataset', 'Dry Bean Dataset', 'in-vehicle coupon recommendation', 'Gait Classification', 'Wikipedia Math Essentials', 'Wikipedia Math Essentials', 'Synchronous Machine Data Set', 'Average Localization Error (ALE) in sensor node localization process in WSNs', '9mers from cullpdb', 'TamilSentiMix', 'Accelerometer', 'Synchronous Machine Data Set', 'Pedal Me Bicycle Deliveries', 'Turkish Headlines Dataset', 'Secondary Mushroom Dataset', 'Power consumption of Tetouan city', 'Raisin Dataset', 'Steel Industry Energy Consumption Dataset', 'Gender Gap in Spanish WP', 'Non verbal tourists data', 'Roman Urdu Sentiment Analysis Dataset (RUSAD)', 'TUANDROMD ( Tezpur University Android Malware Dataset)', 'Higher Education Students Performance Evaluation Dataset', 'Risk Factor prediction of Chronic Kidney Disease', 'Lab Test', 'Shoulder Implant Manufacture Classification', 'Rocket League Skillshots Data Set', 'Sepsis survival minimal clinical records', 'Water Quality Prediction', 'Traffic Flow Forecasting', 'sentiment analysis in Saudi Arabia about distance education during Covid-19', 'Kain Tradisional Sambas', 'Image Recognition Task Execution Times in Mobile Edge Computing', 'REWEMA', 'REJAFADA', 'Steel Industry Energy Consumption Dataset', 'Influenza outbreak event prediction via Twitter data', 'Turkish Music Emotion Dataset', 'Maternal Health Risk Data Set', 'Room Occupancy Estimation', 'Image Recognition Task Execution Times in Mobile Edge Computing']\n"
     ]
    }
   ],
   "source": [
    "name=[]\n",
    "try:\n",
    "    tags=driver.find_elements(By.XPATH,\"//p[@class='normal']/b/a\")\n",
    "    for i in tags:\n",
    "        name.append(i.text.replace(\"\\n\",\" \").strip(\" \"))\n",
    "except Exception:\n",
    "    name.append(\"--\")\n",
    "print(name)"
   ]
  },
  {
   "cell_type": "code",
   "execution_count": 10,
   "id": "c5512dc3",
   "metadata": {},
   "outputs": [
    {
     "name": "stdout",
     "output_type": "stream",
     "text": [
      "['Classification', 'Classification', 'Classification', 'Recommender-System', 'Classification', 'Classification', 'Classification', 'Classification', 'Regression', 'Regression', 'Classification', 'Classification', 'Classification', 'Classification', 'Classification', 'Classification, Regression', 'Classification', 'Classification', 'Classification', 'Classification', 'Classification', 'Classification', 'Classification', '', '', 'Classification', 'Classification', 'Classification', 'Regression', 'Classification', 'Classification', 'Classification', 'Classification', '', '', '', '', 'Classification', 'Classification', 'Classification', 'Function-Learning', 'Classification', 'Classification', 'Classification', 'Classification', 'Classification', 'Classification', '', 'Classification', 'Classification', 'Classification', 'Classification', 'Classification', 'Relational-Learning', '', 'Classification', 'Classification', 'Classification', '', '', 'Classification', 'Classification', 'Classification', 'Classification', '', 'Classification', 'Classification', 'Classification', 'Classification', '', 'Classification', 'Classification', 'Classification', 'Classification', 'Classification', '', 'Classification', 'Classification', 'Classification', 'Classification', 'Classification', '', '', 'Classification', 'Regression', 'Classification', 'Regression', 'Classification', 'Classification', 'Regression', 'Classification', 'Classification', 'Classification', 'Classification', 'Clustering', '', '', 'Classification', 'Classification', 'Classification', 'Classification', 'Classification', 'Classification', 'Clustering', 'Classification', 'Classification', 'Classification', 'Classification', 'Classification', '', '', 'Classification', 'Classification', 'Clustering', 'Classification', '', '', '', '', '', 'Recommender-System', 'Classification', 'Regression, Description', '', '', 'Classification', 'Regression', 'Classification', '', '', '', '', '', '', 'Classification', 'Classification', 'Classification, Clustering', 'Classification', '', 'Classification', 'Classification', 'Classification', 'Classification', 'Classification', 'Classification', 'Classification', 'Classification', '', 'Classification', 'Classification', '', '', '', '', '', 'Classification', 'Classification', 'Classification', 'Classification', 'Regression', 'Classification', 'Clustering', 'Regression', 'Classification', 'Classification', 'Classification', 'Classification', 'Classification', 'Classification', 'Classification', 'Causal-Discovery', 'Classification', 'Classification, Clustering', 'Classification', 'Classification', 'Classification', 'Classification, Causal-Discovery', 'Clustering', 'Classification, Clustering', 'Regression', 'Regression', 'Classification', 'Classification, Regression', 'Classification', 'Classification', 'Regression', 'Classification', '', 'Classification', 'Classification', 'Classification', 'Classification', 'Classification', 'Classification', 'Classification', 'Classification', 'Regression', 'Classification', '', 'Regression', 'Classification', 'Classification', 'Classification', 'Regression', 'Classification', 'Classification', 'Classification', 'Classification', 'Regression, Clustering, Causal-Discovery', 'Classification, Clustering', 'Classification', 'Classification', 'Classification, Regression, Clustering', 'Classification, Regression, Clustering', 'Classification', 'Classification', 'Classification', 'Classification', 'Classification', 'Classification', 'Classification, Clustering', 'Classification', 'Classification', 'Classification', '', 'Classification', 'Regression, Clustering', 'Classification, Clustering', 'Classification', '', 'Classification', 'Classification, Clustering', 'Classification', 'Classification, Regression', 'Regression', 'Classification, Regression', 'Classification', 'Regression, Clustering', 'Classification, Regression', 'Regression, Classification', 'Classification', 'Classification', 'Classification', 'Classification', 'Classification', 'Classification', 'Classification', 'Classification, Clustering', 'Classification, Clustering', 'Classification', 'Clustering', 'Classification, Clustering', 'Classification', 'Classification', 'Regression', 'Classification', 'Classification', 'Classification', 'Classification, Clustering', 'Classification, Regression, Clustering, C', 'Classification, Clustering', 'Regression', 'Classification', 'Regression', 'Regression', '', 'Classification', '', 'Classification', 'Classification', 'Classification', 'Classification', 'Classification, Clustering', 'Classification', 'Classification, Clustering', 'Classification, Clustering', 'Classification', 'Classification, Clustering', 'Classification, Regression, Clustering', 'Regression', 'Classification, Clustering', 'Classification', 'Regression', 'Classification', 'Classification, Clustering', 'Classification', 'Classification, Clustering, Causal-Discovery', 'Classification, Regression, Clustering', 'Classification, Regression', 'Classification, Clustering', 'Classification, Clustering', 'Regression', 'Classification', 'Classification', 'Clustering', 'Classification, Regression', 'Classification, Regression', 'Classification, Regression', 'Classification', 'Classification, Clustering', 'Classification', 'Clustering', 'Classification, Regression', 'Regression', 'Classification, Clustering', 'Classification, Regression', 'Classification', 'Classification, Regression', 'Regression, Clustering', 'Classification, Regression', 'Classification, Causal-Discovery', 'Classification', 'Classification', 'Classification, Clustering', 'Classification', 'Regression', 'Classification', 'Classification', 'Classification', 'Classification, Regression', 'Classification', 'Regression, Clustering, Causal-Discovery', 'Regression', 'Classification', 'Classification', 'Classification, Clustering', 'Clustering, Causal-Discovery', 'Classification, Regression', 'Classification', 'Classification, Clustering', 'Classification, Regression, Clustering', 'Classification, Clustering', 'Classification, Regression, Clustering', 'Classification', 'Classification', 'Classification, Regression, Clustering', 'Classification', 'Classification', 'Classification, Clustering', 'Causal-Discovery', 'Classification, Regression', 'Classification', 'Classification', 'Classification, Regression, Clustering', 'Classification, Clustering', 'Regression', 'Classification, Regression', 'Classification', 'Regression', 'Classification', 'Classification', 'Classification', 'Classification', 'Regression', 'Causal-Discovery', 'Clustering', 'Classification, Clustering', 'Classification', 'Regression', 'Classification, Clustering, Causal-Discovery', 'Classification, Regression', 'Classification, Regression, Clustering', 'Classification, Regression, Clustering', 'Classification', 'Classification', 'Regression', 'Classification, Regression', 'Classification', 'Classification', 'Causal-Discovery', 'Classification, Clustering', 'Regression', 'Classification, Clustering', 'Classification', 'Regression', 'Classification, Clustering', 'Classification, Regression', 'Classification', 'Regression', 'Classification, Regression, Clustering', 'Clustering', 'Classification, Regression', '', 'Classification', 'Classification', 'Classification, Clustering', 'Classification', 'Classification, Clustering', 'Classification', 'Classification, Clustering', 'Classification, Clustering', 'Classification, Clustering', 'Classification', 'Regression', 'Classification, Regression', 'Classification', 'Classification', 'Classification, Regression', 'Classification', 'Clustering', 'Clustering', 'Classification', 'Classification', 'Classification', 'Classification', 'Classification', 'Classification', 'Classification', 'Classification, Regression', 'Classification', 'Classification', 'Classification', 'Classification', 'Classification', 'Classification', 'Classification', 'Regression', 'Classification', 'Classification, Clustering', 'Classification, Clustering', 'Classification, Regression', 'Regression', 'Clustering', 'Classification', 'Regression', 'Clustering', 'Classification, Clustering', 'Classification, Clustering', 'Classification, Clustering', 'Classification, Regression', 'Regression', 'Classification, Regression', 'Classification', 'Classification', 'Regression', 'Classification, Clustering', 'Classification', 'Classification', 'Classification', 'Classification, Regression', 'Classification', 'Classification', 'Recommendation', 'Classification, Regression, Clustering', 'Classification, Regression, Clustering', 'Classification', 'Regression', 'Classification, Regression', 'Regression', 'Classification', 'Classification, Clustering', 'Classification', 'Classification', 'Classification, Regression', 'Classification', 'Classification', 'Classification', 'Classification', 'Classification, Clustering', 'Regression', 'Classification', 'Classification', 'Classification', 'Classification', 'Classification, Regression, Clustering', 'Classification, Regression', 'Classification, Clustering', 'Classification, Clustering', 'Classification', 'Classification, Regression', 'Clustering', 'Classification', 'Regression', 'Regression, Clustering', 'Regression', 'Regression', 'Classification, Regression, Clustering', 'Classification', 'Regression, Clustering', 'Classification', 'Classification, Clustering', 'Regression', 'Classification, Regression, Clustering', 'Classification', 'Regression', 'Regression', 'Classification', 'Classification', 'Classification', 'Classification', 'Classification, Regression', 'Regression', 'Classification, Clustering', 'Regression', 'Regression', 'Classification, Regression', 'Classification, Clustering, Causal-Discovery', 'Classification', 'Classification', 'Classification, Regression, Clustering', 'Classification', 'Classification, Clustering', 'Classification, Regression, Clustering', 'Classification, Clustering', 'Classification', 'Classification', 'Classification, Clustering', 'Classification', 'Classification', 'Classification', 'Classification', 'Clustering', 'Regression', 'Classification', 'Regression', 'Classification', 'Classification, Regression, Causal-Discovery', 'Classification, Clustering', 'Classification', 'Classification', 'Classification, Clustering', 'Classification', 'Classification', 'Classification', 'Classification, Regression, Clustering', 'Classification', 'Clustering', 'Classification, Regression', 'Classification, Clustering', 'Causal-Discovery', 'Clustering', 'Regression, Clustering', 'Classification', 'Classification, Regression, Clustering', 'Classification, Regression', 'Classification, Regression, Clustering', 'Classification, Clustering', 'Classification', 'Classification', 'Classification, Regression', 'Regression', 'Classification', 'Classification, Clustering', 'Classification, Regression', 'Classification', 'Classification, Regression', 'Classification, Clustering', 'Classification', 'Classification', 'Classification', 'Classification', 'Classification, Clustering', 'Classification', 'Classification, Regression, Clustering', 'Regression', 'Classification', 'Classification', 'Classification, Clustering', 'Classification', 'Classification', 'Regression', 'Regression', 'Classification', 'Classification, Clustering', 'Classification', 'Clustering', 'Classification', 'Classification', 'Classification', 'Classification', 'Classification', 'Classification, Clustering', 'Classification, Regression', 'Classification', 'Classification', 'Classification', 'Classification', 'Classification, Regression', 'Classification, Clustering', 'Classification', 'Classification', 'Classification, Regression, Causal-Discovery', 'Classification', 'Classification', 'Classification', 'Regression', 'Regression', 'Regression', 'Regression', 'Classification, Regression', 'Classification', 'Classification, Regression', 'Regression', 'Regression', 'Classification, Clustering', 'Classification', 'Regression', 'Classification', 'Regression', 'Classification', 'Classification, Clustering', 'Classification', 'Classification', 'Classification', 'Classification, Regression', 'Classification, Regression, Clustering', 'Classification', 'Classification', 'Classification', 'Regression', 'Regression', 'Classification', 'Classification, Clustering', 'Regression', 'Classification', 'Classification', 'Regression', 'Classification', 'Classification', 'Classification', 'Classification', 'Regression']\n"
     ]
    }
   ],
   "source": [
    "Task=[]\n",
    "try:\n",
    "    tags=driver.find_elements(By.XPATH,\"//tbody//tr//td[3]//p\")\n",
    "    for i in tags:\n",
    "        Task.append(i.text.replace(\"\\n\",\" \").strip(\"Default Task\"))\n",
    "except Exception:\n",
    "    Task.append(\"--\")\n",
    "Task.pop(0)\n",
    "Task.pop()\n",
    "print(Task)"
   ]
  },
  {
   "cell_type": "code",
   "execution_count": 11,
   "id": "635bff6c",
   "metadata": {},
   "outputs": [
    {
     "name": "stdout",
     "output_type": "stream",
     "text": [
      "['Categorical, Integer, Real', 'Categorical, Integer', 'Categorical, Integer, Real', 'Categorical', 'Categorical, Integer, Real', 'Categorical, Integer, Real', 'Categorical', 'Categorical', 'Categorical, Real', 'Categorical, Integer, Real', '', 'Categorical', 'Categorical', 'Categorical', 'Integer', 'Real', 'Real', 'Categorical, Integer', 'Categorical', 'Categorical, Integer', 'Categorical, Integer', 'Categorical', 'Categorical, Integer', '', 'Categorical, Integer', 'Categorical', 'Categorical, Integer, Real', 'Categorical, Real, Integer', 'Integer', 'Categorical, Integer', 'Categorical, Integer', 'Categorical, Integer, Real', 'Categorical, Integer', 'Categorical, Integer', 'Real', '', '', 'Categorical, Integer, Real', 'Real', 'Categorical, Integer', 'Real', 'Real', 'Integer', 'Categorical', 'Categorical, Integer, Real', 'Categorical, Integer, Real', 'Categorical, Integer, Real', 'Real', 'Real', 'Categorical, Integer, Real', 'Integer, Real', 'Real', 'Real', 'Categorical', 'Categorical, Integer, Real', 'Categorical', 'Categorical', 'Integer', 'Categorical, Integer, Real', '', 'Integer', 'Categorical', 'Categorical, Integer, Real', 'Categorical, Integer, Real', 'Categorical, Integer, Real', 'Categorical', 'Categorical', 'Categorical', 'Categorical', '', 'Integer, Real', 'Categorical', 'Integer', 'Integer', 'Categorical', '', 'Integer, Real', 'Integer', 'Integer', 'Categorical, Integer', 'Categorical', '', '', 'Real', 'Categorical, Integer', 'Categorical', 'Categorical', 'Categorical', 'Categorical', 'Integer', 'Integer, Real', 'Integer, Real', 'Categorical', 'Integer', 'Categorical, Integer', '', '', 'Categorical, Integer', 'Categorical', 'Categorical, Real', 'Categorical', 'Categorical, Integer', 'Categorical', 'Integer, Real', 'Real', 'Real', 'Integer, Real', 'Real', 'Categorical, Integer', '', '', 'Categorical, Real', 'Real', 'Categorical', 'Categorical, Integer', 'Categorical, Real', 'Real', '', 'Categorical, Integer, Real', 'Integer, Real', 'Categorical', 'Integer', 'Categorical, Integer', 'Categorical, Integer', 'Categorical, Integer', 'Real', 'Categorical, Integer', 'Categorical, Integer', '', '', 'Categorical', '', 'Categorical, Real', '', 'Categorical', 'Integer', 'Real', 'Categorical', '', '', 'Categorical, Integer, Real', 'Categorical, Integer', 'Categorical, Real', 'Integer', 'Real', 'Integer', 'Integer', 'Categorical', 'Real', 'Real', '', '', 'Real', 'Categorical, Integer', 'Categorical, Integer', 'Categorical, Integer', 'Real', 'Integer', 'Integer', 'Real', '', 'Integer', 'Real', 'Real', 'Real', 'Integer', 'Integer', 'Integer', 'Real', 'Real', 'Integer', 'Real', 'Real', 'Real', 'Integer', 'Integer', 'Real', 'Categorical', 'Real', 'Real', 'Real', 'Categorical, Integer', 'Real', 'Integer, Real', 'Real', 'Integer, Real', 'Integer', '', 'Real', 'Real', 'Real', 'Real', 'Real', 'Categorical, Integer, Real', 'Integer, Real', 'Real', 'Real', 'Real', '', 'Real', 'Integer', 'Integer, Real', 'Real', 'Real', 'Real', 'Real', 'Real', 'Real', '', 'Real', '', '', 'Integer, Real', 'Integer, Real', 'Real', '', 'Real', 'Integer, Real', 'Real', 'Real', 'Real', 'Real', 'Real', 'Real', '', 'Integer', 'Real', 'Real', 'Integer, Real', 'Integer', '', '', 'Real', 'Integer, Real', 'Real', 'Real', 'Real', 'Real', 'Real', 'Integer, Real', 'Real', 'Integer, Real', 'Real', 'Real', 'Real', 'Integer, Real', '', 'Real', 'Integer', 'Real', '', '', 'Real', 'Integer, Real', 'Real', 'Real', 'Real', 'Integer', 'Integer, Real', 'Real', '', 'Integer, Real', 'Real', 'Real', 'Integer, Real', 'Integer, Real', 'Integer, Real', 'Real', 'Real', 'Real', '', 'Real', '', '', 'Real', 'Real', 'Real', '', 'Real', 'Real', 'Integer', '', 'Real', '', 'Integer', '', 'Real', 'Integer, Real', 'Integer, Real', 'Real', 'Integer', 'Integer, Real', 'Real', '', '', 'Real', 'Real', 'Integer, Real', 'Integer', 'Integer, Real', 'Real', '', 'Real', 'Real', 'Real', 'Real', 'Real', 'Integer', 'Real', 'Real', 'Integer, Real', '', 'Real', 'Real', 'Integer', 'Real', 'Integer, Real', 'Categorical', '', 'Integer, Real', '', '', 'Integer, Real', 'Real', 'Real', '', 'Real', 'Real', 'Real', 'Real', 'Integer, Real', 'Real', 'Integer', 'Real', 'Real', 'Integer', 'Integer, Real', 'Real', 'Integer, Real', 'Integer', 'Real', 'Real', 'Real', 'Real', '', 'Real', 'Real', 'Real', 'Integer, Real', 'Real', 'Real', 'Real', '', 'Integer', '', 'Integer', 'Real', 'Real', 'Real', 'Integer', 'Integer', 'Integer, Real', 'Real', 'Integer', '', 'Integer, Real', 'Integer', 'Integer, Real', 'Real', 'Integer', 'Real', 'Real', 'Integer, Real', 'Integer', 'Real', 'Integer, Real', 'Integer, Real', 'Integer, Real', 'Integer, Real', 'Integer', 'Integer, Real', 'Integer', '', 'Integer, Real', '', 'Real', 'Real', '', 'Integer', 'Real', 'Real', 'Integer', 'Real', 'Integer', 'Integer', 'Integer, Real', 'Integer, Real', 'Integer', 'Integer', 'Real', 'Integer', 'Integer, Real', 'Integer', 'Integer', 'Integer', 'Integer, Real', 'Real', 'Integer, Real', 'Integer', '', 'Integer', 'Real', 'Integer, Real', 'Integer, Real', 'Real', '', 'Integer, Real', 'Real', '', 'Integer', 'Real', 'Real', 'Real', 'Integer', 'Integer', 'Real', 'Real', 'Integer, Real', '', 'Real', 'Real', 'Integer, Real', 'Integer', 'Integer', 'Real', '', '', 'Integer', 'Integer', 'Integer', '', 'Real', 'Categorical', 'Integer', 'Integer', 'Integer', 'Real', 'Real', 'Real', '', 'Integer, Real', '', 'Integer, Real', 'Real', 'Integer', '', '', 'Real', 'Real', 'Integer, Real', 'Real', 'Integer', 'Real', 'Real', 'Real', 'Integer, Real', 'Real', 'Real', 'Integer', 'Real', 'Integer', '', 'Integer, Real', 'Real', 'Real', 'Real', 'Real', 'Integer', 'Integer', 'Integer', 'Real', 'Integer, Real', 'Integer, Real', 'Integer, Real', 'Real', 'Real', 'Integer, Real', 'Real', '', '', '', 'Integer, Real', 'Integer', 'Integer, Real', 'Real', 'Real', 'Real', 'Real', 'Real', 'Integer, Real', 'Real', 'Real', 'Integer, Real', 'Integer', 'Real', 'Real', 'Integer, Real', '', 'Integer, Real', '', '', 'Integer, Real', 'Integer', '', 'Real', '', 'Real', 'Integer', '', 'Integer', 'Integer, Real', 'Integer, Real', '', '', 'Integer', 'Real', 'Integer, Real', 'Real', 'Real', 'Integer', 'Real', 'Real', 'Real', 'Integer, Real', 'Real', '', '', '', 'Real', 'Real', 'Integer, Real', 'Real', '', 'Integer', 'Real', 'Integer, Real', 'Integer', '', 'Integer', 'Real', '', 'Integer, Real', 'Integer', 'Integer, Real', 'Integer', '', '', '', 'Real', 'Real', 'Real', 'Integer, Real', '', 'Real', 'Integer', 'Integer, Real', 'Integer', 'Integer', '', '', 'Real', '', 'Integer', 'Real', '', '', 'Real', 'Integer, Real', 'Integer', '', '', 'Real', 'Integer, Real', '', 'Real', 'Real', 'Real', 'Real', 'Real', 'Real', '', 'Integer, Real', 'Real', 'Real', '', 'Real', 'Integer, Real', 'Integer, Real', '', 'Integer, Real', 'Integer, Real', '', 'Integer', 'Integer', 'Real', '', '', 'Real', 'Integer', 'Real', 'Real', 'Integer', '', 'Real', 'Integer', 'Integer', 'Integer', 'Integer, Real', 'Integer, Real', '', 'Real', 'Real']\n"
     ]
    }
   ],
   "source": [
    "atype=[]\n",
    "try:\n",
    "    tags=driver.find_elements(By.XPATH,\"//tr//td[4]//p\")\n",
    "    for i in tags:\n",
    "        atype.append(i.text.replace(\"\\n\",\" \").strip(\" \"))\n",
    "except Exception:\n",
    "    atype.append(\"NA\")\n",
    "atype.pop(0)\n",
    "print(atype)"
   ]
  },
  {
   "cell_type": "code",
   "execution_count": 12,
   "id": "77786e2f",
   "metadata": {},
   "outputs": [
    {
     "name": "stdout",
     "output_type": "stream",
     "text": [
      "['4177', '48842', '798', '37711', '452', '6000', '226', '226', '398', '205', '294', '625', '16', '286', '699', '198', '569', '108', '1728', '48842', '', '3196', '28056', '', '100', '67557', '690', '125', '209', '1473', '581012', '512', '366', '', '', '', '', '132', '336', '194', '352', '214', '306', '160', '303', '155', '368', '', '2310', '3279', '351', '150', '7797', '104', '57', '', '24', '20000', '345', '', '32', '148', '209', '528', '', '106', '128', '3190', '432', '202', '2000', '8124', '476', '6598', '12960', '', '5473', '5620', '10992', '90', '339', '', '', '', '167', '15', '1389', '307', '47', '23', '531', '4601', '267', '267', '76', '', '1000', '151', '958', '7200', '10', '285', '435', '527', '5000', '5000', '178', '1484', '101', '', '20000', '6650', '2565', '2458285', '299285', '340', '68040', '', '122', '178080', '50672', '640', '9000', '10104', '256932', '640', '191779', '4000000', '', '10000', '989818', '129000', '', '100000', '21578', '463', '600', '332', '', '', '690', '1000', '270', '6435', '2310', '58000', '946', '20008', '208', '528', '', '', '1024', '10080', '50400', '1025010', '19020', '1364', '961', '517', '200', '8000000', '1030', '606', '900', '2600', '1950', '13500', '4400', '2536', '300', '197', '2858', '748', '11640', '1593', '1567', '22632', '360', '103', '1994', '120', '4898', '2396130', '16772', '5875', '503', '51', '106', '2126', '5456', '8800', '164860', '', '1941', '130065', '515345', '440', '', '53500', '8235', '', '5749132', '2215', '310', '10000', '3000', '1500', '30000', '2500', '4143', '64', '53414', '65554', '45211', '1138562', '13910', '583', '2551', '34465', '5574', '245057', '182', '3850505', '138', '1080', '2075259', '210', '115', '3960456', '', '10299', '1600', '768', '308', '100', '237', '434874', '536', '140000', '6118', '165632', '18000', '540', '931', '1055', '100', '9120', '403', '111740', '10421', '5820', '403', '14980', '45730', '2584', '1372', '306', '120000', '13910', '2747', '3395', '39242', '4137', '17389', '51', '470', '132', '5000000', '11000000', '250', '126', '', '4889', '', '', '340', '501', '45781', '1503', '440', '2000', '9568', '168', '100000', '5665', '79', '127', '1040', '9900', '560', '60021', '1419', '101', '399', '58', '180', '21048', '', '750', '3000', '150', '1059', '11934', '27965', '216', '120', '649', '370', '4178504', '221579', '10800', '58509', '129685', '2456', '2921', '1151', '6590', '3000', '39797', '326', '913', '168286', '400', '314080', '637', '1710671', '12000', '10929', '1080', '40000', '43930257', '230318', '10500000', '13197', '', '30000', '324', '541909', '11164866', '163', '373', '20560', '40', '422937', '9358', '640', '919438', '40949', '5744', '10503', '42240', '102944', '500', '9782222', '11463', '17898', '1885', '19735', '1540', '4007', '153540', '606', '1353', '1956', '43824', '3942', '858', '287', '17764280', '106574', '9358', '11500', '92000', '315', '78095', '130', '74', '52854', '77', '811', '504', '401', '2856', '10546', '801', '1540', '1451', '1075', '78095', '7195', '3600', '76', '60', '405', '303', '303', '107888', '76000', '10000', '180', '745000', '12234', '292', '104', '60000', '2000', '165', '217', '1175', '704', '75128', '90', '90', '50', '71', '93239', '540', '105', '6611', '15', '372', '58000', '4960', '241600', '130000', '7062606', '740', '70', '2205', '10721', '640', '1000', '116', '1672', '322', '93600', '3060', '5879', '9200', '20000', '20867', '', '4143', '215063', '6000000', '21263', '63000000', '10190', '300', '12330', '5180', '756', '10000', '80', '1184', '1047', '777', '249', '414', '', '143', '7840', '30000', '35717', '135', '980', '5456', '120', '4095000', '7051', '240', '48204', '260000', '288000', '8300000', '125', '170', '141712', '3916', '6262', '420768', '1067371', '1385', '908', '546', '13956534', '15630426', '8992', '1687', '779', '1056', '590', '21643', '7750', '14057567', '27170754', '597', '329', '299', '20000', '26136', '1000', '399', '24017', '325834', '2916697', '22470', '189', '520', '826', '2279', '28764', '7107', '288000', '9800', '4760', '72', '1450', '170', '1984', '2955', '65532', '65919', '2111', '3810', '18', '244', '104', '139', '360177', '36733', '4480', '165474', '1985', '10000', '232', '150', '11', '14057567', '8760', '48', '6321', '3150', '17256', '187', '399', '14', '467', '597', '23700', '615', '6819', '1000', '', '2633', '200', '13028', '800', '1700', '521', '120000', '666', '88', '200', '2279', '23570', '10000', '37700', '1850', '11', '147270', '3150', '17256', '597', '7624', '314', '1197', '70', '7624', '26737', '10000', '13611', '12684', '48', '731', '731', '557', '107', '158716', '15744', '153000', '557', '36', '4200', '61069', '52417', '900', '35040', '4746', '73', '11000', '4465', '145', '202', '221', '597', '298', '110341', '705', '2101', '1765', '150', '4000', '6272', '1996', '35040', '75840', '400', '1014', '10129', '4000']\n"
     ]
    }
   ],
   "source": [
    "instance=[]\n",
    "try:\n",
    "    tags=driver.find_elements(By.XPATH,\"//tr//td[5]//p\")\n",
    "    for i in tags:\n",
    "        instance.append(i.text.replace(\"\\n\",\" \").strip(\" \"))\n",
    "except Exception:\n",
    "    instance.append(\"NA\")\n",
    "instance.pop(0)\n",
    "print(instance)"
   ]
  },
  {
   "cell_type": "code",
   "execution_count": 13,
   "id": "681e9ac1",
   "metadata": {},
   "outputs": [
    {
     "name": "stdout",
     "output_type": "stream",
     "text": [
      "['8', '14', '38', '294', '279', '7', '', '69', '8', '26', '1', '4', '4', '9', '10', '34', '32', '13', '6', '14', '22', '36', '6', '', '6', '42', '15', '', '9', '9', '54', '39', '33', '20', '', '', '', '12', '8', '30', '', '10', '3', '5', '75', '19', '27', '', '19', '1558', '34', '4', '617', '12', '16', '7', '4', '16', '7', '', '56', '18', '8', '22', '', '58', '', '61', '7', '', '649', '22', '168', '168', '8', '', '10', '64', '16', '8', '17', '', '', '72', '4', '6', '10', '35', '35', '4', '102', '57', '22', '44', '45', '', '', '5', '9', '21', '32', '17', '16', '38', '21', '40', '13', '8', '17', '', '', '15', '22', '68', '40', '17', '89', '', '4', '12', '', '', '86', '72', '61', '12', '481', '42', '', '', '', '', '', '', '5', '90', '', '5', '', '', '14', '20', '13', '36', '19', '9', '18', '4', '60', '10', '', '', '10', '4', '3', '11', '11', '', '6', '13', '', '100000', '9', '101', '10000', '20000', '100000', '5000', '500', '73', '43', '23', '3', '5', '', '256', '591', '70', '91', '10', '128', '6', '12', '3231961', '5409', '26', '', '', '10', '23', '24', '13', '8', '', '27', '50', '90', '138672', '', '386', '', '', '12', '147', '6', '8', '27', '10000', '20000', '10000', '54877', '4702', '24', '29', '17', '3', '128', '10', '242', '120', '', '4', '13', '52', '47', '857', '9', '7', '200', '4', '', '561', '64', '8', '7', '10', '9', '4', '8', '77', '51', '18', '1950000', '18', '1300', '41', '6', '5625', '5', '', '7', '33', '5', '15', '9', '19', '5', '5', '1000000', '129', '', '20', '152', '24', '16', '35', '17', '5', '18', '28', '7', '309', '3', '6', '', '', '16', '13', '5', '6', '8', '2', '4', '148', '55', '17', '8', '42', '26', '50', '2', '281', '120', '', '6', '120432', '150000', '529', '', '16', '2500', '5', '68', '16', '100', '216', '23', '33', '140256', '19', '20', '20', '49', '12', '30', '5232', '20', '1', '', '61', '27', '53', '11', '25', '0', '20', '9', '3', '561', '82', '13', '16', '13', '28', '4', '', '24', '34', '8', '128', '15', '513', '7', '7', '5', '15', '480000', '11', '54', '561', '64', '6', '116', '19', '', '5812', '9', '32', '29', '67', '', '25', '6400', '10', '5', '13', '98', '36', '69', '2158859', '518', '15', '179', '', '12', '38', '65', '102', '86', '7', '53', '20', '1', '71', '29', '20531', '65', '3', '22', '38', '22', '4814', '698', '13', '10', '59', '56', '482', '171', '5', '500', '411', '8519', '21', '21', '171', '7', '49', '12', '3', '21', '9', '8', '7', '2', '11', '11', '173', '5', '15', '3', '105', '25000', '', '18', '21000', '115', '21', '206', '43680', '8', '10', '59', '10', '5', '5', '1000', '138', '', '16', '2', '10', '', '8', '6', '129', '81', '12', '6', '22', '18', '9', '754', '14', '5', '', '', '18', '7', '7', '', '7', '5', '6', '4', '18', '11', '25', '', '20', '12', '46', '9', '8', '49', '11', '8', '54', '36', '3916', '710', '18', '8', '29', '7', '9', '37', '6', '1024', '1024', '14', '7', '8265', '29', '25', '3', '115', '1', '12', '13', '200000', '6', '21', '4', '2400', '175', '10', '4714', '23', '17', '2', '9', '8', '280', '49', '3', '14', '19', '', '54', '8', '1087', '12', '3', '17', '8', '9', '12', '1656', '6', '2', '11', '533', '14', '84', '22', '16', '52', '19', '3', '14', '321', '13', '13', '55', '39', '4', '7', '79', '1', '', '14', '96', '21', '', '5', '2', '69', '9', '124', '20', '25', '11', '19', '9', '9', '5', '7', '4006', '2', '19', '4', '13', '55', '1', '7842', '15', '15', '70', '7842', '4', '14', '17', '23', '321', '1068', '1068', '5', '6', '4', '', '5', '5', '15', '7', '21', '9', '8', '11', '21', '22', '2', '241', '33', '29', '7', '1', '', '4', '11', '47', '10', '3', '2', '632', '6826', '11', '525', '50', '7', '16', '2']\n"
     ]
    }
   ],
   "source": [
    "attribut=[]\n",
    "try:\n",
    "    tags=driver.find_elements(By.XPATH,\"//tr//td[6]//p\")\n",
    "    for i in tags:\n",
    "        attribut.append(i.text.replace(\"\\n\",\" \").strip(\" \"))\n",
    "except NoSuchElementException:\n",
    "    attribut.append(\"NA\")\n",
    "attribut.pop(0)\n",
    "print(attribut)    "
   ]
  },
  {
   "cell_type": "code",
   "execution_count": 14,
   "id": "0e1426b1",
   "metadata": {},
   "outputs": [
    {
     "name": "stdout",
     "output_type": "stream",
     "text": [
      "['1995', '1996', '', '1998', '1998', '1992', '1987', '1992', '1993', '1987', '1994', '1994', '', '1988', '1992', '1995', '1995', '1990', '1997', '1996', '1988', '1989', '1994', '', '', '1995', '', '1992', '1987', '1997', '1998', '1995', '1998', '', '', '1994', '', '1989', '1996', '1990', '1990', '1987', '1999', '1989', '1988', '1988', '1989', '', '1990', '1998', '1989', '1988', '1994', '1990', '1988', '1988', '1990', '1991', '1990', '', '1992', '1988', '1990', '1996', '1995', '1990', '', '1992', '1992', '1994', '', '1987', '1994', '1994', '1997', '1991', '1995', '1998', '1998', '1993', '1988', '', '', '1992', '1993', '1988', '1989', '1988', '1987', '1993', '1988', '1999', '2001', '2001', '', '1992', '1993', '1997', '1991', '1987', '1994', '1988', '1987', '1993', '1988', '1988', '1991', '1996', '1990', '', '1999', '1999', '2002', '', '2000', '1999', '1999', '2001', '1999', '1999', '2000', '1999', '2000', '1999', '1999', '', '1998', '1999', '2001', '1999', '', '2003', '1999', '1999', '1997', '1999', '1999', '1998', '', '', '', '1994', '', '1993', '1990', '', '', '', '', '', '', '', '1989', '2006', '2006', '2007', '2007', '2007', '2007', '2008', '2008', '2008', '2007', '2008', '2008', '2008', '2008', '2008', '2008', '2008', '2008', '2008', '2008', '2008', '2009', '2008', '2008', '2008', '2009', '2009', '2009', '2009', '2009', '2009', '2010', '2009', '2010', '2010', '2010', '2010', '2010', '2010', '2010', '2010', '2010', '2010', '2011', '2011', '2011', '2011', '2011', '2011', '2011', '2011', '2011', '2011', '2011', '2011', '2011', '2011', '2011', '2011', '2011', '2011', '2012', '2012', '2012', '2012', '2012', '2012', '2012', '2012', '2012', '2012', '2012', '2012', '2012', '2012', '2012', '2012', '2012', '2012', '2012', '2012', '2013', '2013', '2013', '2013', '2013', '2013', '2013', '2013', '2013', '2013', '2013', '2013', '2013', '2013', '2013', '2013', '2013', '2013', '2013', '2013', '2013', '2013', '2013', '2013', '2013', '2013', '2013', '2013', '2013', '2014', '2013', '2013', '2013', '2014', '2014', '2014', '2014', '2014', '2014', '2014', '2014', '2014', '2014', '2014', '2013', '2014', '2014', '2014', '2014', '2014', '2014', '2014', '2014', '2014', '2014', '2014', '2014', '2014', '2014', '2014', '2014', '2014', '2014', '2014', '2014', '2014', '2014', '2014', '2014', '2014', '2014', '2015', '2014', '2014', '2015', '2015', '2015', '2015', '2015', '2015', '2015', '2015', '2014', '2015', '2015', '2015', '2015', '2015', '2015', '2015', '2015', '2015', '2015', '2015', '2015', '2015', '2015', '2015', '2015', '2016', '2016', '2015', '2016', '2016', '2015', '2016', '2016', '2016', '2016', '2016', '2016', '2016', '2016', '2016', '2016', '2016', '2016', '2016', '2016', '2016', '2016', '2016', '2017', '2016', '2017', '2016', '2017', '2017', '2016', '2016', '2017', '2017', '2016', '2017', '2017', '2017', '2017', '2016', '2017', '2016', '2016', '2016', '2017', '2017', '2017', '2017', '2017', '2017', '2017', '2016', '2016', '2016', '2016', '2017', '2017', '2017', '2017', '2017', '2016', '2017', '2017', '2017', '2017', '2017', '2017', '2017', '2016', '2016', '2016', '2017', '2017', '2017', '2017', '2017', '2017', '2017', '2017', '2016', '2018', '2018', '2016', '2018', '2018', '2018', '2018', '2018', '2018', '2018', '2018', '2018', '2018', '2018', '2018', '2018', '2018', '2018', '2018', '2018', '2018', '2018', '2018', '2018', '2018', '2018', '2018', '2018', '2018', '2018', '2018', '2018', '2018', '2018', '2018', '2018', '2018', '2018', '2018', '2018', '2018', '2018', '2018', '2018', '2018', '2018', '2018', '2018', '2018', '2018', '2018', '2019', '2019', '2018', '2018', '2018', '2019', '2019', '2019', '2019', '2019', '2019', '2019', '2019', '2019', '2019', '2019', '2019', '2019', '2019', '2019', '2019', '2019', '2019', '2019', '2019', '2019', '2019', '2019', '2019', '2019', '2019', '2020', '2020', '2019', '2020', '2020', '2020', '2020', '2020', '2019', '2020', '2020', '2020', '2020', '2020', '2020', '2020', '2019', '2019', '2019', '2019', '2019', '2019', '2019', '2019', '2019', '2019', '2019', '2019', '2019', '2019', '2019', '2019', '2019', '2019', '2019', '2019', '2019', '2019', '2019', '2019', '2019', '2019', '2020', '2020', '2020', '2020', '2020', '2020', '2020', '2020', '2020', '2020', '2020', '2020', '2020', '2020', '2020', '2020', '2020', '2020', '2020', '2020', '2020', '2020', '2020', '2020', '2021', '2018', '2018', '2019', '2019', '2019', '2019', '2019', '2019', '2019', '2020', '2020', '2020', '2020', '2020', '2020', '2020', '2020', '2020', '2020', '2020', '2020', '2020', '2020', '2020', '2021', '2021', '2021', '2021', '2021', '2021', '2021', '2021', '2021', '2021', '2021', '2021', '2021', '2021', '2021', '2021', '2021', '2021', '2021', '2021', '2021', '2020', '2020', '2020', '2020', '2020', '2020', '2020', '2020', '2020', '2020', '2020', '2020', '2020', '2020', '2021', '2021']\n"
     ]
    }
   ],
   "source": [
    "year=[]\n",
    "try:\n",
    "    tags=driver.find_elements(By.XPATH,\"//tr//td[7]//p\")\n",
    "    for i in tags:\n",
    "        year.append(i.text.replace(\"\\n\",\" \").strip(\" \"))\n",
    "except Exception:\n",
    "    year.append(\"NA\")\n",
    "year.pop(0)\n",
    "print(year)"
   ]
  },
  {
   "cell_type": "code",
   "execution_count": 15,
   "id": "1518287c",
   "metadata": {},
   "outputs": [
    {
     "name": "stdout",
     "output_type": "stream",
     "text": [
      "622 622 622 622 622 622 622\n"
     ]
    }
   ],
   "source": [
    "print(len(name),len(atype),len(Task),len(year),len(attribut),len(instance),len(data_type))"
   ]
  },
  {
   "cell_type": "code",
   "execution_count": 16,
   "id": "5230314b",
   "metadata": {},
   "outputs": [
    {
     "data": {
      "text/html": [
       "<div>\n",
       "<style scoped>\n",
       "    .dataframe tbody tr th:only-of-type {\n",
       "        vertical-align: middle;\n",
       "    }\n",
       "\n",
       "    .dataframe tbody tr th {\n",
       "        vertical-align: top;\n",
       "    }\n",
       "\n",
       "    .dataframe thead th {\n",
       "        text-align: right;\n",
       "    }\n",
       "</style>\n",
       "<table border=\"1\" class=\"dataframe\">\n",
       "  <thead>\n",
       "    <tr style=\"text-align: right;\">\n",
       "      <th></th>\n",
       "      <th>Name</th>\n",
       "      <th>Data Type</th>\n",
       "      <th>Attribute_Type</th>\n",
       "      <th>Task</th>\n",
       "      <th>Attributes</th>\n",
       "      <th>Instances</th>\n",
       "      <th>Year</th>\n",
       "    </tr>\n",
       "  </thead>\n",
       "  <tbody>\n",
       "    <tr>\n",
       "      <th>0</th>\n",
       "      <td>Abalone</td>\n",
       "      <td>Multivariate</td>\n",
       "      <td>Categorical, Integer, Real</td>\n",
       "      <td>Classification</td>\n",
       "      <td>8</td>\n",
       "      <td>4177</td>\n",
       "      <td>1995</td>\n",
       "    </tr>\n",
       "    <tr>\n",
       "      <th>1</th>\n",
       "      <td>Adult</td>\n",
       "      <td>Multivariate</td>\n",
       "      <td>Categorical, Integer</td>\n",
       "      <td>Classification</td>\n",
       "      <td>14</td>\n",
       "      <td>48842</td>\n",
       "      <td>1996</td>\n",
       "    </tr>\n",
       "    <tr>\n",
       "      <th>2</th>\n",
       "      <td>Annealing</td>\n",
       "      <td>Multivariate</td>\n",
       "      <td>Categorical, Integer, Real</td>\n",
       "      <td>Classification</td>\n",
       "      <td>38</td>\n",
       "      <td>798</td>\n",
       "      <td></td>\n",
       "    </tr>\n",
       "    <tr>\n",
       "      <th>3</th>\n",
       "      <td>Anonymous Microsoft Web Data</td>\n",
       "      <td></td>\n",
       "      <td>Categorical</td>\n",
       "      <td>Recommender-System</td>\n",
       "      <td>294</td>\n",
       "      <td>37711</td>\n",
       "      <td>1998</td>\n",
       "    </tr>\n",
       "    <tr>\n",
       "      <th>4</th>\n",
       "      <td>Arrhythmia</td>\n",
       "      <td>Multivariate</td>\n",
       "      <td>Categorical, Integer, Real</td>\n",
       "      <td>Classification</td>\n",
       "      <td>279</td>\n",
       "      <td>452</td>\n",
       "      <td>1998</td>\n",
       "    </tr>\n",
       "    <tr>\n",
       "      <th>...</th>\n",
       "      <td>...</td>\n",
       "      <td>...</td>\n",
       "      <td>...</td>\n",
       "      <td>...</td>\n",
       "      <td>...</td>\n",
       "      <td>...</td>\n",
       "      <td>...</td>\n",
       "    </tr>\n",
       "    <tr>\n",
       "      <th>617</th>\n",
       "      <td>Influenza outbreak event prediction via Twitte...</td>\n",
       "      <td>Multivariate</td>\n",
       "      <td>Integer, Real</td>\n",
       "      <td>Classification</td>\n",
       "      <td>525</td>\n",
       "      <td>75840</td>\n",
       "      <td>2020</td>\n",
       "    </tr>\n",
       "    <tr>\n",
       "      <th>618</th>\n",
       "      <td>Turkish Music Emotion Dataset</td>\n",
       "      <td>Multivariate</td>\n",
       "      <td>Integer, Real</td>\n",
       "      <td>Classification</td>\n",
       "      <td>50</td>\n",
       "      <td>400</td>\n",
       "      <td>2020</td>\n",
       "    </tr>\n",
       "    <tr>\n",
       "      <th>619</th>\n",
       "      <td>Maternal Health Risk Data Set</td>\n",
       "      <td></td>\n",
       "      <td></td>\n",
       "      <td>Classification</td>\n",
       "      <td>7</td>\n",
       "      <td>1014</td>\n",
       "      <td>2020</td>\n",
       "    </tr>\n",
       "    <tr>\n",
       "      <th>620</th>\n",
       "      <td>Room Occupancy Estimation</td>\n",
       "      <td>Multivariate, Time-Series</td>\n",
       "      <td>Real</td>\n",
       "      <td>Classification</td>\n",
       "      <td>16</td>\n",
       "      <td>10129</td>\n",
       "      <td>2021</td>\n",
       "    </tr>\n",
       "    <tr>\n",
       "      <th>621</th>\n",
       "      <td>Image Recognition Task Execution Times in Mobi...</td>\n",
       "      <td>Univariate</td>\n",
       "      <td>Real</td>\n",
       "      <td>Regression</td>\n",
       "      <td>2</td>\n",
       "      <td>4000</td>\n",
       "      <td>2021</td>\n",
       "    </tr>\n",
       "  </tbody>\n",
       "</table>\n",
       "<p>622 rows × 7 columns</p>\n",
       "</div>"
      ],
      "text/plain": [
       "                                                  Name  \\\n",
       "0                                              Abalone   \n",
       "1                                                Adult   \n",
       "2                                            Annealing   \n",
       "3                         Anonymous Microsoft Web Data   \n",
       "4                                           Arrhythmia   \n",
       "..                                                 ...   \n",
       "617  Influenza outbreak event prediction via Twitte...   \n",
       "618                      Turkish Music Emotion Dataset   \n",
       "619                      Maternal Health Risk Data Set   \n",
       "620                          Room Occupancy Estimation   \n",
       "621  Image Recognition Task Execution Times in Mobi...   \n",
       "\n",
       "                      Data Type              Attribute_Type  \\\n",
       "0                 Multivariate   Categorical, Integer, Real   \n",
       "1                 Multivariate         Categorical, Integer   \n",
       "2                 Multivariate   Categorical, Integer, Real   \n",
       "3                                               Categorical   \n",
       "4                 Multivariate   Categorical, Integer, Real   \n",
       "..                          ...                         ...   \n",
       "617               Multivariate                Integer, Real   \n",
       "618               Multivariate                Integer, Real   \n",
       "619                                                           \n",
       "620  Multivariate, Time-Series                         Real   \n",
       "621                 Univariate                         Real   \n",
       "\n",
       "                   Task Attributes Instances  Year  \n",
       "0        Classification          8      4177  1995  \n",
       "1        Classification         14     48842  1996  \n",
       "2        Classification         38       798        \n",
       "3    Recommender-System        294     37711  1998  \n",
       "4        Classification        279       452  1998  \n",
       "..                  ...        ...       ...   ...  \n",
       "617      Classification        525     75840  2020  \n",
       "618      Classification         50       400  2020  \n",
       "619      Classification          7      1014  2020  \n",
       "620      Classification         16     10129  2021  \n",
       "621          Regression          2      4000  2021  \n",
       "\n",
       "[622 rows x 7 columns]"
      ]
     },
     "execution_count": 16,
     "metadata": {},
     "output_type": "execute_result"
    }
   ],
   "source": [
    "df=pd.DataFrame({\"Name\":name,\"Data Type\":data_type,\"Attribute_Type\":atype,\"Task\":Task,\"Attributes\":attribut,\"Instances\":instance,\"Year\":year})\n",
    "df"
   ]
  },
  {
   "cell_type": "code",
   "execution_count": 17,
   "id": "7d1f8fd4",
   "metadata": {},
   "outputs": [],
   "source": [
    "driver.close()"
   ]
  },
  {
   "cell_type": "markdown",
   "id": "1bb4e09a",
   "metadata": {},
   "source": [
    "# Scrape the details of Data science recruiters"
   ]
  },
  {
   "cell_type": "code",
   "execution_count": 123,
   "id": "479798f7",
   "metadata": {},
   "outputs": [],
   "source": [
    "driver=webdriver.Chrome(r\"chromedriver.exe\")"
   ]
  },
  {
   "cell_type": "code",
   "execution_count": 124,
   "id": "2b4fad0b",
   "metadata": {},
   "outputs": [],
   "source": [
    "driver.get(\"https://www.naukri.com/hr-recruiters-consultants\")"
   ]
  },
  {
   "cell_type": "code",
   "execution_count": 125,
   "id": "dc786896",
   "metadata": {},
   "outputs": [],
   "source": [
    "driver.maximize_window()"
   ]
  },
  {
   "cell_type": "code",
   "execution_count": 126,
   "id": "9d70c69a",
   "metadata": {},
   "outputs": [],
   "source": [
    "recruiters=driver.find_element(By.XPATH,\"/html/body/div[1]/div/ul/li[2]/a/div\")\n",
    "recruiters.click()"
   ]
  },
  {
   "cell_type": "code",
   "execution_count": 127,
   "id": "08a18809",
   "metadata": {},
   "outputs": [],
   "source": [
    "search=driver.find_element(By.XPATH,\"/html/body/div[2]/div[2]/div[1]/div[1]/form/div[1]/div/div[1]/div[1]/div[2]/input\")\n",
    "search.send_keys(\"Data Science\")"
   ]
  },
  {
   "cell_type": "code",
   "execution_count": 128,
   "id": "60741612",
   "metadata": {},
   "outputs": [],
   "source": [
    "butn=driver.find_element(By.XPATH,\"/html/body/div[2]/div[2]/div[1]/div[1]/form/div[1]/button\")\n",
    "butn.click()"
   ]
  },
  {
   "cell_type": "code",
   "execution_count": 129,
   "id": "b2d94ac2",
   "metadata": {},
   "outputs": [
    {
     "name": "stdout",
     "output_type": "stream",
     "text": [
      "['Aakash Harit', 'shravan Kumar Gaddam', 'MARSIAN Technologies LLP', 'Anik Agrawal', 'subhas patel', 'Abhishek - Only Analytics Hiring - India and', 'Institute for Financial Management and Resear', 'Balu Ramesh', 'Asif Lucknowi', 'InstaFinancials', 'Kalpana Dumpala', 'Mubarak', 'Kushal Rastogi', 'Mahesh Babu Channa', 'Priyanka Akiri', 'Kapil Devang', 'Dhruv Dev Dubey', 'Vaishnavi Kudalkar', 'Sakshi Chhikara', 'Ruchi Dhote', 'Manisha Yadav', 'Riya Rajesh', 'Rashmi Bhattacharjee', 'Faizan Kareem', 'Rithika dadwal', 'Sandhya Khandagale', 'Shaun Rao', 'Deeparchi Sharma', 'Azahar Shaikh', 'Manas', 'kumar', 'Sunil Vedula', 'Rajat Kumar', 'Avnish Mishra', 'Jayanth N', 'Avodha', 'Priya Khare', 'Amit Sharma', 'Kanan', 'Shashikant Chaudhary', 'Brad', 'Rutuja Pawar', 'Madhusudhan Sridhar', 'Ankit Sinha', 'Gaurav Chouhan', 'Rashi Kacker', 'Ashwini', 'Balaji Kolli', 'Rajani Nagaraj', 'ROHIT Kumar']\n"
     ]
    }
   ],
   "source": [
    "name=[]\n",
    "try:\n",
    "    tags=driver.find_elements(By.XPATH,\"//span[@class='fl ellipsis']\")\n",
    "    for i in tags:\n",
    "        name.append(i.text.replace(\"\\n\",\" \").strip(\" \"))\n",
    "except Exception:\n",
    "    name.append(\"--\")\n",
    "print(name)"
   ]
  },
  {
   "cell_type": "code",
   "execution_count": 130,
   "id": "54572cfa",
   "metadata": {},
   "outputs": [
    {
     "name": "stdout",
     "output_type": "stream",
     "text": [
      "['HR Manager', 'Company Recruiter', 'Company HR', 'Company Recruiter', 'Founder CEO', 'Recruitment Lead Consultant', 'Programme Manager', 'HR Administrator', 'Director', 'Human Resource', 'Executive Hiring', 'Company HR', 'Company HR', 'HR Team Lead', 'HR Manager', 'HR Manager', 'Company Recruitment Head', 'HR Executive', 'Assistant Manager HR', 'Senior Executive Talent Acquisition', 'HR Executive', 'Manager Talent Acquisition', 'HR Head', 'HR MANAGER', 'HR Recruiter', 'HR Recruiter', 'Manager Human Resources', 'Company Recruiter', 'Company Recruiter', 'Lead Talent acquisition', 'Proprietor', 'CEO', 'Founder CEO', 'Senior Technical &amp; Corporate Recruiter', 'Project Manager', 'Business Development Associate', 'Senior Manager', 'Consultant', 'senior technology instructor', 'HR Recruiter/HR Excutive', 'Manager, Technical Recruiting', 'Technical Recruiter', 'Erp Implementer', 'Head Analytics', 'Chief Technical Officer', 'Sr Product Manager', 'Director Global Delivery', 'Co Founder', 'HR Manager', 'Architect']\n"
     ]
    }
   ],
   "source": [
    "designation=[]\n",
    "try:\n",
    "    tags=driver.find_elements(By.XPATH,\"//span[@class='ellipsis clr']\")\n",
    "    for i in tags:\n",
    "        designation.append(i.text.replace(\"\\n\",\" \").strip(\" \"))\n",
    "except NoSuchElementException:\n",
    "    designation.append(\"--\")\n",
    "print(designation)"
   ]
  },
  {
   "cell_type": "code",
   "execution_count": 139,
   "id": "433ce80c",
   "metadata": {},
   "outputs": [
    {
     "name": "stdout",
     "output_type": "stream",
     "text": [
      "['Data Science Network', 'Shore Infotech India Pvt. Ltd', 'MARSIAN Technologies LLP', 'Enerlytics Software Solutions Pvt Ltd', 'LibraryXProject', 'Apidel Technologies Division of Transpower', 'IFMR', 'Techvantage Systems Pvt Ltd', 'Weupskill- Live Wire India', 'CBL Data Science Private Limited', 'Innominds Software', 'MoneyTap', 'QuantMagnum Technologies Pvt. Ltd.', 'SocialPrachar.com', 'Infinitive Software Solutions', 'BISP Solutions', 'NETAPS FOUNDATION', 'Codeachive learning', 'BIZ INFOTECNO PRIVATE LIMITED', 'Bristlecone India Ltd', 'Easi Tax', 'Novelworx Digital Solutions', 'AXESTRACK SOFTWARE SOLUTIONS PRIVATE...', 'FirstTech Consaltants Pvt.Ltd', 'Affine Analytics', 'Compumatrice Multimedia Pvt Ltd', 'Exela Technologies', 'ZIGRAM', 'NEAL ANALYTICS SERVICES PVT LTD', 'Autumn Leaf Consulting Services Private...', 'trainin', 'Nanoprecise Sci Corp', 'R.S Consultancy &amp; Services', 'RMS Risk Management Solutions', 'Dollarbird Information Services Pvt, Ltd', 'Nikitha Palaparthi', 'Independent Consultant', 'ASCO consulting', 'NY INST', '3D India Staffing Research &amp; Consulting...', 'O.C. Tanner', 'Demand Matrix', 'MADHUSUDHAN SRIDHAR', 'Suntech Global', 'Strategic Consulting Lab', 'Impel Labs Pvt. Ltd.', 'MRP Advisers', 'Saras Solutions India Pvt Ltd', 'WildJasmine', 'LNT Private Limited']\n"
     ]
    }
   ],
   "source": [
    "comp=[]\n",
    "try:\n",
    "    tag=driver.find_elements(By.XPATH,\"//a[2][@class='ellipsis']\")\n",
    "    for i in tag:\n",
    "        comp.append(i.text)\n",
    "except Exception:\n",
    "    comp.append(\"-\")\n",
    "print(comp)"
   ]
  },
  {
   "cell_type": "code",
   "execution_count": 142,
   "id": "8adf57a6",
   "metadata": {},
   "outputs": [
    {
     "name": "stdout",
     "output_type": "stream",
     "text": [
      "['Classic ASP Developer, Internet Marketing Professional, Data Science SME, Content Writers, SEO Professional, Revenue Professional', '.Net, Java, Data Science, Linux Administration, Sql Server Development, Winforms, Wcf Services, Wpf, Telecom Engineering, Technical Management, Software', 'Data Science, Artificial Intelligence, Machine Learning, Business Analytics, Deep Learning, statistics, Data Analytics, Data Analysis, support vector machine', 'Mean Stack, javascript, angularjs, mongodb, Web Services, rest, express, Node.js, Big Data, iot, Data Science, Cloud Computing, saas, Aws', 'Hadoop, Spark, Digital Strategy, Data Architecture, Command Center, Cdp, Dmp, Kafka, Data Science, Data Analysis, Big Data Analytics, Real Time Analysis, SQL', 'Analytics, Business Intelligence, Business Analytics, Predictive Modeling, Predictive Analytics, Data Science, Data Analysis, Data Analytics, Big Data, Big', 'Data Science', 'Machine Learning, algorithms, Go Getter, Computer Science, spark, Big Data, hdfs, sql, cassandra, hadoop, python, scala, java, Data Science, Front End', 'Technical Training, Software Development, Presentation Skills, B.tech, M.tech, B.e., mca, msc, Computer Science, freshers, jobs in indore, Data Science, itil', 'Software Development, It Sales, Account Management, Data Analysis, Customer Service, Sr, Software Engineering, Mvc, Ajax, Asp.net, Html, C#, Javascript', 'Qa, Ui/ux, Java Developer, Java Architect, C++/qt, Php, Lamp, Api, J2ee, Java, Soa, Esb, Middleware, Bigdata Achitect, Hadoop Architect, Deep', 'Business Intelligence, Data Warehousing, Data Science, Business Analytics, Customer Support, Business Reporting, Bi', 'Office Administration, Hr Administration, telecalling, client relationship management, Client Acquisition, Sales, Reception, HR, Recruitment, Onboarding, Human', 'Social Media, digital media maketing, seo, smm, smo, sem, Content Wirting, social media marketing, social media manager, digital media marketing manager', 'Oracle Dba, Data Science, Data Warehousing, ETL, Jupyter, Numpy, Data Transformation, Snowflake, Teradata, Python, Data Manipulation, Relational Databases', 'Big Data, Hadoop, Data Analytics, Data Science', 'Server Administartion, Verilog, Vhdl, Digital Marketing, Market Research, Property Research, Legal, It And Non It Recruitment, Logistics, Supply Chain, Bfsi', 'Data Science, Python, Data Analytics', 'React.js, Data Science, Java, Front End, Business Analytics, Backend, Tableau, Python, Qa Testing, Automation Testing', 'Qlikview, Qlik Sense, Microsoft Azure, Power Bi, Data Science, Machine Learning', 'Telecalling, Client Interaction, Marketing, Research, Web Development, Social Media Marketing, Data Entry Operation, Excel, Ms Office, Invoicing', 'Data Science', 'Corporate Sales, Software Development, Software Sales, Marketing, Creative Designing, Corporate Planning, Senior Management, Crm, Client Relationship', 'Data Analytics, Data Science, Machine Learning, Deep Learning, Nlp, Data Mining, Python, R, Database Administration, Text Mining', 'Data Science, Machine Learning, Python, R, Deep Learning, Big Data, Hadoop', 'Big Data, Data Science, Artificial Intelligence, Hadoop, Ui Development, Php, Freelancing, .Net, Software Testing, Sap, Leadership Hiring', 'Java, Net, Angularjs, Hr, Infrastructure, Management, Project Management, Business Analysis, Data Science, Information Technology, Technology', 'Research, Digital Marketing, Analytics, Software Development, Data Science, Consulting', 'Data Science, Artificial Intelligence, Machine Learning, Data Analytics', 'Software Architecture, Vp Engineering, Product Management, analytics, Data Science, Node.js, Principal Engineer, Big Data, python, angularjs, React.js', 'Data Science, Hadoop, Rpas, Devops, Python, Aws, Teaching, Big Data', 'Signal Processing, Machine Learning, Neural Networks, Data Science, Predictive Analytics, Time Series Analysis, Data Visualization, Technical Leadership, Data', 'Web Technologies, Project Management, Software Architecture, Data Science, Object Oriented Programming, Computer Science, Electrical Engineering, Architecture', 'Data Science, Machine Learning, Deep Learning, Accounting, Statistics', 'Data Analytics, Managed Services, Team Leading, python, Machine Learning, Google Analytics, Dmp, Aws, Campaign Analytics, Digital Campaigns, Audience', 'Ethical Hacking, Security Operations Center, SOC, Managed Services, Data Science, Machine Learning, Artificial Intelligence, Operations Research, Education', 'Data Science, Artificial Intelligence, analytics, Business Intelligence, python, tableau, Power Bi, qlikview, sql, Data Warehousing, Data Visualization', 'Machine Learning, Artificial Intelligence, Data Science, Software Engineering, Software Development, Graduate Engineer Trainee, Fresher, Data Analytics, Java', 'C, C++, Artificial Intelligence, Python, Php, Web Development, Matlab, Data Science, Augmented Reality, C C++', 'Relationship Management, Retail Sales, Private Banking, Mutual Funds, NISM, Equity, Finance, Financial Products, Financial Services, Verbal, Written', 'Data Science, Software Engineering', 'Data Science, Big Data Analytics, Digital Marketing, Content Writing, Ui Development, Database Development, Qa Automation, Python, Project Management', 'Data Science, Recruitment, Salary', 'B.Tech, Tableau, Statistics, R, Analytics, Time Series, Data Science, Business Solutions, SQL, Technical Skills, SSAS, SQL Server, Analysis Services, Qlikview', 'Software Development, Business Intelligence, Big Data Analytics, Database Administration, Data Science, Microsoft Azure, Spark, Cassandra, Object Oriented', 'Data Science, Node.js, Angularjs', 'Data Science, Media Marketing, Resource Planning, Managed Services, Display Advertising, Machine Learning, Python, Etl, Sql', 'Data Analysis, Learning, Data Science, Computer Science, Communication Skills', 'Java, Hadoop, R, Machine Learning, Spark, Flume, Hdfs, Data Mining, Sas, Big, Data Science, Cloudera, Impala, Bigdata', 'Software Development, Core Java, Unit Testing, Customer Experience, Problem Solving, Communication Skills, Mysql, Data Science, Sales Management, Analytics']\n"
     ]
    }
   ],
   "source": [
    "skills=[]\n",
    "try:\n",
    "    tag=driver.find_elements(By.XPATH,\"//div[@class='hireSec highlightable']\")\n",
    "    for i in tag:\n",
    "        skills.append(i.text.replace(\"\\n\",\" \"))\n",
    "except:\n",
    "    skills.append(\"-\")\n",
    "print(skills)"
   ]
  },
  {
   "cell_type": "code",
   "execution_count": 148,
   "id": "47e33451",
   "metadata": {},
   "outputs": [
    {
     "name": "stdout",
     "output_type": "stream",
     "text": [
      "['Delhi', 'Hyderabad / Secunderabad', 'Pune', 'Ahmedabad', 'UK - (london)', 'Vadodara / Baroda', 'Chennai', 'Trivandrum', 'Indore', 'Bengaluru / Bangalore', 'Hyderabad / Secunderabad', 'Bengaluru / Bangalore', 'Mumbai', 'Hyderabad / Secunderabad', 'Hyderabad', 'Bhopal', 'Bengaluru / Bangalore', 'Mumbai', 'Chandigarh', 'Pune', 'Navi Mumbai', 'Cochin', 'Delhi', 'Hyderabad / Secunderabad', 'Pune', 'Pune', 'Pune', 'Gurgaon', 'Pune', 'Bengaluru / Bangalore', 'Bengaluru / Bangalore', 'Delhi', 'Noida', 'Mysoru / Mysore', 'Hyderabad / Secunderabad', 'Bengaluru / Bangalore', 'New Delhi', 'Chennai', 'Aligarh', 'Salt Lake City', 'Pune', 'Bengaluru / Bangalore', 'Mumbai', 'Indore', 'Bengaluru / Bangalore', 'MYSORE', 'Hyderabad / Secunderabad', 'Bengaluru / Bangalore', 'Mumbai', '-']\n"
     ]
    }
   ],
   "source": [
    "loc=[]\n",
    "try:\n",
    "    tag=driver.find_elements(By.XPATH,\"//small[@class='ellipsis']\")\n",
    "    for i in tag:\n",
    "        loc.append(i.text.replace(\"\\n\",\" \").strip(\" \"))\n",
    "    else:\n",
    "        loc.append(\"-\")\n",
    "except:\n",
    "    loc.append(\"--\")\n",
    "print(loc)"
   ]
  },
  {
   "cell_type": "code",
   "execution_count": 149,
   "id": "022f63a0",
   "metadata": {},
   "outputs": [
    {
     "data": {
      "text/html": [
       "<div>\n",
       "<style scoped>\n",
       "    .dataframe tbody tr th:only-of-type {\n",
       "        vertical-align: middle;\n",
       "    }\n",
       "\n",
       "    .dataframe tbody tr th {\n",
       "        vertical-align: top;\n",
       "    }\n",
       "\n",
       "    .dataframe thead th {\n",
       "        text-align: right;\n",
       "    }\n",
       "</style>\n",
       "<table border=\"1\" class=\"dataframe\">\n",
       "  <thead>\n",
       "    <tr style=\"text-align: right;\">\n",
       "      <th></th>\n",
       "      <th>Name</th>\n",
       "      <th>Designation</th>\n",
       "      <th>Company</th>\n",
       "      <th>Skills they hire for</th>\n",
       "      <th>Location</th>\n",
       "    </tr>\n",
       "  </thead>\n",
       "  <tbody>\n",
       "    <tr>\n",
       "      <th>0</th>\n",
       "      <td>Aakash Harit</td>\n",
       "      <td>HR Manager</td>\n",
       "      <td>Data Science Network</td>\n",
       "      <td>Classic ASP Developer, Internet Marketing Prof...</td>\n",
       "      <td>Delhi</td>\n",
       "    </tr>\n",
       "    <tr>\n",
       "      <th>1</th>\n",
       "      <td>shravan Kumar Gaddam</td>\n",
       "      <td>Company Recruiter</td>\n",
       "      <td>Shore Infotech India Pvt. Ltd</td>\n",
       "      <td>.Net, Java, Data Science, Linux Administration...</td>\n",
       "      <td>Hyderabad / Secunderabad</td>\n",
       "    </tr>\n",
       "    <tr>\n",
       "      <th>2</th>\n",
       "      <td>MARSIAN Technologies LLP</td>\n",
       "      <td>Company HR</td>\n",
       "      <td>MARSIAN Technologies LLP</td>\n",
       "      <td>Data Science, Artificial Intelligence, Machine...</td>\n",
       "      <td>Pune</td>\n",
       "    </tr>\n",
       "    <tr>\n",
       "      <th>3</th>\n",
       "      <td>Anik Agrawal</td>\n",
       "      <td>Company Recruiter</td>\n",
       "      <td>Enerlytics Software Solutions Pvt Ltd</td>\n",
       "      <td>Mean Stack, javascript, angularjs, mongodb, We...</td>\n",
       "      <td>Ahmedabad</td>\n",
       "    </tr>\n",
       "    <tr>\n",
       "      <th>4</th>\n",
       "      <td>subhas patel</td>\n",
       "      <td>Founder CEO</td>\n",
       "      <td>LibraryXProject</td>\n",
       "      <td>Hadoop, Spark, Digital Strategy, Data Architec...</td>\n",
       "      <td>UK - (london)</td>\n",
       "    </tr>\n",
       "    <tr>\n",
       "      <th>5</th>\n",
       "      <td>Abhishek - Only Analytics Hiring - India and</td>\n",
       "      <td>Recruitment Lead Consultant</td>\n",
       "      <td>Apidel Technologies Division of Transpower</td>\n",
       "      <td>Analytics, Business Intelligence, Business Ana...</td>\n",
       "      <td>Vadodara / Baroda</td>\n",
       "    </tr>\n",
       "    <tr>\n",
       "      <th>6</th>\n",
       "      <td>Institute for Financial Management and Resear</td>\n",
       "      <td>Programme Manager</td>\n",
       "      <td>IFMR</td>\n",
       "      <td>Data Science</td>\n",
       "      <td>Chennai</td>\n",
       "    </tr>\n",
       "    <tr>\n",
       "      <th>7</th>\n",
       "      <td>Balu Ramesh</td>\n",
       "      <td>HR Administrator</td>\n",
       "      <td>Techvantage Systems Pvt Ltd</td>\n",
       "      <td>Machine Learning, algorithms, Go Getter, Compu...</td>\n",
       "      <td>Trivandrum</td>\n",
       "    </tr>\n",
       "    <tr>\n",
       "      <th>8</th>\n",
       "      <td>Asif Lucknowi</td>\n",
       "      <td>Director</td>\n",
       "      <td>Weupskill- Live Wire India</td>\n",
       "      <td>Technical Training, Software Development, Pres...</td>\n",
       "      <td>Indore</td>\n",
       "    </tr>\n",
       "    <tr>\n",
       "      <th>9</th>\n",
       "      <td>InstaFinancials</td>\n",
       "      <td>Human Resource</td>\n",
       "      <td>CBL Data Science Private Limited</td>\n",
       "      <td>Software Development, It Sales, Account Manage...</td>\n",
       "      <td>Bengaluru / Bangalore</td>\n",
       "    </tr>\n",
       "    <tr>\n",
       "      <th>10</th>\n",
       "      <td>Kalpana Dumpala</td>\n",
       "      <td>Executive Hiring</td>\n",
       "      <td>Innominds Software</td>\n",
       "      <td>Qa, Ui/ux, Java Developer, Java Architect, C++...</td>\n",
       "      <td>Hyderabad / Secunderabad</td>\n",
       "    </tr>\n",
       "    <tr>\n",
       "      <th>11</th>\n",
       "      <td>Mubarak</td>\n",
       "      <td>Company HR</td>\n",
       "      <td>MoneyTap</td>\n",
       "      <td>Business Intelligence, Data Warehousing, Data ...</td>\n",
       "      <td>Bengaluru / Bangalore</td>\n",
       "    </tr>\n",
       "    <tr>\n",
       "      <th>12</th>\n",
       "      <td>Kushal Rastogi</td>\n",
       "      <td>Company HR</td>\n",
       "      <td>QuantMagnum Technologies Pvt. Ltd.</td>\n",
       "      <td>Office Administration, Hr Administration, tele...</td>\n",
       "      <td>Mumbai</td>\n",
       "    </tr>\n",
       "    <tr>\n",
       "      <th>13</th>\n",
       "      <td>Mahesh Babu Channa</td>\n",
       "      <td>HR Team Lead</td>\n",
       "      <td>SocialPrachar.com</td>\n",
       "      <td>Social Media, digital media maketing, seo, smm...</td>\n",
       "      <td>Hyderabad / Secunderabad</td>\n",
       "    </tr>\n",
       "    <tr>\n",
       "      <th>14</th>\n",
       "      <td>Priyanka Akiri</td>\n",
       "      <td>HR Manager</td>\n",
       "      <td>Infinitive Software Solutions</td>\n",
       "      <td>Oracle Dba, Data Science, Data Warehousing, ET...</td>\n",
       "      <td>Hyderabad</td>\n",
       "    </tr>\n",
       "    <tr>\n",
       "      <th>15</th>\n",
       "      <td>Kapil Devang</td>\n",
       "      <td>HR Manager</td>\n",
       "      <td>BISP Solutions</td>\n",
       "      <td>Big Data, Hadoop, Data Analytics, Data Science</td>\n",
       "      <td>Bhopal</td>\n",
       "    </tr>\n",
       "    <tr>\n",
       "      <th>16</th>\n",
       "      <td>Dhruv Dev Dubey</td>\n",
       "      <td>Company Recruitment Head</td>\n",
       "      <td>NETAPS FOUNDATION</td>\n",
       "      <td>Server Administartion, Verilog, Vhdl, Digital ...</td>\n",
       "      <td>Bengaluru / Bangalore</td>\n",
       "    </tr>\n",
       "    <tr>\n",
       "      <th>17</th>\n",
       "      <td>Vaishnavi Kudalkar</td>\n",
       "      <td>HR Executive</td>\n",
       "      <td>Codeachive learning</td>\n",
       "      <td>Data Science, Python, Data Analytics</td>\n",
       "      <td>Mumbai</td>\n",
       "    </tr>\n",
       "    <tr>\n",
       "      <th>18</th>\n",
       "      <td>Sakshi Chhikara</td>\n",
       "      <td>Assistant Manager HR</td>\n",
       "      <td>BIZ INFOTECNO PRIVATE LIMITED</td>\n",
       "      <td>React.js, Data Science, Java, Front End, Busin...</td>\n",
       "      <td>Chandigarh</td>\n",
       "    </tr>\n",
       "    <tr>\n",
       "      <th>19</th>\n",
       "      <td>Ruchi Dhote</td>\n",
       "      <td>Senior Executive Talent Acquisition</td>\n",
       "      <td>Bristlecone India Ltd</td>\n",
       "      <td>Qlikview, Qlik Sense, Microsoft Azure, Power B...</td>\n",
       "      <td>Pune</td>\n",
       "    </tr>\n",
       "    <tr>\n",
       "      <th>20</th>\n",
       "      <td>Manisha Yadav</td>\n",
       "      <td>HR Executive</td>\n",
       "      <td>Easi Tax</td>\n",
       "      <td>Telecalling, Client Interaction, Marketing, Re...</td>\n",
       "      <td>Navi Mumbai</td>\n",
       "    </tr>\n",
       "    <tr>\n",
       "      <th>21</th>\n",
       "      <td>Riya Rajesh</td>\n",
       "      <td>Manager Talent Acquisition</td>\n",
       "      <td>Novelworx Digital Solutions</td>\n",
       "      <td>Data Science</td>\n",
       "      <td>Cochin</td>\n",
       "    </tr>\n",
       "    <tr>\n",
       "      <th>22</th>\n",
       "      <td>Rashmi Bhattacharjee</td>\n",
       "      <td>HR Head</td>\n",
       "      <td>AXESTRACK SOFTWARE SOLUTIONS PRIVATE...</td>\n",
       "      <td>Corporate Sales, Software Development, Softwar...</td>\n",
       "      <td>Delhi</td>\n",
       "    </tr>\n",
       "    <tr>\n",
       "      <th>23</th>\n",
       "      <td>Faizan Kareem</td>\n",
       "      <td>HR MANAGER</td>\n",
       "      <td>FirstTech Consaltants Pvt.Ltd</td>\n",
       "      <td>Data Analytics, Data Science, Machine Learning...</td>\n",
       "      <td>Hyderabad / Secunderabad</td>\n",
       "    </tr>\n",
       "    <tr>\n",
       "      <th>24</th>\n",
       "      <td>Rithika dadwal</td>\n",
       "      <td>HR Recruiter</td>\n",
       "      <td>Affine Analytics</td>\n",
       "      <td>Data Science, Machine Learning, Python, R, Dee...</td>\n",
       "      <td>Pune</td>\n",
       "    </tr>\n",
       "    <tr>\n",
       "      <th>25</th>\n",
       "      <td>Sandhya Khandagale</td>\n",
       "      <td>HR Recruiter</td>\n",
       "      <td>Compumatrice Multimedia Pvt Ltd</td>\n",
       "      <td>Big Data, Data Science, Artificial Intelligenc...</td>\n",
       "      <td>Pune</td>\n",
       "    </tr>\n",
       "    <tr>\n",
       "      <th>26</th>\n",
       "      <td>Shaun Rao</td>\n",
       "      <td>Manager Human Resources</td>\n",
       "      <td>Exela Technologies</td>\n",
       "      <td>Java, Net, Angularjs, Hr, Infrastructure, Mana...</td>\n",
       "      <td>Pune</td>\n",
       "    </tr>\n",
       "    <tr>\n",
       "      <th>27</th>\n",
       "      <td>Deeparchi Sharma</td>\n",
       "      <td>Company Recruiter</td>\n",
       "      <td>ZIGRAM</td>\n",
       "      <td>Research, Digital Marketing, Analytics, Softwa...</td>\n",
       "      <td>Gurgaon</td>\n",
       "    </tr>\n",
       "    <tr>\n",
       "      <th>28</th>\n",
       "      <td>Azahar Shaikh</td>\n",
       "      <td>Company Recruiter</td>\n",
       "      <td>NEAL ANALYTICS SERVICES PVT LTD</td>\n",
       "      <td>Data Science, Artificial Intelligence, Machine...</td>\n",
       "      <td>Pune</td>\n",
       "    </tr>\n",
       "    <tr>\n",
       "      <th>29</th>\n",
       "      <td>Manas</td>\n",
       "      <td>Lead Talent acquisition</td>\n",
       "      <td>Autumn Leaf Consulting Services Private...</td>\n",
       "      <td>Software Architecture, Vp Engineering, Product...</td>\n",
       "      <td>Bengaluru / Bangalore</td>\n",
       "    </tr>\n",
       "    <tr>\n",
       "      <th>30</th>\n",
       "      <td>kumar</td>\n",
       "      <td>Proprietor</td>\n",
       "      <td>trainin</td>\n",
       "      <td>Data Science, Hadoop, Rpas, Devops, Python, Aw...</td>\n",
       "      <td>Bengaluru / Bangalore</td>\n",
       "    </tr>\n",
       "    <tr>\n",
       "      <th>31</th>\n",
       "      <td>Sunil Vedula</td>\n",
       "      <td>CEO</td>\n",
       "      <td>Nanoprecise Sci Corp</td>\n",
       "      <td>Signal Processing, Machine Learning, Neural Ne...</td>\n",
       "      <td>Delhi</td>\n",
       "    </tr>\n",
       "    <tr>\n",
       "      <th>32</th>\n",
       "      <td>Rajat Kumar</td>\n",
       "      <td>Founder CEO</td>\n",
       "      <td>R.S Consultancy &amp;amp; Services</td>\n",
       "      <td>Web Technologies, Project Management, Software...</td>\n",
       "      <td>Noida</td>\n",
       "    </tr>\n",
       "    <tr>\n",
       "      <th>33</th>\n",
       "      <td>Avnish Mishra</td>\n",
       "      <td>Senior Technical &amp;amp; Corporate Recruiter</td>\n",
       "      <td>RMS Risk Management Solutions</td>\n",
       "      <td>Data Science, Machine Learning, Deep Learning,...</td>\n",
       "      <td>Mysoru / Mysore</td>\n",
       "    </tr>\n",
       "    <tr>\n",
       "      <th>34</th>\n",
       "      <td>Jayanth N</td>\n",
       "      <td>Project Manager</td>\n",
       "      <td>Dollarbird Information Services Pvt, Ltd</td>\n",
       "      <td>Data Analytics, Managed Services, Team Leading...</td>\n",
       "      <td>Hyderabad / Secunderabad</td>\n",
       "    </tr>\n",
       "    <tr>\n",
       "      <th>35</th>\n",
       "      <td>Avodha</td>\n",
       "      <td>Business Development Associate</td>\n",
       "      <td>Nikitha Palaparthi</td>\n",
       "      <td>Ethical Hacking, Security Operations Center, S...</td>\n",
       "      <td>Bengaluru / Bangalore</td>\n",
       "    </tr>\n",
       "    <tr>\n",
       "      <th>36</th>\n",
       "      <td>Priya Khare</td>\n",
       "      <td>Senior Manager</td>\n",
       "      <td>Independent Consultant</td>\n",
       "      <td>Data Science, Artificial Intelligence, analyti...</td>\n",
       "      <td>New Delhi</td>\n",
       "    </tr>\n",
       "    <tr>\n",
       "      <th>37</th>\n",
       "      <td>Amit Sharma</td>\n",
       "      <td>Consultant</td>\n",
       "      <td>ASCO consulting</td>\n",
       "      <td>Machine Learning, Artificial Intelligence, Dat...</td>\n",
       "      <td>Chennai</td>\n",
       "    </tr>\n",
       "    <tr>\n",
       "      <th>38</th>\n",
       "      <td>Kanan</td>\n",
       "      <td>senior technology instructor</td>\n",
       "      <td>NY INST</td>\n",
       "      <td>C, C++, Artificial Intelligence, Python, Php, ...</td>\n",
       "      <td>Aligarh</td>\n",
       "    </tr>\n",
       "    <tr>\n",
       "      <th>39</th>\n",
       "      <td>Shashikant Chaudhary</td>\n",
       "      <td>HR Recruiter/HR Excutive</td>\n",
       "      <td>3D India Staffing Research &amp;amp; Consulting...</td>\n",
       "      <td>Relationship Management, Retail Sales, Private...</td>\n",
       "      <td>Salt Lake City</td>\n",
       "    </tr>\n",
       "    <tr>\n",
       "      <th>40</th>\n",
       "      <td>Brad</td>\n",
       "      <td>Manager, Technical Recruiting</td>\n",
       "      <td>O.C. Tanner</td>\n",
       "      <td>Data Science, Software Engineering</td>\n",
       "      <td>Pune</td>\n",
       "    </tr>\n",
       "    <tr>\n",
       "      <th>41</th>\n",
       "      <td>Rutuja Pawar</td>\n",
       "      <td>Technical Recruiter</td>\n",
       "      <td>Demand Matrix</td>\n",
       "      <td>Data Science, Big Data Analytics, Digital Mark...</td>\n",
       "      <td>Bengaluru / Bangalore</td>\n",
       "    </tr>\n",
       "    <tr>\n",
       "      <th>42</th>\n",
       "      <td>Madhusudhan Sridhar</td>\n",
       "      <td>Erp Implementer</td>\n",
       "      <td>MADHUSUDHAN SRIDHAR</td>\n",
       "      <td>Data Science, Recruitment, Salary</td>\n",
       "      <td>Mumbai</td>\n",
       "    </tr>\n",
       "    <tr>\n",
       "      <th>43</th>\n",
       "      <td>Ankit Sinha</td>\n",
       "      <td>Head Analytics</td>\n",
       "      <td>Suntech Global</td>\n",
       "      <td>B.Tech, Tableau, Statistics, R, Analytics, Tim...</td>\n",
       "      <td>Indore</td>\n",
       "    </tr>\n",
       "    <tr>\n",
       "      <th>44</th>\n",
       "      <td>Gaurav Chouhan</td>\n",
       "      <td>Chief Technical Officer</td>\n",
       "      <td>Strategic Consulting Lab</td>\n",
       "      <td>Software Development, Business Intelligence, B...</td>\n",
       "      <td>Bengaluru / Bangalore</td>\n",
       "    </tr>\n",
       "    <tr>\n",
       "      <th>45</th>\n",
       "      <td>Rashi Kacker</td>\n",
       "      <td>Sr Product Manager</td>\n",
       "      <td>Impel Labs Pvt. Ltd.</td>\n",
       "      <td>Data Science, Node.js, Angularjs</td>\n",
       "      <td>MYSORE</td>\n",
       "    </tr>\n",
       "    <tr>\n",
       "      <th>46</th>\n",
       "      <td>Ashwini</td>\n",
       "      <td>Director Global Delivery</td>\n",
       "      <td>MRP Advisers</td>\n",
       "      <td>Data Science, Media Marketing, Resource Planni...</td>\n",
       "      <td>Hyderabad / Secunderabad</td>\n",
       "    </tr>\n",
       "    <tr>\n",
       "      <th>47</th>\n",
       "      <td>Balaji Kolli</td>\n",
       "      <td>Co Founder</td>\n",
       "      <td>Saras Solutions India Pvt Ltd</td>\n",
       "      <td>Data Analysis, Learning, Data Science, Compute...</td>\n",
       "      <td>Bengaluru / Bangalore</td>\n",
       "    </tr>\n",
       "    <tr>\n",
       "      <th>48</th>\n",
       "      <td>Rajani Nagaraj</td>\n",
       "      <td>HR Manager</td>\n",
       "      <td>WildJasmine</td>\n",
       "      <td>Java, Hadoop, R, Machine Learning, Spark, Flum...</td>\n",
       "      <td>Mumbai</td>\n",
       "    </tr>\n",
       "    <tr>\n",
       "      <th>49</th>\n",
       "      <td>ROHIT Kumar</td>\n",
       "      <td>Architect</td>\n",
       "      <td>LNT Private Limited</td>\n",
       "      <td>Software Development, Core Java, Unit Testing,...</td>\n",
       "      <td>-</td>\n",
       "    </tr>\n",
       "  </tbody>\n",
       "</table>\n",
       "</div>"
      ],
      "text/plain": [
       "                                             Name  \\\n",
       "0                                    Aakash Harit   \n",
       "1                            shravan Kumar Gaddam   \n",
       "2                        MARSIAN Technologies LLP   \n",
       "3                                    Anik Agrawal   \n",
       "4                                    subhas patel   \n",
       "5    Abhishek - Only Analytics Hiring - India and   \n",
       "6   Institute for Financial Management and Resear   \n",
       "7                                     Balu Ramesh   \n",
       "8                                   Asif Lucknowi   \n",
       "9                                 InstaFinancials   \n",
       "10                                Kalpana Dumpala   \n",
       "11                                        Mubarak   \n",
       "12                                 Kushal Rastogi   \n",
       "13                             Mahesh Babu Channa   \n",
       "14                                 Priyanka Akiri   \n",
       "15                                   Kapil Devang   \n",
       "16                                Dhruv Dev Dubey   \n",
       "17                             Vaishnavi Kudalkar   \n",
       "18                                Sakshi Chhikara   \n",
       "19                                    Ruchi Dhote   \n",
       "20                                  Manisha Yadav   \n",
       "21                                    Riya Rajesh   \n",
       "22                           Rashmi Bhattacharjee   \n",
       "23                                  Faizan Kareem   \n",
       "24                                 Rithika dadwal   \n",
       "25                             Sandhya Khandagale   \n",
       "26                                      Shaun Rao   \n",
       "27                               Deeparchi Sharma   \n",
       "28                                  Azahar Shaikh   \n",
       "29                                          Manas   \n",
       "30                                          kumar   \n",
       "31                                   Sunil Vedula   \n",
       "32                                    Rajat Kumar   \n",
       "33                                  Avnish Mishra   \n",
       "34                                      Jayanth N   \n",
       "35                                         Avodha   \n",
       "36                                    Priya Khare   \n",
       "37                                    Amit Sharma   \n",
       "38                                          Kanan   \n",
       "39                           Shashikant Chaudhary   \n",
       "40                                           Brad   \n",
       "41                                   Rutuja Pawar   \n",
       "42                            Madhusudhan Sridhar   \n",
       "43                                    Ankit Sinha   \n",
       "44                                 Gaurav Chouhan   \n",
       "45                                   Rashi Kacker   \n",
       "46                                        Ashwini   \n",
       "47                                   Balaji Kolli   \n",
       "48                                 Rajani Nagaraj   \n",
       "49                                    ROHIT Kumar   \n",
       "\n",
       "                                   Designation  \\\n",
       "0                                   HR Manager   \n",
       "1                            Company Recruiter   \n",
       "2                                   Company HR   \n",
       "3                            Company Recruiter   \n",
       "4                                  Founder CEO   \n",
       "5                  Recruitment Lead Consultant   \n",
       "6                            Programme Manager   \n",
       "7                             HR Administrator   \n",
       "8                                     Director   \n",
       "9                               Human Resource   \n",
       "10                            Executive Hiring   \n",
       "11                                  Company HR   \n",
       "12                                  Company HR   \n",
       "13                                HR Team Lead   \n",
       "14                                  HR Manager   \n",
       "15                                  HR Manager   \n",
       "16                    Company Recruitment Head   \n",
       "17                                HR Executive   \n",
       "18                        Assistant Manager HR   \n",
       "19         Senior Executive Talent Acquisition   \n",
       "20                                HR Executive   \n",
       "21                  Manager Talent Acquisition   \n",
       "22                                     HR Head   \n",
       "23                                  HR MANAGER   \n",
       "24                                HR Recruiter   \n",
       "25                                HR Recruiter   \n",
       "26                     Manager Human Resources   \n",
       "27                           Company Recruiter   \n",
       "28                           Company Recruiter   \n",
       "29                     Lead Talent acquisition   \n",
       "30                                  Proprietor   \n",
       "31                                         CEO   \n",
       "32                                 Founder CEO   \n",
       "33  Senior Technical &amp; Corporate Recruiter   \n",
       "34                             Project Manager   \n",
       "35              Business Development Associate   \n",
       "36                              Senior Manager   \n",
       "37                                  Consultant   \n",
       "38                senior technology instructor   \n",
       "39                    HR Recruiter/HR Excutive   \n",
       "40               Manager, Technical Recruiting   \n",
       "41                         Technical Recruiter   \n",
       "42                             Erp Implementer   \n",
       "43                              Head Analytics   \n",
       "44                     Chief Technical Officer   \n",
       "45                          Sr Product Manager   \n",
       "46                    Director Global Delivery   \n",
       "47                                  Co Founder   \n",
       "48                                  HR Manager   \n",
       "49                                   Architect   \n",
       "\n",
       "                                           Company  \\\n",
       "0                             Data Science Network   \n",
       "1                    Shore Infotech India Pvt. Ltd   \n",
       "2                         MARSIAN Technologies LLP   \n",
       "3            Enerlytics Software Solutions Pvt Ltd   \n",
       "4                                  LibraryXProject   \n",
       "5       Apidel Technologies Division of Transpower   \n",
       "6                                             IFMR   \n",
       "7                      Techvantage Systems Pvt Ltd   \n",
       "8                       Weupskill- Live Wire India   \n",
       "9                 CBL Data Science Private Limited   \n",
       "10                              Innominds Software   \n",
       "11                                        MoneyTap   \n",
       "12              QuantMagnum Technologies Pvt. Ltd.   \n",
       "13                               SocialPrachar.com   \n",
       "14                   Infinitive Software Solutions   \n",
       "15                                  BISP Solutions   \n",
       "16                               NETAPS FOUNDATION   \n",
       "17                             Codeachive learning   \n",
       "18                   BIZ INFOTECNO PRIVATE LIMITED   \n",
       "19                           Bristlecone India Ltd   \n",
       "20                                        Easi Tax   \n",
       "21                     Novelworx Digital Solutions   \n",
       "22         AXESTRACK SOFTWARE SOLUTIONS PRIVATE...   \n",
       "23                   FirstTech Consaltants Pvt.Ltd   \n",
       "24                                Affine Analytics   \n",
       "25                 Compumatrice Multimedia Pvt Ltd   \n",
       "26                              Exela Technologies   \n",
       "27                                          ZIGRAM   \n",
       "28                 NEAL ANALYTICS SERVICES PVT LTD   \n",
       "29      Autumn Leaf Consulting Services Private...   \n",
       "30                                         trainin   \n",
       "31                            Nanoprecise Sci Corp   \n",
       "32                  R.S Consultancy &amp; Services   \n",
       "33                   RMS Risk Management Solutions   \n",
       "34        Dollarbird Information Services Pvt, Ltd   \n",
       "35                              Nikitha Palaparthi   \n",
       "36                          Independent Consultant   \n",
       "37                                 ASCO consulting   \n",
       "38                                         NY INST   \n",
       "39  3D India Staffing Research &amp; Consulting...   \n",
       "40                                     O.C. Tanner   \n",
       "41                                   Demand Matrix   \n",
       "42                             MADHUSUDHAN SRIDHAR   \n",
       "43                                  Suntech Global   \n",
       "44                        Strategic Consulting Lab   \n",
       "45                            Impel Labs Pvt. Ltd.   \n",
       "46                                    MRP Advisers   \n",
       "47                   Saras Solutions India Pvt Ltd   \n",
       "48                                     WildJasmine   \n",
       "49                             LNT Private Limited   \n",
       "\n",
       "                                 Skills they hire for  \\\n",
       "0   Classic ASP Developer, Internet Marketing Prof...   \n",
       "1   .Net, Java, Data Science, Linux Administration...   \n",
       "2   Data Science, Artificial Intelligence, Machine...   \n",
       "3   Mean Stack, javascript, angularjs, mongodb, We...   \n",
       "4   Hadoop, Spark, Digital Strategy, Data Architec...   \n",
       "5   Analytics, Business Intelligence, Business Ana...   \n",
       "6                                        Data Science   \n",
       "7   Machine Learning, algorithms, Go Getter, Compu...   \n",
       "8   Technical Training, Software Development, Pres...   \n",
       "9   Software Development, It Sales, Account Manage...   \n",
       "10  Qa, Ui/ux, Java Developer, Java Architect, C++...   \n",
       "11  Business Intelligence, Data Warehousing, Data ...   \n",
       "12  Office Administration, Hr Administration, tele...   \n",
       "13  Social Media, digital media maketing, seo, smm...   \n",
       "14  Oracle Dba, Data Science, Data Warehousing, ET...   \n",
       "15     Big Data, Hadoop, Data Analytics, Data Science   \n",
       "16  Server Administartion, Verilog, Vhdl, Digital ...   \n",
       "17               Data Science, Python, Data Analytics   \n",
       "18  React.js, Data Science, Java, Front End, Busin...   \n",
       "19  Qlikview, Qlik Sense, Microsoft Azure, Power B...   \n",
       "20  Telecalling, Client Interaction, Marketing, Re...   \n",
       "21                                       Data Science   \n",
       "22  Corporate Sales, Software Development, Softwar...   \n",
       "23  Data Analytics, Data Science, Machine Learning...   \n",
       "24  Data Science, Machine Learning, Python, R, Dee...   \n",
       "25  Big Data, Data Science, Artificial Intelligenc...   \n",
       "26  Java, Net, Angularjs, Hr, Infrastructure, Mana...   \n",
       "27  Research, Digital Marketing, Analytics, Softwa...   \n",
       "28  Data Science, Artificial Intelligence, Machine...   \n",
       "29  Software Architecture, Vp Engineering, Product...   \n",
       "30  Data Science, Hadoop, Rpas, Devops, Python, Aw...   \n",
       "31  Signal Processing, Machine Learning, Neural Ne...   \n",
       "32  Web Technologies, Project Management, Software...   \n",
       "33  Data Science, Machine Learning, Deep Learning,...   \n",
       "34  Data Analytics, Managed Services, Team Leading...   \n",
       "35  Ethical Hacking, Security Operations Center, S...   \n",
       "36  Data Science, Artificial Intelligence, analyti...   \n",
       "37  Machine Learning, Artificial Intelligence, Dat...   \n",
       "38  C, C++, Artificial Intelligence, Python, Php, ...   \n",
       "39  Relationship Management, Retail Sales, Private...   \n",
       "40                 Data Science, Software Engineering   \n",
       "41  Data Science, Big Data Analytics, Digital Mark...   \n",
       "42                  Data Science, Recruitment, Salary   \n",
       "43  B.Tech, Tableau, Statistics, R, Analytics, Tim...   \n",
       "44  Software Development, Business Intelligence, B...   \n",
       "45                   Data Science, Node.js, Angularjs   \n",
       "46  Data Science, Media Marketing, Resource Planni...   \n",
       "47  Data Analysis, Learning, Data Science, Compute...   \n",
       "48  Java, Hadoop, R, Machine Learning, Spark, Flum...   \n",
       "49  Software Development, Core Java, Unit Testing,...   \n",
       "\n",
       "                    Location  \n",
       "0                      Delhi  \n",
       "1   Hyderabad / Secunderabad  \n",
       "2                       Pune  \n",
       "3                  Ahmedabad  \n",
       "4              UK - (london)  \n",
       "5          Vadodara / Baroda  \n",
       "6                    Chennai  \n",
       "7                 Trivandrum  \n",
       "8                     Indore  \n",
       "9      Bengaluru / Bangalore  \n",
       "10  Hyderabad / Secunderabad  \n",
       "11     Bengaluru / Bangalore  \n",
       "12                    Mumbai  \n",
       "13  Hyderabad / Secunderabad  \n",
       "14                 Hyderabad  \n",
       "15                    Bhopal  \n",
       "16     Bengaluru / Bangalore  \n",
       "17                    Mumbai  \n",
       "18                Chandigarh  \n",
       "19                      Pune  \n",
       "20               Navi Mumbai  \n",
       "21                    Cochin  \n",
       "22                     Delhi  \n",
       "23  Hyderabad / Secunderabad  \n",
       "24                      Pune  \n",
       "25                      Pune  \n",
       "26                      Pune  \n",
       "27                   Gurgaon  \n",
       "28                      Pune  \n",
       "29     Bengaluru / Bangalore  \n",
       "30     Bengaluru / Bangalore  \n",
       "31                     Delhi  \n",
       "32                     Noida  \n",
       "33           Mysoru / Mysore  \n",
       "34  Hyderabad / Secunderabad  \n",
       "35     Bengaluru / Bangalore  \n",
       "36                 New Delhi  \n",
       "37                   Chennai  \n",
       "38                   Aligarh  \n",
       "39            Salt Lake City  \n",
       "40                      Pune  \n",
       "41     Bengaluru / Bangalore  \n",
       "42                    Mumbai  \n",
       "43                    Indore  \n",
       "44     Bengaluru / Bangalore  \n",
       "45                    MYSORE  \n",
       "46  Hyderabad / Secunderabad  \n",
       "47     Bengaluru / Bangalore  \n",
       "48                    Mumbai  \n",
       "49                         -  "
      ]
     },
     "execution_count": 149,
     "metadata": {},
     "output_type": "execute_result"
    }
   ],
   "source": [
    "df=pd.DataFrame({\"Name\":name,\"Designation\":designation,\"Company\":comp,\"Skills they hire for\":skills,\"Location\":loc})\n",
    "df"
   ]
  },
  {
   "cell_type": "code",
   "execution_count": 150,
   "id": "f4cdaaf4",
   "metadata": {},
   "outputs": [],
   "source": [
    "driver.close()"
   ]
  },
  {
   "cell_type": "code",
   "execution_count": null,
   "id": "8c0aeb90",
   "metadata": {},
   "outputs": [],
   "source": []
  }
 ],
 "metadata": {
  "kernelspec": {
   "display_name": "Python 3 (ipykernel)",
   "language": "python",
   "name": "python3"
  },
  "language_info": {
   "codemirror_mode": {
    "name": "ipython",
    "version": 3
   },
   "file_extension": ".py",
   "mimetype": "text/x-python",
   "name": "python",
   "nbconvert_exporter": "python",
   "pygments_lexer": "ipython3",
   "version": "3.9.13"
  }
 },
 "nbformat": 4,
 "nbformat_minor": 5
}
