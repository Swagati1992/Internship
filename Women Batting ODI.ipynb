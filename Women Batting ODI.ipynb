{
 "cells": [
  {
   "cell_type": "code",
   "execution_count": 64,
   "id": "6a75b188",
   "metadata": {},
   "outputs": [],
   "source": [
    "import pandas as pd\n",
    "import requests\n",
    "import bs4\n",
    "from bs4 import BeautifulSoup\n",
    "import warnings\n",
    "warnings.filterwarnings(\"ignore\")"
   ]
  },
  {
   "cell_type": "code",
   "execution_count": 65,
   "id": "9c7283d1",
   "metadata": {},
   "outputs": [],
   "source": [
    "url=\"https://www.icc-cricket.com/rankings/womens/player-rankings/odi\""
   ]
  },
  {
   "cell_type": "code",
   "execution_count": 66,
   "id": "0c72fe32",
   "metadata": {},
   "outputs": [
    {
     "data": {
      "text/plain": [
       "200"
      ]
     },
     "execution_count": 66,
     "metadata": {},
     "output_type": "execute_result"
    }
   ],
   "source": [
    "page=requests.get(url)\n",
    "page.status_code"
   ]
  },
  {
   "cell_type": "code",
   "execution_count": null,
   "id": "5750786d",
   "metadata": {},
   "outputs": [],
   "source": [
    "soup=BeautifulSoup(page.content, \"html.parser\")\n",
    "print(soup.prettify())"
   ]
  },
  {
   "cell_type": "code",
   "execution_count": 69,
   "id": "b612203b",
   "metadata": {},
   "outputs": [
    {
     "name": "stdout",
     "output_type": "stream",
     "text": [
      "['Alyssa Healy', 'Beth Mooney', 'Laura Wolvaardt', 'Natalie Sciver', 'Meg Lanning', 'Harmanpreet Kaur', 'Smriti Mandhana', 'Rachael Haynes', 'Chamari Athapaththu', 'Amy Satterthwaite', 'Jess Jonassen', 'Shabnim Ismail', 'Megan Schutt', 'Jhulan Goswami', 'Hayley Matthews', 'Kate Cross', 'Ayabonga Khaka', 'Rajeshwari Gayakwad', 'Marizanne Kapp', 'Natalie Sciver', 'Ellyse Perry', 'Marizanne Kapp', 'Amelia Kerr', 'Deepti Sharma', 'Ashleigh Gardner', 'Jess Jonassen', 'Nida Dar', 'Jhulan Goswami']\n"
     ]
    }
   ],
   "source": [
    "scraped_teams1=list(soup.find(\"div\",class_=\"rankings-block__banner--name\"))\n",
    "scraped_teams2=list(soup.find_all(\"td\",class_=\"table-body__cell name\"))\n",
    "final_scraped_team=scraped_teams1+scraped_teams2\n",
    "\n",
    "team=[]\n",
    "for i in final_scraped_team:\n",
    "    team.append(i.get_text().replace(\"\\n\",\" \").strip(\" \"))\n",
    "print(team)"
   ]
  },
  {
   "cell_type": "code",
   "execution_count": null,
   "id": "4cab1682",
   "metadata": {},
   "outputs": [],
   "source": [
    "scraped_points2=list(soup.find_all(\"td\",class_=\"table-body__cell u-text-right rating\"))\n",
    "print(scraped_points)"
   ]
  },
  {
   "cell_type": "code",
   "execution_count": 73,
   "id": "6bcc43e9",
   "metadata": {},
   "outputs": [
    {
     "data": {
      "text/plain": [
       "['762']"
      ]
     },
     "execution_count": 73,
     "metadata": {},
     "output_type": "execute_result"
    }
   ],
   "source": [
    "scraped_points1"
   ]
  },
  {
   "cell_type": "code",
   "execution_count": null,
   "id": "d1bf2fbc",
   "metadata": {},
   "outputs": [],
   "source": [
    "final_scraped_rating=scraped_points1+scraped_points2\n",
    "print(final_scraped_rating)"
   ]
  },
  {
   "cell_type": "code",
   "execution_count": 59,
   "id": "fc28096a",
   "metadata": {},
   "outputs": [
    {
     "name": "stdout",
     "output_type": "stream",
     "text": [
      "['762', '754', '732', '731', '717', '716', '714', '680', '655', '641', '723', '722', '704', '698', '660', '655', '634', '617', '598', '371', '366', '349', '336', '322', '292', '250', '232', '214']\n"
     ]
    }
   ],
   "source": [
    "rating=[]\n",
    "for i in final_scraped_rating:\n",
    "    rating.append(i.get_text().replace(\"\\n\",\" \").strip(\" \"))\n",
    "print(rating)"
   ]
  },
  {
   "cell_type": "code",
   "execution_count": 63,
   "id": "37cd9f1b",
   "metadata": {},
   "outputs": [
    {
     "data": {
      "text/html": [
       "<div>\n",
       "<style scoped>\n",
       "    .dataframe tbody tr th:only-of-type {\n",
       "        vertical-align: middle;\n",
       "    }\n",
       "\n",
       "    .dataframe tbody tr th {\n",
       "        vertical-align: top;\n",
       "    }\n",
       "\n",
       "    .dataframe thead th {\n",
       "        text-align: right;\n",
       "    }\n",
       "</style>\n",
       "<table border=\"1\" class=\"dataframe\">\n",
       "  <thead>\n",
       "    <tr style=\"text-align: right;\">\n",
       "      <th></th>\n",
       "      <th>Player_Name</th>\n",
       "      <th>Rating</th>\n",
       "    </tr>\n",
       "  </thead>\n",
       "  <tbody>\n",
       "    <tr>\n",
       "      <th>0</th>\n",
       "      <td>Alyssa Healy</td>\n",
       "      <td>762</td>\n",
       "    </tr>\n",
       "    <tr>\n",
       "      <th>1</th>\n",
       "      <td>Beth Mooney</td>\n",
       "      <td>754</td>\n",
       "    </tr>\n",
       "    <tr>\n",
       "      <th>2</th>\n",
       "      <td>Laura Wolvaardt</td>\n",
       "      <td>732</td>\n",
       "    </tr>\n",
       "    <tr>\n",
       "      <th>3</th>\n",
       "      <td>Natalie Sciver</td>\n",
       "      <td>731</td>\n",
       "    </tr>\n",
       "    <tr>\n",
       "      <th>4</th>\n",
       "      <td>Meg Lanning</td>\n",
       "      <td>717</td>\n",
       "    </tr>\n",
       "  </tbody>\n",
       "</table>\n",
       "</div>"
      ],
      "text/plain": [
       "       Player_Name Rating\n",
       "0     Alyssa Healy    762\n",
       "1      Beth Mooney    754\n",
       "2  Laura Wolvaardt    732\n",
       "3   Natalie Sciver    731\n",
       "4      Meg Lanning    717"
      ]
     },
     "execution_count": 63,
     "metadata": {},
     "output_type": "execute_result"
    }
   ],
   "source": [
    "df=pd.DataFrame()\n",
    "df['Player_Name']=team\n",
    "df['Rating']=rating\n",
    "df.head()"
   ]
  },
  {
   "cell_type": "code",
   "execution_count": 61,
   "id": "113d0227",
   "metadata": {},
   "outputs": [
    {
     "data": {
      "text/html": [
       "<div>\n",
       "<style scoped>\n",
       "    .dataframe tbody tr th:only-of-type {\n",
       "        vertical-align: middle;\n",
       "    }\n",
       "\n",
       "    .dataframe tbody tr th {\n",
       "        vertical-align: top;\n",
       "    }\n",
       "\n",
       "    .dataframe thead th {\n",
       "        text-align: right;\n",
       "    }\n",
       "</style>\n",
       "<table border=\"1\" class=\"dataframe\">\n",
       "  <thead>\n",
       "    <tr style=\"text-align: right;\">\n",
       "      <th></th>\n",
       "      <th>Player_Name</th>\n",
       "      <th>Rating</th>\n",
       "    </tr>\n",
       "  </thead>\n",
       "  <tbody>\n",
       "    <tr>\n",
       "      <th>0</th>\n",
       "      <td>Alyssa Healy</td>\n",
       "      <td>762</td>\n",
       "    </tr>\n",
       "    <tr>\n",
       "      <th>1</th>\n",
       "      <td>Beth Mooney</td>\n",
       "      <td>754</td>\n",
       "    </tr>\n",
       "    <tr>\n",
       "      <th>2</th>\n",
       "      <td>Laura Wolvaardt</td>\n",
       "      <td>732</td>\n",
       "    </tr>\n",
       "    <tr>\n",
       "      <th>3</th>\n",
       "      <td>Natalie Sciver</td>\n",
       "      <td>731</td>\n",
       "    </tr>\n",
       "    <tr>\n",
       "      <th>4</th>\n",
       "      <td>Meg Lanning</td>\n",
       "      <td>717</td>\n",
       "    </tr>\n",
       "    <tr>\n",
       "      <th>5</th>\n",
       "      <td>Harmanpreet Kaur</td>\n",
       "      <td>716</td>\n",
       "    </tr>\n",
       "    <tr>\n",
       "      <th>6</th>\n",
       "      <td>Smriti Mandhana</td>\n",
       "      <td>714</td>\n",
       "    </tr>\n",
       "    <tr>\n",
       "      <th>7</th>\n",
       "      <td>Rachael Haynes</td>\n",
       "      <td>680</td>\n",
       "    </tr>\n",
       "    <tr>\n",
       "      <th>8</th>\n",
       "      <td>Chamari Athapaththu</td>\n",
       "      <td>655</td>\n",
       "    </tr>\n",
       "    <tr>\n",
       "      <th>9</th>\n",
       "      <td>Amy Satterthwaite</td>\n",
       "      <td>641</td>\n",
       "    </tr>\n",
       "  </tbody>\n",
       "</table>\n",
       "</div>"
      ],
      "text/plain": [
       "           Player_Name Rating\n",
       "0         Alyssa Healy    762\n",
       "1          Beth Mooney    754\n",
       "2      Laura Wolvaardt    732\n",
       "3       Natalie Sciver    731\n",
       "4          Meg Lanning    717\n",
       "5     Harmanpreet Kaur    716\n",
       "6      Smriti Mandhana    714\n",
       "7       Rachael Haynes    680\n",
       "8  Chamari Athapaththu    655\n",
       "9    Amy Satterthwaite    641"
      ]
     },
     "execution_count": 61,
     "metadata": {},
     "output_type": "execute_result"
    }
   ],
   "source": [
    "final_df=df.head(10)\n",
    "final_df"
   ]
  },
  {
   "cell_type": "code",
   "execution_count": null,
   "id": "6b7c942f",
   "metadata": {},
   "outputs": [],
   "source": []
  }
 ],
 "metadata": {
  "kernelspec": {
   "display_name": "Python 3 (ipykernel)",
   "language": "python",
   "name": "python3"
  },
  "language_info": {
   "codemirror_mode": {
    "name": "ipython",
    "version": 3
   },
   "file_extension": ".py",
   "mimetype": "text/x-python",
   "name": "python",
   "nbconvert_exporter": "python",
   "pygments_lexer": "ipython3",
   "version": "3.9.13"
  }
 },
 "nbformat": 4,
 "nbformat_minor": 5
}
