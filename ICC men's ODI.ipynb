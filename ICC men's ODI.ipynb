{
 "cells": [
  {
   "cell_type": "code",
   "execution_count": 2,
   "id": "4a89dded",
   "metadata": {},
   "outputs": [],
   "source": [
    "import pandas as pd\n",
    "import requests\n",
    "import warnings\n",
    "warnings.filterwarnings('ignore')\n",
    "from bs4 import BeautifulSoup"
   ]
  },
  {
   "cell_type": "code",
   "execution_count": 3,
   "id": "f03d89f7",
   "metadata": {},
   "outputs": [],
   "source": [
    "url=\"https://www.icc-cricket.com/rankings/mens/team-rankings/odi\""
   ]
  },
  {
   "cell_type": "code",
   "execution_count": null,
   "id": "90e18fef",
   "metadata": {},
   "outputs": [],
   "source": [
    "page=requests.get(url)\n",
    "print(page.content)"
   ]
  },
  {
   "cell_type": "code",
   "execution_count": null,
   "id": "f67436d3",
   "metadata": {},
   "outputs": [],
   "source": [
    "soup=BeautifulSoup(page.content, \"html.parser\")\n",
    "print(soup.prettify())"
   ]
  },
  {
   "cell_type": "code",
   "execution_count": null,
   "id": "3a21b012",
   "metadata": {},
   "outputs": [],
   "source": [
    "scraped_teams=soup.find_all(\"span\",class_=\"u-hide-phablet\")\n",
    "scraped_teams"
   ]
  },
  {
   "cell_type": "code",
   "execution_count": null,
   "id": "d8554494",
   "metadata": {},
   "outputs": [],
   "source": [
    "teams=[]\n",
    "for i in scraped_teams:\n",
    "    teams.append(i.get_text().replace(\"\\n\",\" \").strip())\n",
    "teams"
   ]
  },
  {
   "cell_type": "code",
   "execution_count": null,
   "id": "a5d9098a",
   "metadata": {},
   "outputs": [],
   "source": [
    "scraped_rating=soup.find_all(\"td\",class_=\"rankings-block__banner--rating u-text-right\")\n",
    "scraped_rating"
   ]
  },
  {
   "cell_type": "code",
   "execution_count": null,
   "id": "15fd9ba5",
   "metadata": {},
   "outputs": [],
   "source": [
    "scraped_rating2=soup.find_all(\"td\",class_=\"table-body__cell u-text-right rating\")\n",
    "scraped_rating2"
   ]
  },
  {
   "cell_type": "code",
   "execution_count": null,
   "id": "7a81afe4",
   "metadata": {},
   "outputs": [],
   "source": [
    "final_scraped_rating=scraped_rating+scraped_rating2"
   ]
  },
  {
   "cell_type": "code",
   "execution_count": null,
   "id": "5c7739f3",
   "metadata": {},
   "outputs": [],
   "source": [
    "rating=[]\n",
    "for i in final_scraped_rating:\n",
    "    rating.append(i.get_text().replace(\"\\n\",\" \").strip())\n",
    "rating"
   ]
  },
  {
   "cell_type": "code",
   "execution_count": null,
   "id": "06ff9ed5",
   "metadata": {},
   "outputs": [],
   "source": [
    "print(len(teams),len(rating))"
   ]
  },
  {
   "cell_type": "code",
   "execution_count": null,
   "id": "6d6bec05",
   "metadata": {},
   "outputs": [],
   "source": [
    "df=pd.DataFrame()\n",
    "df['TEAMS']=teams\n",
    "df['RATING']=rating\n",
    "df.head(10)"
   ]
  }
 ],
 "metadata": {
  "kernelspec": {
   "display_name": "Python 3 (ipykernel)",
   "language": "python",
   "name": "python3"
  },
  "language_info": {
   "codemirror_mode": {
    "name": "ipython",
    "version": 3
   },
   "file_extension": ".py",
   "mimetype": "text/x-python",
   "name": "python",
   "nbconvert_exporter": "python",
   "pygments_lexer": "ipython3",
   "version": "3.9.13"
  }
 },
 "nbformat": 4,
 "nbformat_minor": 5
}
