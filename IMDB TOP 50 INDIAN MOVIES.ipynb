{
 "cells": [
  {
   "cell_type": "code",
   "execution_count": 2,
   "id": "1bed887a",
   "metadata": {},
   "outputs": [],
   "source": [
    "import requests\n",
    "import pandas as pd\n",
    "from bs4 import BeautifulSoup\n",
    "import warnings\n",
    "warnings.filterwarnings('ignore')"
   ]
  },
  {
   "cell_type": "code",
   "execution_count": 3,
   "id": "524163fd",
   "metadata": {},
   "outputs": [
    {
     "data": {
      "text/plain": [
       "<Response [200]>"
      ]
     },
     "execution_count": 3,
     "metadata": {},
     "output_type": "execute_result"
    }
   ],
   "source": [
    "url=\"https://www.imdb.com/india/top-rated-indian-movies/\"\n",
    "page=requests.get(url)\n",
    "page"
   ]
  },
  {
   "cell_type": "code",
   "execution_count": null,
   "id": "f6db934e",
   "metadata": {},
   "outputs": [],
   "source": [
    "page.content"
   ]
  },
  {
   "cell_type": "code",
   "execution_count": null,
   "id": "2d5b8778",
   "metadata": {},
   "outputs": [],
   "source": [
    "soup=BeautifulSoup(page.content, \"html.parser\")\n",
    "print(soup.prettify())"
   ]
  },
  {
   "cell_type": "code",
   "execution_count": null,
   "id": "21e99db1",
   "metadata": {},
   "outputs": [],
   "source": [
    "scraped_movies=soup.find_all('td',class_=\"titleColumn\")\n",
    "scraped_movies"
   ]
  },
  {
   "cell_type": "code",
   "execution_count": null,
   "id": "96733f09",
   "metadata": {},
   "outputs": [],
   "source": [
    "movies=[]\n",
    "for movie in scraped_movies:\n",
    "    movies.append(movie.get_text().replace(\"\\n\",\" \").strip(\" \"))\n",
    "movies"
   ]
  },
  {
   "cell_type": "code",
   "execution_count": null,
   "id": "cb0b0844",
   "metadata": {},
   "outputs": [],
   "source": [
    "scraped_rating=soup.find_all(\"td\",class_=\"ratingColumn imdbRating\")\n",
    "scraped_rating"
   ]
  },
  {
   "cell_type": "code",
   "execution_count": null,
   "id": "be7448be",
   "metadata": {},
   "outputs": [],
   "source": [
    "ratings=[]\n",
    "for i in scraped_rating:\n",
    "    ratings.append(i.get_text().replace(\"\\n\",\" \").strip(\" \"))\n",
    "ratings"
   ]
  },
  {
   "cell_type": "code",
   "execution_count": null,
   "id": "978bd9f7",
   "metadata": {},
   "outputs": [],
   "source": [
    "scraped_year=soup.find_all('span',class_=\"secondaryInfo\")\n",
    "scraped_year"
   ]
  },
  {
   "cell_type": "code",
   "execution_count": null,
   "id": "a919c42a",
   "metadata": {},
   "outputs": [],
   "source": [
    "year=[]\n",
    "for i in scraped_year:\n",
    "    year.append(i.get_text().replace(\"\\n\",\"()\").strip())\n",
    "year"
   ]
  },
  {
   "cell_type": "code",
   "execution_count": null,
   "id": "a07ec99e",
   "metadata": {},
   "outputs": [],
   "source": [
    "data=pd.DataFrame()\n",
    "data[\"Movie_Name\"]=movies\n",
    "data[\"Ratings\"]=ratings\n",
    "data[\"Release Year\"]=year\n",
    "data.head()"
   ]
  },
  {
   "cell_type": "code",
   "execution_count": 28,
   "id": "3e6ea960",
   "metadata": {},
   "outputs": [],
   "source": [
    "final_IMDB=data.head(50)"
   ]
  },
  {
   "cell_type": "code",
   "execution_count": 29,
   "id": "3b713cb7",
   "metadata": {},
   "outputs": [],
   "source": [
    "final_IMDB.to_csv(\"IMDB Top 50 Indian Movies.csv\")"
   ]
  },
  {
   "cell_type": "code",
   "execution_count": null,
   "id": "f25de853",
   "metadata": {},
   "outputs": [],
   "source": []
  }
 ],
 "metadata": {
  "kernelspec": {
   "display_name": "Python 3 (ipykernel)",
   "language": "python",
   "name": "python3"
  },
  "language_info": {
   "codemirror_mode": {
    "name": "ipython",
    "version": 3
   },
   "file_extension": ".py",
   "mimetype": "text/x-python",
   "name": "python",
   "nbconvert_exporter": "python",
   "pygments_lexer": "ipython3",
   "version": "3.9.13"
  }
 },
 "nbformat": 4,
 "nbformat_minor": 5
}
