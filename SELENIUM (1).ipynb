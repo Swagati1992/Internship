{
 "cells": [
  {
   "cell_type": "code",
   "execution_count": null,
   "id": "15f417ca",
   "metadata": {},
   "outputs": [],
   "source": [
    "!pip install selenium #installing selenium"
   ]
  },
  {
   "cell_type": "code",
   "execution_count": 1,
   "id": "39fe5e04",
   "metadata": {},
   "outputs": [],
   "source": [
    "import selenium\n",
    "import pandas as pd\n",
    "from selenium import webdriver\n",
    "from selenium.webdriver.common.by import By\n",
    "import time\n",
    "import warnings\n",
    "warnings.filterwarnings(\"ignore\")"
   ]
  },
  {
   "cell_type": "code",
   "execution_count": 7,
   "id": "a1140172",
   "metadata": {},
   "outputs": [],
   "source": [
    "driver=webdriver.Chrome(r\"chromedriver.exe\") #getting the automated driver"
   ]
  },
  {
   "cell_type": "markdown",
   "id": "61808121",
   "metadata": {},
   "source": [
    "# Scraping data analyst from naukri.com TOP 10"
   ]
  },
  {
   "cell_type": "code",
   "execution_count": 8,
   "id": "0106568f",
   "metadata": {},
   "outputs": [],
   "source": [
    "driver.get(\"https://www.naukri.com/\") #fetching the desired page"
   ]
  },
  {
   "cell_type": "code",
   "execution_count": 9,
   "id": "45f879a7",
   "metadata": {},
   "outputs": [],
   "source": [
    "designation=driver.find_element(By.CLASS_NAME, \"suggestor-input\") #searching for the data analyst designation\n",
    "designation.send_keys(\"Data Analyst\")   #Transferred to chrome browser"
   ]
  },
  {
   "cell_type": "code",
   "execution_count": 11,
   "id": "97889ddf",
   "metadata": {},
   "outputs": [],
   "source": [
    "location=driver.find_element(By.XPATH, \"/html/body/div[1]/div[6]/div/div/div[5]/div/div/div/input\") #searching for desired location\n",
    "location.send_keys(\"Bangalore\")   #Transferred to chrome browser"
   ]
  },
  {
   "cell_type": "code",
   "execution_count": 12,
   "id": "476194dd",
   "metadata": {},
   "outputs": [],
   "source": [
    "search=driver.find_element(By.CLASS_NAME,\"qsbSubmit\")  #Commanding for clicking on search\n",
    "search.click()"
   ]
  },
  {
   "cell_type": "code",
   "execution_count": 20,
   "id": "06d4e698",
   "metadata": {},
   "outputs": [],
   "source": [
    "job_titles=[]      #creating empty list for the scraping\n",
    "job_locations=[]\n",
    "company_names=[]\n",
    "experience_required=[]"
   ]
  },
  {
   "cell_type": "code",
   "execution_count": 21,
   "id": "095520c0",
   "metadata": {},
   "outputs": [],
   "source": [
    "title_tags=driver.find_elements(By.XPATH,\"//a[@class='title ellipsis']\")   #Scraping the titles\n",
    "for i in title_tags[0:10]:     #scraping first 10 titles\n",
    "    title=i.text               #scraping the text only\n",
    "    job_titles.append(title)   #appending the data in empty list"
   ]
  },
  {
   "cell_type": "code",
   "execution_count": 27,
   "id": "e94e811a",
   "metadata": {},
   "outputs": [],
   "source": [
    "loc_tags=driver.find_elements(By.XPATH,\"//span[@class='ellipsis fleft locWdth']\")  #Scraping the location\n",
    "for i in loc_tags[0:10]:         #scraping first 10 locations\n",
    "    loc=i.text                   #scraping only text\n",
    "    job_locations.append(loc)    #appending data in empty list"
   ]
  },
  {
   "cell_type": "code",
   "execution_count": 23,
   "id": "5c4dc72f",
   "metadata": {},
   "outputs": [],
   "source": [
    "company_tags=driver.find_elements(By.XPATH,\"//a[@class='subTitle ellipsis fleft']\")  #Scraping company name\n",
    "for i in company_tags[0:10]:    #scraping first 10 company names\n",
    "    comp=i.text                 #scraping the text only\n",
    "    company_names.append(comp)  #appending the company names in the empty list"
   ]
  },
  {
   "cell_type": "code",
   "execution_count": 24,
   "id": "0cf8f985",
   "metadata": {},
   "outputs": [],
   "source": [
    "exp_tags=driver.find_elements(By.XPATH, \"//span[@class='ellipsis fleft expwdth']\")   #scraping the required experience\n",
    "for i in exp_tags[0:10]:  #scraping the first 10 exp\n",
    "    exp=i.text          #scraping only text\n",
    "    experience_required.append(exp)  #appending the scraped_data in the empty list"
   ]
  },
  {
   "cell_type": "code",
   "execution_count": 28,
   "id": "a5579fb8",
   "metadata": {},
   "outputs": [
    {
     "name": "stdout",
     "output_type": "stream",
     "text": [
      "10 10 10 10\n"
     ]
    }
   ],
   "source": [
    "print(len(job_titles),len(job_locations),len(company_names),len(experience_required))  #checking if the len of all the scraped_data are same or not"
   ]
  },
  {
   "cell_type": "code",
   "execution_count": 29,
   "id": "1c05a7d7",
   "metadata": {},
   "outputs": [
    {
     "data": {
      "text/html": [
       "<div>\n",
       "<style scoped>\n",
       "    .dataframe tbody tr th:only-of-type {\n",
       "        vertical-align: middle;\n",
       "    }\n",
       "\n",
       "    .dataframe tbody tr th {\n",
       "        vertical-align: top;\n",
       "    }\n",
       "\n",
       "    .dataframe thead th {\n",
       "        text-align: right;\n",
       "    }\n",
       "</style>\n",
       "<table border=\"1\" class=\"dataframe\">\n",
       "  <thead>\n",
       "    <tr style=\"text-align: right;\">\n",
       "      <th></th>\n",
       "      <th>Title</th>\n",
       "      <th>Location</th>\n",
       "      <th>Company</th>\n",
       "      <th>Experience</th>\n",
       "    </tr>\n",
       "  </thead>\n",
       "  <tbody>\n",
       "    <tr>\n",
       "      <th>0</th>\n",
       "      <td>Data Analyst</td>\n",
       "      <td>Bangalore/Bengaluru</td>\n",
       "      <td>Entrupy</td>\n",
       "      <td>1-3 Yrs</td>\n",
       "    </tr>\n",
       "    <tr>\n",
       "      <th>1</th>\n",
       "      <td>Data Analyst</td>\n",
       "      <td>Hybrid - Bangalore/Bengaluru, Hyderabad/Secund...</td>\n",
       "      <td>EY</td>\n",
       "      <td>5-10 Yrs</td>\n",
       "    </tr>\n",
       "    <tr>\n",
       "      <th>2</th>\n",
       "      <td>Data Analyst</td>\n",
       "      <td>Bangalore/Bengaluru</td>\n",
       "      <td>What Digital Technologies</td>\n",
       "      <td>5-10 Yrs</td>\n",
       "    </tr>\n",
       "    <tr>\n",
       "      <th>3</th>\n",
       "      <td>Data Analyst</td>\n",
       "      <td>Hybrid - Bangalore/Bengaluru, Delhi / NCR</td>\n",
       "      <td>Aon</td>\n",
       "      <td>6-9 Yrs</td>\n",
       "    </tr>\n",
       "    <tr>\n",
       "      <th>4</th>\n",
       "      <td>Data Analyst</td>\n",
       "      <td>Bangalore/Bengaluru</td>\n",
       "      <td>Excellence And Eminence Llp</td>\n",
       "      <td>2-5 Yrs</td>\n",
       "    </tr>\n",
       "    <tr>\n",
       "      <th>5</th>\n",
       "      <td>Data Analyst</td>\n",
       "      <td>Bangalore/Bengaluru</td>\n",
       "      <td>Quess It Staffing</td>\n",
       "      <td>2-5 Yrs</td>\n",
       "    </tr>\n",
       "    <tr>\n",
       "      <th>6</th>\n",
       "      <td>Data Analyst - EdTech</td>\n",
       "      <td>Bangalore/Bengaluru</td>\n",
       "      <td>Talentstack Consulting</td>\n",
       "      <td>2-6 Yrs</td>\n",
       "    </tr>\n",
       "    <tr>\n",
       "      <th>7</th>\n",
       "      <td>Data Analyst</td>\n",
       "      <td>Bangalore/Bengaluru</td>\n",
       "      <td>Staffice Global</td>\n",
       "      <td>14-18 Yrs</td>\n",
       "    </tr>\n",
       "    <tr>\n",
       "      <th>8</th>\n",
       "      <td>Data Analyst</td>\n",
       "      <td>Bangalore/Bengaluru</td>\n",
       "      <td>Qualitest</td>\n",
       "      <td>5-8 Yrs</td>\n",
       "    </tr>\n",
       "    <tr>\n",
       "      <th>9</th>\n",
       "      <td>Data Analyst - MySQL</td>\n",
       "      <td>Bangalore/Bengaluru</td>\n",
       "      <td>Talentstack Consulting</td>\n",
       "      <td>2-7 Yrs</td>\n",
       "    </tr>\n",
       "  </tbody>\n",
       "</table>\n",
       "</div>"
      ],
      "text/plain": [
       "                   Title                                           Location  \\\n",
       "0           Data Analyst                                Bangalore/Bengaluru   \n",
       "1           Data Analyst  Hybrid - Bangalore/Bengaluru, Hyderabad/Secund...   \n",
       "2           Data Analyst                                Bangalore/Bengaluru   \n",
       "3           Data Analyst          Hybrid - Bangalore/Bengaluru, Delhi / NCR   \n",
       "4           Data Analyst                                Bangalore/Bengaluru   \n",
       "5           Data Analyst                                Bangalore/Bengaluru   \n",
       "6  Data Analyst - EdTech                                Bangalore/Bengaluru   \n",
       "7           Data Analyst                                Bangalore/Bengaluru   \n",
       "8           Data Analyst                                Bangalore/Bengaluru   \n",
       "9   Data Analyst - MySQL                                Bangalore/Bengaluru   \n",
       "\n",
       "                       Company Experience  \n",
       "0                      Entrupy    1-3 Yrs  \n",
       "1                           EY   5-10 Yrs  \n",
       "2    What Digital Technologies   5-10 Yrs  \n",
       "3                          Aon    6-9 Yrs  \n",
       "4  Excellence And Eminence Llp    2-5 Yrs  \n",
       "5            Quess It Staffing    2-5 Yrs  \n",
       "6       Talentstack Consulting    2-6 Yrs  \n",
       "7              Staffice Global  14-18 Yrs  \n",
       "8                    Qualitest    5-8 Yrs  \n",
       "9       Talentstack Consulting    2-7 Yrs  "
      ]
     },
     "execution_count": 29,
     "metadata": {},
     "output_type": "execute_result"
    }
   ],
   "source": [
    "df=pd.DataFrame({\"Title\":job_titles,\"Location\":job_locations,\"Company\":company_names,\"Experience\":experience_required})\n",
    "df    #creating and displaying the final dataframe"
   ]
  },
  {
   "cell_type": "code",
   "execution_count": null,
   "id": "1dc6bddd",
   "metadata": {},
   "outputs": [],
   "source": [
    "driver.close()"
   ]
  },
  {
   "cell_type": "markdown",
   "id": "e0d20024",
   "metadata": {},
   "source": [
    "# Scraping \"Data Scientist\" for \"Bangalore\""
   ]
  },
  {
   "cell_type": "code",
   "execution_count": 47,
   "id": "1c31cef1",
   "metadata": {},
   "outputs": [],
   "source": [
    "driver=webdriver.Chrome(r\"chromedriver.exe\")   #opening the automated chrome"
   ]
  },
  {
   "cell_type": "code",
   "execution_count": 48,
   "id": "1e833283",
   "metadata": {},
   "outputs": [],
   "source": [
    "driver.get(\"https://www.naukri.com/\")         #getting the desired site"
   ]
  },
  {
   "cell_type": "code",
   "execution_count": 49,
   "id": "f1bb76cb",
   "metadata": {},
   "outputs": [],
   "source": [
    "designation=driver.find_element(By.CLASS_NAME,\"suggestor-input \")\n",
    "designation.send_keys(\"Data Scientist\")                           #searching for data scientist"
   ]
  },
  {
   "cell_type": "code",
   "execution_count": 50,
   "id": "f891fb75",
   "metadata": {},
   "outputs": [],
   "source": [
    "location=driver.find_element(By.XPATH,\"/html/body/div[1]/div[6]/div/div/div[5]/div/div/div/input\")\n",
    "location.send_keys(\"Bangalore\")        #searching for location Bangalore"
   ]
  },
  {
   "cell_type": "code",
   "execution_count": 51,
   "id": "353641c8",
   "metadata": {},
   "outputs": [],
   "source": [
    "search=driver.find_element(By.CLASS_NAME,\"qsbSubmit\")\n",
    "search.click()                     #Clicking on search button"
   ]
  },
  {
   "cell_type": "code",
   "execution_count": 52,
   "id": "6d900c36",
   "metadata": {},
   "outputs": [],
   "source": [
    "job_title=[]\n",
    "job_location=[]                       #Creating empty lists for desired data\n",
    "company_name=[]"
   ]
  },
  {
   "cell_type": "code",
   "execution_count": 53,
   "id": "6babd736",
   "metadata": {},
   "outputs": [],
   "source": [
    "title_tags=driver.find_elements(By.XPATH,\"//a[@class='title ellipsis']\")         #scraping the job title using for loop\n",
    "for i in title_tags[0:10]:\n",
    "    title=i.text\n",
    "    job_title.append(title)"
   ]
  },
  {
   "cell_type": "code",
   "execution_count": 54,
   "id": "f3a84dbe",
   "metadata": {},
   "outputs": [],
   "source": [
    "loc_tags=driver.find_elements(By.XPATH,\"//span[@class='ellipsis fleft locWdth']\")     #scraping the location using for loop\n",
    "for i in loc_tags[0:10]:\n",
    "    loc=i.text\n",
    "    job_location.append(loc)"
   ]
  },
  {
   "cell_type": "code",
   "execution_count": 55,
   "id": "bd3978bf",
   "metadata": {},
   "outputs": [],
   "source": [
    "company_tags=driver.find_elements(By.XPATH,\"//a[@class='subTitle ellipsis fleft']\")  #scraping company\n",
    "for i in company_tags[0:10]:\n",
    "    comp=i.text\n",
    "    company_name.append(comp)"
   ]
  },
  {
   "cell_type": "code",
   "execution_count": 56,
   "id": "f7548324",
   "metadata": {},
   "outputs": [
    {
     "name": "stdout",
     "output_type": "stream",
     "text": [
      "10 10 10\n"
     ]
    }
   ],
   "source": [
    "print(len(job_title),len(job_location),len(company_name)) #checking if the len of all the fields are same or not"
   ]
  },
  {
   "cell_type": "code",
   "execution_count": 57,
   "id": "0784eaf4",
   "metadata": {},
   "outputs": [
    {
     "data": {
      "text/html": [
       "<div>\n",
       "<style scoped>\n",
       "    .dataframe tbody tr th:only-of-type {\n",
       "        vertical-align: middle;\n",
       "    }\n",
       "\n",
       "    .dataframe tbody tr th {\n",
       "        vertical-align: top;\n",
       "    }\n",
       "\n",
       "    .dataframe thead th {\n",
       "        text-align: right;\n",
       "    }\n",
       "</style>\n",
       "<table border=\"1\" class=\"dataframe\">\n",
       "  <thead>\n",
       "    <tr style=\"text-align: right;\">\n",
       "      <th></th>\n",
       "      <th>Title</th>\n",
       "      <th>Location</th>\n",
       "      <th>Company</th>\n",
       "    </tr>\n",
       "  </thead>\n",
       "  <tbody>\n",
       "    <tr>\n",
       "      <th>0</th>\n",
       "      <td>Data Science Specialist</td>\n",
       "      <td>Bangalore/Bengaluru, Kolkata, Mumbai, Hyderaba...</td>\n",
       "      <td>Accenture</td>\n",
       "    </tr>\n",
       "    <tr>\n",
       "      <th>1</th>\n",
       "      <td>Analystics &amp; Modeling Specialist</td>\n",
       "      <td>Bangalore/Bengaluru, Kolkata, Mumbai, Hyderaba...</td>\n",
       "      <td>Accenture</td>\n",
       "    </tr>\n",
       "    <tr>\n",
       "      <th>2</th>\n",
       "      <td>Data Scientist</td>\n",
       "      <td>Hybrid - Bangalore/Bengaluru, Kolkata, Hyderab...</td>\n",
       "      <td>Cognizant</td>\n",
       "    </tr>\n",
       "    <tr>\n",
       "      <th>3</th>\n",
       "      <td>Sr. Data scientist</td>\n",
       "      <td>Bangalore/Bengaluru, Hyderabad/Secunderabad, M...</td>\n",
       "      <td>Tata Consultancy Services (TCS)</td>\n",
       "    </tr>\n",
       "    <tr>\n",
       "      <th>4</th>\n",
       "      <td>Data Scientist</td>\n",
       "      <td>Bangalore/Bengaluru, Noida, Kolkata, Mumbai, H...</td>\n",
       "      <td>Capgemini</td>\n",
       "    </tr>\n",
       "    <tr>\n",
       "      <th>5</th>\n",
       "      <td>Expert Data Scientist</td>\n",
       "      <td>Bangalore/Bengaluru, Mumbai</td>\n",
       "      <td>UPL Limited</td>\n",
       "    </tr>\n",
       "    <tr>\n",
       "      <th>6</th>\n",
       "      <td>Lead Data Scientist</td>\n",
       "      <td>Bangalore/Bengaluru, Noida, Hyderabad/Secunder...</td>\n",
       "      <td>Birlasoft</td>\n",
       "    </tr>\n",
       "    <tr>\n",
       "      <th>7</th>\n",
       "      <td>Senior Manager-Data Science</td>\n",
       "      <td>Bangalore/Bengaluru</td>\n",
       "      <td>AMERICAN EXPRESS</td>\n",
       "    </tr>\n",
       "    <tr>\n",
       "      <th>8</th>\n",
       "      <td>Senior Director/Head - Data Science &amp; Analytics</td>\n",
       "      <td>Bangalore/Bengaluru, Pune, Chennai</td>\n",
       "      <td>Vertex Corporate</td>\n",
       "    </tr>\n",
       "    <tr>\n",
       "      <th>9</th>\n",
       "      <td>Data Scientist Staff</td>\n",
       "      <td>Bangalore/Bengaluru</td>\n",
       "      <td>Juniper Networks</td>\n",
       "    </tr>\n",
       "  </tbody>\n",
       "</table>\n",
       "</div>"
      ],
      "text/plain": [
       "                                             Title  \\\n",
       "0                          Data Science Specialist   \n",
       "1                 Analystics & Modeling Specialist   \n",
       "2                                   Data Scientist   \n",
       "3                               Sr. Data scientist   \n",
       "4                                   Data Scientist   \n",
       "5                            Expert Data Scientist   \n",
       "6                              Lead Data Scientist   \n",
       "7                      Senior Manager-Data Science   \n",
       "8  Senior Director/Head - Data Science & Analytics   \n",
       "9                             Data Scientist Staff   \n",
       "\n",
       "                                            Location  \\\n",
       "0  Bangalore/Bengaluru, Kolkata, Mumbai, Hyderaba...   \n",
       "1  Bangalore/Bengaluru, Kolkata, Mumbai, Hyderaba...   \n",
       "2  Hybrid - Bangalore/Bengaluru, Kolkata, Hyderab...   \n",
       "3  Bangalore/Bengaluru, Hyderabad/Secunderabad, M...   \n",
       "4  Bangalore/Bengaluru, Noida, Kolkata, Mumbai, H...   \n",
       "5                        Bangalore/Bengaluru, Mumbai   \n",
       "6  Bangalore/Bengaluru, Noida, Hyderabad/Secunder...   \n",
       "7                                Bangalore/Bengaluru   \n",
       "8                 Bangalore/Bengaluru, Pune, Chennai   \n",
       "9                                Bangalore/Bengaluru   \n",
       "\n",
       "                           Company  \n",
       "0                        Accenture  \n",
       "1                        Accenture  \n",
       "2                        Cognizant  \n",
       "3  Tata Consultancy Services (TCS)  \n",
       "4                        Capgemini  \n",
       "5                      UPL Limited  \n",
       "6                        Birlasoft  \n",
       "7                 AMERICAN EXPRESS  \n",
       "8                 Vertex Corporate  \n",
       "9                 Juniper Networks  "
      ]
     },
     "execution_count": 57,
     "metadata": {},
     "output_type": "execute_result"
    }
   ],
   "source": [
    "df=pd.DataFrame()\n",
    "df['Title']=job_title            #Finally creating the dataframe with the desired Columns\n",
    "df['Location']=job_location\n",
    "df['Company']=company_name\n",
    "df"
   ]
  },
  {
   "cell_type": "markdown",
   "id": "71ddf779",
   "metadata": {},
   "source": [
    "# Scraping Data Using the Available Filters"
   ]
  },
  {
   "cell_type": "code",
   "execution_count": 1,
   "id": "8385c8a8",
   "metadata": {},
   "outputs": [],
   "source": [
    "import selenium\n",
    "import pandas as pd\n",
    "from selenium import webdriver\n",
    "from selenium.webdriver.common.by import By\n",
    "import time\n",
    "import warnings\n",
    "warnings.filterwarnings(\"ignore\")"
   ]
  },
  {
   "cell_type": "code",
   "execution_count": 2,
   "id": "5cc27530",
   "metadata": {},
   "outputs": [],
   "source": [
    "driver=webdriver.Chrome(r\"chromedriver.exe\")"
   ]
  },
  {
   "cell_type": "code",
   "execution_count": 3,
   "id": "b9f01f1f",
   "metadata": {},
   "outputs": [],
   "source": [
    "driver.get(\"https://www.naukri.com/\")"
   ]
  },
  {
   "cell_type": "code",
   "execution_count": 4,
   "id": "598ccc59",
   "metadata": {},
   "outputs": [],
   "source": [
    "driver.maximize_window()"
   ]
  },
  {
   "cell_type": "code",
   "execution_count": 5,
   "id": "2b8ae79a",
   "metadata": {},
   "outputs": [],
   "source": [
    "designation=driver.find_element(By.CLASS_NAME,\"suggestor-input \")\n",
    "designation.send_keys(\"Data Scientist\")"
   ]
  },
  {
   "cell_type": "code",
   "execution_count": 6,
   "id": "9769dfec",
   "metadata": {},
   "outputs": [],
   "source": [
    "search=driver.find_element(By.CLASS_NAME,\"qsbSubmit\")\n",
    "search.click()"
   ]
  },
  {
   "cell_type": "code",
   "execution_count": 9,
   "id": "7f29acb3",
   "metadata": {},
   "outputs": [],
   "source": [
    "filter_location=driver.find_element(By.XPATH,\"/html/body/div[1]/div[4]/div/div/section[1]/div[2]/div[6]/div[2]/div[3]\")\n",
    "filter_location.click()"
   ]
  },
  {
   "cell_type": "code",
   "execution_count": 7,
   "id": "0fabdf40",
   "metadata": {},
   "outputs": [],
   "source": [
    "salary_filter=driver.find_element(By.XPATH,\"/html/body/div[1]/div[4]/div/div/section[1]/div[2]/div[6]/div[2]/div[2]\")\n",
    "salary_filter.click()"
   ]
  },
  {
   "cell_type": "code",
   "execution_count": 21,
   "id": "44b753ad",
   "metadata": {},
   "outputs": [],
   "source": [
    "job_titles=[]\n",
    "title_tags=driver.find_elements(By.XPATH,\"//a[@class='title ellipsis']\")\n",
    "for i in title_tags[0:10]:\n",
    "    title=i.text\n",
    "    job_titles.append(title)"
   ]
  },
  {
   "cell_type": "code",
   "execution_count": 18,
   "id": "ac903864",
   "metadata": {},
   "outputs": [],
   "source": [
    "location=[]\n",
    "loc_tags=driver.find_elements(By.XPATH,\"//span[@class='ellipsis fleft locWdth']\")\n",
    "for i in loc_tags[0:10]:\n",
    "    loca=i.text\n",
    "    location.append(loca)"
   ]
  },
  {
   "cell_type": "code",
   "execution_count": 23,
   "id": "57127b95",
   "metadata": {},
   "outputs": [],
   "source": [
    "company=[]\n",
    "comp_tags=driver.find_elements(By.XPATH,\"//a[@class='subTitle ellipsis fleft']\")\n",
    "for i in comp_tags[0:10]:\n",
    "    comp=i.text\n",
    "    company.append(comp)"
   ]
  },
  {
   "cell_type": "code",
   "execution_count": 24,
   "id": "812f6023",
   "metadata": {},
   "outputs": [],
   "source": [
    "experience=[]\n",
    "exp_tags=driver.find_elements(By.XPATH,\"//span[@class='ellipsis fleft expwdth']\")\n",
    "for i in exp_tags[0:10]:\n",
    "    exp=i.text\n",
    "    experience.append(exp)"
   ]
  },
  {
   "cell_type": "code",
   "execution_count": 26,
   "id": "206858d1",
   "metadata": {},
   "outputs": [
    {
     "name": "stdout",
     "output_type": "stream",
     "text": [
      "10 10 10 10\n"
     ]
    }
   ],
   "source": [
    "print(len(job_titles),len(location),len(company),len(experience))"
   ]
  },
  {
   "cell_type": "code",
   "execution_count": 27,
   "id": "205e1a03",
   "metadata": {},
   "outputs": [
    {
     "data": {
      "text/html": [
       "<div>\n",
       "<style scoped>\n",
       "    .dataframe tbody tr th:only-of-type {\n",
       "        vertical-align: middle;\n",
       "    }\n",
       "\n",
       "    .dataframe tbody tr th {\n",
       "        vertical-align: top;\n",
       "    }\n",
       "\n",
       "    .dataframe thead th {\n",
       "        text-align: right;\n",
       "    }\n",
       "</style>\n",
       "<table border=\"1\" class=\"dataframe\">\n",
       "  <thead>\n",
       "    <tr style=\"text-align: right;\">\n",
       "      <th></th>\n",
       "      <th>JOB_TITLE</th>\n",
       "      <th>LOCATION</th>\n",
       "      <th>COMPANY</th>\n",
       "      <th>REQUIRED_EXPERIENCE</th>\n",
       "    </tr>\n",
       "  </thead>\n",
       "  <tbody>\n",
       "    <tr>\n",
       "      <th>0</th>\n",
       "      <td>Data Scientist data Analyst</td>\n",
       "      <td>Delhi / NCR, Kolkata, Hyderabad/Secunderabad, ...</td>\n",
       "      <td>Smark Laser Automation</td>\n",
       "      <td>0-5 Yrs</td>\n",
       "    </tr>\n",
       "    <tr>\n",
       "      <th>1</th>\n",
       "      <td>Data Scientist - Engine Algorithm</td>\n",
       "      <td>Delhi / NCR, Kolkata, Mumbai, Hyderabad/Secund...</td>\n",
       "      <td>Primo Hiring</td>\n",
       "      <td>1-3 Yrs</td>\n",
       "    </tr>\n",
       "    <tr>\n",
       "      <th>2</th>\n",
       "      <td>Analyst-Data Science</td>\n",
       "      <td>Gurgaon/Gurugram</td>\n",
       "      <td>AMERICAN EXPRESS</td>\n",
       "      <td>0-3 Yrs</td>\n",
       "    </tr>\n",
       "    <tr>\n",
       "      <th>3</th>\n",
       "      <td>Analyst-Data Science</td>\n",
       "      <td>Gurgaon/Gurugram</td>\n",
       "      <td>AMERICAN EXPRESS</td>\n",
       "      <td>0-3 Yrs</td>\n",
       "    </tr>\n",
       "    <tr>\n",
       "      <th>4</th>\n",
       "      <td>Senior Data Scientist - Statistics</td>\n",
       "      <td>Gurgaon/Gurugram</td>\n",
       "      <td>Optum</td>\n",
       "      <td>5-8 Yrs</td>\n",
       "    </tr>\n",
       "    <tr>\n",
       "      <th>5</th>\n",
       "      <td>Data Scientist</td>\n",
       "      <td>Delhi / NCR, Noida(Sector-136 Noida), Ghaziaba...</td>\n",
       "      <td>Extramarks Education</td>\n",
       "      <td>3-5 Yrs</td>\n",
       "    </tr>\n",
       "    <tr>\n",
       "      <th>6</th>\n",
       "      <td>Data Scientist</td>\n",
       "      <td>Gurgaon/Gurugram</td>\n",
       "      <td>Gartner India Research &amp;amp; Advisory Services...</td>\n",
       "      <td>2-7 Yrs</td>\n",
       "    </tr>\n",
       "    <tr>\n",
       "      <th>7</th>\n",
       "      <td>Associate Data Scientist - ML &amp; NLP</td>\n",
       "      <td>Gurgaon/Gurugram</td>\n",
       "      <td>Gartner India Research &amp;amp; Advisory Services...</td>\n",
       "      <td>2-4 Yrs</td>\n",
       "    </tr>\n",
       "    <tr>\n",
       "      <th>8</th>\n",
       "      <td>Data Scientist</td>\n",
       "      <td>Noida</td>\n",
       "      <td>Gujarat Fluorochemicals</td>\n",
       "      <td>1-2 Yrs</td>\n",
       "    </tr>\n",
       "    <tr>\n",
       "      <th>9</th>\n",
       "      <td>Data Scientist</td>\n",
       "      <td>Dehradun, Hyderabad/Secunderabad, Gurgaon/Guru...</td>\n",
       "      <td>Torcai Digital Media</td>\n",
       "      <td>2-7 Yrs</td>\n",
       "    </tr>\n",
       "  </tbody>\n",
       "</table>\n",
       "</div>"
      ],
      "text/plain": [
       "                             JOB_TITLE  \\\n",
       "0          Data Scientist data Analyst   \n",
       "1    Data Scientist - Engine Algorithm   \n",
       "2                 Analyst-Data Science   \n",
       "3                 Analyst-Data Science   \n",
       "4   Senior Data Scientist - Statistics   \n",
       "5                       Data Scientist   \n",
       "6                       Data Scientist   \n",
       "7  Associate Data Scientist - ML & NLP   \n",
       "8                       Data Scientist   \n",
       "9                       Data Scientist   \n",
       "\n",
       "                                            LOCATION  \\\n",
       "0  Delhi / NCR, Kolkata, Hyderabad/Secunderabad, ...   \n",
       "1  Delhi / NCR, Kolkata, Mumbai, Hyderabad/Secund...   \n",
       "2                                   Gurgaon/Gurugram   \n",
       "3                                   Gurgaon/Gurugram   \n",
       "4                                   Gurgaon/Gurugram   \n",
       "5  Delhi / NCR, Noida(Sector-136 Noida), Ghaziaba...   \n",
       "6                                   Gurgaon/Gurugram   \n",
       "7                                   Gurgaon/Gurugram   \n",
       "8                                              Noida   \n",
       "9  Dehradun, Hyderabad/Secunderabad, Gurgaon/Guru...   \n",
       "\n",
       "                                             COMPANY REQUIRED_EXPERIENCE  \n",
       "0                             Smark Laser Automation             0-5 Yrs  \n",
       "1                                       Primo Hiring             1-3 Yrs  \n",
       "2                                   AMERICAN EXPRESS             0-3 Yrs  \n",
       "3                                   AMERICAN EXPRESS             0-3 Yrs  \n",
       "4                                              Optum             5-8 Yrs  \n",
       "5                               Extramarks Education             3-5 Yrs  \n",
       "6  Gartner India Research &amp; Advisory Services...             2-7 Yrs  \n",
       "7  Gartner India Research &amp; Advisory Services...             2-4 Yrs  \n",
       "8                            Gujarat Fluorochemicals             1-2 Yrs  \n",
       "9                               Torcai Digital Media             2-7 Yrs  "
      ]
     },
     "execution_count": 27,
     "metadata": {},
     "output_type": "execute_result"
    }
   ],
   "source": [
    "df=pd.DataFrame()\n",
    "df[\"JOB_TITLE\"]=job_titles\n",
    "df[\"LOCATION\"]=location\n",
    "df[\"COMPANY\"]=company\n",
    "df[\"REQUIRED_EXPERIENCE\"]=experience\n",
    "df"
   ]
  },
  {
   "cell_type": "code",
   "execution_count": null,
   "id": "9b8fbf07",
   "metadata": {},
   "outputs": [],
   "source": [
    "driver.close()"
   ]
  },
  {
   "cell_type": "markdown",
   "id": "e81e5cf4",
   "metadata": {},
   "source": [
    "#  Scraping sunglasses listing from FLIPKART"
   ]
  },
  {
   "cell_type": "code",
   "execution_count": 17,
   "id": "d44184f6",
   "metadata": {},
   "outputs": [],
   "source": [
    "driver=webdriver.Chrome(r\"chromedriver.exe\")"
   ]
  },
  {
   "cell_type": "code",
   "execution_count": 18,
   "id": "f53c4d50",
   "metadata": {},
   "outputs": [],
   "source": [
    "driver.maximize_window()"
   ]
  },
  {
   "cell_type": "code",
   "execution_count": 19,
   "id": "69b73695",
   "metadata": {},
   "outputs": [],
   "source": [
    "driver.get(\"https://www.flipkart.com/\")"
   ]
  },
  {
   "cell_type": "code",
   "execution_count": 20,
   "id": "b157228e",
   "metadata": {},
   "outputs": [],
   "source": [
    "sunglasses=driver.find_element(By.CLASS_NAME,\"_3704LK\")\n",
    "sunglasses.send_keys(\"Sunglasses\")"
   ]
  },
  {
   "cell_type": "code",
   "execution_count": 21,
   "id": "3277eac4",
   "metadata": {},
   "outputs": [],
   "source": [
    "search=driver.find_element(By.CLASS_NAME,\"L0Z3Pu\")\n",
    "search.click()"
   ]
  },
  {
   "cell_type": "code",
   "execution_count": 31,
   "id": "73342bf2",
   "metadata": {},
   "outputs": [],
   "source": [
    "Brandss=[]\n",
    "start=0\n",
    "end=3\n",
    "for page in range(start,end):\n",
    "    brand_tags=driver.find_elements(By.XPATH,\"//div[@class='_2WkVRV']\")\n",
    "    for i in brand_tags[0:100]:\n",
    "        brand=i.text\n",
    "        Brandss.append(brand)\n",
    "    next_button=driver.find_element(By.XPATH,\"//a[@class='_1LKTO3']\")\n",
    "    next_button.click()\n",
    "    time.sleep(3)"
   ]
  },
  {
   "cell_type": "code",
   "execution_count": 34,
   "id": "df583501",
   "metadata": {},
   "outputs": [],
   "source": [
    "Price=[]\n",
    "start=0\n",
    "end=3\n",
    "for page in range(start,end):\n",
    "    price_tags=driver.find_elements(By.XPATH,\"//div[@class='_30jeq3']\")\n",
    "    for i in price_tags[0:100]:\n",
    "        price=i.text\n",
    "        Price.append(price)\n",
    "    next_button=driver.find_element(By.XPATH,\"//a[@class='_1LKTO3']\")\n",
    "    next_button.click()\n",
    "    time.sleep(3)"
   ]
  },
  {
   "cell_type": "code",
   "execution_count": 32,
   "id": "75f504bb",
   "metadata": {},
   "outputs": [],
   "source": [
    "Productss=[]\n",
    "start=0\n",
    "end=3\n",
    "for page in range(start,end):\n",
    "    product_tags=driver.find_elements(By.XPATH,\"//a[@class='IRpwTa']\")\n",
    "    for i in product_tags[0:100]:\n",
    "        product=i.text\n",
    "        Productss.append(product)\n",
    "    next_button=driver.find_element(By.XPATH,\"//a[@class='_1LKTO3']\")\n",
    "    next_button.click()\n",
    "    time.sleep(3)"
   ]
  },
  {
   "cell_type": "code",
   "execution_count": 35,
   "id": "058ed990",
   "metadata": {},
   "outputs": [
    {
     "data": {
      "text/plain": [
       "(120, 120, 120)"
      ]
     },
     "execution_count": 35,
     "metadata": {},
     "output_type": "execute_result"
    }
   ],
   "source": [
    "len(Productss), len(Brandss), len(Price)"
   ]
  },
  {
   "cell_type": "code",
   "execution_count": 36,
   "id": "003dd066",
   "metadata": {},
   "outputs": [
    {
     "data": {
      "text/html": [
       "<div>\n",
       "<style scoped>\n",
       "    .dataframe tbody tr th:only-of-type {\n",
       "        vertical-align: middle;\n",
       "    }\n",
       "\n",
       "    .dataframe tbody tr th {\n",
       "        vertical-align: top;\n",
       "    }\n",
       "\n",
       "    .dataframe thead th {\n",
       "        text-align: right;\n",
       "    }\n",
       "</style>\n",
       "<table border=\"1\" class=\"dataframe\">\n",
       "  <thead>\n",
       "    <tr style=\"text-align: right;\">\n",
       "      <th></th>\n",
       "      <th>Brand</th>\n",
       "      <th>Product_Description</th>\n",
       "      <th>Price</th>\n",
       "    </tr>\n",
       "  </thead>\n",
       "  <tbody>\n",
       "    <tr>\n",
       "      <th>0</th>\n",
       "      <td>EYELLUSION</td>\n",
       "      <td>UV Protection Clubmaster Sunglasses (Free Size)</td>\n",
       "      <td>₹299</td>\n",
       "    </tr>\n",
       "    <tr>\n",
       "      <th>1</th>\n",
       "      <td>VINCENT CHASE</td>\n",
       "      <td>UV Protection, Gradient Rectangular Sunglasses...</td>\n",
       "      <td>₹799</td>\n",
       "    </tr>\n",
       "    <tr>\n",
       "      <th>2</th>\n",
       "      <td>PIRASO</td>\n",
       "      <td>UV Protection Wayfarer Sunglasses (53)</td>\n",
       "      <td>₹211</td>\n",
       "    </tr>\n",
       "    <tr>\n",
       "      <th>3</th>\n",
       "      <td>ROZZETTA CRAFT</td>\n",
       "      <td>Gradient, UV Protection Wayfarer Sunglasses (F...</td>\n",
       "      <td>₹449</td>\n",
       "    </tr>\n",
       "    <tr>\n",
       "      <th>4</th>\n",
       "      <td>Fastrack</td>\n",
       "      <td>UV Protection Wayfarer Sunglasses (Free Size)</td>\n",
       "      <td>₹799</td>\n",
       "    </tr>\n",
       "  </tbody>\n",
       "</table>\n",
       "</div>"
      ],
      "text/plain": [
       "            Brand                                Product_Description Price\n",
       "0      EYELLUSION    UV Protection Clubmaster Sunglasses (Free Size)  ₹299\n",
       "1   VINCENT CHASE  UV Protection, Gradient Rectangular Sunglasses...  ₹799\n",
       "2          PIRASO             UV Protection Wayfarer Sunglasses (53)  ₹211\n",
       "3  ROZZETTA CRAFT  Gradient, UV Protection Wayfarer Sunglasses (F...  ₹449\n",
       "4        Fastrack      UV Protection Wayfarer Sunglasses (Free Size)  ₹799"
      ]
     },
     "execution_count": 36,
     "metadata": {},
     "output_type": "execute_result"
    }
   ],
   "source": [
    "df=pd.DataFrame({\"Brand\":Brandss,\"Product_Description\":Productss,\"Price\":Price})\n",
    "df.head()"
   ]
  },
  {
   "cell_type": "markdown",
   "id": "fd525b09",
   "metadata": {},
   "source": [
    "#  Scrap Reviews from flipkart for iphone11"
   ]
  },
  {
   "cell_type": "code",
   "execution_count": 62,
   "id": "4359080c",
   "metadata": {},
   "outputs": [],
   "source": [
    "driver=webdriver.Chrome(r\"chromedriver.exe\")"
   ]
  },
  {
   "cell_type": "code",
   "execution_count": 64,
   "id": "1d60a03c",
   "metadata": {},
   "outputs": [],
   "source": [
    "driver.maximize_window()"
   ]
  },
  {
   "cell_type": "code",
   "execution_count": 67,
   "id": "feaf49ee",
   "metadata": {},
   "outputs": [],
   "source": [
    "driver.get(\"https://www.flipkart.com/apple-iphone-11-black-64-gb/p/itm4e5041ba101fd?pid=MOBFWQ6BXGJCEYNY&lid=LSTMOBFWQ6BXGJCEYNYZXSHRJ&marketplace=FLIPKART&q=iphone11+black+64gb&store=tyy%2F4io&srno=s_1_1&otracker=search&otracker1=search&fm=organic&iid=8b363653-87c4-40ab-b3c3-f57154bcfa7d.MOBFWQ6BXGJCEYNY.SEARCH&ppt=hp&ppn=homepage&ssid=mguwcrg9mo0000001676357529342&qH=519494574047a897\")"
   ]
  },
  {
   "cell_type": "code",
   "execution_count": 76,
   "id": "cbe7673c",
   "metadata": {},
   "outputs": [],
   "source": [
    "Rtings=[]\n",
    "start=1\n",
    "end=4\n",
    "for page in range(start,end):\n",
    "    rating_tags=driver.find_elements(By.XPATH,\"//div[@class='_3LWZlK _1BLPMq']\")\n",
    "    for i in rating_tags[0:100]:\n",
    "        rating=i.text\n",
    "        Rtings.append(rating)\n",
    "    next_button=driver.find_element(By.XPATH,\"/html/body/div[1]/div/div[3]/div/div/div[2]/div[13]/div/div/nav/a[12]\")\n",
    "    next_button.click()\n",
    "    time.sleep(3)"
   ]
  },
  {
   "cell_type": "code",
   "execution_count": 79,
   "id": "55793fdf",
   "metadata": {},
   "outputs": [],
   "source": [
    "Review=[]\n",
    "start=1\n",
    "end=4\n",
    "for page in range(start,end):\n",
    "    review_tags=driver.find_elements(By.XPATH,\"//p[@class='_2-N8zT']\")\n",
    "    for i in review_tags[0:100]:\n",
    "        review=i.text\n",
    "        Review.append(review)\n",
    "    next_button=driver.find_element(By.XPATH,\"/html/body/div[1]/div/div[3]/div/div/div[2]/div[13]/div/div/nav/a[12]\")\n",
    "    next_button.click()\n",
    "    time.sleep(3)"
   ]
  },
  {
   "cell_type": "code",
   "execution_count": 81,
   "id": "ad9f4927",
   "metadata": {},
   "outputs": [],
   "source": [
    "Full_Review=[]\n",
    "start=1\n",
    "end=4\n",
    "for page in range(start,end):\n",
    "    full_tags=driver.find_elements(By.XPATH,\"//div[@class='t-ZTKy']\")\n",
    "    for i in full_tags[0:100]:\n",
    "        tags=i.text\n",
    "        Full_Review.append(tags)\n",
    "    next_button=driver.find_element(By.XPATH,\"/html/body/div[1]/div/div[3]/div/div/div[2]/div[13]/div/div/nav/a[12]\")\n",
    "    next_button.click()\n",
    "    time.sleep(3)"
   ]
  },
  {
   "cell_type": "code",
   "execution_count": 83,
   "id": "30cf8984",
   "metadata": {},
   "outputs": [
    {
     "data": {
      "text/html": [
       "<div>\n",
       "<style scoped>\n",
       "    .dataframe tbody tr th:only-of-type {\n",
       "        vertical-align: middle;\n",
       "    }\n",
       "\n",
       "    .dataframe tbody tr th {\n",
       "        vertical-align: top;\n",
       "    }\n",
       "\n",
       "    .dataframe thead th {\n",
       "        text-align: right;\n",
       "    }\n",
       "</style>\n",
       "<table border=\"1\" class=\"dataframe\">\n",
       "  <thead>\n",
       "    <tr style=\"text-align: right;\">\n",
       "      <th></th>\n",
       "      <th>Ratings</th>\n",
       "      <th>Review_Summary</th>\n",
       "      <th>Full Review</th>\n",
       "    </tr>\n",
       "  </thead>\n",
       "  <tbody>\n",
       "    <tr>\n",
       "      <th>0</th>\n",
       "      <td>5</td>\n",
       "      <td>Great product</td>\n",
       "      <td>Seller - SuperComNet ( my trust in you has gro...</td>\n",
       "    </tr>\n",
       "    <tr>\n",
       "      <th>1</th>\n",
       "      <td>5</td>\n",
       "      <td>Must buy!</td>\n",
       "      <td>Don’t expect much from front camera… especiall...</td>\n",
       "    </tr>\n",
       "    <tr>\n",
       "      <th>2</th>\n",
       "      <td>5</td>\n",
       "      <td>Fabulous!</td>\n",
       "      <td>iPhone is delivered on time. Display is great ...</td>\n",
       "    </tr>\n",
       "    <tr>\n",
       "      <th>3</th>\n",
       "      <td>5</td>\n",
       "      <td>Classy product</td>\n",
       "      <td>Here is the thing\\n\\nThe only reason why you s...</td>\n",
       "    </tr>\n",
       "    <tr>\n",
       "      <th>4</th>\n",
       "      <td>4</td>\n",
       "      <td>Perfect product!</td>\n",
       "      <td>It is better to buy iPhone 11 over iPhone 12 i...</td>\n",
       "    </tr>\n",
       "  </tbody>\n",
       "</table>\n",
       "</div>"
      ],
      "text/plain": [
       "  Ratings    Review_Summary                                        Full Review\n",
       "0       5     Great product  Seller - SuperComNet ( my trust in you has gro...\n",
       "1       5         Must buy!  Don’t expect much from front camera… especiall...\n",
       "2       5         Fabulous!  iPhone is delivered on time. Display is great ...\n",
       "3       5    Classy product  Here is the thing\\n\\nThe only reason why you s...\n",
       "4       4  Perfect product!  It is better to buy iPhone 11 over iPhone 12 i..."
      ]
     },
     "execution_count": 83,
     "metadata": {},
     "output_type": "execute_result"
    }
   ],
   "source": [
    "df=pd.DataFrame()\n",
    "df['Ratings']=Rtings\n",
    "df['Review_Summary']=Review\n",
    "df['Full Review']=Full_Review\n",
    "df.head()"
   ]
  },
  {
   "cell_type": "markdown",
   "id": "2a8647e4",
   "metadata": {},
   "source": [
    "#  Scraping data of sneakers from FLIPKART"
   ]
  },
  {
   "cell_type": "code",
   "execution_count": 11,
   "id": "19eef722",
   "metadata": {},
   "outputs": [],
   "source": [
    "import selenium\n",
    "import pandas as pd\n",
    "import warnings\n",
    "warnings.filterwarnings(\"ignore\")\n",
    "from selenium import webdriver\n",
    "from selenium.webdriver.common.by import By\n",
    "import time"
   ]
  },
  {
   "cell_type": "code",
   "execution_count": 87,
   "id": "5df73bce",
   "metadata": {},
   "outputs": [],
   "source": [
    "driver=webdriver.Chrome(r\"chromedrive.exe\")"
   ]
  },
  {
   "cell_type": "code",
   "execution_count": 88,
   "id": "7ef79979",
   "metadata": {},
   "outputs": [],
   "source": [
    "driver.get(\"https://www.flipkart.com\")"
   ]
  },
  {
   "cell_type": "code",
   "execution_count": 89,
   "id": "55f8c3aa",
   "metadata": {},
   "outputs": [],
   "source": [
    "driver.maximize_window()"
   ]
  },
  {
   "cell_type": "code",
   "execution_count": 90,
   "id": "e20d7294",
   "metadata": {},
   "outputs": [],
   "source": [
    "sneakers=driver.find_element(By.XPATH,\"/html/body/div[1]/div/div[1]/div[1]/div[2]/div[2]/form/div/div/input\")\n",
    "sneakers.send_keys(\"sneakers\")"
   ]
  },
  {
   "cell_type": "code",
   "execution_count": 91,
   "id": "9abb24e0",
   "metadata": {},
   "outputs": [],
   "source": [
    "search=driver.find_element(By.CLASS_NAME,\"L0Z3Pu\")\n",
    "search.click()"
   ]
  },
  {
   "cell_type": "code",
   "execution_count": 92,
   "id": "76d7685d",
   "metadata": {},
   "outputs": [],
   "source": [
    "Brand=[]\n",
    "start=0\n",
    "end=3\n",
    "for page in range(start,end):\n",
    "    brand_tags=driver.find_elements(By.XPATH,\"//div[@class='_2WkVRV']\")\n",
    "    for i in brand_tags[0:100]:\n",
    "        brand=i.text\n",
    "        Brand.append(brand)\n",
    "    next_button=driver.find_element(By.XPATH,\"//a[@class='_1LKTO3']\")\n",
    "    next_button.click()\n",
    "    time.sleep(3)"
   ]
  },
  {
   "cell_type": "code",
   "execution_count": 97,
   "id": "b8415d79",
   "metadata": {},
   "outputs": [],
   "source": [
    "price=[]\n",
    "start=0\n",
    "end=3\n",
    "for page in range(start,end):\n",
    "    price_tags=driver.find_elements(By.XPATH,\"//div[@class='_30jeq3']\")\n",
    "    for i in price_tags[0:100]:\n",
    "        prc=i.text\n",
    "        price.append(prc)\n",
    "    next_button=driver.find_element(By.XPATH,\"//a[@class='_1LKTO3']\")\n",
    "    next_button.click()\n",
    "    time.sleep(3)"
   ]
  },
  {
   "cell_type": "code",
   "execution_count": 106,
   "id": "15b25455",
   "metadata": {},
   "outputs": [],
   "source": [
    "Prodct=[]\n",
    "start=0\n",
    "end=3\n",
    "for page in range(start,end):\n",
    "    prdct_tags=driver.find_elements(By.XPATH,\"//a[@class='IRpwTa']\")\n",
    "    for i in prdct_tags[0:100]:\n",
    "        prdct=i.text\n",
    "        Prodct.append(prdct)\n",
    "    next_button=driver.find_element(By.XPATH,\"//a[@class='_1LKTO3']\")\n",
    "    next_button.click()\n",
    "    time.sleep(3)    "
   ]
  },
  {
   "cell_type": "code",
   "execution_count": 114,
   "id": "07912c03",
   "metadata": {},
   "outputs": [
    {
     "data": {
      "text/plain": [
       "(119, 119, 119)"
      ]
     },
     "execution_count": 114,
     "metadata": {},
     "output_type": "execute_result"
    }
   ],
   "source": [
    "len(Prodct),len(Brand), len(price)"
   ]
  },
  {
   "cell_type": "code",
   "execution_count": 116,
   "id": "7e697d25",
   "metadata": {},
   "outputs": [
    {
     "data": {
      "text/html": [
       "<div>\n",
       "<style scoped>\n",
       "    .dataframe tbody tr th:only-of-type {\n",
       "        vertical-align: middle;\n",
       "    }\n",
       "\n",
       "    .dataframe tbody tr th {\n",
       "        vertical-align: top;\n",
       "    }\n",
       "\n",
       "    .dataframe thead th {\n",
       "        text-align: right;\n",
       "    }\n",
       "</style>\n",
       "<table border=\"1\" class=\"dataframe\">\n",
       "  <thead>\n",
       "    <tr style=\"text-align: right;\">\n",
       "      <th></th>\n",
       "      <th>BRAND</th>\n",
       "      <th>PRODUCT_DESCRIPTION</th>\n",
       "      <th>PRICE</th>\n",
       "    </tr>\n",
       "  </thead>\n",
       "  <tbody>\n",
       "    <tr>\n",
       "      <th>0</th>\n",
       "      <td>aadi</td>\n",
       "      <td>Sneakers For Women</td>\n",
       "      <td>₹499</td>\n",
       "    </tr>\n",
       "    <tr>\n",
       "      <th>1</th>\n",
       "      <td>aadi</td>\n",
       "      <td>Combo Pack of 2 Premium Sports Shoes Sneakers ...</td>\n",
       "      <td>₹389</td>\n",
       "    </tr>\n",
       "    <tr>\n",
       "      <th>2</th>\n",
       "      <td>SFR</td>\n",
       "      <td>Puma x 1DER Jack V3 Sneakers For Men</td>\n",
       "      <td>₹499</td>\n",
       "    </tr>\n",
       "    <tr>\n",
       "      <th>3</th>\n",
       "      <td>BIRDE</td>\n",
       "      <td>CR-1 Sneakers For Men</td>\n",
       "      <td>₹399</td>\n",
       "    </tr>\n",
       "    <tr>\n",
       "      <th>4</th>\n",
       "      <td>BIRDE</td>\n",
       "      <td>Trendy Casual Shoe For Men Pack Of 2 Sneakers ...</td>\n",
       "      <td>₹1,652</td>\n",
       "    </tr>\n",
       "  </tbody>\n",
       "</table>\n",
       "</div>"
      ],
      "text/plain": [
       "   BRAND                                PRODUCT_DESCRIPTION   PRICE\n",
       "0   aadi                                 Sneakers For Women    ₹499\n",
       "1   aadi  Combo Pack of 2 Premium Sports Shoes Sneakers ...    ₹389\n",
       "2    SFR               Puma x 1DER Jack V3 Sneakers For Men    ₹499\n",
       "3  BIRDE                              CR-1 Sneakers For Men    ₹399\n",
       "4  BIRDE  Trendy Casual Shoe For Men Pack Of 2 Sneakers ...  ₹1,652"
      ]
     },
     "execution_count": 116,
     "metadata": {},
     "output_type": "execute_result"
    }
   ],
   "source": [
    "df=pd.DataFrame()\n",
    "df['BRAND']=Brand\n",
    "df['PRODUCT_DESCRIPTION']=Prodct\n",
    "df['PRICE']=price\n",
    "final_df=df.head(100)\n",
    "final_df.head()"
   ]
  },
  {
   "cell_type": "markdown",
   "id": "fadce8aa",
   "metadata": {},
   "source": [
    "#  Scraping laptop data from AMAZON"
   ]
  },
  {
   "cell_type": "code",
   "execution_count": 2,
   "id": "29764fd8",
   "metadata": {},
   "outputs": [],
   "source": [
    "import selenium\n",
    "import pandas as pd\n",
    "from selenium import webdriver\n",
    "from selenium.webdriver.common.by import By\n",
    "import time\n",
    "import warnings\n",
    "warnings.filterwarnings(\"ignore\")"
   ]
  },
  {
   "cell_type": "code",
   "execution_count": 3,
   "id": "86c08a26",
   "metadata": {},
   "outputs": [],
   "source": [
    "driver=webdriver.Chrome(r\"chromedriver.exe\")"
   ]
  },
  {
   "cell_type": "code",
   "execution_count": 4,
   "id": "292e4a9e",
   "metadata": {},
   "outputs": [],
   "source": [
    "driver.get(\"https://www.amazon.com/\")"
   ]
  },
  {
   "cell_type": "code",
   "execution_count": 5,
   "id": "9e2808b0",
   "metadata": {},
   "outputs": [],
   "source": [
    "driver.maximize_window()"
   ]
  },
  {
   "cell_type": "code",
   "execution_count": 6,
   "id": "60bfec12",
   "metadata": {},
   "outputs": [],
   "source": [
    "laptop=driver.find_element(By.XPATH,\"/html/body/div[1]/header/div/div[1]/div[2]/div/form/div[2]/div[1]/input\")\n",
    "laptop.send_keys(\"Laptop\")"
   ]
  },
  {
   "cell_type": "code",
   "execution_count": 7,
   "id": "516c8e47",
   "metadata": {},
   "outputs": [],
   "source": [
    "search=driver.find_element(By.XPATH,\"/html/body/div[1]/header/div/div[1]/div[2]/div/form/div[3]/div/span/input\")\n",
    "search.click()"
   ]
  },
  {
   "cell_type": "code",
   "execution_count": 11,
   "id": "095cbca4",
   "metadata": {},
   "outputs": [],
   "source": [
    "check_box=driver.find_element(By.XPATH,\"/html/body/div[1]/div[2]/div[1]/div[2]/div/div[3]/span/div[1]/div/div/div[6]/ul[3]/li[6]/span/div/div/ul/li[2]/span/a/div\")\n",
    "check_box.click()"
   ]
  },
  {
   "cell_type": "code",
   "execution_count": 13,
   "id": "14556fc3",
   "metadata": {},
   "outputs": [],
   "source": [
    "title=[]\n",
    "title_tags=driver.find_elements(By.XPATH,\"//div[@class='a-section a-spacing-none puis-padding-right-small s-title-instructions-style']\")\n",
    "for i in title_tags[0:10]:\n",
    "    titles=i.text\n",
    "    title.append(titles)"
   ]
  },
  {
   "cell_type": "code",
   "execution_count": 14,
   "id": "98fac563",
   "metadata": {},
   "outputs": [],
   "source": [
    "ratings=[]\n",
    "rating_tags=driver.find_elements(By.XPATH,\"//span[@class='a-size-base']\")\n",
    "for i in rating_tags[0:10]:\n",
    "    rating=i.text\n",
    "    ratings.append(rating)"
   ]
  },
  {
   "cell_type": "code",
   "execution_count": 15,
   "id": "63fe8513",
   "metadata": {},
   "outputs": [],
   "source": [
    "price=[]\n",
    "price_tags=driver.find_elements(By.XPATH,\"//span[@class='a-price-whole']\")\n",
    "for i in price_tags[0:10]:\n",
    "    prices=i.text\n",
    "    price.append(prices)"
   ]
  },
  {
   "cell_type": "code",
   "execution_count": 16,
   "id": "bbdacb71",
   "metadata": {},
   "outputs": [
    {
     "name": "stdout",
     "output_type": "stream",
     "text": [
      "10 10 10\n"
     ]
    }
   ],
   "source": [
    "print(len(title),len(ratings),len(price))"
   ]
  },
  {
   "cell_type": "code",
   "execution_count": 17,
   "id": "547ba7ea",
   "metadata": {},
   "outputs": [
    {
     "data": {
      "text/html": [
       "<div>\n",
       "<style scoped>\n",
       "    .dataframe tbody tr th:only-of-type {\n",
       "        vertical-align: middle;\n",
       "    }\n",
       "\n",
       "    .dataframe tbody tr th {\n",
       "        vertical-align: top;\n",
       "    }\n",
       "\n",
       "    .dataframe thead th {\n",
       "        text-align: right;\n",
       "    }\n",
       "</style>\n",
       "<table border=\"1\" class=\"dataframe\">\n",
       "  <thead>\n",
       "    <tr style=\"text-align: right;\">\n",
       "      <th></th>\n",
       "      <th>Title</th>\n",
       "      <th>Rating</th>\n",
       "      <th>Price</th>\n",
       "    </tr>\n",
       "  </thead>\n",
       "  <tbody>\n",
       "    <tr>\n",
       "      <th>0</th>\n",
       "      <td>SAMSUNG 13.3” Galaxy Book2 Pro Laptop Computer...</td>\n",
       "      <td>4.4</td>\n",
       "      <td>999</td>\n",
       "    </tr>\n",
       "    <tr>\n",
       "      <th>1</th>\n",
       "      <td>OEM Lenovo ThinkPad E15 Gen 2 15.6\" FHD Displa...</td>\n",
       "      <td>4.3</td>\n",
       "      <td>1,259</td>\n",
       "    </tr>\n",
       "    <tr>\n",
       "      <th>2</th>\n",
       "      <td>OEM Lenovo ThinkPad E14 Gen 2 14\" FHD Display ...</td>\n",
       "      <td>4.1</td>\n",
       "      <td>1,199</td>\n",
       "    </tr>\n",
       "    <tr>\n",
       "      <th>3</th>\n",
       "      <td>SAMSUNG 15.6” Galaxy Book2 Pro with Intel ARC ...</td>\n",
       "      <td>4.1</td>\n",
       "      <td>1,699</td>\n",
       "    </tr>\n",
       "    <tr>\n",
       "      <th>4</th>\n",
       "      <td>Lenovo ThinkPad X1 Yoga Gen 6 Intel Core i7-11...</td>\n",
       "      <td>4.5</td>\n",
       "      <td>1,129</td>\n",
       "    </tr>\n",
       "  </tbody>\n",
       "</table>\n",
       "</div>"
      ],
      "text/plain": [
       "                                               Title Rating  Price\n",
       "0  SAMSUNG 13.3” Galaxy Book2 Pro Laptop Computer...    4.4    999\n",
       "1  OEM Lenovo ThinkPad E15 Gen 2 15.6\" FHD Displa...    4.3  1,259\n",
       "2  OEM Lenovo ThinkPad E14 Gen 2 14\" FHD Display ...    4.1  1,199\n",
       "3  SAMSUNG 15.6” Galaxy Book2 Pro with Intel ARC ...    4.1  1,699\n",
       "4  Lenovo ThinkPad X1 Yoga Gen 6 Intel Core i7-11...    4.5  1,129"
      ]
     },
     "execution_count": 17,
     "metadata": {},
     "output_type": "execute_result"
    }
   ],
   "source": [
    "df=pd.DataFrame()\n",
    "df[\"Title\"]=title\n",
    "df['Rating']=ratings\n",
    "df[\"Price\"]=price\n",
    "df.head()"
   ]
  },
  {
   "cell_type": "code",
   "execution_count": null,
   "id": "bf7aad4c",
   "metadata": {},
   "outputs": [],
   "source": [
    "driver.close()"
   ]
  },
  {
   "cell_type": "markdown",
   "id": "008e8c6d",
   "metadata": {},
   "source": [
    "#  Scraping top quotes"
   ]
  },
  {
   "cell_type": "code",
   "execution_count": 2,
   "id": "420b7b37",
   "metadata": {},
   "outputs": [],
   "source": [
    "import selenium\n",
    "import pandas as pd\n",
    "import warnings\n",
    "warnings.filterwarnings(\"ignore\")\n",
    "from selenium import webdriver\n",
    "from selenium.webdriver.common.by import By\n",
    "import time"
   ]
  },
  {
   "cell_type": "code",
   "execution_count": 3,
   "id": "7912cc10",
   "metadata": {},
   "outputs": [],
   "source": [
    "driver=webdriver.Chrome(r\"chromedriver.exe\")"
   ]
  },
  {
   "cell_type": "code",
   "execution_count": 4,
   "id": "4cd98781",
   "metadata": {},
   "outputs": [],
   "source": [
    "driver.get(\"https://www.azquotes.com/\")"
   ]
  },
  {
   "cell_type": "code",
   "execution_count": 5,
   "id": "8ea7581b",
   "metadata": {},
   "outputs": [],
   "source": [
    "driver.maximize_window()"
   ]
  },
  {
   "cell_type": "code",
   "execution_count": 6,
   "id": "f9de1121",
   "metadata": {},
   "outputs": [],
   "source": [
    "top_quotes=driver.find_element(By.XPATH,\"/html/body/div[1]/div[1]/div[1]/div/div[3]/ul/li[5]/a\")\n",
    "top_quotes.click()"
   ]
  },
  {
   "cell_type": "code",
   "execution_count": 9,
   "id": "21bb84b8",
   "metadata": {},
   "outputs": [],
   "source": [
    "driver.refresh()"
   ]
  },
  {
   "cell_type": "code",
   "execution_count": 15,
   "id": "46138240",
   "metadata": {},
   "outputs": [],
   "source": [
    "Authorss=[]\n",
    "start=0\n",
    "end=5\n",
    "for page in range(start,end):\n",
    "    author_tags=driver.find_elements(By.XPATH,\"//div[@class='author']\")\n",
    "    for i in author_tags:\n",
    "        author=i.text\n",
    "        Authorss.append(author)\n",
    "    next_button=driver.find_element(By.XPATH,\"//li[@class='next']\")\n",
    "    next_button.click()\n",
    "    time.sleep(3)"
   ]
  },
  {
   "cell_type": "code",
   "execution_count": 7,
   "id": "bb8f749c",
   "metadata": {},
   "outputs": [],
   "source": [
    "Quotes=[]\n",
    "start=0\n",
    "end=5\n",
    "for page in range(start,end):\n",
    "    quote_tags=driver.find_elements(By.XPATH,\"//a[@class='title']\")\n",
    "    for i in quote_tags:\n",
    "        quote=i.text\n",
    "        Quotes.append(quote)\n",
    "    next_button=driver.find_element(By.XPATH,\"//li[@class='next']\")\n",
    "    next_button.click()\n",
    "    time.sleep(3)"
   ]
  },
  {
   "cell_type": "code",
   "execution_count": 22,
   "id": "d067f8f3",
   "metadata": {},
   "outputs": [],
   "source": [
    "driver.refresh()"
   ]
  },
  {
   "cell_type": "code",
   "execution_count": 23,
   "id": "9912a2d2",
   "metadata": {},
   "outputs": [],
   "source": [
    "Type_of_quotes=[]\n",
    "start=0\n",
    "end=5\n",
    "for page in range(start,end):\n",
    "    type_tags=driver.find_elements(By.XPATH,\"//div[@class='tags']\")\n",
    "    for i in type_tags:\n",
    "        typee=i.text\n",
    "        Type_of_quotes.append(typee)\n",
    "    next_button=driver.find_element(By.XPATH,\"//li[@class='next']\")\n",
    "    next_button.click()\n",
    "    time.sleep(3)"
   ]
  },
  {
   "cell_type": "code",
   "execution_count": 24,
   "id": "621d48a7",
   "metadata": {},
   "outputs": [
    {
     "data": {
      "text/html": [
       "<div>\n",
       "<style scoped>\n",
       "    .dataframe tbody tr th:only-of-type {\n",
       "        vertical-align: middle;\n",
       "    }\n",
       "\n",
       "    .dataframe tbody tr th {\n",
       "        vertical-align: top;\n",
       "    }\n",
       "\n",
       "    .dataframe thead th {\n",
       "        text-align: right;\n",
       "    }\n",
       "</style>\n",
       "<table border=\"1\" class=\"dataframe\">\n",
       "  <thead>\n",
       "    <tr style=\"text-align: right;\">\n",
       "      <th></th>\n",
       "      <th>Quotes</th>\n",
       "      <th>Authors</th>\n",
       "      <th>Type</th>\n",
       "    </tr>\n",
       "  </thead>\n",
       "  <tbody>\n",
       "    <tr>\n",
       "      <th>0</th>\n",
       "      <td>The essence of strategy is choosing what not t...</td>\n",
       "      <td>Michael Porter</td>\n",
       "      <td>Inspirational, Life, Positive</td>\n",
       "    </tr>\n",
       "    <tr>\n",
       "      <th>1</th>\n",
       "      <td>One cannot and must not try to erase the past ...</td>\n",
       "      <td>Golda Meir</td>\n",
       "      <td>Leadership, God, Wisdom</td>\n",
       "    </tr>\n",
       "    <tr>\n",
       "      <th>2</th>\n",
       "      <td>Patriotism means to stand by the country. It d...</td>\n",
       "      <td>Theodore Roosevelt</td>\n",
       "      <td>Happiness, Success, Happy</td>\n",
       "    </tr>\n",
       "    <tr>\n",
       "      <th>3</th>\n",
       "      <td>Death is something inevitable. When a man has ...</td>\n",
       "      <td>Nelson Mandela</td>\n",
       "      <td>Inspirational, Positive, Success</td>\n",
       "    </tr>\n",
       "    <tr>\n",
       "      <th>4</th>\n",
       "      <td>You have to love a nation that celebrates its ...</td>\n",
       "      <td>Erma Bombeck</td>\n",
       "      <td>Christmas, Holiday, Giving</td>\n",
       "    </tr>\n",
       "  </tbody>\n",
       "</table>\n",
       "</div>"
      ],
      "text/plain": [
       "                                              Quotes             Authors  \\\n",
       "0  The essence of strategy is choosing what not t...      Michael Porter   \n",
       "1  One cannot and must not try to erase the past ...          Golda Meir   \n",
       "2  Patriotism means to stand by the country. It d...  Theodore Roosevelt   \n",
       "3  Death is something inevitable. When a man has ...      Nelson Mandela   \n",
       "4  You have to love a nation that celebrates its ...        Erma Bombeck   \n",
       "\n",
       "                               Type  \n",
       "0     Inspirational, Life, Positive  \n",
       "1           Leadership, God, Wisdom  \n",
       "2         Happiness, Success, Happy  \n",
       "3  Inspirational, Positive, Success  \n",
       "4        Christmas, Holiday, Giving  "
      ]
     },
     "execution_count": 24,
     "metadata": {},
     "output_type": "execute_result"
    }
   ],
   "source": [
    "df=pd.DataFrame({\"Quotes\":Quotes,\"Authors\":Authorss,\"Type\":Type_of_quotes})\n",
    "df.head()                 "
   ]
  },
  {
   "cell_type": "code",
   "execution_count": 25,
   "id": "a7c90d4f",
   "metadata": {},
   "outputs": [],
   "source": [
    "driver.close()"
   ]
  },
  {
   "cell_type": "markdown",
   "id": "68db9ded",
   "metadata": {},
   "source": [
    "#  Scraping details of former Prime Ministers of India"
   ]
  },
  {
   "cell_type": "code",
   "execution_count": 1,
   "id": "13d30915",
   "metadata": {},
   "outputs": [],
   "source": [
    "import selenium\n",
    "import pandas as pd\n",
    "import warnings\n",
    "warnings.filterwarnings(\"ignore\")\n",
    "from selenium import webdriver\n",
    "from selenium.webdriver.common.by import By"
   ]
  },
  {
   "cell_type": "code",
   "execution_count": 2,
   "id": "9febfb64",
   "metadata": {},
   "outputs": [],
   "source": [
    "driver=webdriver.Chrome(r\"chromedriver.exe\")"
   ]
  },
  {
   "cell_type": "code",
   "execution_count": 3,
   "id": "e18df6ec",
   "metadata": {},
   "outputs": [],
   "source": [
    "driver.maximize_window()"
   ]
  },
  {
   "cell_type": "code",
   "execution_count": 4,
   "id": "1d1b0389",
   "metadata": {},
   "outputs": [],
   "source": [
    "driver.get(\"https://www.jagranjosh.com/\")"
   ]
  },
  {
   "cell_type": "code",
   "execution_count": 5,
   "id": "a981367d",
   "metadata": {},
   "outputs": [],
   "source": [
    "opening_GK=driver.find_element(By.XPATH,\"/html/body/div/div[1]/div/div[1]/div/div[6]/div/div[1]/header/div[3]/ul/li[9]/a\")\n",
    "opening_GK.click()"
   ]
  },
  {
   "cell_type": "code",
   "execution_count": 6,
   "id": "62fff82b",
   "metadata": {},
   "outputs": [],
   "source": [
    "PM_list=driver.find_element(By.XPATH,\"/html/body/div[1]/div/div/div[2]/div/div[10]/div/div/ul/li[2]/a\")\n",
    "PM_list.click()"
   ]
  },
  {
   "cell_type": "code",
   "execution_count": 7,
   "id": "0cf9a7b8",
   "metadata": {},
   "outputs": [],
   "source": [
    "PM_names=[]\n",
    "name_tags=driver.find_elements(By.XPATH,\"//div[@class='table-box']/table/tbody/tr/td[2]/p\")\n",
    "for i in name_tags:\n",
    "    name=i.text\n",
    "    PM_names.append(name)"
   ]
  },
  {
   "cell_type": "code",
   "execution_count": 14,
   "id": "0fddf20e",
   "metadata": {},
   "outputs": [],
   "source": [
    "Terms_office=[]\n",
    "term_tags=driver.find_elements(By.XPATH,\"/html/body/div[1]/div[2]/div/div[2]/div/div[1]/div/div/div/div[4]/span/div[3]/table/tbody/tr[2]/td[4]/p[1]\")\n",
    "for i in term_tags:\n",
    "    term=i.text\n",
    "    Terms_office.append(term)"
   ]
  },
  {
   "cell_type": "code",
   "execution_count": 16,
   "id": "ceda1569",
   "metadata": {},
   "outputs": [],
   "source": [
    "driver.close()"
   ]
  },
  {
   "cell_type": "markdown",
   "id": "22f4b3aa",
   "metadata": {},
   "source": [
    "# Most Expensive Cars in the world"
   ]
  },
  {
   "cell_type": "code",
   "execution_count": 17,
   "id": "e1776864",
   "metadata": {},
   "outputs": [],
   "source": [
    "driver=webdriver.Chrome(r\"chromedriver.exe\")"
   ]
  },
  {
   "cell_type": "code",
   "execution_count": 18,
   "id": "56eafc85",
   "metadata": {},
   "outputs": [],
   "source": [
    "driver.maximize_window()"
   ]
  },
  {
   "cell_type": "code",
   "execution_count": 19,
   "id": "11b7e17e",
   "metadata": {},
   "outputs": [],
   "source": [
    "driver.get(\"https://www.motor1.com\")"
   ]
  },
  {
   "cell_type": "code",
   "execution_count": 20,
   "id": "49950595",
   "metadata": {},
   "outputs": [],
   "source": [
    "features=driver.find_element(By.XPATH,\"//div[@class='m1-hamburger-button']\")\n",
    "features.click()"
   ]
  },
  {
   "cell_type": "code",
   "execution_count": 21,
   "id": "01241c36",
   "metadata": {},
   "outputs": [],
   "source": [
    "dropdown=driver.find_element(By.XPATH,\"/html/body/div[4]/div[1]/div[3]/ul/li[5]/button\")\n",
    "dropdown.click()"
   ]
  },
  {
   "cell_type": "code",
   "execution_count": 22,
   "id": "53b5b763",
   "metadata": {},
   "outputs": [],
   "source": [
    "lists=driver.find_element(By.XPATH,\"/html/body/div[4]/div[1]/div[3]/ul/li[6]/ul/li[1]/a\")\n",
    "lists.click()"
   ]
  },
  {
   "cell_type": "code",
   "execution_count": 23,
   "id": "4cd4363c",
   "metadata": {},
   "outputs": [],
   "source": [
    "open_list=driver.find_element(By.XPATH,\"/html/body/div[3]/div[9]/div[1]/div[1]/div/div/div[2]/div/div[1]/h3/a\")\n",
    "open_list.click()"
   ]
  },
  {
   "cell_type": "code",
   "execution_count": 24,
   "id": "62eedaa7",
   "metadata": {},
   "outputs": [],
   "source": [
    "Names=[]\n",
    "name_tags=driver.find_elements(By.XPATH,\"//h3[@class='subheader']\")\n",
    "for i in name_tags:\n",
    "    name=i.text\n",
    "    Names.append(name)"
   ]
  },
  {
   "cell_type": "code",
   "execution_count": 25,
   "id": "dacc0829",
   "metadata": {},
   "outputs": [],
   "source": [
    "Prices=[]\n",
    "price_tags=driver.find_elements(By.XPATH,\"/html/body/div[3]/div[7]/div[2]/div[1]/div[2]/div[1]/p[4]/strong\")\n",
    "for i in price_tags:\n",
    "    details=i.text\n",
    "    Prices.append(details)"
   ]
  },
  {
   "cell_type": "code",
   "execution_count": 26,
   "id": "30ca6c92",
   "metadata": {},
   "outputs": [
    {
     "data": {
      "text/plain": [
       "['Price: $1.3 Million']"
      ]
     },
     "execution_count": 26,
     "metadata": {},
     "output_type": "execute_result"
    }
   ],
   "source": [
    "Prices"
   ]
  },
  {
   "cell_type": "code",
   "execution_count": null,
   "id": "baa80fee",
   "metadata": {},
   "outputs": [],
   "source": []
  }
 ],
 "metadata": {
  "kernelspec": {
   "display_name": "Python 3 (ipykernel)",
   "language": "python",
   "name": "python3"
  },
  "language_info": {
   "codemirror_mode": {
    "name": "ipython",
    "version": 3
   },
   "file_extension": ".py",
   "mimetype": "text/x-python",
   "name": "python",
   "nbconvert_exporter": "python",
   "pygments_lexer": "ipython3",
   "version": "3.9.13"
  }
 },
 "nbformat": 4,
 "nbformat_minor": 5
}
