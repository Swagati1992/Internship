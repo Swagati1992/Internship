{
 "cells": [
  {
   "cell_type": "code",
   "execution_count": 1,
   "id": "ead0ca6b",
   "metadata": {},
   "outputs": [],
   "source": [
    "import pandas as pd\n",
    "import requests\n",
    "import bs4\n",
    "from bs4 import BeautifulSoup\n",
    "import warnings\n",
    "warnings.filterwarnings(\"ignore\")"
   ]
  },
  {
   "cell_type": "code",
   "execution_count": 2,
   "id": "f5a141fe",
   "metadata": {},
   "outputs": [],
   "source": [
    "url=\"https://www.icc-cricket.com/rankings/womens/player-rankings/odi/all-rounder\""
   ]
  },
  {
   "cell_type": "code",
   "execution_count": 3,
   "id": "34583e19",
   "metadata": {},
   "outputs": [
    {
     "data": {
      "text/plain": [
       "200"
      ]
     },
     "execution_count": 3,
     "metadata": {},
     "output_type": "execute_result"
    }
   ],
   "source": [
    "page=requests.get(url)\n",
    "page.status_code"
   ]
  },
  {
   "cell_type": "code",
   "execution_count": null,
   "id": "41aee5c0",
   "metadata": {},
   "outputs": [],
   "source": [
    "soup=BeautifulSoup(page.content, \"html.parser\")\n",
    "print(soup.prettify())"
   ]
  },
  {
   "cell_type": "code",
   "execution_count": 7,
   "id": "cb6568d0",
   "metadata": {},
   "outputs": [
    {
     "name": "stdout",
     "output_type": "stream",
     "text": [
      "['Hayley Matthews', 'Natalie Sciver', 'Ellyse Perry', 'Marizanne Kapp', 'Amelia Kerr', 'Deepti Sharma', 'Ashleigh Gardner', 'Jess Jonassen', 'Nida Dar', 'Jhulan Goswami', 'Sophie Ecclestone', 'Sophie Devine', 'Chloe-Lesleigh Tryon', 'Katherine Brunt', 'Rumana Ahmed', 'Stafanie Taylor', 'Chamari Athapaththu', 'Charlotte Dean', 'Sune Luus', 'Salma Khatun']\n"
     ]
    }
   ],
   "source": [
    "scraped_name1=list(soup.find(\"div\",class_=\"rankings-block__banner--name-large\"))\n",
    "scraped_name2=list(soup.find_all(\"td\",class_=\"table-body__cell rankings-table__name name\"))\n",
    "final_scraped_names=scraped_name1+scraped_name2\n",
    "\n",
    "name=[]\n",
    "for i in final_scraped_names:\n",
    "    name.append(i.get_text().replace(\"\\n\",\" \").strip(\" \"))\n",
    "print(name)"
   ]
  },
  {
   "cell_type": "code",
   "execution_count": 38,
   "id": "0b21454d",
   "metadata": {},
   "outputs": [
    {
     "name": "stdout",
     "output_type": "stream",
     "text": [
      "['ENG', 'AUS', 'SA', 'NZ', 'IND', 'AUS', 'AUS', 'PAK', 'IND', 'ENG', 'NZ', 'SA', 'ENG', 'BAN', 'WI', 'SL', 'ENG', 'SA', 'BAN']\n"
     ]
    }
   ],
   "source": [
    "scraped_team2=list(soup.find_all(\"span\",class_=\"table-body__logo-text\"))\n",
    "scraped_team2\n",
    "\n",
    "team=[]\n",
    "for i in scraped_team2:\n",
    "    team.append(i.get_text().replace(\"\\n\",\" \").strip(\" \"))\n",
    "print(team)"
   ]
  },
  {
   "cell_type": "code",
   "execution_count": 32,
   "id": "9802ce33",
   "metadata": {},
   "outputs": [
    {
     "name": "stdout",
     "output_type": "stream",
     "text": [
      "['373', '371', '366', '349', '336', '322', '292', '250', '232', '214', '205', '202', '197', '195', '184', '181', '178', '174', '171', '169']\n"
     ]
    }
   ],
   "source": [
    "scraped_rating1=list(soup.find(\"div\",class_=\"rankings-block__banner--rating\"))\n",
    "scraped_rating2=list(soup.find_all(\"td\",class_=\"table-body__cell rating\"))\n",
    "final_scraped_rating=scraped_rating1+scraped_rating2\n",
    "\n",
    "rating=[]\n",
    "for i in final_scraped_rating:\n",
    "    rating.append(i.get_text().replace(\"\\n\",\" \").strip(\" \"))\n",
    "print(rating)"
   ]
  },
  {
   "cell_type": "code",
   "execution_count": 34,
   "id": "a658a524",
   "metadata": {},
   "outputs": [
    {
     "data": {
      "text/html": [
       "<div>\n",
       "<style scoped>\n",
       "    .dataframe tbody tr th:only-of-type {\n",
       "        vertical-align: middle;\n",
       "    }\n",
       "\n",
       "    .dataframe tbody tr th {\n",
       "        vertical-align: top;\n",
       "    }\n",
       "\n",
       "    .dataframe thead th {\n",
       "        text-align: right;\n",
       "    }\n",
       "</style>\n",
       "<table border=\"1\" class=\"dataframe\">\n",
       "  <thead>\n",
       "    <tr style=\"text-align: right;\">\n",
       "      <th></th>\n",
       "      <th>Names</th>\n",
       "      <th>Rating</th>\n",
       "    </tr>\n",
       "  </thead>\n",
       "  <tbody>\n",
       "    <tr>\n",
       "      <th>0</th>\n",
       "      <td>Hayley Matthews</td>\n",
       "      <td>373</td>\n",
       "    </tr>\n",
       "    <tr>\n",
       "      <th>1</th>\n",
       "      <td>Natalie Sciver</td>\n",
       "      <td>371</td>\n",
       "    </tr>\n",
       "    <tr>\n",
       "      <th>2</th>\n",
       "      <td>Ellyse Perry</td>\n",
       "      <td>366</td>\n",
       "    </tr>\n",
       "  </tbody>\n",
       "</table>\n",
       "</div>"
      ],
      "text/plain": [
       "             Names Rating\n",
       "0  Hayley Matthews    373\n",
       "1   Natalie Sciver    371\n",
       "2     Ellyse Perry    366"
      ]
     },
     "execution_count": 34,
     "metadata": {},
     "output_type": "execute_result"
    }
   ],
   "source": [
    "df=pd.DataFrame()\n",
    "df[\"Names\"]=name\n",
    "df[\"Rating\"]=rating\n",
    "df.head(3)"
   ]
  },
  {
   "cell_type": "code",
   "execution_count": 35,
   "id": "80bd4879",
   "metadata": {},
   "outputs": [
    {
     "data": {
      "text/html": [
       "<div>\n",
       "<style scoped>\n",
       "    .dataframe tbody tr th:only-of-type {\n",
       "        vertical-align: middle;\n",
       "    }\n",
       "\n",
       "    .dataframe tbody tr th {\n",
       "        vertical-align: top;\n",
       "    }\n",
       "\n",
       "    .dataframe thead th {\n",
       "        text-align: right;\n",
       "    }\n",
       "</style>\n",
       "<table border=\"1\" class=\"dataframe\">\n",
       "  <thead>\n",
       "    <tr style=\"text-align: right;\">\n",
       "      <th></th>\n",
       "      <th>Names</th>\n",
       "      <th>Rating</th>\n",
       "    </tr>\n",
       "  </thead>\n",
       "  <tbody>\n",
       "    <tr>\n",
       "      <th>0</th>\n",
       "      <td>Hayley Matthews</td>\n",
       "      <td>373</td>\n",
       "    </tr>\n",
       "    <tr>\n",
       "      <th>1</th>\n",
       "      <td>Natalie Sciver</td>\n",
       "      <td>371</td>\n",
       "    </tr>\n",
       "    <tr>\n",
       "      <th>2</th>\n",
       "      <td>Ellyse Perry</td>\n",
       "      <td>366</td>\n",
       "    </tr>\n",
       "    <tr>\n",
       "      <th>3</th>\n",
       "      <td>Marizanne Kapp</td>\n",
       "      <td>349</td>\n",
       "    </tr>\n",
       "    <tr>\n",
       "      <th>4</th>\n",
       "      <td>Amelia Kerr</td>\n",
       "      <td>336</td>\n",
       "    </tr>\n",
       "    <tr>\n",
       "      <th>5</th>\n",
       "      <td>Deepti Sharma</td>\n",
       "      <td>322</td>\n",
       "    </tr>\n",
       "    <tr>\n",
       "      <th>6</th>\n",
       "      <td>Ashleigh Gardner</td>\n",
       "      <td>292</td>\n",
       "    </tr>\n",
       "    <tr>\n",
       "      <th>7</th>\n",
       "      <td>Jess Jonassen</td>\n",
       "      <td>250</td>\n",
       "    </tr>\n",
       "    <tr>\n",
       "      <th>8</th>\n",
       "      <td>Nida Dar</td>\n",
       "      <td>232</td>\n",
       "    </tr>\n",
       "    <tr>\n",
       "      <th>9</th>\n",
       "      <td>Jhulan Goswami</td>\n",
       "      <td>214</td>\n",
       "    </tr>\n",
       "  </tbody>\n",
       "</table>\n",
       "</div>"
      ],
      "text/plain": [
       "              Names Rating\n",
       "0   Hayley Matthews    373\n",
       "1    Natalie Sciver    371\n",
       "2      Ellyse Perry    366\n",
       "3    Marizanne Kapp    349\n",
       "4       Amelia Kerr    336\n",
       "5     Deepti Sharma    322\n",
       "6  Ashleigh Gardner    292\n",
       "7     Jess Jonassen    250\n",
       "8          Nida Dar    232\n",
       "9    Jhulan Goswami    214"
      ]
     },
     "execution_count": 35,
     "metadata": {},
     "output_type": "execute_result"
    }
   ],
   "source": [
    "final_df=df.head(10)\n",
    "final_df"
   ]
  },
  {
   "cell_type": "code",
   "execution_count": null,
   "id": "8a23ac3e",
   "metadata": {},
   "outputs": [],
   "source": []
  }
 ],
 "metadata": {
  "kernelspec": {
   "display_name": "Python 3 (ipykernel)",
   "language": "python",
   "name": "python3"
  },
  "language_info": {
   "codemirror_mode": {
    "name": "ipython",
    "version": 3
   },
   "file_extension": ".py",
   "mimetype": "text/x-python",
   "name": "python",
   "nbconvert_exporter": "python",
   "pygments_lexer": "ipython3",
   "version": "3.9.13"
  }
 },
 "nbformat": 4,
 "nbformat_minor": 5
}
