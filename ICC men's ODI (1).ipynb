{
 "cells": [
  {
   "cell_type": "code",
   "execution_count": null,
   "id": "4a89dded",
   "metadata": {},
   "outputs": [],
   "source": [
    "import pandas as pd\n",
    "import requests\n",
    "import warnings\n",
    "warnings.filterwarnings('ignore')\n",
    "from bs4 import BeautifulSoup"
   ]
  },
  {
   "cell_type": "code",
   "execution_count": null,
   "id": "f03d89f7",
   "metadata": {},
   "outputs": [],
   "source": [
    "url=\"https://www.icc-cricket.com/rankings/mens/team-rankings/odi\""
   ]
  },
  {
   "cell_type": "code",
   "execution_count": null,
   "id": "90e18fef",
   "metadata": {},
   "outputs": [],
   "source": [
    "page=requests.get(url)\n",
    "print(page.content)"
   ]
  },
  {
   "cell_type": "code",
   "execution_count": null,
   "id": "f67436d3",
   "metadata": {},
   "outputs": [],
   "source": [
    "soup=BeautifulSoup(page.content, \"html.parser\")\n",
    "print(soup.prettify())"
   ]
  },
  {
   "cell_type": "code",
   "execution_count": null,
   "id": "3a21b012",
   "metadata": {},
   "outputs": [],
   "source": [
    "scraped_teams=soup.find_all(\"span\",class_=\"u-hide-phablet\")\n",
    "scraped_teams"
   ]
  },
  {
   "cell_type": "code",
   "execution_count": null,
   "id": "d8554494",
   "metadata": {},
   "outputs": [],
   "source": [
    "teams=[]\n",
    "for i in scraped_teams:\n",
    "    teams.append(i.get_text().replace(\"\\n\",\" \").strip())\n",
    "teams"
   ]
  },
  {
   "cell_type": "code",
   "execution_count": null,
   "id": "a5d9098a",
   "metadata": {},
   "outputs": [],
   "source": [
    "scraped_rating=soup.find_all(\"td\",class_=\"rankings-block__banner--rating u-text-right\")\n",
    "scraped_rating"
   ]
  },
  {
   "cell_type": "code",
   "execution_count": null,
   "id": "15fd9ba5",
   "metadata": {},
   "outputs": [],
   "source": [
    "scraped_rating2=soup.find_all(\"td\",class_=\"table-body__cell u-text-right rating\")\n",
    "scraped_rating2"
   ]
  },
  {
   "cell_type": "code",
   "execution_count": null,
   "id": "7a81afe4",
   "metadata": {},
   "outputs": [],
   "source": [
    "final_scraped_rating=scraped_rating+scraped_rating2"
   ]
  },
  {
   "cell_type": "code",
   "execution_count": null,
   "id": "5c7739f3",
   "metadata": {},
   "outputs": [],
   "source": [
    "rating=[]\n",
    "for i in final_scraped_rating:\n",
    "    rating.append(i.get_text().replace(\"\\n\",\" \").strip())\n",
    "rating"
   ]
  },
  {
   "cell_type": "code",
   "execution_count": null,
   "id": "915654fe",
   "metadata": {},
   "outputs": [],
   "source": [
    "scraped_matches=list(soup.find(\"td\",class_=\"rankings-block__banner--matches\"))\n",
    "scraped_matches2=list(soup.find_all(\"td\",class_=\"table-body__cell u-center-text\"))\n",
    "scraped_matches2=scraped_matches2[0:38:2]\n",
    "final_scraped_matches=scraped_matches+scraped_matches2\n",
    "print(final_scraped_matches)"
   ]
  },
  {
   "cell_type": "code",
   "execution_count": null,
   "id": "6a77fc57",
   "metadata": {},
   "outputs": [],
   "source": [
    "matches=[]\n",
    "for i in final_scraped_matches:\n",
    "    matches.append(i.get_text().replace(\"\\n\",\" \").strip(\" \"))\n",
    "print(matches)"
   ]
  },
  {
   "cell_type": "code",
   "execution_count": 41,
   "id": "b10262b1",
   "metadata": {},
   "outputs": [],
   "source": [
    "scraped_points=list(soup.find(\"td\",class_=\"rankings-block__banner--points\"))\n",
    "scraped_points2=list(soup.find_all(\"td\",class_=\"table-body__cell u-center-text\"))\n",
    "scraped_points2=scraped_points2[1:38:2]\n",
    "final_scraped_points=scraped_points+scraped_points2"
   ]
  },
  {
   "cell_type": "code",
   "execution_count": 42,
   "id": "fca12c63",
   "metadata": {},
   "outputs": [
    {
     "name": "stdout",
     "output_type": "stream",
     "text": [
      "['5,010', '3,572', '3,229', '3,656', '2,649', '2,775', '3,129', '2,976', '1,419', '2,902', '1,300', '1,459', '1,201', '971', '673', '919', '693', '821', '456', '128']\n"
     ]
    }
   ],
   "source": [
    "points=[]\n",
    "for i in final_scraped_points:\n",
    "    points.append(i.get_text().replace(\"\\n\",\" \").strip(\" \"))\n",
    "print(points)"
   ]
  },
  {
   "cell_type": "code",
   "execution_count": 43,
   "id": "06ff9ed5",
   "metadata": {},
   "outputs": [
    {
     "name": "stdout",
     "output_type": "stream",
     "text": [
      "20 20 20 20\n"
     ]
    }
   ],
   "source": [
    "print(len(teams),len(rating),len(matches),len(points))"
   ]
  },
  {
   "cell_type": "code",
   "execution_count": 44,
   "id": "6d6bec05",
   "metadata": {},
   "outputs": [
    {
     "data": {
      "text/html": [
       "<div>\n",
       "<style scoped>\n",
       "    .dataframe tbody tr th:only-of-type {\n",
       "        vertical-align: middle;\n",
       "    }\n",
       "\n",
       "    .dataframe tbody tr th {\n",
       "        vertical-align: top;\n",
       "    }\n",
       "\n",
       "    .dataframe thead th {\n",
       "        text-align: right;\n",
       "    }\n",
       "</style>\n",
       "<table border=\"1\" class=\"dataframe\">\n",
       "  <thead>\n",
       "    <tr style=\"text-align: right;\">\n",
       "      <th></th>\n",
       "      <th>TEAMS</th>\n",
       "      <th>RATING</th>\n",
       "      <th>MATCHES</th>\n",
       "      <th>POINTS</th>\n",
       "    </tr>\n",
       "  </thead>\n",
       "  <tbody>\n",
       "    <tr>\n",
       "      <th>0</th>\n",
       "      <td>India</td>\n",
       "      <td>114</td>\n",
       "      <td>44</td>\n",
       "      <td>5,010</td>\n",
       "    </tr>\n",
       "    <tr>\n",
       "      <th>1</th>\n",
       "      <td>Australia</td>\n",
       "      <td>112</td>\n",
       "      <td>32</td>\n",
       "      <td>3,572</td>\n",
       "    </tr>\n",
       "    <tr>\n",
       "      <th>2</th>\n",
       "      <td>New Zealand</td>\n",
       "      <td>111</td>\n",
       "      <td>29</td>\n",
       "      <td>3,229</td>\n",
       "    </tr>\n",
       "    <tr>\n",
       "      <th>3</th>\n",
       "      <td>England</td>\n",
       "      <td>111</td>\n",
       "      <td>33</td>\n",
       "      <td>3,656</td>\n",
       "    </tr>\n",
       "    <tr>\n",
       "      <th>4</th>\n",
       "      <td>Pakistan</td>\n",
       "      <td>106</td>\n",
       "      <td>25</td>\n",
       "      <td>2,649</td>\n",
       "    </tr>\n",
       "    <tr>\n",
       "      <th>5</th>\n",
       "      <td>South Africa</td>\n",
       "      <td>103</td>\n",
       "      <td>27</td>\n",
       "      <td>2,775</td>\n",
       "    </tr>\n",
       "    <tr>\n",
       "      <th>6</th>\n",
       "      <td>Bangladesh</td>\n",
       "      <td>95</td>\n",
       "      <td>33</td>\n",
       "      <td>3,129</td>\n",
       "    </tr>\n",
       "    <tr>\n",
       "      <th>7</th>\n",
       "      <td>Sri Lanka</td>\n",
       "      <td>88</td>\n",
       "      <td>34</td>\n",
       "      <td>2,976</td>\n",
       "    </tr>\n",
       "    <tr>\n",
       "      <th>8</th>\n",
       "      <td>Afghanistan</td>\n",
       "      <td>71</td>\n",
       "      <td>20</td>\n",
       "      <td>1,419</td>\n",
       "    </tr>\n",
       "    <tr>\n",
       "      <th>9</th>\n",
       "      <td>West Indies</td>\n",
       "      <td>71</td>\n",
       "      <td>41</td>\n",
       "      <td>2,902</td>\n",
       "    </tr>\n",
       "  </tbody>\n",
       "</table>\n",
       "</div>"
      ],
      "text/plain": [
       "          TEAMS RATING MATCHES POINTS\n",
       "0         India    114      44  5,010\n",
       "1     Australia    112      32  3,572\n",
       "2   New Zealand    111      29  3,229\n",
       "3       England    111      33  3,656\n",
       "4      Pakistan    106      25  2,649\n",
       "5  South Africa    103      27  2,775\n",
       "6    Bangladesh     95      33  3,129\n",
       "7     Sri Lanka     88      34  2,976\n",
       "8   Afghanistan     71      20  1,419\n",
       "9   West Indies     71      41  2,902"
      ]
     },
     "execution_count": 44,
     "metadata": {},
     "output_type": "execute_result"
    }
   ],
   "source": [
    "df=pd.DataFrame()\n",
    "df['TEAMS']=teams\n",
    "df['RATING']=rating\n",
    "df['MATCHES']=matches\n",
    "df['POINTS']=points\n",
    "df.head(10)"
   ]
  },
  {
   "cell_type": "code",
   "execution_count": null,
   "id": "5c9fc38b",
   "metadata": {},
   "outputs": [],
   "source": []
  }
 ],
 "metadata": {
  "kernelspec": {
   "display_name": "Python 3 (ipykernel)",
   "language": "python",
   "name": "python3"
  },
  "language_info": {
   "codemirror_mode": {
    "name": "ipython",
    "version": 3
   },
   "file_extension": ".py",
   "mimetype": "text/x-python",
   "name": "python",
   "nbconvert_exporter": "python",
   "pygments_lexer": "ipython3",
   "version": "3.9.13"
  }
 },
 "nbformat": 4,
 "nbformat_minor": 5
}
