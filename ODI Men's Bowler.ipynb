{
 "cells": [
  {
   "cell_type": "code",
   "execution_count": 1,
   "id": "a128294b",
   "metadata": {},
   "outputs": [],
   "source": [
    "import pandas as pd\n",
    "import requests\n",
    "import bs4\n",
    "from bs4 import BeautifulSoup\n",
    "import warnings\n",
    "warnings.filterwarnings(\"ignore\")"
   ]
  },
  {
   "cell_type": "code",
   "execution_count": 2,
   "id": "153f29cd",
   "metadata": {},
   "outputs": [],
   "source": [
    "url=\"https://www.icc-cricket.com/rankings/mens/player-rankings/odi/bowling\""
   ]
  },
  {
   "cell_type": "code",
   "execution_count": 3,
   "id": "c3c12630",
   "metadata": {},
   "outputs": [
    {
     "data": {
      "text/plain": [
       "200"
      ]
     },
     "execution_count": 3,
     "metadata": {},
     "output_type": "execute_result"
    }
   ],
   "source": [
    "page=requests.get(url)\n",
    "page.status_code"
   ]
  },
  {
   "cell_type": "code",
   "execution_count": null,
   "id": "ffbbca84",
   "metadata": {},
   "outputs": [],
   "source": [
    "soup=BeautifulSoup(page.content, \"html.parser\")\n",
    "print(soup.prettify())"
   ]
  },
  {
   "cell_type": "code",
   "execution_count": 7,
   "id": "957a027f",
   "metadata": {},
   "outputs": [],
   "source": [
    "scraped_names=list(soup.find(\"div\",class_=\"rankings-block__banner--name-large\"))\n",
    "scraped_names2=list(soup.find_all(\"td\",class_=\"table-body__cell rankings-table__name name\"))\n",
    "final_scraped_names=scraped_names+scraped_names2                   "
   ]
  },
  {
   "cell_type": "code",
   "execution_count": 8,
   "id": "d8671f70",
   "metadata": {},
   "outputs": [
    {
     "name": "stdout",
     "output_type": "stream",
     "text": [
      "['Mohammed Siraj', 'Josh Hazlewood', 'Trent Boult', 'Mitchell Starc', 'Rashid Khan', 'Adam Zampa', 'Shakib Al Hasan', 'Shaheen Afridi', 'Mustafizur Rahman', 'Mujeeb Ur Rahman', 'Mohammad Nabi', 'Mehedi Hasan', 'Matt Henry', 'Kagiso Rabada', 'Pat Cummins', 'Andy McBrine', 'Alzarri Joseph', 'Chris Woakes', 'Lungi Ngidi', 'Mark Watt', 'Kuldeep Yadav', 'Jofra Archer', 'Akeal Hosein', 'Wanindu Hasaranga', 'Jasprit Bumrah', 'Mitchell Santner', 'Mohammad Nawaz', 'Keshav Maharaj', 'Saurabh Netravalkar', 'Bernard Scholtz', 'Mohammad Shami', 'Joshua Little', 'Bilal Khan', 'David Willey', 'Shardul Thakur', 'Tim Southee', 'Shadab Khan', 'Yuzvendra Chahal', 'Ahmed Raza', 'Akila Dananjaya', 'Mark Wood', 'Lachlan Ferguson', 'Adil Rashid', 'Dushmantha Chameera', 'Sandeep Lamichhane', 'Tabraiz Shamsi', 'Rohan Mustafa', 'Simi Singh', 'Zeeshan Maqsood', 'Taskin Ahmed', 'Anrich Nortje', 'Dhananjaya de Silva', 'Safyaan Sharif', 'Nosthush Kenjige', 'Chad Soper', 'Jason Holder', 'Kaleemullah', 'Mark Adair', 'Bhuvneshwar Kumar', 'Blessing Muzarabani', 'Taijul Islam', 'Sheldon Cottrell', 'Haris Rauf', 'Craig Young', 'Ish Sodhi', 'Imad Wasim', 'Hasan Ali', 'Maheesh Theekshana', 'Hamza Tahir', 'Jhye Richardson', 'Zahoor Khan', 'Fred Klaassen', 'Reece Topley', 'Richard Ngarava', 'Assad Vala', 'Andile Phehlukwayo', 'Ravindra Jadeja', 'Hardik Pandya', 'Sikandar Raza', 'J.J. Smit', 'Tendai Chatara', 'Steven Taylor', 'Wayne Parnell', 'Ashton Agar', 'Mohammad Mohammad Saifuddin', 'Moeen Ali', 'Ruben Trumpelmann', 'Christopher Sole', 'Michael Leask', 'M. Prasidh Krishna', 'Nuwan Pradeep', 'Wahab Riaz', 'Sam Curran', 'Fazalhaq Farooqi', 'Faheem Ashraf', 'Khawar Ali', 'Sean Abbott', 'Mitchell Marsh', 'Jan Frylinck', 'Logan van Beek']\n"
     ]
    }
   ],
   "source": [
    "names=[]\n",
    "for i in final_scraped_names:\n",
    "    names.append(i.get_text().replace(\"\\n\",\" \").strip(\" \"))\n",
    "print(names)"
   ]
  },
  {
   "cell_type": "code",
   "execution_count": 9,
   "id": "8f402b14",
   "metadata": {},
   "outputs": [],
   "source": [
    "scraped_teams=list(soup.find(\"div\",class_=\"rankings-block__banner--nationality\"))\n",
    "scraped_teams2=list(soup.find_all(\"span\",class_=\"table-body__logo-text\"))\n",
    "final_scraped_teams=scraped_teams+scraped_teams2"
   ]
  },
  {
   "cell_type": "code",
   "execution_count": 26,
   "id": "400c701a",
   "metadata": {},
   "outputs": [
    {
     "name": "stdout",
     "output_type": "stream",
     "text": [
      "['', '', '', '', 'IND', '', 'AUS', 'NZ', 'AUS', 'AFG', 'AUS', 'BAN', 'PAK', 'BAN', 'AFG', 'AFG', 'BAN', 'NZ', 'SA', 'AUS', 'IRE', 'WI', 'ENG', 'SA', 'SCO', 'IND', 'ENG', 'WI', 'SL', 'IND', 'NZ', 'PAK', 'SA', 'USA', 'NAM', 'IND', 'IRE', 'OMA', 'ENG', 'IND', 'NZ', 'PAK', 'IND', 'UAE', 'SL', 'ENG', 'NZ', 'ENG', 'SL', 'NEP', 'SA', 'UAE', 'IRE', 'OMA', 'BAN', 'SA', 'SL', 'SCO', 'USA', 'PNG', 'WI', 'OMA', 'IRE', 'IND', 'ZIM', 'BAN', 'WI', 'PAK', 'IRE', 'NZ', 'PAK', 'PAK', 'SL', 'SCO', 'AUS', 'UAE', 'NED', 'ENG', 'ZIM', 'PNG', 'SA', 'IND', 'IND', 'ZIM', 'NAM', 'ZIM', 'USA', 'SA', 'AUS', 'BAN', 'ENG', 'NAM', 'SCO', 'SCO', 'IND', 'SL', 'PAK', 'ENG', 'AFG', 'PAK', 'OMA', 'AUS', 'AUS', 'NAM', 'NED']\n"
     ]
    }
   ],
   "source": [
    "teams=[]\n",
    "for i in final_scraped_teams:\n",
    "    teams.append(i.get_text().replace(\"\\n\",\" \").strip(\" \"))\n",
    "print(teams)"
   ]
  },
  {
   "cell_type": "code",
   "execution_count": 37,
   "id": "cb4d8eca",
   "metadata": {},
   "outputs": [],
   "source": [
    "scraped_rating=list(soup.find(\"div\",class_=\"rankings-block__banner--rating\"))\n",
    "scraped_ratings2=list(soup.find_all(\"td\",class_=\"table-body__cell rating\"))\n",
    "final_scraped_ratings=scraped_rating+scraped_ratings2"
   ]
  },
  {
   "cell_type": "code",
   "execution_count": 38,
   "id": "d14da736",
   "metadata": {},
   "outputs": [
    {
     "name": "stdout",
     "output_type": "stream",
     "text": [
      "['729', '727', '708', '665', '659', '655', '652', '641', '638', '637', '631', '631', '624', '622', '615', '613', '609', '607', '594', '594', '594', '580', '573', '571', '569', '552', '549', '543', '537', '535', '533', '532', '532', '530', '527', '522', '520', '518', '514', '514', '511', '510', '510', '506', '498', '497', '483', '478', '478', '476', '474', '474', '470', '469', '469', '464', '462', '460', '460', '456', '455', '452', '449', '448', '441', '439', '436', '435', '434', '434', '434', '433', '431', '426', '426', '425', '422', '420', '420', '418', '417', '416', '416', '416', '415', '413', '409', '409', '409', '407', '407', '403', '402', '400', '400', '398', '397', '396', '395', '394']\n"
     ]
    }
   ],
   "source": [
    "ratings=[]\n",
    "for i in final_scraped_ratings:\n",
    "    ratings.append(i.get_text().replace(\"\\n\",\" \").strip(\" \"))\n",
    "print(ratings)"
   ]
  },
  {
   "cell_type": "code",
   "execution_count": 40,
   "id": "33772014",
   "metadata": {},
   "outputs": [
    {
     "name": "stdout",
     "output_type": "stream",
     "text": [
      "100 100 100\n"
     ]
    }
   ],
   "source": [
    "print(len(names),len(teams),len(ratings))"
   ]
  },
  {
   "cell_type": "code",
   "execution_count": 41,
   "id": "45205c2f",
   "metadata": {},
   "outputs": [
    {
     "data": {
      "text/html": [
       "<div>\n",
       "<style scoped>\n",
       "    .dataframe tbody tr th:only-of-type {\n",
       "        vertical-align: middle;\n",
       "    }\n",
       "\n",
       "    .dataframe tbody tr th {\n",
       "        vertical-align: top;\n",
       "    }\n",
       "\n",
       "    .dataframe thead th {\n",
       "        text-align: right;\n",
       "    }\n",
       "</style>\n",
       "<table border=\"1\" class=\"dataframe\">\n",
       "  <thead>\n",
       "    <tr style=\"text-align: right;\">\n",
       "      <th></th>\n",
       "      <th>PLAYER</th>\n",
       "      <th>TEAMS</th>\n",
       "      <th>RATINGS</th>\n",
       "    </tr>\n",
       "  </thead>\n",
       "  <tbody>\n",
       "    <tr>\n",
       "      <th>0</th>\n",
       "      <td>Mohammed Siraj</td>\n",
       "      <td>IND</td>\n",
       "      <td>729</td>\n",
       "    </tr>\n",
       "    <tr>\n",
       "      <th>1</th>\n",
       "      <td>Josh Hazlewood</td>\n",
       "      <td>AUS</td>\n",
       "      <td>727</td>\n",
       "    </tr>\n",
       "    <tr>\n",
       "      <th>2</th>\n",
       "      <td>Trent Boult</td>\n",
       "      <td>NZ</td>\n",
       "      <td>708</td>\n",
       "    </tr>\n",
       "    <tr>\n",
       "      <th>3</th>\n",
       "      <td>Mitchell Starc</td>\n",
       "      <td>AUS</td>\n",
       "      <td>665</td>\n",
       "    </tr>\n",
       "    <tr>\n",
       "      <th>4</th>\n",
       "      <td>Rashid Khan</td>\n",
       "      <td>AFG</td>\n",
       "      <td>659</td>\n",
       "    </tr>\n",
       "    <tr>\n",
       "      <th>5</th>\n",
       "      <td>Adam Zampa</td>\n",
       "      <td>AUS</td>\n",
       "      <td>655</td>\n",
       "    </tr>\n",
       "    <tr>\n",
       "      <th>6</th>\n",
       "      <td>Shakib Al Hasan</td>\n",
       "      <td>BAN</td>\n",
       "      <td>652</td>\n",
       "    </tr>\n",
       "    <tr>\n",
       "      <th>7</th>\n",
       "      <td>Shaheen Afridi</td>\n",
       "      <td>PAK</td>\n",
       "      <td>641</td>\n",
       "    </tr>\n",
       "    <tr>\n",
       "      <th>8</th>\n",
       "      <td>Mustafizur Rahman</td>\n",
       "      <td>BAN</td>\n",
       "      <td>638</td>\n",
       "    </tr>\n",
       "    <tr>\n",
       "      <th>9</th>\n",
       "      <td>Mujeeb Ur Rahman</td>\n",
       "      <td>AFG</td>\n",
       "      <td>637</td>\n",
       "    </tr>\n",
       "  </tbody>\n",
       "</table>\n",
       "</div>"
      ],
      "text/plain": [
       "              PLAYER TEAMS RATINGS\n",
       "0     Mohammed Siraj   IND     729\n",
       "1     Josh Hazlewood   AUS     727\n",
       "2        Trent Boult    NZ     708\n",
       "3     Mitchell Starc   AUS     665\n",
       "4        Rashid Khan   AFG     659\n",
       "5         Adam Zampa   AUS     655\n",
       "6    Shakib Al Hasan   BAN     652\n",
       "7     Shaheen Afridi   PAK     641\n",
       "8  Mustafizur Rahman   BAN     638\n",
       "9   Mujeeb Ur Rahman   AFG     637"
      ]
     },
     "execution_count": 41,
     "metadata": {},
     "output_type": "execute_result"
    }
   ],
   "source": [
    "df=pd.DataFrame()\n",
    "df['PLAYER']=names\n",
    "df['TEAMS']=teams\n",
    "df['RATINGS']=ratings\n",
    "df.head(10)"
   ]
  },
  {
   "cell_type": "code",
   "execution_count": null,
   "id": "1f022628",
   "metadata": {},
   "outputs": [],
   "source": []
  }
 ],
 "metadata": {
  "kernelspec": {
   "display_name": "Python 3 (ipykernel)",
   "language": "python",
   "name": "python3"
  },
  "language_info": {
   "codemirror_mode": {
    "name": "ipython",
    "version": 3
   },
   "file_extension": ".py",
   "mimetype": "text/x-python",
   "name": "python",
   "nbconvert_exporter": "python",
   "pygments_lexer": "ipython3",
   "version": "3.9.13"
  }
 },
 "nbformat": 4,
 "nbformat_minor": 5
}
