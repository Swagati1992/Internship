{
 "cells": [
  {
   "cell_type": "markdown",
   "id": "138bdb4c",
   "metadata": {},
   "source": [
    "# Write a python program which searches all the product under a particular product from www.amazon.in. The product to be searched will be taken as input from user"
   ]
  },
  {
   "cell_type": "code",
   "execution_count": 1,
   "id": "2e587c6e",
   "metadata": {},
   "outputs": [],
   "source": [
    "import selenium\n",
    "import bs4\n",
    "import requests\n",
    "import pandas as pd\n",
    "import warnings\n",
    "warnings.filterwarnings(\"ignore\")\n",
    "from selenium import webdriver\n",
    "from selenium.webdriver.common.by import By\n",
    "from selenium.common.exceptions import ElementNotInteractableException, SessionNotCreatedException, NoSuchElementException\n",
    "from selenium.common.exceptions import TimeoutException\n",
    "from selenium.common.exceptions import StaleElementReferenceException\n",
    "from bs4 import BeautifulSoup\n",
    "import time"
   ]
  },
  {
   "cell_type": "code",
   "execution_count": 18,
   "id": "829954e9",
   "metadata": {},
   "outputs": [],
   "source": [
    "driver=webdriver.Chrome(r\"chromedriver.exe\")"
   ]
  },
  {
   "cell_type": "code",
   "execution_count": 19,
   "id": "363ab4e5",
   "metadata": {},
   "outputs": [],
   "source": [
    "driver.get(\"https://www.amazon.in/\")"
   ]
  },
  {
   "cell_type": "code",
   "execution_count": 20,
   "id": "82f67fb9",
   "metadata": {},
   "outputs": [],
   "source": [
    "driver.maximize_window()"
   ]
  },
  {
   "cell_type": "code",
   "execution_count": 21,
   "id": "1c228537",
   "metadata": {},
   "outputs": [
    {
     "name": "stdout",
     "output_type": "stream",
     "text": [
      "Enter item to search guitar\n"
     ]
    }
   ],
   "source": [
    "val=input(\"Enter item to search\")"
   ]
  },
  {
   "cell_type": "code",
   "execution_count": 22,
   "id": "34d65a97",
   "metadata": {},
   "outputs": [],
   "source": [
    "search_bar=driver.find_element(By.XPATH,\"/html/body/div[1]/header/div/div[1]/div[2]/div/form/div[2]/div[1]/input\")\n",
    "search_bar.send_keys(val)"
   ]
  },
  {
   "cell_type": "code",
   "execution_count": 23,
   "id": "c76c792c",
   "metadata": {},
   "outputs": [],
   "source": [
    "search=driver.find_element(By.XPATH,\"/html/body/div[1]/header/div/div[1]/div[2]/div/form/div[3]/div/span/input\")\n",
    "search.click()"
   ]
  },
  {
   "cell_type": "markdown",
   "id": "79029c6f",
   "metadata": {},
   "source": [
    "# now scrape the following details of each product listed in first 3 pages of your search results and save it in a data frame and csv"
   ]
  },
  {
   "cell_type": "code",
   "execution_count": 24,
   "id": "ca6b9899",
   "metadata": {},
   "outputs": [],
   "source": [
    "Product_urls=[]\n",
    "start=0\n",
    "end=3\n",
    "for page in range(start,end):\n",
    "    url=driver.find_elements(By.XPATH,\"//a[@class='a-link-normal s-underline-text s-underline-link-text s-link-style a-text-normal']\")\n",
    "    for i in url:\n",
    "        brnd=i.get_attribute(\"href\")\n",
    "        Product_urls.append(brnd)\n",
    "    next_button=driver.find_element(By.XPATH,\"//a[@class='s-pagination-item s-pagination-next s-pagination-button s-pagination-separator']\")\n",
    "    next_button.click()\n",
    "    time.sleep(3)"
   ]
  },
  {
   "cell_type": "code",
   "execution_count": 25,
   "id": "6a9e199d",
   "metadata": {},
   "outputs": [],
   "source": [
    "driver.refresh()"
   ]
  },
  {
   "cell_type": "code",
   "execution_count": 26,
   "id": "9e2ade41",
   "metadata": {},
   "outputs": [],
   "source": [
    "brands=[]\n",
    "Estimated_Delivery=[]\n",
    "Availability=[]\n",
    "Price=[]\n",
    "Reviews=[]\n",
    "\n",
    "for url in Product_urls[0:20]:       #Used range as it throws error every time I tried appending all as my system is slow\n",
    "    driver.get(url)\n",
    "    time.sleep(3)\n",
    "    \n",
    "    try:\n",
    "        brand=driver.find_element(By.XPATH,\"//*[@class='a-size-large product-title-word-break']\")\n",
    "        brands.append(brand.text)\n",
    "    except NoSuchElementException:\n",
    "        brands.append(\"-\")\n",
    "    \n",
    "    try:\n",
    "        delivery=driver.find_element(By.XPATH,\"//*[@class='a-text-bold']\")\n",
    "        Estimated_Delivery.append(delivery.text)\n",
    "    except NoSuchElementException:\n",
    "        Estimated_Delivery.append(\"-\")\n",
    "    \n",
    "    try:\n",
    "        price=driver.find_element(By.XPATH,\"//*[@class='a-price-whole']\")\n",
    "        Price.append(price.text)\n",
    "    except NoSuchElementException:\n",
    "        Price.append(\"-\")\n",
    "    \n",
    "    try:\n",
    "        availability=driver.find_element(By.XPATH,\"//*[@class='a-size-medium a-color-success']\")\n",
    "        Availability.append(availability.text)\n",
    "    except NoSuchElementException:\n",
    "        Availability.append(\"-\")\n",
    "        \n",
    "    try:\n",
    "        review=driver.find_element(By.XPATH,\"//*[@class='a-icon a-icon-star a-star-4']\")\n",
    "        Reviews.append(review.text)\n",
    "    except NoSuchElementException:\n",
    "        Reviews.append(\"-\")"
   ]
  },
  {
   "cell_type": "code",
   "execution_count": null,
   "id": "80682ec9",
   "metadata": {},
   "outputs": [],
   "source": [
    "df=pd.DataFrame({\"Brand\":brands,\"Estimated_delievry\":Estimated_Delivery,\"Price\":Price,\"Availability\":Availability,\"Review\":Reviews})\n",
    "df\n"
   ]
  },
  {
   "cell_type": "code",
   "execution_count": 28,
   "id": "8fc2c1ae",
   "metadata": {},
   "outputs": [],
   "source": [
    "driver.close()"
   ]
  },
  {
   "cell_type": "markdown",
   "id": "5bb66a32",
   "metadata": {},
   "source": [
    "# Write a python program to access the search bar and search button on images.google.com and scrape 10 images each for keywords ‘fruits’, ‘cars’ and ‘Machine Learning’, ‘Guitar’, ‘Cakes’."
   ]
  },
  {
   "cell_type": "code",
   "execution_count": 29,
   "id": "5965e775",
   "metadata": {},
   "outputs": [],
   "source": [
    "driver=webdriver.Chrome(r\"chromedriver.exe\")"
   ]
  },
  {
   "cell_type": "code",
   "execution_count": 30,
   "id": "aaad6909",
   "metadata": {},
   "outputs": [],
   "source": [
    "driver.get(\"https://www.google.com/\")"
   ]
  },
  {
   "cell_type": "code",
   "execution_count": 31,
   "id": "f9ddb3f4",
   "metadata": {},
   "outputs": [],
   "source": [
    "driver.maximize_window()"
   ]
  },
  {
   "cell_type": "code",
   "execution_count": 33,
   "id": "837a59de",
   "metadata": {},
   "outputs": [],
   "source": [
    "fruit_search=driver.find_element(By.XPATH,\"/html/body/div[1]/div[3]/form/div[1]/div[1]/div[1]/div/div[2]/input\")\n",
    "fruit_search.send_keys('fruits')"
   ]
  },
  {
   "cell_type": "code",
   "execution_count": 34,
   "id": "cce2e8b6",
   "metadata": {},
   "outputs": [],
   "source": [
    "search=driver.find_element(By.XPATH,\"/html/body/div[1]/div[3]/form/div[1]/div[1]/div[2]/div[2]/div[5]/center/input[1]\")\n",
    "search.click()"
   ]
  },
  {
   "cell_type": "code",
   "execution_count": 35,
   "id": "286a9444",
   "metadata": {},
   "outputs": [],
   "source": [
    "images=driver.find_element(By.XPATH,\"/html/body/div[7]/div/div[4]/div/div[1]/div/div[1]/div/div[2]/a\")\n",
    "images.click()"
   ]
  },
  {
   "cell_type": "code",
   "execution_count": 36,
   "id": "fd00cf34",
   "metadata": {},
   "outputs": [
    {
     "name": "stdout",
     "output_type": "stream",
     "text": [
      "Downloading 0 of 10 images\n",
      "Downloading 1 of 10 images\n",
      "Downloading 2 of 10 images\n",
      "Downloading 3 of 10 images\n",
      "Downloading 4 of 10 images\n",
      "Downloading 5 of 10 images\n",
      "Downloading 6 of 10 images\n",
      "Downloading 7 of 10 images\n",
      "Downloading 8 of 10 images\n",
      "Downloading 9 of 10 images\n",
      "Downloading 10 of 10 images\n"
     ]
    }
   ],
   "source": [
    "for _ in range(20):\n",
    "    driver.execute_script(\"window.scrollBy(0,1000)\")\n",
    "images=driver.find_elements(By.XPATH,\"//img[@class='rg_i Q4LuWd']\")\n",
    "img_url=[]\n",
    "img_data=[]\n",
    "for image in images:\n",
    "    source=image.get_attribute(\"src\")\n",
    "    if source is not None:\n",
    "        if(source[0:4]==\"http\"):\n",
    "            img_url.append(source)\n",
    "\n",
    "for i in range(len(img_url)):\n",
    "    if i>10:\n",
    "        break\n",
    "    print(\"Downloading {0} of {1} images\".format(i,10))\n",
    "    response=requests.get(img_url[i])\n",
    "    file=open(r\"D:\\python practice\"+str(i)+\".jpg\",\"wb\")\n",
    "    file.write(response.content)"
   ]
  },
  {
   "cell_type": "code",
   "execution_count": 37,
   "id": "f237213f",
   "metadata": {},
   "outputs": [],
   "source": [
    "cakes=driver.find_element(By.XPATH,\"/html/body/c-wiz/c-wiz/div/div[3]/div[2]/div/div[1]/form/div[1]/div[2]/div/div[2]/input\")\n",
    "cakes.send_keys(\"cakes\")"
   ]
  },
  {
   "cell_type": "code",
   "execution_count": 38,
   "id": "eac15eb9",
   "metadata": {},
   "outputs": [],
   "source": [
    "search=driver.find_element(By.XPATH,\"/html/body/c-wiz/c-wiz/div/div[3]/div[2]/div/div[1]/form/div[1]/div[2]/button\")\n",
    "search.click()"
   ]
  },
  {
   "cell_type": "code",
   "execution_count": 41,
   "id": "2422d794",
   "metadata": {},
   "outputs": [
    {
     "name": "stdout",
     "output_type": "stream",
     "text": [
      "Downloading 0 of 10 images\n",
      "Downloading 1 of 10 images\n",
      "Downloading 2 of 10 images\n",
      "Downloading 3 of 10 images\n",
      "Downloading 4 of 10 images\n",
      "Downloading 5 of 10 images\n",
      "Downloading 6 of 10 images\n",
      "Downloading 7 of 10 images\n",
      "Downloading 8 of 10 images\n",
      "Downloading 9 of 10 images\n",
      "Downloading 10 of 10 images\n"
     ]
    }
   ],
   "source": [
    "for _ in range(10):\n",
    "    driver.execute_script(\"window.scrollBy(0,1000)\")\n",
    "images=driver.find_elements(By.XPATH,\"//img[@class='rg_i Q4LuWd']\")\n",
    "img_url=[]\n",
    "img_data=[]\n",
    "for image in images:\n",
    "    source=image.get_attribute(\"src\")\n",
    "    if source is not None:\n",
    "        if (source[0:4]==\"http\"):\n",
    "            img_url.append(source)\n",
    "for i in range(len(img_url)):\n",
    "    if i>10:\n",
    "        break\n",
    "    print(\"Downloading {0} of {1} images\".format(i,10))\n",
    "    response=requests.get(img_url[i])\n",
    "    file=open(r\"D:\\CAKE_IMAGES\"+str(i)+\".jpg\",\"wb\")\n",
    "    file.write(response.content)"
   ]
  },
  {
   "cell_type": "code",
   "execution_count": 42,
   "id": "8c456666",
   "metadata": {},
   "outputs": [],
   "source": [
    "cars=driver.find_element(By.XPATH,\"/html/body/c-wiz/c-wiz/div/div[3]/div[2]/div/div[1]/form/div[1]/div[2]/div/div[2]/input\")\n",
    "cars.send_keys(\"cars\")"
   ]
  },
  {
   "cell_type": "code",
   "execution_count": 43,
   "id": "50122e55",
   "metadata": {},
   "outputs": [],
   "source": [
    "search=driver.find_element(By.XPATH,\"/html/body/c-wiz/c-wiz/div/div[3]/div[2]/div/div[1]/form/div[1]/div[2]/button\")\n",
    "search.click()"
   ]
  },
  {
   "cell_type": "code",
   "execution_count": 45,
   "id": "340c95fd",
   "metadata": {},
   "outputs": [
    {
     "name": "stdout",
     "output_type": "stream",
     "text": [
      "Downloaded 0 of 10 images.\n",
      "Downloaded 1 of 10 images.\n",
      "Downloaded 2 of 10 images.\n",
      "Downloaded 3 of 10 images.\n",
      "Downloaded 4 of 10 images.\n",
      "Downloaded 5 of 10 images.\n",
      "Downloaded 6 of 10 images.\n",
      "Downloaded 7 of 10 images.\n",
      "Downloaded 8 of 10 images.\n",
      "Downloaded 9 of 10 images.\n",
      "Downloaded 10 of 10 images.\n"
     ]
    }
   ],
   "source": [
    "for _ in range(20):\n",
    "    driver.execute_script(\"window.scrollBy(0,500)\")\n",
    "images=driver.find_elements(By.XPATH,\"//img[@class='rg_i Q4LuWd']\")\n",
    "img_url=[]\n",
    "for a in images:\n",
    "    src=a.get_attribute(\"src\")\n",
    "    if src is not None:\n",
    "        if (src[0:4]==\"http\"):\n",
    "            img_url.append(src)\n",
    "for i in range(len(img_url)):\n",
    "    if i>10:\n",
    "        break\n",
    "    print(\"Downloaded {0} of {1} images.\".format(i,10))\n",
    "    response=requests.get(img_url[i])\n",
    "    file=open(r\"D:\\CAR_IMAGES\"+str(i)+\".jpg\",\"wb\")\n",
    "    file.write(response.content)"
   ]
  },
  {
   "cell_type": "code",
   "execution_count": 46,
   "id": "ee0a74e6",
   "metadata": {},
   "outputs": [],
   "source": [
    "driver.close()"
   ]
  },
  {
   "cell_type": "markdown",
   "id": "2932106f",
   "metadata": {},
   "source": [
    "# Write a python program to search for a smartphone(e.g.: Oneplus Nord, pixel 4A, etc.) on www.flipkart.com and scrape the details and make dataframe"
   ]
  },
  {
   "cell_type": "code",
   "execution_count": null,
   "id": "c1001ddd",
   "metadata": {},
   "outputs": [],
   "source": [
    "driver=webdriver.Chrome(r\"chromedriver.exe\")"
   ]
  },
  {
   "cell_type": "code",
   "execution_count": null,
   "id": "f78981f8",
   "metadata": {},
   "outputs": [],
   "source": [
    "driver.get(\"https://www.flipkart.com/\")"
   ]
  },
  {
   "cell_type": "code",
   "execution_count": null,
   "id": "cfb1e491",
   "metadata": {},
   "outputs": [],
   "source": [
    "driver.maximize_window()"
   ]
  },
  {
   "cell_type": "code",
   "execution_count": null,
   "id": "0165c17a",
   "metadata": {},
   "outputs": [],
   "source": [
    "search_bar=driver.find_element(By.XPATH,\"/html/body/div[1]/div/div[1]/div[1]/div[2]/div[2]/form/div/div/input\")\n",
    "search_bar.send_keys(\"Oneplus Nord\")"
   ]
  },
  {
   "cell_type": "code",
   "execution_count": null,
   "id": "c2fa1ca6",
   "metadata": {},
   "outputs": [],
   "source": [
    "search=driver.find_element(By.XPATH,\"/html/body/div[1]/div/div[1]/div[1]/div[2]/div[2]/form/div/button\")\n",
    "search.click()"
   ]
  },
  {
   "cell_type": "code",
   "execution_count": null,
   "id": "011dcf6d",
   "metadata": {},
   "outputs": [],
   "source": [
    "name=[]\n",
    "tags=driver.find_elements(By.XPATH,\"//div[@class='_4rR01T']\")\n",
    "for i in tags:\n",
    "    a=i.text\n",
    "    name.append(a)\n",
    "print(name)"
   ]
  },
  {
   "cell_type": "code",
   "execution_count": null,
   "id": "3ea8fc07",
   "metadata": {},
   "outputs": [],
   "source": [
    "Description=[]\n",
    "desc_tags=driver.find_elements(By.XPATH,\"//div[@class='fMghEO']\")\n",
    "for i in desc_tags:\n",
    "    desc=i.text.split(\" \")\n",
    "    Description.append(desc)\n",
    "\n",
    "len(Description)"
   ]
  },
  {
   "cell_type": "code",
   "execution_count": null,
   "id": "3bbe00bf",
   "metadata": {},
   "outputs": [],
   "source": [
    "Pricee=[]\n",
    "price_tags=list(soup.find_all(\"div\",class_=\"_30jeq3 _1_WHN1\"))+list(soup.find_all(\"div\",class_=\"_3utEwz\"))\n",
    "for i in price_tags:\n",
    "    price=i.text\n",
    "    Pricee.append(price)\n",
    "\n",
    "len(Pricee)"
   ]
  },
  {
   "cell_type": "code",
   "execution_count": null,
   "id": "460b5b47",
   "metadata": {},
   "outputs": [],
   "source": [
    "df=pd.DataFrame()\n",
    "df[\"Product_Name\"]=name\n",
    "df[\"Description\"]=Description\n",
    "df[\"Price\"]=Pricee\n",
    "df.head()"
   ]
  },
  {
   "cell_type": "code",
   "execution_count": null,
   "id": "04ca5b20",
   "metadata": {},
   "outputs": [],
   "source": [
    "driver.close()"
   ]
  },
  {
   "cell_type": "code",
   "execution_count": null,
   "id": "c3777dbe",
   "metadata": {},
   "outputs": [],
   "source": [
    "df.to_csv(\"OnePlus NORD flipkart.csv\")"
   ]
  },
  {
   "cell_type": "markdown",
   "id": "e415348e",
   "metadata": {},
   "source": [
    "# Write a program to scrap geospatial coordinates (latitude, longitude) of a city searched on google maps."
   ]
  },
  {
   "cell_type": "code",
   "execution_count": 61,
   "id": "57787bd5",
   "metadata": {},
   "outputs": [],
   "source": [
    "driver=webdriver.Chrome(r\"chromedriver.exe\")"
   ]
  },
  {
   "cell_type": "code",
   "execution_count": 62,
   "id": "35d09b11",
   "metadata": {},
   "outputs": [],
   "source": [
    "driver.get(\"https://www.google.com/maps/@20.1929335,85.612638,15z\")"
   ]
  },
  {
   "cell_type": "code",
   "execution_count": 63,
   "id": "9249dd1b",
   "metadata": {},
   "outputs": [],
   "source": [
    "driver.maximize_window()"
   ]
  },
  {
   "cell_type": "code",
   "execution_count": 64,
   "id": "0ea583d0",
   "metadata": {},
   "outputs": [],
   "source": [
    "area=driver.find_element(By.XPATH,\"/html/body/div[3]/div[9]/div[3]/div[1]/div[1]/div/div[2]/form/input[1]\")\n",
    "area.send_keys(\"Odisha\")"
   ]
  },
  {
   "cell_type": "code",
   "execution_count": 65,
   "id": "7973d04c",
   "metadata": {},
   "outputs": [],
   "source": [
    "search=driver.find_element(By.XPATH,\"/html/body/div[3]/div[9]/div[3]/div[1]/div[1]/div/div[2]/div[1]/button\")\n",
    "search.click()"
   ]
  },
  {
   "cell_type": "code",
   "execution_count": 66,
   "id": "9531b6a0",
   "metadata": {},
   "outputs": [],
   "source": [
    "import re"
   ]
  },
  {
   "cell_type": "code",
   "execution_count": null,
   "id": "c6cfe1fc",
   "metadata": {},
   "outputs": [],
   "source": [
    "try:\n",
    "    url_string=driver.current_url\n",
    "    print(\"URL Extracted:\",url_string)\n",
    "    lat_lng=re.findall(r'@(.*)data',url_string)\n",
    "    if len(lat_lng):\n",
    "        lat_lng_list=lat_lng[0].split(\",\")\n",
    "        if len(lat_lng_list)>=2:\n",
    "            lat=lat_lng_list[0]\n",
    "            lng=lat_lng_list[1]\n",
    "    print(\"Latitude={}, Logitude={}\".format(lat,lng))\n",
    "except Exception as e:\n",
    "    print(\"Error\",str(e))\n",
    "    "
   ]
  },
  {
   "cell_type": "code",
   "execution_count": null,
   "id": "040ebfee",
   "metadata": {},
   "outputs": [],
   "source": [
    "area=driver.find_element(By.XPATH,\"/html/body/div[3]/div[9]/div[3]/div[1]/div[1]/div/div[2]/form/input[1]\")\n",
    "area.send_keys(\"Bangalore\")"
   ]
  },
  {
   "cell_type": "code",
   "execution_count": null,
   "id": "4f83067e",
   "metadata": {},
   "outputs": [],
   "source": [
    "search=driver.find_element(By.XPATH,\"/html/body/div[3]/div[9]/div[3]/div[1]/div[1]/div/div[2]/div[1]/button\")\n",
    "search.click()"
   ]
  },
  {
   "cell_type": "code",
   "execution_count": null,
   "id": "b95b3d03",
   "metadata": {},
   "outputs": [],
   "source": [
    "try:\n",
    "    url_string=driver.current_url\n",
    "    print(\"URL Extracted:\",url_string)\n",
    "    lat_lng=re.findall(r\"@(.*)data\",url_string)\n",
    "    if len(lat_lng):\n",
    "        lat_lng_list=lat_lng[0].split(\",\")\n",
    "        if len(lat_lng_list)>=2:\n",
    "            lat=lat_lng_list[0]\n",
    "            lon=lat_lng_list[1]\n",
    "    print(\"Latitude={} and Longitude={}\".format(lat,lon))\n",
    "except Excpetion as e:\n",
    "    print(\"Error\",str(e))"
   ]
  },
  {
   "cell_type": "code",
   "execution_count": 67,
   "id": "fd6d28d9",
   "metadata": {},
   "outputs": [],
   "source": [
    "area=driver.find_element(By.XPATH,\"/html/body/div[3]/div[9]/div[3]/div[1]/div[1]/div/div[2]/form/input[1]\")\n",
    "area.send_keys(\"Bhubaneswar\")"
   ]
  },
  {
   "cell_type": "code",
   "execution_count": 68,
   "id": "ddb2b73e",
   "metadata": {},
   "outputs": [],
   "source": [
    "search=driver.find_element(By.XPATH,\"/html/body/div[3]/div[9]/div[3]/div[1]/div[1]/div/div[2]/div[1]/button\")\n",
    "search.click()"
   ]
  },
  {
   "cell_type": "code",
   "execution_count": 70,
   "id": "03849b36",
   "metadata": {},
   "outputs": [
    {
     "name": "stdout",
     "output_type": "stream",
     "text": [
      "URL Extracted: https://www.google.com/maps/place/Bhubaneswar,+Odisha/@20.3008287,85.6807075,11z/data=!3m1!4b1!4m6!3m5!1s0x3a1909d2d5170aa5:0xfc580e2b68b33fa8!8m2!3d20.2960587!4d85.8245398!16zL20vMDNjenFz\n",
      "Latitude=20.3008287 and Longitude=85.6807075\n"
     ]
    }
   ],
   "source": [
    "try:\n",
    "    url_string=driver.current_url\n",
    "    print(\"URL Extracted:\",url_string)\n",
    "    lat_lng=re.findall(r\"@(.*)data\",url_string)\n",
    "    if len(lat_lng):\n",
    "        lat_lng_list=lat_lng[0].split(\",\")\n",
    "        if len(lat_lng_list)>=2:\n",
    "            lat=lat_lng_list[0]\n",
    "            lng=lat_lng_list[1]\n",
    "    print(\"Latitude={} and Longitude={}\".format(lat,lng))\n",
    "except Exception as e:\n",
    "    print(\"Error\",str(e))"
   ]
  },
  {
   "cell_type": "code",
   "execution_count": 71,
   "id": "eb451f68",
   "metadata": {},
   "outputs": [],
   "source": [
    "driver.close()"
   ]
  },
  {
   "cell_type": "markdown",
   "id": "d785f665",
   "metadata": {},
   "source": [
    "# Write a program to scrap all the available details of best gaming laptops from digit.in"
   ]
  },
  {
   "cell_type": "code",
   "execution_count": 2,
   "id": "36b9242b",
   "metadata": {},
   "outputs": [],
   "source": [
    "driver=webdriver.Chrome(r\"chromedriver.exe\")"
   ]
  },
  {
   "cell_type": "code",
   "execution_count": 3,
   "id": "3b64af82",
   "metadata": {},
   "outputs": [],
   "source": [
    "driver.get(\"https://www.digit.in/\")"
   ]
  },
  {
   "cell_type": "code",
   "execution_count": 4,
   "id": "a8439843",
   "metadata": {},
   "outputs": [],
   "source": [
    "driver.maximize_window()"
   ]
  },
  {
   "cell_type": "code",
   "execution_count": 8,
   "id": "e7d18caf",
   "metadata": {},
   "outputs": [],
   "source": [
    "top_10=driver.find_element(By.XPATH,\"//div[@class='listing_container']//ul//li[9]\")\n",
    "top_10.click()\n",
    "time.sleep(3)"
   ]
  },
  {
   "cell_type": "code",
   "execution_count": 9,
   "id": "2390b20c",
   "metadata": {},
   "outputs": [
    {
     "name": "stdout",
     "output_type": "stream",
     "text": [
      "['MSI Titan GT77-12UHS', 'Lenovo Legion 7', 'Alienware X17 R2', 'Acer Predator Triton 500 SE PT516-52s', 'Omen By HP (16-B1371TX)', 'Acer Predator Helios 300 AN515-45', 'MSI Delta 15 (A5EFK-083IN)', 'Omen By HP (16-C0141AX)', 'Lenovo Legion 5i Pro (82RF00MGIN)', 'Alienware M15 R5 Ryzen Edition Icc-C780001win']\n"
     ]
    }
   ],
   "source": [
    "name=[]\n",
    "tags=driver.find_elements(By.XPATH,\"//div[@class='left_side']/a/h3\")\n",
    "for i in tags:\n",
    "    name.append(i.text.replace(\"\\n\",\" \").strip(\" \"))\n",
    "print(name)"
   ]
  },
  {
   "cell_type": "code",
   "execution_count": 10,
   "id": "ac323a9c",
   "metadata": {},
   "outputs": [
    {
     "name": "stdout",
     "output_type": "stream",
     "text": [
      "['Windows 11 Home OS', 'Windows 11 Home OS', 'Windows 11 Home OS', 'Windows 11 OS', 'Windows 11 Home OS', 'Windows 11 Home OS', 'Windows 11 Home OS', 'Windows 11 Home OS', 'Windows 11 Home OS', 'Windows 11 Home OS']\n"
     ]
    }
   ],
   "source": [
    "OS=[]\n",
    "tags=driver.find_elements(By.XPATH,\"//div[@class='product-detail']/div/ul/li[1]/div/div\")\n",
    "for i in tags:\n",
    "    OS.append(i.text.replace(\"\\n\",\" \").strip(\" \"))\n",
    "print(OS)"
   ]
  },
  {
   "cell_type": "code",
   "execution_count": 12,
   "id": "ad36d610",
   "metadata": {},
   "outputs": [
    {
     "name": "stdout",
     "output_type": "stream",
     "text": [
      "['17.3\" (3840 x 2160) Display', '16\" (2560 x 1600) Display', '17.3\" (1920 x 1080) Display', '16\" (2560 x 1600) Display', '16.1\" (2560 x 1440) Display', '15.6\" (2560 x 1440) Display', '15.6\" (1920 x 1080) Display', '16.1\" (2560 x 1440) Display', '16\" (2560 x 1600) Display', '15.6\" (1920 x 1080) Display']\n"
     ]
    }
   ],
   "source": [
    "Display=[]\n",
    "try:\n",
    "    tags=driver.find_elements(By.XPATH,\"//div[@class='product-detail']/div/ul/li[2]/div/div\")\n",
    "    for i in tags:\n",
    "        Display.append(i.text)\n",
    "except NoSuchElementExeption:\n",
    "    pass\n",
    "print(Display)"
   ]
  },
  {
   "cell_type": "code",
   "execution_count": 15,
   "id": "62b715f6",
   "metadata": {},
   "outputs": [
    {
     "name": "stdout",
     "output_type": "stream",
     "text": [
      "['2 TB SSD/64 GB DDR5 Memory', '1 TB SSD/32 GB DDR4 Memory', '1 TB SSD/32 GB DDR5 Memory', '2 TB SSD/32 GB DDR5 Memory', '1 TB SSD/8 GB DDR5 Memory', '512 GB SSD/16 GB DDR4 Memory', '1 TB SSD/16 GB DDR4 Memory', '1 TB NVMe/16 GB DDR4 Memory', '1 TB SSD/16 GB DDR5 Memory', '512 GB SSD/16 GB DDR4 Memory']\n"
     ]
    }
   ],
   "source": [
    "Memory=[]\n",
    "try:\n",
    "    tags=driver.find_elements(By.XPATH,\"//div[@class='product-detail']/div/ul/li[5]/div/div\")\n",
    "    for i in tags:\n",
    "        Memory.append(i.text)\n",
    "except NoSuchElementException:\n",
    "    pass\n",
    "print(Memory)"
   ]
  },
  {
   "cell_type": "code",
   "execution_count": 16,
   "id": "6c7fa4df",
   "metadata": {},
   "outputs": [
    {
     "name": "stdout",
     "output_type": "stream",
     "text": [
      "['12th Gen Intel Core i9-12900HX | NA Processor', '12th Gen Intel Core i9-12900HX | 2.3 GHz Processor', '12th Gen Intel Core i9-12900H | 5 GHz Processor', '12th Gen Intel Core i7-12700H | 3.5 GHz Processor', '12th Gen Intel Core i7-12700H | 4.7 GHz Processor', 'AMD Ryzen 9-5900HX | NA Processor', 'AMD 5th Gen Ryzen 9-5900HX | 3.3 GHz Processor', 'AMD Ryzen™ 9 5900HX | 3.3 GHz Processor', '12th Gen Intel Core i7-12700H | 2.3 GHz Processor', 'AMD Ryzen R7-5800H | 4.40 GHz Processor']\n"
     ]
    }
   ],
   "source": [
    "Processor=[]\n",
    "try:\n",
    "    tags=driver.find_elements(By.XPATH,\"//div[@class='product-detail']/div/ul/li[4]/div/div\")\n",
    "    for i in tags:\n",
    "        Processor.append(i.text)\n",
    "except NoSuchElementException:\n",
    "    pass\n",
    "print(Processor)"
   ]
  },
  {
   "cell_type": "code",
   "execution_count": 22,
   "id": "07cbda00",
   "metadata": {},
   "outputs": [
    {
     "data": {
      "text/html": [
       "<div>\n",
       "<style scoped>\n",
       "    .dataframe tbody tr th:only-of-type {\n",
       "        vertical-align: middle;\n",
       "    }\n",
       "\n",
       "    .dataframe tbody tr th {\n",
       "        vertical-align: top;\n",
       "    }\n",
       "\n",
       "    .dataframe thead th {\n",
       "        text-align: right;\n",
       "    }\n",
       "</style>\n",
       "<table border=\"1\" class=\"dataframe\">\n",
       "  <thead>\n",
       "    <tr style=\"text-align: right;\">\n",
       "      <th></th>\n",
       "      <th>ID</th>\n",
       "      <th>Name</th>\n",
       "      <th>Processor</th>\n",
       "      <th>Memory</th>\n",
       "      <th>OS</th>\n",
       "    </tr>\n",
       "  </thead>\n",
       "  <tbody>\n",
       "    <tr>\n",
       "      <th>0</th>\n",
       "      <td>1</td>\n",
       "      <td>MSI Titan GT77-12UHS</td>\n",
       "      <td>12th Gen Intel Core i9-12900HX | NA Processor</td>\n",
       "      <td>2 TB SSD/64 GB DDR5 Memory</td>\n",
       "      <td>Windows 11 Home OS</td>\n",
       "    </tr>\n",
       "    <tr>\n",
       "      <th>1</th>\n",
       "      <td>2</td>\n",
       "      <td>Lenovo Legion 7</td>\n",
       "      <td>12th Gen Intel Core i9-12900HX | 2.3 GHz Proce...</td>\n",
       "      <td>1 TB SSD/32 GB DDR4 Memory</td>\n",
       "      <td>Windows 11 Home OS</td>\n",
       "    </tr>\n",
       "    <tr>\n",
       "      <th>2</th>\n",
       "      <td>3</td>\n",
       "      <td>Alienware X17 R2</td>\n",
       "      <td>12th Gen Intel Core i9-12900H | 5 GHz Processor</td>\n",
       "      <td>1 TB SSD/32 GB DDR5 Memory</td>\n",
       "      <td>Windows 11 Home OS</td>\n",
       "    </tr>\n",
       "    <tr>\n",
       "      <th>3</th>\n",
       "      <td>4</td>\n",
       "      <td>Acer Predator Triton 500 SE PT516-52s</td>\n",
       "      <td>12th Gen Intel Core i7-12700H | 3.5 GHz Processor</td>\n",
       "      <td>2 TB SSD/32 GB DDR5 Memory</td>\n",
       "      <td>Windows 11 OS</td>\n",
       "    </tr>\n",
       "    <tr>\n",
       "      <th>4</th>\n",
       "      <td>5</td>\n",
       "      <td>Omen By HP (16-B1371TX)</td>\n",
       "      <td>12th Gen Intel Core i7-12700H | 4.7 GHz Processor</td>\n",
       "      <td>1 TB SSD/8 GB DDR5 Memory</td>\n",
       "      <td>Windows 11 Home OS</td>\n",
       "    </tr>\n",
       "    <tr>\n",
       "      <th>5</th>\n",
       "      <td>6</td>\n",
       "      <td>Acer Predator Helios 300 AN515-45</td>\n",
       "      <td>AMD Ryzen 9-5900HX | NA Processor</td>\n",
       "      <td>512 GB SSD/16 GB DDR4 Memory</td>\n",
       "      <td>Windows 11 Home OS</td>\n",
       "    </tr>\n",
       "    <tr>\n",
       "      <th>6</th>\n",
       "      <td>7</td>\n",
       "      <td>MSI Delta 15 (A5EFK-083IN)</td>\n",
       "      <td>AMD 5th Gen Ryzen 9-5900HX | 3.3 GHz Processor</td>\n",
       "      <td>1 TB SSD/16 GB DDR4 Memory</td>\n",
       "      <td>Windows 11 Home OS</td>\n",
       "    </tr>\n",
       "    <tr>\n",
       "      <th>7</th>\n",
       "      <td>8</td>\n",
       "      <td>Omen By HP (16-C0141AX)</td>\n",
       "      <td>AMD Ryzen™ 9 5900HX | 3.3 GHz Processor</td>\n",
       "      <td>1 TB NVMe/16 GB DDR4 Memory</td>\n",
       "      <td>Windows 11 Home OS</td>\n",
       "    </tr>\n",
       "    <tr>\n",
       "      <th>8</th>\n",
       "      <td>9</td>\n",
       "      <td>Lenovo Legion 5i Pro (82RF00MGIN)</td>\n",
       "      <td>12th Gen Intel Core i7-12700H | 2.3 GHz Processor</td>\n",
       "      <td>1 TB SSD/16 GB DDR5 Memory</td>\n",
       "      <td>Windows 11 Home OS</td>\n",
       "    </tr>\n",
       "    <tr>\n",
       "      <th>9</th>\n",
       "      <td>10</td>\n",
       "      <td>Alienware M15 R5 Ryzen Edition Icc-C780001win</td>\n",
       "      <td>AMD Ryzen R7-5800H | 4.40 GHz Processor</td>\n",
       "      <td>512 GB SSD/16 GB DDR4 Memory</td>\n",
       "      <td>Windows 11 Home OS</td>\n",
       "    </tr>\n",
       "  </tbody>\n",
       "</table>\n",
       "</div>"
      ],
      "text/plain": [
       "   ID                                           Name  \\\n",
       "0   1                           MSI Titan GT77-12UHS   \n",
       "1   2                                Lenovo Legion 7   \n",
       "2   3                               Alienware X17 R2   \n",
       "3   4          Acer Predator Triton 500 SE PT516-52s   \n",
       "4   5                        Omen By HP (16-B1371TX)   \n",
       "5   6              Acer Predator Helios 300 AN515-45   \n",
       "6   7                     MSI Delta 15 (A5EFK-083IN)   \n",
       "7   8                        Omen By HP (16-C0141AX)   \n",
       "8   9              Lenovo Legion 5i Pro (82RF00MGIN)   \n",
       "9  10  Alienware M15 R5 Ryzen Edition Icc-C780001win   \n",
       "\n",
       "                                           Processor  \\\n",
       "0      12th Gen Intel Core i9-12900HX | NA Processor   \n",
       "1  12th Gen Intel Core i9-12900HX | 2.3 GHz Proce...   \n",
       "2    12th Gen Intel Core i9-12900H | 5 GHz Processor   \n",
       "3  12th Gen Intel Core i7-12700H | 3.5 GHz Processor   \n",
       "4  12th Gen Intel Core i7-12700H | 4.7 GHz Processor   \n",
       "5                  AMD Ryzen 9-5900HX | NA Processor   \n",
       "6     AMD 5th Gen Ryzen 9-5900HX | 3.3 GHz Processor   \n",
       "7            AMD Ryzen™ 9 5900HX | 3.3 GHz Processor   \n",
       "8  12th Gen Intel Core i7-12700H | 2.3 GHz Processor   \n",
       "9            AMD Ryzen R7-5800H | 4.40 GHz Processor   \n",
       "\n",
       "                         Memory                  OS  \n",
       "0    2 TB SSD/64 GB DDR5 Memory  Windows 11 Home OS  \n",
       "1    1 TB SSD/32 GB DDR4 Memory  Windows 11 Home OS  \n",
       "2    1 TB SSD/32 GB DDR5 Memory  Windows 11 Home OS  \n",
       "3    2 TB SSD/32 GB DDR5 Memory       Windows 11 OS  \n",
       "4     1 TB SSD/8 GB DDR5 Memory  Windows 11 Home OS  \n",
       "5  512 GB SSD/16 GB DDR4 Memory  Windows 11 Home OS  \n",
       "6    1 TB SSD/16 GB DDR4 Memory  Windows 11 Home OS  \n",
       "7   1 TB NVMe/16 GB DDR4 Memory  Windows 11 Home OS  \n",
       "8    1 TB SSD/16 GB DDR5 Memory  Windows 11 Home OS  \n",
       "9  512 GB SSD/16 GB DDR4 Memory  Windows 11 Home OS  "
      ]
     },
     "execution_count": 22,
     "metadata": {},
     "output_type": "execute_result"
    }
   ],
   "source": [
    "df=pd.DataFrame({\"ID\":range(1,11),\"Name\":name,\"Processor\":Processor,\"Memory\":Memory,\"OS\":OS})\n",
    "df"
   ]
  },
  {
   "cell_type": "code",
   "execution_count": 23,
   "id": "00790145",
   "metadata": {},
   "outputs": [],
   "source": [
    "driver.close()"
   ]
  },
  {
   "cell_type": "markdown",
   "id": "b1238b0b",
   "metadata": {},
   "source": [
    "# Write a python program to scrape the details for all billionaires from www.forbes.com. Details to be scrapped: “Rank”, “Name”, “Net worth”, “Age”, “Citizenship”, “Source”, “Industry”"
   ]
  },
  {
   "cell_type": "code",
   "execution_count": null,
   "id": "68a71623",
   "metadata": {},
   "outputs": [],
   "source": [
    "driver=webdriver.Chrome(r\"chromedriver.exe\")"
   ]
  },
  {
   "cell_type": "code",
   "execution_count": null,
   "id": "5d26a1cc",
   "metadata": {},
   "outputs": [],
   "source": [
    "driver.get(\"https://www.forbes.com/\")"
   ]
  },
  {
   "cell_type": "code",
   "execution_count": null,
   "id": "df5a1b8e",
   "metadata": {},
   "outputs": [],
   "source": [
    "driver.maximize_window()"
   ]
  },
  {
   "cell_type": "code",
   "execution_count": null,
   "id": "6e5e4744",
   "metadata": {},
   "outputs": [],
   "source": [
    "drop_down=driver.find_element(By.XPATH,\"/html/body/div[1]/header/nav/div[1]/div/div/div\")\n",
    "drop_down.click()"
   ]
  },
  {
   "cell_type": "code",
   "execution_count": null,
   "id": "c6a34fd6",
   "metadata": {},
   "outputs": [],
   "source": [
    "billionaire_list=driver.find_element(By.XPATH,\"/html/body/div[1]/header/nav/div[1]/div/div/div[2]/ul/li[1]/div[2]/div[3]/ul/li[1]/a\")\n",
    "billionaire_list.click()"
   ]
  },
  {
   "cell_type": "code",
   "execution_count": null,
   "id": "d2a3a4a1",
   "metadata": {},
   "outputs": [],
   "source": [
    "rank=[]\n",
    "rank_tags=driver.find_elements(By.XPATH,\"//div[@class='rank']\")\n",
    "for i in rank_tags:\n",
    "    a=i.text\n",
    "    rank.append(a)\n",
    "len(rank)"
   ]
  },
  {
   "cell_type": "code",
   "execution_count": null,
   "id": "954fa3ed",
   "metadata": {},
   "outputs": [],
   "source": [
    "names=[]\n",
    "name_tags=driver.find_elements(By.XPATH,\"//div[@class='personName']\")\n",
    "for i in name_tags:\n",
    "    a=i.text\n",
    "    names.append(a)\n",
    "len(names)"
   ]
  },
  {
   "cell_type": "code",
   "execution_count": null,
   "id": "657908b3",
   "metadata": {},
   "outputs": [],
   "source": [
    "net_worth=[]\n",
    "worth_tag=driver.find_elements(By.XPATH,\"//div[@class='netWorth']\")\n",
    "for i in worth_tag:\n",
    "    a=i.text\n",
    "    net_worth.append(a)\n",
    "len(net_worth)"
   ]
  },
  {
   "cell_type": "code",
   "execution_count": null,
   "id": "cefd551c",
   "metadata": {},
   "outputs": [],
   "source": [
    "country=[]\n",
    "tags=driver.find_elements(By.XPATH,\"//div[@class='countryOfCitizenship']\")\n",
    "for i in tags:\n",
    "    a=i.text\n",
    "    country.append(a)\n",
    "len(country)"
   ]
  },
  {
   "cell_type": "code",
   "execution_count": null,
   "id": "d8af92ab",
   "metadata": {},
   "outputs": [],
   "source": [
    "source=[]\n",
    "tags=driver.find_elements(By.XPATH,\"//span[@class='source-text']\")\n",
    "for i in tags:\n",
    "    a=i.text\n",
    "    source.append(a)\n",
    "len(source)"
   ]
  },
  {
   "cell_type": "code",
   "execution_count": null,
   "id": "6a3e0a6d",
   "metadata": {},
   "outputs": [],
   "source": [
    "soup=BeautifulSoup(driver.page_source, \"html.parser\")"
   ]
  },
  {
   "cell_type": "code",
   "execution_count": null,
   "id": "5135d3f4",
   "metadata": {},
   "outputs": [],
   "source": [
    "indutry=[]\n",
    "tags=soup.find_all(\"div\",class_=\"category\")\n",
    "for i in tags:\n",
    "    a=i.text\n",
    "    indutry.append(a)\n",
    "indutry.pop(0)     #Deleting the tag from the list(\"Industry\")so that we get the correct data\n",
    "len(indutry)"
   ]
  },
  {
   "cell_type": "code",
   "execution_count": null,
   "id": "6e5c9e8a",
   "metadata": {},
   "outputs": [],
   "source": [
    "age=[]\n",
    "tags=soup.find_all(\"div\",class_=\"age\")\n",
    "for i in tags:\n",
    "    a=i.text\n",
    "    age.append(a)\n",
    "age.pop(0)    #Deleting the age tag from the list so that we can get the correct data\n",
    "len(age)"
   ]
  },
  {
   "cell_type": "code",
   "execution_count": null,
   "id": "54b4ad70",
   "metadata": {},
   "outputs": [],
   "source": [
    "df=pd.DataFrame()\n",
    "df['Rank']=rank\n",
    "df[\"Name\"]=names\n",
    "df['Net_Worth']=net_worth\n",
    "df['Age']=age\n",
    "df[\"Coutry\"]=country\n",
    "df[\"Industry\"]=indutry\n",
    "df['Source']=source\n",
    "df.head()"
   ]
  },
  {
   "cell_type": "code",
   "execution_count": null,
   "id": "624c28d4",
   "metadata": {},
   "outputs": [],
   "source": [
    "driver.close()"
   ]
  },
  {
   "cell_type": "code",
   "execution_count": null,
   "id": "83970ced",
   "metadata": {},
   "outputs": [],
   "source": [
    "df.to_csv(\"Forbes Top Billionaire.csv\")"
   ]
  },
  {
   "cell_type": "markdown",
   "id": "4f1c3f49",
   "metadata": {},
   "source": [
    "# Write a program to extract at least 500 Comments, Comment upvote and time when comment was posted from any YouTube Video."
   ]
  },
  {
   "cell_type": "code",
   "execution_count": 45,
   "id": "1d319499",
   "metadata": {},
   "outputs": [],
   "source": [
    "driver=webdriver.Chrome(r\"chromedriver.exe\")"
   ]
  },
  {
   "cell_type": "code",
   "execution_count": 46,
   "id": "cb7af285",
   "metadata": {},
   "outputs": [],
   "source": [
    "driver.get(\"https://www.youtube.com/\")"
   ]
  },
  {
   "cell_type": "code",
   "execution_count": 47,
   "id": "791be7f1",
   "metadata": {},
   "outputs": [],
   "source": [
    "driver.maximize_window()"
   ]
  },
  {
   "cell_type": "code",
   "execution_count": 48,
   "id": "fcfbb923",
   "metadata": {},
   "outputs": [],
   "source": [
    "search_box=driver.find_element(By.XPATH,\"/html/body/ytd-app/div[1]/div/ytd-masthead/div[4]/div[2]/ytd-searchbox/form/div[1]/div[1]/input\")\n",
    "search_box.send_keys(\"Web Scraping\")"
   ]
  },
  {
   "cell_type": "code",
   "execution_count": 49,
   "id": "171595a9",
   "metadata": {},
   "outputs": [],
   "source": [
    "search=driver.find_element(By.XPATH,\"/html/body/ytd-app/div[1]/div/ytd-masthead/div[4]/div[2]/ytd-searchbox/button\")\n",
    "search.click()"
   ]
  },
  {
   "cell_type": "code",
   "execution_count": 51,
   "id": "cd186a62",
   "metadata": {},
   "outputs": [],
   "source": [
    "open_video=driver.find_element(By.XPATH,\"/html/body/ytd-app/div[1]/ytd-page-manager/ytd-search/div[1]/ytd-two-column-search-results-renderer/div/ytd-section-list-renderer/div[2]/ytd-item-section-renderer/div[3]/ytd-video-renderer[1]/div[1]/div/div[1]/div/h3/a\")\n",
    "open_video.click()"
   ]
  },
  {
   "cell_type": "code",
   "execution_count": null,
   "id": "e48c7560",
   "metadata": {},
   "outputs": [],
   "source": [
    "comments=[]\n",
    "for _ in range(20):\n",
    "    driver.execute_script(\"window.scrollBy(0,1000)\")\n",
    "try:\n",
    "    comment_tags=driver.find_elements(By.XPATH,\"//div[@class='style-scope ytd-comment-renderer']\")\n",
    "    for i in comment_tags[0:500]:\n",
    "        a=i.text.replace(\"\\n\",\" \").strip(\" \")\n",
    "        comments.append(a)\n",
    "except:\n",
    "    comments.append(\"-\")\n",
    "print(comments)"
   ]
  },
  {
   "cell_type": "code",
   "execution_count": 60,
   "id": "5a700f54",
   "metadata": {},
   "outputs": [],
   "source": [
    "driver.close()"
   ]
  },
  {
   "cell_type": "markdown",
   "id": "9d5deddc",
   "metadata": {},
   "source": [
    "# Write a python program to scrape data for all available Hostels from https://www.hostelworld.com/ in “London” location."
   ]
  },
  {
   "cell_type": "code",
   "execution_count": null,
   "id": "082d09f6",
   "metadata": {},
   "outputs": [],
   "source": [
    "driver=webdriver.Chrome(r\"chromedriver.exe\")"
   ]
  },
  {
   "cell_type": "code",
   "execution_count": null,
   "id": "6dfead4e",
   "metadata": {},
   "outputs": [],
   "source": [
    "driver.get(\"https://www.hostelworld.com/\")"
   ]
  },
  {
   "cell_type": "code",
   "execution_count": null,
   "id": "ceb54964",
   "metadata": {},
   "outputs": [],
   "source": [
    "driver.maximize_window()"
   ]
  },
  {
   "cell_type": "code",
   "execution_count": null,
   "id": "e0f49231",
   "metadata": {},
   "outputs": [],
   "source": [
    "dropdown=driver.find_element(By.XPATH,\"/html/body/div[3]/div/div/div[2]/div[2]/div/div/div[1]/header/div/button[2]\")\n",
    "dropdown.click()"
   ]
  },
  {
   "cell_type": "code",
   "execution_count": null,
   "id": "05dd760a",
   "metadata": {},
   "outputs": [],
   "source": [
    "hostel=driver.find_element(By.XPATH,\"/html/body/div[3]/div/div/div[2]/div[2]/div/div/div[1]/header/div[2]/div/div[2]/ul[2]/li[2]/a\")\n",
    "hostel.click()"
   ]
  },
  {
   "cell_type": "code",
   "execution_count": null,
   "id": "032c638b",
   "metadata": {},
   "outputs": [],
   "source": [
    "location=driver.find_element(By.XPATH,\"/html/body/div[3]/div/div/div[3]/div/div[1]/div/div/div[1]/div/div/div/label/input\")\n",
    "location.send_keys(\"London\")"
   ]
  },
  {
   "cell_type": "code",
   "execution_count": null,
   "id": "28280069",
   "metadata": {},
   "outputs": [],
   "source": [
    "search=driver.find_element(By.XPATH,\"/html/body/div[3]/div/div/div[3]/div/div[1]/div/div/div[5]/button\")\n",
    "search.click()"
   ]
  },
  {
   "cell_type": "code",
   "execution_count": null,
   "id": "8f4d60bd",
   "metadata": {},
   "outputs": [],
   "source": [
    "hostel_name=[]\n",
    "tags=driver.find_elements(By.XPATH,\"//h2[@class='title title-6']\")\n",
    "for i in tags:\n",
    "    a=i.text\n",
    "    hostel_name.append(a)\n",
    "len(hostel_name)"
   ]
  },
  {
   "cell_type": "code",
   "execution_count": null,
   "id": "945aec02",
   "metadata": {},
   "outputs": [],
   "source": [
    "price_dorm=[]\n",
    "tags=driver.find_elements(By.XPATH,\"//a[@class='prices']\")\n",
    "for i in tags:\n",
    "    a=i.text.replace(\"\\n\",\" \").strip(\" \")\n",
    "    price_dorm.append(a)\n",
    "price_dorm.pop(0)\n",
    "price_dorm.pop(1)\n",
    "len(price_dorm)"
   ]
  },
  {
   "cell_type": "code",
   "execution_count": null,
   "id": "7824e2c0",
   "metadata": {},
   "outputs": [],
   "source": [
    "Ratings=[]\n",
    "tags=list(driver.find_elements(By.XPATH,\"//div[@class='score orange big']\"))+list(driver.find_elements(By.XPATH,\"//div[@class='score gray big']\"))\n",
    "for i in tags:\n",
    "    a=i.text.replace(\"\\n\",\" \").strip(\" \")\n",
    "    Ratings.append(a)\n",
    "len(Ratings)"
   ]
  },
  {
   "cell_type": "code",
   "execution_count": null,
   "id": "2feaf8d8",
   "metadata": {},
   "outputs": [],
   "source": [
    "reviews=[]\n",
    "tags=driver.find_elements(By.XPATH,\"//div[@class='reviews']\")\n",
    "for i in tags:\n",
    "    a=i.text.replace(\"\\n\",\" \").strip(\" \")\n",
    "    reviews.append(a)\n",
    "len(reviews)"
   ]
  },
  {
   "cell_type": "code",
   "execution_count": null,
   "id": "fad8db78",
   "metadata": {},
   "outputs": [],
   "source": [
    "facilities=[]\n",
    "tags=driver.find_elements(By.XPATH,\"//div[@class='facilities-label facilities']\")\n",
    "for i in tags:\n",
    "    a=i.text.replace(\"\\n\",\" \").strip(\" \")\n",
    "    facilities.append(a)\n",
    "len(facilities)"
   ]
  },
  {
   "cell_type": "code",
   "execution_count": null,
   "id": "6556ab38",
   "metadata": {},
   "outputs": [],
   "source": [
    "df=pd.DataFrame()\n",
    "df['Hostel_Name']=hostel_name\n",
    "df['Price']=price_dorm\n",
    "df['Facilities']=facilities\n",
    "df['Reviews']=reviews\n",
    "df['Ratings']=Ratings\n",
    "df.head()"
   ]
  },
  {
   "cell_type": "code",
   "execution_count": null,
   "id": "b04d797e",
   "metadata": {},
   "outputs": [],
   "source": [
    "driver.close()"
   ]
  },
  {
   "cell_type": "code",
   "execution_count": null,
   "id": "c83248a2",
   "metadata": {},
   "outputs": [],
   "source": [
    " df.to_csv(\"London Hostel Facilities.csv\")"
   ]
  },
  {
   "cell_type": "code",
   "execution_count": null,
   "id": "f3e53c79",
   "metadata": {},
   "outputs": [],
   "source": []
  }
 ],
 "metadata": {
  "kernelspec": {
   "display_name": "Python 3 (ipykernel)",
   "language": "python",
   "name": "python3"
  },
  "language_info": {
   "codemirror_mode": {
    "name": "ipython",
    "version": 3
   },
   "file_extension": ".py",
   "mimetype": "text/x-python",
   "name": "python",
   "nbconvert_exporter": "python",
   "pygments_lexer": "ipython3",
   "version": "3.9.13"
  }
 },
 "nbformat": 4,
 "nbformat_minor": 5
}
