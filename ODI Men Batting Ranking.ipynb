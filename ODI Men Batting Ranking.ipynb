{
 "cells": [
  {
   "cell_type": "code",
   "execution_count": null,
   "id": "66066118",
   "metadata": {},
   "outputs": [],
   "source": [
    "import pandas as pd\n",
    "import bs4\n",
    "from bs4 import BeautifulSoup\n",
    "import requests\n",
    "import warnings\n",
    "warnings.filterwarnings('ignore')"
   ]
  },
  {
   "cell_type": "code",
   "execution_count": null,
   "id": "076ae705",
   "metadata": {},
   "outputs": [],
   "source": [
    "url=\"https://www.icc-cricket.com/rankings/mens/player-rankings/odi\""
   ]
  },
  {
   "cell_type": "code",
   "execution_count": null,
   "id": "70b401a8",
   "metadata": {},
   "outputs": [],
   "source": [
    "page=requests.get(url)\n",
    "page.content"
   ]
  },
  {
   "cell_type": "code",
   "execution_count": null,
   "id": "86b3b235",
   "metadata": {},
   "outputs": [],
   "source": [
    "page.status_code"
   ]
  },
  {
   "cell_type": "code",
   "execution_count": null,
   "id": "6f6166d9",
   "metadata": {},
   "outputs": [],
   "source": [
    "soup=BeautifulSoup(page.content, \"html.parser\")\n",
    "print(soup.prettify())"
   ]
  },
  {
   "cell_type": "code",
   "execution_count": null,
   "id": "f6a67a41",
   "metadata": {},
   "outputs": [],
   "source": [
    "scraped_batsman=list(soup.find_all(\"td\",class_=\"table-body__cell name\"))\n",
    "scraped_batsman"
   ]
  },
  {
   "cell_type": "code",
   "execution_count": 38,
   "id": "5f8e3946",
   "metadata": {},
   "outputs": [
    {
     "data": {
      "text/plain": [
       "['Babar Azam']"
      ]
     },
     "execution_count": 38,
     "metadata": {},
     "output_type": "execute_result"
    }
   ],
   "source": [
    "scraped_batsman2=list(soup.find(\"div\",class_=\"rankings-block__banner--name\"))\n",
    "scraped_batsman2"
   ]
  },
  {
   "cell_type": "code",
   "execution_count": null,
   "id": "42922600",
   "metadata": {},
   "outputs": [],
   "source": [
    "final_scraped_batsman=scraped_batsman2+scraped_batsman\n",
    "final_scraped_batsman"
   ]
  },
  {
   "cell_type": "code",
   "execution_count": 42,
   "id": "9764c2d2",
   "metadata": {},
   "outputs": [
    {
     "name": "stdout",
     "output_type": "stream",
     "text": [
      "['Babar Azam', 'Rassie van der Dussen', 'David Warner', 'Quinton de Kock', 'Imam-ul-Haq', 'Shubman Gill', 'Virat Kohli', 'Steve Smith', 'Rohit Sharma', 'Kane Williamson', 'Josh Hazlewood', 'Trent Boult', 'Mitchell Starc', 'Rashid Khan', 'Adam Zampa', 'Shakib Al Hasan', 'Shaheen Afridi', 'Mustafizur Rahman', 'Mujeeb Ur Rahman', 'Mohammad Nabi', 'Mehedi Hasan', 'Rashid Khan', 'Mitchell Santner', 'Sikandar Raza', 'Wanindu Hasaranga', 'Zeeshan Maqsood', 'Assad Vala', 'Dhananjaya de Silva', 'Rassie van der Dussen', 'David Warner', 'Quinton de Kock', 'Imam-ul-Haq', 'Shubman Gill', 'Virat Kohli', 'Steve Smith', 'Rohit Sharma', 'Kane Williamson', 'Josh Hazlewood', 'Trent Boult', 'Mitchell Starc', 'Rashid Khan', 'Adam Zampa', 'Shakib Al Hasan', 'Shaheen Afridi', 'Mustafizur Rahman', 'Mujeeb Ur Rahman', 'Mohammad Nabi', 'Mehedi Hasan', 'Rashid Khan', 'Mitchell Santner', 'Sikandar Raza', 'Wanindu Hasaranga', 'Zeeshan Maqsood', 'Assad Vala', 'Dhananjaya de Silva']\n"
     ]
    }
   ],
   "source": [
    "batsman=[]\n",
    "for i in final_scraped_batsman:\n",
    "    batsman.append(i.get_text().replace(\"\\n\",\" \").strip())\n",
    "print(batsman)"
   ]
  },
  {
   "cell_type": "code",
   "execution_count": null,
   "id": "3a9bd5bd",
   "metadata": {},
   "outputs": [],
   "source": [
    "scraped_rating1=list(soup.find(\"div\",class_=\"rankings-block__banner--rating\"))\n",
    "scraped_rating2=list(soup.find_all('td',class_=\"table-body__cell u-text-right rating\"))\n",
    "final_scraped_rating=scraped_rating1+scraped_rating2\n",
    "final_scraped_rating"
   ]
  },
  {
   "cell_type": "code",
   "execution_count": 45,
   "id": "bb5ed872",
   "metadata": {},
   "outputs": [
    {
     "name": "stdout",
     "output_type": "stream",
     "text": [
      "['887', '787', '747', '743', '740', '734', '727', '719', '719', '700', '727', '708', '665', '659', '655', '652', '641', '638', '637', '310', '284', '280', '269', '253', '240', '238', '233', '221', '787', '747', '743', '740', '734', '727', '719', '719', '700', '727', '708', '665', '659', '655', '652', '641', '638', '637', '310', '284', '280', '269', '253', '240', '238', '233', '221']\n"
     ]
    }
   ],
   "source": [
    "rating=[]\n",
    "for i in final_scraped_rating:\n",
    "    rating.append(i.get_text().replace(\"\\n\",\" \").strip())\n",
    "print(rating)"
   ]
  },
  {
   "cell_type": "code",
   "execution_count": 57,
   "id": "2bd8088f",
   "metadata": {},
   "outputs": [
    {
     "data": {
      "text/plain": [
       "[]"
      ]
     },
     "execution_count": 57,
     "metadata": {},
     "output_type": "execute_result"
    }
   ],
   "source": [
    "scraped_teams1=list(soup.find_all(\"span\",class_=\"rankings-block__banner--nationality\"))\n",
    "scraped_teams1"
   ]
  },
  {
   "cell_type": "code",
   "execution_count": 48,
   "id": "6a4088a1",
   "metadata": {},
   "outputs": [
    {
     "name": "stdout",
     "output_type": "stream",
     "text": [
      "['SA', 'AUS', 'SA', 'PAK', 'IND', 'IND', 'AUS', 'IND', 'NZ', 'AUS', 'NZ', 'AUS', 'AFG', 'AUS', 'BAN', 'PAK', 'BAN', 'AFG', 'AFG', 'BAN', 'AFG', 'NZ', 'ZIM', 'SL', 'OMA', 'PNG', 'SL', 'SA', 'AUS', 'SA', 'PAK', 'IND', 'IND', 'AUS', 'IND', 'NZ', 'AUS', 'NZ', 'AUS', 'AFG', 'AUS', 'BAN', 'PAK', 'BAN', 'AFG', 'AFG', 'BAN', 'AFG', 'NZ', 'ZIM', 'SL', 'OMA', 'PNG', 'SL']\n"
     ]
    }
   ],
   "source": [
    "teams=[]\n",
    "for i in final_scraped_teams:\n",
    "    teams.append(i.get_text().replace(\"\\n\",\" \").strip())\n",
    "print(teams)"
   ]
  },
  {
   "cell_type": "code",
   "execution_count": 58,
   "id": "75ee3985",
   "metadata": {},
   "outputs": [
    {
     "data": {
      "text/html": [
       "<div>\n",
       "<style scoped>\n",
       "    .dataframe tbody tr th:only-of-type {\n",
       "        vertical-align: middle;\n",
       "    }\n",
       "\n",
       "    .dataframe tbody tr th {\n",
       "        vertical-align: top;\n",
       "    }\n",
       "\n",
       "    .dataframe thead th {\n",
       "        text-align: right;\n",
       "    }\n",
       "</style>\n",
       "<table border=\"1\" class=\"dataframe\">\n",
       "  <thead>\n",
       "    <tr style=\"text-align: right;\">\n",
       "      <th></th>\n",
       "      <th>Batsman</th>\n",
       "      <th>Rating</th>\n",
       "    </tr>\n",
       "  </thead>\n",
       "  <tbody>\n",
       "    <tr>\n",
       "      <th>0</th>\n",
       "      <td>Babar Azam</td>\n",
       "      <td>887</td>\n",
       "    </tr>\n",
       "    <tr>\n",
       "      <th>1</th>\n",
       "      <td>Rassie van der Dussen</td>\n",
       "      <td>787</td>\n",
       "    </tr>\n",
       "    <tr>\n",
       "      <th>2</th>\n",
       "      <td>David Warner</td>\n",
       "      <td>747</td>\n",
       "    </tr>\n",
       "    <tr>\n",
       "      <th>3</th>\n",
       "      <td>Quinton de Kock</td>\n",
       "      <td>743</td>\n",
       "    </tr>\n",
       "    <tr>\n",
       "      <th>4</th>\n",
       "      <td>Imam-ul-Haq</td>\n",
       "      <td>740</td>\n",
       "    </tr>\n",
       "    <tr>\n",
       "      <th>5</th>\n",
       "      <td>Shubman Gill</td>\n",
       "      <td>734</td>\n",
       "    </tr>\n",
       "    <tr>\n",
       "      <th>6</th>\n",
       "      <td>Virat Kohli</td>\n",
       "      <td>727</td>\n",
       "    </tr>\n",
       "    <tr>\n",
       "      <th>7</th>\n",
       "      <td>Steve Smith</td>\n",
       "      <td>719</td>\n",
       "    </tr>\n",
       "    <tr>\n",
       "      <th>8</th>\n",
       "      <td>Rohit Sharma</td>\n",
       "      <td>719</td>\n",
       "    </tr>\n",
       "    <tr>\n",
       "      <th>9</th>\n",
       "      <td>Kane Williamson</td>\n",
       "      <td>700</td>\n",
       "    </tr>\n",
       "  </tbody>\n",
       "</table>\n",
       "</div>"
      ],
      "text/plain": [
       "                 Batsman Rating\n",
       "0             Babar Azam    887\n",
       "1  Rassie van der Dussen    787\n",
       "2           David Warner    747\n",
       "3        Quinton de Kock    743\n",
       "4            Imam-ul-Haq    740\n",
       "5           Shubman Gill    734\n",
       "6            Virat Kohli    727\n",
       "7            Steve Smith    719\n",
       "8           Rohit Sharma    719\n",
       "9        Kane Williamson    700"
      ]
     },
     "execution_count": 58,
     "metadata": {},
     "output_type": "execute_result"
    }
   ],
   "source": [
    "df=pd.DataFrame()\n",
    "df['Batsman']=batsman\n",
    "df[\"Rating\"]=rating\n",
    "df.head(10)"
   ]
  },
  {
   "cell_type": "code",
   "execution_count": null,
   "id": "3ddcff0d",
   "metadata": {},
   "outputs": [],
   "source": [
    "final_list=df.head(10)"
   ]
  },
  {
   "cell_type": "code",
   "execution_count": null,
   "id": "38a93f8f",
   "metadata": {},
   "outputs": [],
   "source": []
  }
 ],
 "metadata": {
  "kernelspec": {
   "display_name": "Python 3 (ipykernel)",
   "language": "python",
   "name": "python3"
  },
  "language_info": {
   "codemirror_mode": {
    "name": "ipython",
    "version": 3
   },
   "file_extension": ".py",
   "mimetype": "text/x-python",
   "name": "python",
   "nbconvert_exporter": "python",
   "pygments_lexer": "ipython3",
   "version": "3.9.13"
  }
 },
 "nbformat": 4,
 "nbformat_minor": 5
}
