{
 "cells": [
  {
   "cell_type": "code",
   "execution_count": null,
   "id": "297f72f7",
   "metadata": {},
   "outputs": [],
   "source": [
    "import pandas as pd\n",
    "import requests\n",
    "import bs4\n",
    "from bs4 import BeautifulSoup\n",
    "import warnings\n",
    "warnings.filterwarnings(\"ignore\")"
   ]
  },
  {
   "cell_type": "code",
   "execution_count": null,
   "id": "afba27f9",
   "metadata": {},
   "outputs": [],
   "source": [
    "url=\"https://www.journals.elsevier.com/artificial-intelligence/most-downloaded-articles\""
   ]
  },
  {
   "cell_type": "code",
   "execution_count": null,
   "id": "a4fe767c",
   "metadata": {},
   "outputs": [],
   "source": [
    "page=requests.get(url)\n",
    "page.status_code"
   ]
  },
  {
   "cell_type": "code",
   "execution_count": null,
   "id": "b1607a53",
   "metadata": {},
   "outputs": [],
   "source": [
    "soup=BeautifulSoup(page.content, \"html.parser\")\n",
    "print(soup.prettify())"
   ]
  },
  {
   "cell_type": "code",
   "execution_count": null,
   "id": "d68cb5ee",
   "metadata": {},
   "outputs": [],
   "source": [
    "scraped_title=soup.find_all(\"h2\",class_=\"sc-1qrq3sd-1 gRGSUS sc-1nmom32-0 sc-1nmom32-1 btcbYu goSKRg\")\n",
    "scraped_title"
   ]
  },
  {
   "cell_type": "code",
   "execution_count": null,
   "id": "04615675",
   "metadata": {},
   "outputs": [],
   "source": [
    "title=[]\n",
    "for i in scraped_title:\n",
    "    title.append(i.get_text().replace(\"\\n\",\" \").strip(\" \"))\n",
    "print(title)"
   ]
  },
  {
   "cell_type": "code",
   "execution_count": null,
   "id": "0746b11f",
   "metadata": {},
   "outputs": [],
   "source": [
    "scraped_authors=soup.find_all(\"span\",class_=\"sc-1w3fpd7-0 dnCnAO\")\n",
    "scraped_authors"
   ]
  },
  {
   "cell_type": "code",
   "execution_count": null,
   "id": "c22c029f",
   "metadata": {},
   "outputs": [],
   "source": [
    "authors=[]\n",
    "for i in scraped_authors:\n",
    "    authors.append(i.get_text().replace(\"\\n\",\" \").strip(\" \"))\n",
    "print(authors)"
   ]
  },
  {
   "cell_type": "code",
   "execution_count": null,
   "id": "c2b6b733",
   "metadata": {},
   "outputs": [],
   "source": [
    "scraped_date=soup.find_all(\"span\",class_=\"sc-1thf9ly-2 dvggWt\")\n",
    "scraped_date"
   ]
  },
  {
   "cell_type": "code",
   "execution_count": null,
   "id": "15c1cb2f",
   "metadata": {},
   "outputs": [],
   "source": [
    "published_date=[]\n",
    "for i in scraped_date:\n",
    "    published_date.append(i.get_text().replace(\"\\n\",\" \").strip(\" \"))\n",
    "print(published_date)"
   ]
  },
  {
   "cell_type": "code",
   "execution_count": null,
   "id": "2a16d273",
   "metadata": {},
   "outputs": [],
   "source": [
    "scraped_link=soup.find_all(\"a\",class_=\"sc-5smygv-0 fIXTHm\")\n",
    "scraped_link"
   ]
  },
  {
   "cell_type": "code",
   "execution_count": null,
   "id": "82d3d501",
   "metadata": {},
   "outputs": [],
   "source": [
    "link=[]\n",
    "for i in scraped_link:\n",
    "    link.append(i.get(\"href\").replace(\"\\n\",\" \").strip(\" \"))\n",
    "print(link)"
   ]
  },
  {
   "cell_type": "code",
   "execution_count": 19,
   "id": "77b7451f",
   "metadata": {},
   "outputs": [
    {
     "data": {
      "text/html": [
       "<div>\n",
       "<style scoped>\n",
       "    .dataframe tbody tr th:only-of-type {\n",
       "        vertical-align: middle;\n",
       "    }\n",
       "\n",
       "    .dataframe tbody tr th {\n",
       "        vertical-align: top;\n",
       "    }\n",
       "\n",
       "    .dataframe thead th {\n",
       "        text-align: right;\n",
       "    }\n",
       "</style>\n",
       "<table border=\"1\" class=\"dataframe\">\n",
       "  <thead>\n",
       "    <tr style=\"text-align: right;\">\n",
       "      <th></th>\n",
       "      <th>Title</th>\n",
       "      <th>Author</th>\n",
       "      <th>Published_Date</th>\n",
       "      <th>Links</th>\n",
       "    </tr>\n",
       "  </thead>\n",
       "  <tbody>\n",
       "    <tr>\n",
       "      <th>0</th>\n",
       "      <td>Reward is enough</td>\n",
       "      <td>Silver, David, Singh, Satinder, Precup, Doina,...</td>\n",
       "      <td>October 2021</td>\n",
       "      <td>https://www.sciencedirect.com/science/article/...</td>\n",
       "    </tr>\n",
       "    <tr>\n",
       "      <th>1</th>\n",
       "      <td>Making sense of raw input</td>\n",
       "      <td>Evans, Richard, Bošnjak, Matko and 5 more</td>\n",
       "      <td>October 2021</td>\n",
       "      <td>https://www.sciencedirect.com/science/article/...</td>\n",
       "    </tr>\n",
       "    <tr>\n",
       "      <th>2</th>\n",
       "      <td>Law and logic: A review from an argumentation ...</td>\n",
       "      <td>Prakken, Henry, Sartor, Giovanni</td>\n",
       "      <td>October 2015</td>\n",
       "      <td>https://www.sciencedirect.com/science/article/...</td>\n",
       "    </tr>\n",
       "    <tr>\n",
       "      <th>3</th>\n",
       "      <td>Creativity and artificial intelligence</td>\n",
       "      <td>Boden, Margaret A.</td>\n",
       "      <td>August 1998</td>\n",
       "      <td>https://www.sciencedirect.com/science/article/...</td>\n",
       "    </tr>\n",
       "    <tr>\n",
       "      <th>4</th>\n",
       "      <td>Artificial cognition for social human–robot in...</td>\n",
       "      <td>Lemaignan, Séverin, Warnier, Mathieu and 3 more</td>\n",
       "      <td>June 2017</td>\n",
       "      <td>https://www.sciencedirect.com/science/article/...</td>\n",
       "    </tr>\n",
       "  </tbody>\n",
       "</table>\n",
       "</div>"
      ],
      "text/plain": [
       "                                               Title  \\\n",
       "0                                   Reward is enough   \n",
       "1                          Making sense of raw input   \n",
       "2  Law and logic: A review from an argumentation ...   \n",
       "3             Creativity and artificial intelligence   \n",
       "4  Artificial cognition for social human–robot in...   \n",
       "\n",
       "                                              Author Published_Date  \\\n",
       "0  Silver, David, Singh, Satinder, Precup, Doina,...   October 2021   \n",
       "1          Evans, Richard, Bošnjak, Matko and 5 more   October 2021   \n",
       "2                   Prakken, Henry, Sartor, Giovanni   October 2015   \n",
       "3                                 Boden, Margaret A.    August 1998   \n",
       "4    Lemaignan, Séverin, Warnier, Mathieu and 3 more      June 2017   \n",
       "\n",
       "                                               Links  \n",
       "0  https://www.sciencedirect.com/science/article/...  \n",
       "1  https://www.sciencedirect.com/science/article/...  \n",
       "2  https://www.sciencedirect.com/science/article/...  \n",
       "3  https://www.sciencedirect.com/science/article/...  \n",
       "4  https://www.sciencedirect.com/science/article/...  "
      ]
     },
     "execution_count": 19,
     "metadata": {},
     "output_type": "execute_result"
    }
   ],
   "source": [
    "df=pd.DataFrame()\n",
    "df['Title']=title\n",
    "df['Author']=authors\n",
    "df['Published_Date']=published_date\n",
    "df['Links']=link\n",
    "df.head()"
   ]
  },
  {
   "cell_type": "code",
   "execution_count": null,
   "id": "edc10008",
   "metadata": {},
   "outputs": [],
   "source": []
  }
 ],
 "metadata": {
  "kernelspec": {
   "display_name": "Python 3 (ipykernel)",
   "language": "python",
   "name": "python3"
  },
  "language_info": {
   "codemirror_mode": {
    "name": "ipython",
    "version": 3
   },
   "file_extension": ".py",
   "mimetype": "text/x-python",
   "name": "python",
   "nbconvert_exporter": "python",
   "pygments_lexer": "ipython3",
   "version": "3.9.13"
  }
 },
 "nbformat": 4,
 "nbformat_minor": 5
}
